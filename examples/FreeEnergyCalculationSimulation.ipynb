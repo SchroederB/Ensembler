{
 "cells": [
  {
   "cell_type": "markdown",
   "metadata": {},
   "source": [
    "# Free Energy Calculations\n",
    "In this Notebook, we want to give a short glimpse on Free Energy Calculations with Ensembler. \n",
    "\n",
    "Free energies are an very important topic in computational chemistry. As they are fundamental to thermodynamics and can give a lot of information for different changes to a system. Generally we can destinguish three types of free energies: thermodynamic, conformational and alchemical. \n",
    "The thermodynamic category is a free energy difference related to a change of an thermodynamic property of the system. The conformational free energy difference can be used to describe a conformational change of a molecule (phase space areas) and the alchemical free energy is describing a change in the chemical space of the molecule (e.g.: methylation).\n",
    "\n",
    "To calculate a free energy can be very tricky. Challenges might be sampling convergence due to high energy barriers or entropy differences. \n",
    "\n",
    "\n",
    "To be able to estimate the influence of a chemical change, one needs to calculate the free energies of both so called states.\n",
    "\n",
    "\n",
    "\n",
    "\n",
    "Here we calculate the Gibbs Free Energy.\n",
    "\n",
    "$A_x = V_x - T_x  S_x = -\\beta ln(Z_x) $\n",
    "\n",
    "\n",
    "\n",
    "Get to stat therm:\n",
    "\n",
    "Or we can use the statistical approach:\n",
    "\n",
    "$G_x = -\\frac{1}{\\beta}  ln(e^{-\\beta H_x})$\n",
    "\n",
    "With the Gibbs Free Energy of state i and state J we can get the Free Energy Difference of the change.\n",
    "\n",
    "$\\Delta G_{ij} = G_j - G_i = -\\beta ln(Z_i/Z_j)$ \n",
    "\n",
    "This allows us to estimate the influence of the change.\n",
    "\n",
    "A free energy Calculation can be described contains three parts:\n",
    "* The System: Normally these contian multiple states.\n",
    "* The Sampling Method: The way how the Free Energy landscape will be integrated.\n",
    "* The Free Energy Estimator: The way, the free energy will be derived from the simulation.\n",
    "\n",
    "\n",
    "In this notebook we will cover following methods:\n",
    "* Free Energy Pertubation\n",
    "  * Zwanzig\n",
    "  * BAR\n",
    "* linear coupling\n",
    "    * TI\n",
    "* exponential coupling\n",
    "    * EDS\n",
    "* hybrid coupling\n",
    "    * $\\lambda$-EDS\n",
    "* Enhanced Sampling methods:\n",
    "    * Conveyor Belt\n",
    "    * RE-EDS\n",
    "\n",
    "\n",
    "References:\n",
    "    - a good page to learn about free energies: http://www.alchemistry.org "
   ]
  },
  {
   "cell_type": "code",
   "execution_count": 1,
   "metadata": {
    "tags": []
   },
   "outputs": [
    {
     "name": "stderr",
     "output_type": "stream",
     "text": [
      "C:\\Users\\benja\\anaconda3\\envs\\testBar\\lib\\site-packages\\scipy\\__init__.py:115: UserWarning: Numpy 1.13.3 or above is required for this version of scipy (detected version 1.11.3)\n",
      "  UserWarning)\n"
     ]
    }
   ],
   "source": [
    "#Here some imports:\n",
    "\n",
    "##System Path\n",
    "import os, sys\n",
    "path = os.getcwd()+\"/..\"\n",
    "sys.path.append(path)\n",
    "\n",
    "##basics\n",
    "import numpy as np\n",
    "from matplotlib import pyplot as plt\n",
    "\n",
    "##Ensembler\n",
    "from ensembler.analysis.freeEnergyCalculation import zwanzigEquation, threeStateZwanzigReweighting, bennetAcceptanceRatio\n",
    "\n",
    "from ensembler.potentials import OneD as pot\n",
    "from ensembler.integrator.stochastic import metropolisMonteCarloIntegrator, langevinIntegrator\n",
    "from ensembler.system.basic_system import system\n",
    "from ensembler.system.perturbed_system import perturbedSystem\n",
    "from ensembler.system.eds_system import edsSystem\n",
    "\n",
    "from ensembler.visualisation.plotSimulations import static_sim_plots\n",
    "\n",
    "from ensembler.conditions.box_conditions import periodicBoundaryCondition\n",
    "\n",
    "\n",
    "import matplotlib\n",
    "from ensembler.visualisation import style\n",
    "from ensembler.visualisation import plot_layout_settings\n",
    "for key, value in plot_layout_settings.items():\n",
    "    matplotlib.rcParams[key] = value\n"
   ]
  },
  {
   "cell_type": "markdown",
   "metadata": {},
   "source": [
    "## Benchmarking parameters\n",
    "Here we define some parameters that allow us an easier comparison of the different methods."
   ]
  },
  {
   "cell_type": "code",
   "execution_count": 2,
   "metadata": {},
   "outputs": [],
   "source": [
    "simulation_steps_total_per_approach = 10000\n",
    "space_range = [-10, 10]\n",
    "rand=0.1\n",
    "gamma=100\n"
   ]
  },
  {
   "cell_type": "markdown",
   "metadata": {},
   "source": [
    "## Setting up a System\n",
    "We are now going to Setup a system, for the Free Energy Calculations. For this Notebook, we want to keep it simple. Therefore two 1D-Harmonic Oscillators with different shifted minima and force constants shall be perfect for us.\n",
    "\n"
   ]
  },
  {
   "cell_type": "code",
   "execution_count": 3,
   "metadata": {},
   "outputs": [
    {
     "data": {
      "image/png": "[encoded data removed]",
      "text/plain": [
       "<Figure size 243.78x150.664 with 1 Axes>"
      ]
     },
     "metadata": {
      "needs_background": "light"
     },
     "output_type": "display_data"
    }
   ],
   "source": [
    "#Build System\n",
    "#System Parameters:\n",
    "yoff1 = 0\n",
    "xoff1 = 0\n",
    "force_constant = k1 =0.5\n",
    "\n",
    "entropic_difference = k2 = 1\n",
    "potential_difference = yoff2 = 2#1\n",
    "phase_space_distance = xoff2 = 4\n",
    "\n",
    "#State Potentials\n",
    "h1 = pot.harmonicOscillatorPotential(k=k1, x_shift=xoff1, y_shift=yoff1) \n",
    "h2 = pot.harmonicOscillatorPotential(k=k2, x_shift=xoff2, y_shift=yoff2)\n",
    "\n",
    "#Visualize\n",
    "from ensembler.visualisation.plotPotentials import multiState_overlays\n",
    "\n",
    "fig, _ = multiState_overlays([h1,h2])\n",
    "fig.tight_layout()\n",
    "#fig.savefig(\"2state_systems.png\")\n"
   ]
  },
  {
   "cell_type": "markdown",
   "metadata": {},
   "source": [
    "## Analyctical Solution\n",
    "The Analytical solution for our problem can be calculated as follows: \n",
    "\n",
    "\n",
    "Check Eq\n",
    "\n",
    "Gibbs Energy:   \n",
    "$ A_x = V_x - T_x  S_x $\n",
    "\n",
    "For a harmonic Oscillator the entropy term can be formulated as:\n",
    "\n",
    "$A_x = V_x - \\frac{1}{\\beta} log(\\sqrt{\\frac{2 \\pi}{k_X \\beta}})$\n",
    "\n",
    "\n",
    "\n",
    "The final free energy difference is:\n",
    "\n",
    "$\\Delta G_{ij} = G_j - G_i$ \n"
   ]
  },
  {
   "cell_type": "code",
   "execution_count": 4,
   "metadata": {
    "tags": []
   },
   "outputs": [
    {
     "name": "stdout",
     "output_type": "stream",
     "text": [
      "expected dG:  2.17328679514\n"
     ]
    }
   ],
   "source": [
    "#Analytical Solution\n",
    "beta = 1 # beta is in kT\n",
    "\n",
    "G_1 = yoff1 -(1/(2*beta)) * np.log(np.sqrt((2*np.pi)/(k1*beta)))\n",
    "G_2 = yoff2 -(1/(2*beta)) * np.log(np.sqrt((2*np.pi)/(k2*beta)))\n",
    "dG_expected = G_2-G_1\n",
    "\n",
    "print(\"expected dG: \", dG_expected)\n"
   ]
  },
  {
   "cell_type": "markdown",
   "metadata": {},
   "source": [
    "## Free Energy Pertubation Method with BAR/Zwanzig\n",
    "In this Category of methods, each of the endstates will be simulated. Afterwards, the trajectories will be evaluated again with the opposite state and afterwards the free energy will be evaluated.\n",
    "\n",
    "### Sampling\n",
    "Now we build first the two systems and run the simulations."
   ]
  },
  {
   "cell_type": "code",
   "execution_count": 5,
   "metadata": {
    "scrolled": false,
    "tags": []
   },
   "outputs": [
    {
     "data": {
      "application/vnd.jupyter.widget-view+json": {
       "model_id": "096edf0a75844ed99754b8b2d2f5ef10",
       "version_major": 2,
       "version_minor": 0
      },
      "text/plain": [
       "HBox(children=(FloatProgress(value=0.0, description=' Simulation: ', max=5000.0, style=ProgressStyle(descripti…"
      ]
     },
     "metadata": {},
     "output_type": "display_data"
    },
    {
     "name": "stdout",
     "output_type": "stream",
     "text": [
      "\n",
      "{'bodies': [<matplotlib.collections.PolyCollection object at 0x00000209321C4278>]}\n"
     ]
    },
    {
     "data": {
      "application/vnd.jupyter.widget-view+json": {
       "model_id": "2e47fc3897764a0698d8d201b58f3efd",
       "version_major": 2,
       "version_minor": 0
      },
      "text/plain": [
       "HBox(children=(FloatProgress(value=0.0, description=' Simulation: ', max=5000.0, style=ProgressStyle(descripti…"
      ]
     },
     "metadata": {},
     "output_type": "display_data"
    },
    {
     "name": "stdout",
     "output_type": "stream",
     "text": [
      "\n",
      "{'bodies': [<matplotlib.collections.PolyCollection object at 0x000002093287B3C8>]}\n"
     ]
    },
    {
     "data": {
      "image/png": "[encoded data removed]",
      "text/plain": [
       "<Figure size 602.656x150.664 with 3 Axes>"
      ]
     },
     "metadata": {
      "needs_background": "light"
     },
     "output_type": "display_data"
    },
    {
     "data": {
      "image/png": "[encoded data removed]",
      "text/plain": [
       "<Figure size 602.656x150.664 with 3 Axes>"
      ]
     },
     "metadata": {
      "needs_background": "light"
     },
     "output_type": "display_data"
    }
   ],
   "source": [
    "#Simulate the two states:\n",
    "steps = simulation_steps_total_per_approach//2\n",
    "equilibration_steps = 100\n",
    "\n",
    "##Build Systems\n",
    "integrator = metropolisMonteCarloIntegrator(randomnessIncreaseFactor=rand)\n",
    "integrator2 = metropolisMonteCarloIntegrator(randomnessIncreaseFactor=rand)\n",
    "\n",
    "system1 = system(potential=h1, integrator=integrator, position=2)\n",
    "system2 = system(potential=h2, integrator=integrator2, position=4)\n",
    "\n",
    "##Simulate:\n",
    "system1.simulate(steps, withdrawTraj=True, initSystem=True)\n",
    "state1_traj = system1.getTrajectory()\n",
    "_ = static_sim_plots(system1)\n",
    "\n",
    "system2.simulate(steps, withdrawTraj=True, initSystem=True)\n",
    "state2_traj = system2.getTrajectory()\n",
    "\n",
    "#visualize\n",
    "_ = static_sim_plots(system2)\n",
    "plt.ylim([0,10])\n",
    "pass"
   ]
  },
  {
   "cell_type": "code",
   "execution_count": 6,
   "metadata": {
    "pycharm": {
     "is_executing": true
    }
   },
   "outputs": [
    {
     "data": {
      "image/png": "[encoded data removed]",
      "text/plain": [
       "<Figure size 487.559x301.328 with 1 Axes>"
      ]
     },
     "metadata": {
      "needs_background": "light"
     },
     "output_type": "display_data"
    }
   ],
   "source": [
    "from ensembler import visualisation\n",
    "    \n",
    "positions = np.linspace(-10,10, 100)\n",
    "fig, ax = plt.subplots(ncols=1, figsize=visualisation.figsize_doubleColumn)\n",
    "ax = list([ax])\n",
    "traj_pos = list(system1.trajectory.position)\n",
    "ax[0].plot(positions, system1.potential.ene(positions), c=\"grey\", zorder=-10,alpha=0.3)\n",
    "ene = system1.potential.ene(traj_pos)\n",
    "ax[0].scatter(traj_pos, ene, c=\"C0\",alpha=0.8, label=\"state 1\",s=8)\n",
    "ax[0].set_ylim([0,8])\n",
    "\n",
    "positions = np.linspace(-10,10, 100)\n",
    "traj_pos = list(system2.trajectory.position)\n",
    "ax[0].plot(positions, system2.potential.ene(positions), c=\"grey\", zorder=-10,alpha=0.3)\n",
    "ene = system2.potential.ene(traj_pos)\n",
    "ax[0].scatter(traj_pos, ene, c=\"C2\",alpha=0.8, label=\"state 2\",s=8)\n",
    "ax[0].set_ylim([0,8])\n",
    "\n",
    "ax[0].set_xlabel(\"r\")\n",
    "ax[0].set_xlabel(\"r\")\n",
    "\n",
    "ax[0].set_ylabel(\"$V/[kT]$\")\n",
    "#ax[0].set_ylabel(\"$V/[kT]$\")\n",
    "\n",
    "ax[0].legend()\n",
    "ax[0].set_title(\"Free Energy Pertubation\")\n",
    "#ax[0].set_title(\"State 2\")\n",
    "\n",
    "fig.savefig(\"freeEnergyPertubation.png\")"
   ]
  },
  {
   "cell_type": "markdown",
   "metadata": {},
   "source": [
    "### Analysis\n",
    "#### Zwanzig Equation"
   ]
  },
  {
   "cell_type": "code",
   "execution_count": 7,
   "metadata": {
    "pycharm": {
     "is_executing": true
    },
    "tags": []
   },
   "outputs": [
    {
     "name": "stdout",
     "output_type": "stream",
     "text": [
      "Expected Result:  2.17328679514\n",
      "Zwanzig Result:  2.030529123040274\n",
      "\n",
      "Difference: -0.1427576721\n"
     ]
    }
   ],
   "source": [
    "V1=state1_traj.totEnergy[equilibration_steps:]\n",
    "V2=state2_traj.totEnergy[equilibration_steps:]\n",
    "\n",
    "zwanz = zwanzigEquation(kT=True)\n",
    "dF_zwanzig = zwanz.calculate(Vi=V1, Vj=V2)\n",
    "\n",
    "print(\"Expected Result: \", dG_expected)\n",
    "print(\"Zwanzig Result: \", dF_zwanzig)\n",
    "print()\n",
    "print(\"Difference:\", dF_zwanzig - dG_expected)\n"
   ]
  },
  {
   "cell_type": "markdown",
   "metadata": {},
   "source": [
    "#### Bennet Acceptance Ratio (BAR)"
   ]
  },
  {
   "cell_type": "code",
   "execution_count": 8,
   "metadata": {},
   "outputs": [],
   "source": [
    "import pymbar"
   ]
  },
  {
   "cell_type": "code",
   "execution_count": 9,
   "metadata": {
    "scrolled": true
   },
   "outputs": [
    {
     "name": "stdout",
     "output_type": "stream",
     "text": [
      "\n",
      "Expected Result:  2.17328679514\n",
      "pymbar - BAR Result:  3.41684775903\n",
      "\n",
      "Difference: 1.24356096389\n"
     ]
    }
   ],
   "source": [
    "#Sampling l1\n",
    "V11=h1.ene(state1_traj.position)\n",
    "V21=h2.ene(state1_traj.position)\n",
    "\n",
    "#Sampling l2\n",
    "V12=h1.ene(state2_traj.position)\n",
    "V22=h2.ene(state2_traj.position)\n",
    "\n",
    "w_fw = np.array(V21 - V11, dtype=np.float)\n",
    "w_rv = np.array(V12 - V22, dtype=np.float)\n",
    "\n",
    "(DeltaF, dDeltaF)=pymbar.BAR(w_F=w_fw, w_R=w_rv, DeltaF=0, method='bisection', verbose=False)\n",
    "(DeltaF, dDeltaF)\n",
    "\n",
    "\n",
    "print()\n",
    "print(\"Expected Result: \", dG_expected)\n",
    "print(\"pymbar - BAR Result: \", DeltaF)\n",
    "print()\n",
    "print(\"Difference:\", DeltaF - dG_expected)\n"
   ]
  },
  {
   "cell_type": "code",
   "execution_count": 10,
   "metadata": {},
   "outputs": [
    {
     "name": "stdout",
     "output_type": "stream",
     "text": [
      "[[ 0.          3.41684776]\n",
      " [-3.41684776  0.        ]]\n",
      "overlap:  0.0278603755377\n",
      "\n",
      "Expected Result:  2.17328679514\n",
      "pymbar - BAR Result:  3.41684775903\n",
      "\n",
      "Difference: 1.24356096389\n"
     ]
    }
   ],
   "source": [
    "#Sampling l1\n",
    "V11=h1.ene(state1_traj.position)\n",
    "V21=h2.ene(state1_traj.position)\n",
    "\n",
    "#Sampling l2\n",
    "V12=h1.ene(state2_traj.position)\n",
    "V22=h2.ene(state2_traj.position)\n",
    "\n",
    "state_1 =np.concatenate([V11, V12])\n",
    "state_2 =np.concatenate([V21, V22])\n",
    "mbar = pymbar.mbar.MBAR(u_kn=[state_1, state_2], N_k=[len(state_1)/2, len(state_2)/2])\n",
    "df_mbars, df, _ = mbar.getFreeEnergyDifferences()\n",
    "print(df_mbars)\n",
    "df_mbar = np.mean(df_mbars)\n",
    "\n",
    "overlap, _, _ = mbar.computeOverlap()\n",
    "print(\"overlap: \", overlap)\n",
    "\n",
    "\n",
    "print()\n",
    "print(\"Expected Result: \", dG_expected)\n",
    "print(\"pymbar - BAR Result: \", DeltaF)\n",
    "print()\n",
    "print(\"Difference:\", DeltaF - dG_expected)\n"
   ]
  },
  {
   "cell_type": "code",
   "execution_count": 11,
   "metadata": {
    "pycharm": {
     "is_executing": true
    },
    "scrolled": false,
    "tags": []
   },
   "outputs": [
    {
     "name": "stdout",
     "output_type": "stream",
     "text": [
      "Iterate: \tconvergence raidus: 1e-05\n",
      "Iteration: 0\tdF: 1.871789345833399166897564306 \tconvergence 1.871789345833399166897564306\n",
      "Iteration: 1\tdF: 1.559371503552489508377186982 \tconvergence 0.312417842280909658520377324\n",
      "Iteration: 2\tdF: 1.591962543282997353888458141 \tconvergence 0.032591039730507845511271159\n",
      "Iteration: 3\tdF: 1.588278779543865772287604207 \tconvergence 0.003683763739131581600853934\n",
      "Iteration: 4\tdF: 1.588691682217778697714490754 \tconvergence 0.000412902673912925426886547\n",
      "Iteration: 5\tdF: 1.588645357287625308413997670 \tconvergence 0.000046324930153389300493084\n",
      "Iteration: 6\tdF: 1.588650554084787764192620923 \tconvergence 0.000005196797162455778623253\n",
      "\n",
      "Final Iterations:  6  Result:  1.588650554084787764192620923\n",
      "\n",
      "Expected Result:  2.17328679514\n",
      "BAR Result:  1.5886505540847877\n",
      "\n",
      "Difference: -0.584636241055\n"
     ]
    }
   ],
   "source": [
    "#Sampling l1\n",
    "V11=h1.ene(state1_traj.position)\n",
    "V21=h2.ene(state1_traj.position)\n",
    "\n",
    "#Sampling l2\n",
    "V12=h1.ene(state2_traj.position)\n",
    "V22=h2.ene(state2_traj.position)\n",
    "\n",
    "bar = bennetAcceptanceRatio(kT=True)\n",
    "dF_bar = bar.calculate(Vj_i=V21, Vi_i=V11, Vi_j=V12, Vj_j=V22)\n",
    "\n",
    "print()\n",
    "print(\"Expected Result: \", dG_expected)\n",
    "print(\"BAR Result: \", dF_bar)\n",
    "print()\n",
    "print(\"Difference:\", dF_bar - dG_expected)\n"
   ]
  },
  {
   "cell_type": "markdown",
   "metadata": {},
   "source": [
    "# Linear Coupling Method - Thermodynamic Integration (TI)"
   ]
  },
  {
   "cell_type": "markdown",
   "metadata": {},
   "source": [
    "## Sampling"
   ]
  },
  {
   "cell_type": "code",
   "execution_count": 12,
   "metadata": {
    "pycharm": {
     "is_executing": true
    }
   },
   "outputs": [
    {
     "data": {
      "text/plain": [
       "Text(0.5, 1.0, 'Sampled Potentials')"
      ]
     },
     "execution_count": 12,
     "metadata": {},
     "output_type": "execute_result"
    },
    {
     "data": {
      "image/png": "[encoded data removed]",
      "text/plain": [
       "<Figure size 243.78x150.664 with 1 Axes>"
      ]
     },
     "metadata": {
      "needs_background": "light"
     },
     "output_type": "display_data"
    }
   ],
   "source": [
    "#Build Potential\n",
    "V_perturbed = pot.linearCoupledPotentials(Va=h1, Vb=h2)\n",
    "\n",
    "#Visualize\n",
    "lambda_points = 10\n",
    "positions = np.arange(-5,10, 0.2)\n",
    "lambda_windows=np.linspace(0,1, lambda_points)\n",
    "for lam in lambda_windows:\n",
    "    V_perturbed.set_lam(lam)\n",
    "    ene =  V_perturbed.ene(positions)\n",
    "    plt.plot(positions,ene, label=\"lam_\"+str(round(lam, 2)))\n",
    "    \n",
    "plt.legend()\n",
    "plt.ylim([0,10])\n",
    "plt.ylabel(\"V[kT]\")\n",
    "plt.xlabel(\"r\")\n",
    "plt.title(\"Sampled Potentials\")"
   ]
  },
  {
   "cell_type": "code",
   "execution_count": 13,
   "metadata": {
    "pycharm": {
     "is_executing": true
    },
    "tags": []
   },
   "outputs": [
    {
     "data": {
      "application/vnd.jupyter.widget-view+json": {
       "model_id": "3e2b1942b21f4d3db07ad00402e4e729",
       "version_major": 2,
       "version_minor": 0
      },
      "text/plain": [
       "HBox(children=(FloatProgress(value=0.0, description=' Simulation: ', max=1000.0, style=ProgressStyle(descripti…"
      ]
     },
     "metadata": {},
     "output_type": "display_data"
    },
    {
     "name": "stdout",
     "output_type": "stream",
     "text": [
      "\n"
     ]
    },
    {
     "data": {
      "application/vnd.jupyter.widget-view+json": {
       "model_id": "2b87fa0dc6274d1b93688072488f782c",
       "version_major": 2,
       "version_minor": 0
      },
      "text/plain": [
       "HBox(children=(FloatProgress(value=0.0, description=' Simulation: ', max=1000.0, style=ProgressStyle(descripti…"
      ]
     },
     "metadata": {},
     "output_type": "display_data"
    },
    {
     "name": "stdout",
     "output_type": "stream",
     "text": [
      "\n"
     ]
    },
    {
     "data": {
      "application/vnd.jupyter.widget-view+json": {
       "model_id": "d423c1dc73a340a5a66e89e3dc2f326a",
       "version_major": 2,
       "version_minor": 0
      },
      "text/plain": [
       "HBox(children=(FloatProgress(value=0.0, description=' Simulation: ', max=1000.0, style=ProgressStyle(descripti…"
      ]
     },
     "metadata": {},
     "output_type": "display_data"
    },
    {
     "name": "stdout",
     "output_type": "stream",
     "text": [
      "\n"
     ]
    },
    {
     "data": {
      "application/vnd.jupyter.widget-view+json": {
       "model_id": "e281a99d1447432ba09264c37574a026",
       "version_major": 2,
       "version_minor": 0
      },
      "text/plain": [
       "HBox(children=(FloatProgress(value=0.0, description=' Simulation: ', max=1000.0, style=ProgressStyle(descripti…"
      ]
     },
     "metadata": {},
     "output_type": "display_data"
    },
    {
     "name": "stdout",
     "output_type": "stream",
     "text": [
      "\n"
     ]
    },
    {
     "data": {
      "application/vnd.jupyter.widget-view+json": {
       "model_id": "e4277db5a8264797a52e4cd553062a56",
       "version_major": 2,
       "version_minor": 0
      },
      "text/plain": [
       "HBox(children=(FloatProgress(value=0.0, description=' Simulation: ', max=1000.0, style=ProgressStyle(descripti…"
      ]
     },
     "metadata": {},
     "output_type": "display_data"
    },
    {
     "name": "stdout",
     "output_type": "stream",
     "text": [
      "\n"
     ]
    },
    {
     "data": {
      "application/vnd.jupyter.widget-view+json": {
       "model_id": "12add710bc0446a4a2481a50ada33c8d",
       "version_major": 2,
       "version_minor": 0
      },
      "text/plain": [
       "HBox(children=(FloatProgress(value=0.0, description=' Simulation: ', max=1000.0, style=ProgressStyle(descripti…"
      ]
     },
     "metadata": {},
     "output_type": "display_data"
    },
    {
     "name": "stdout",
     "output_type": "stream",
     "text": [
      "\n"
     ]
    },
    {
     "data": {
      "application/vnd.jupyter.widget-view+json": {
       "model_id": "c3c327ae631e458d95456469122b70fc",
       "version_major": 2,
       "version_minor": 0
      },
      "text/plain": [
       "HBox(children=(FloatProgress(value=0.0, description=' Simulation: ', max=1000.0, style=ProgressStyle(descripti…"
      ]
     },
     "metadata": {},
     "output_type": "display_data"
    },
    {
     "name": "stdout",
     "output_type": "stream",
     "text": [
      "\n"
     ]
    },
    {
     "data": {
      "application/vnd.jupyter.widget-view+json": {
       "model_id": "41ad16b6a74a4e0ea67120b91e5bbc26",
       "version_major": 2,
       "version_minor": 0
      },
      "text/plain": [
       "HBox(children=(FloatProgress(value=0.0, description=' Simulation: ', max=1000.0, style=ProgressStyle(descripti…"
      ]
     },
     "metadata": {},
     "output_type": "display_data"
    },
    {
     "name": "stdout",
     "output_type": "stream",
     "text": [
      "\n"
     ]
    },
    {
     "data": {
      "application/vnd.jupyter.widget-view+json": {
       "model_id": "afe82e39305d43deaa10d69bab541c12",
       "version_major": 2,
       "version_minor": 0
      },
      "text/plain": [
       "HBox(children=(FloatProgress(value=0.0, description=' Simulation: ', max=1000.0, style=ProgressStyle(descripti…"
      ]
     },
     "metadata": {},
     "output_type": "display_data"
    },
    {
     "name": "stdout",
     "output_type": "stream",
     "text": [
      "\n"
     ]
    },
    {
     "data": {
      "application/vnd.jupyter.widget-view+json": {
       "model_id": "10e7e81b838b4940baaae4075831b4d6",
       "version_major": 2,
       "version_minor": 0
      },
      "text/plain": [
       "HBox(children=(FloatProgress(value=0.0, description=' Simulation: ', max=1000.0, style=ProgressStyle(descripti…"
      ]
     },
     "metadata": {},
     "output_type": "display_data"
    },
    {
     "name": "stdout",
     "output_type": "stream",
     "text": [
      "\n"
     ]
    }
   ],
   "source": [
    "steps = simulation_steps_total_per_approach//lambda_points\n",
    "equilibration_steps = 30\n",
    "\n",
    "integrator = metropolisMonteCarloIntegrator(randomnessIncreaseFactor=rand)\n",
    "perturbed_system = perturbedSystem(potential=V_perturbed, integrator=integrator)\n",
    "\n",
    "system_trajs = {}\n",
    "for lam in lambda_windows:\n",
    "    perturbed_system.set_lam(lam)\n",
    "    perturbed_system.simulate(steps, withdrawTraj=True, initSystem=True)\n",
    "    system_trajs.update({lam: perturbed_system.trajectory})\n"
   ]
  },
  {
   "cell_type": "markdown",
   "metadata": {},
   "source": [
    "### Analysis\n",
    "\n",
    "#### Exponential Formula"
   ]
  },
  {
   "cell_type": "code",
   "execution_count": 14,
   "metadata": {
    "pycharm": {
     "is_executing": true
    }
   },
   "outputs": [
    {
     "data": {
      "image/png": "[encoded data removed]",
      "text/plain": [
       "<Figure size 487.559x301.328 with 1 Axes>"
      ]
     },
     "metadata": {
      "needs_background": "light"
     },
     "output_type": "display_data"
    }
   ],
   "source": [
    "from ensembler import visualisation\n",
    "\n",
    "#Visualize\n",
    "positions = np.linspace(-10, 10, 100)\n",
    "y_range = [0, 10]\n",
    "\n",
    "\n",
    "fig, axes = plt.subplots(ncols=1, figsize=visualisation.figsize_doubleColumn)\n",
    "axes = list([axes])\n",
    "enes = []\n",
    "all_lams = sorted(list(system_trajs.keys()))\n",
    "for lamI in all_lams:\n",
    "    trajI = system_trajs[lamI]\n",
    "    V_perturbed.set_lam(lamI)\n",
    "    ene =  V_perturbed.ene(positions)\n",
    "    enes.append(ene)\n",
    "    \n",
    "    axes[0].plot(positions,ene, c=\"grey\", zorder=-10,alpha=0.3)\n",
    "    axes[0].scatter(trajI.position, V_perturbed.ene(trajI.position),s=8,alpha=0.8, linewidths=0, \n",
    "                    label=\"$\\lambda=$\"+str(round(lamI, 2)),)#c=\"orange\")\n",
    "    \n",
    "logExp=list(map(lambda x: np.log(np.exp(x)), enes))\n",
    "\n",
    "#axes[1].violinplot(logExp, positions=all_lams, showextrema=False, widths=[0.1 for x in range(len(all_lams))])\n",
    "#axes[1].boxplot(logExp,  positions=np.round(all_lams, 2), widths=[0.1 for x in range(len(all_lams))])\n",
    "\n",
    "axes[0].legend()\n",
    "axes[0].set_ylim(y_range)\n",
    "axes[0].set_ylabel(\"V[kT]\")\n",
    "axes[0].set_xlabel(\"r\")\n",
    "axes[0].set_title(\"Linear Coupled Potentials\")\n",
    "\n",
    "#axes[1].set_xlim([-0.2,1.2])\n",
    "#axes[1].set_ylim([-1,30])\n",
    "\n",
    "fig.savefig(\"linear_coupled.png\")"
   ]
  },
  {
   "cell_type": "markdown",
   "metadata": {},
   "source": [
    "### FEP with multiple lambda windows:"
   ]
  },
  {
   "cell_type": "code",
   "execution_count": 15,
   "metadata": {
    "pycharm": {
     "is_executing": true
    }
   },
   "outputs": [
    {
     "data": {
      "image/png": "[encoded data removed]",
      "text/plain": [
       "<Figure size 487.559x301.328 with 1 Axes>"
      ]
     },
     "metadata": {
      "needs_background": "light"
     },
     "output_type": "display_data"
    },
    {
     "name": "stdout",
     "output_type": "stream",
     "text": [
      "\n",
      "Expected Result:  2.17328679514\n",
      "trapez Rule Result:  2.08560593279\n",
      "\n",
      "Difference: -0.0876808623498\n"
     ]
    },
    {
     "data": {
      "text/plain": [
       "(-0.087680862349774458,)"
      ]
     },
     "execution_count": 15,
     "metadata": {},
     "output_type": "execute_result"
    }
   ],
   "source": [
    "dA_i_fw = []\n",
    "zwanz = zwanzigEquation()\n",
    "all_lams = list(sorted(list(system_trajs.keys())))\n",
    "for lamI, lamJ in zip(all_lams, all_lams[1:]):\n",
    "    trajI = system_trajs[lamI]\n",
    "    trajJ = system_trajs[lamJ]\n",
    "\n",
    "    Vi_fw = trajI.totPotEnergy\n",
    "    Vj_fw = trajJ.totPotEnergy\n",
    "\n",
    "    \n",
    "    dF_zwanzig_fw = zwanz.calculate(Vi=Vi_fw, Vj=Vj_fw)\n",
    "    \n",
    "    dA_i_fw.append(dF_zwanzig_fw)\n",
    "\n",
    "fig, axes = plt.subplots(ncols=1, figsize=visualisation.figsize_doubleColumn)\n",
    "axes.plot(dA_i_fw)\n",
    "axes.set_ylabel(\"$dFper lambda [kT]$\")\n",
    "axes.set_xlabel(\"$\\lambda$\")\n",
    "\n",
    "fig.suptitle(\"dF per lambda point\")\n",
    "\n",
    "plt.show()\n",
    "\n",
    "A_fw = np.sum(dA_i_fw)\n",
    "\n",
    "print()\n",
    "print(\"Expected Result: \", dG_expected)\n",
    "print(\"trapez Rule Result: \", A_fw)\n",
    "print()\n",
    "print(\"Difference:\", A_fw - dG_expected)\n",
    "\n",
    "\n",
    "A_fw-dG_expected,"
   ]
  },
  {
   "cell_type": "markdown",
   "metadata": {},
   "source": [
    "#### Thermodynamic Integration"
   ]
  },
  {
   "cell_type": "code",
   "execution_count": 16,
   "metadata": {
    "pycharm": {
     "is_executing": true
    }
   },
   "outputs": [
    {
     "data": {
      "text/plain": [
       "Text(0.5, 0.98, 'dH/d$\\\\lambda$ for each Lambda point')"
      ]
     },
     "execution_count": 16,
     "metadata": {},
     "output_type": "execute_result"
    },
    {
     "data": {
      "image/png": "[encoded data removed]",
      "text/plain": [
       "<Figure size 487.559x301.328 with 1 Axes>"
      ]
     },
     "metadata": {
      "needs_background": "light"
     },
     "output_type": "display_data"
    }
   ],
   "source": [
    "fig, axes = plt.subplots(ncols=1, figsize=visualisation.figsize_doubleColumn)\n",
    "\n",
    "lam_stats = {}\n",
    "for lam in system_trajs:\n",
    "    lam_mean, lam_std = np.mean(system_trajs[lam].dhdlam[equilibration_steps:]), np.std(system_trajs[lam].dhdlam[equilibration_steps:])\n",
    "    lam_stats.update({lam:{\"mean\":lam_mean, \"std\": lam_std}})\n",
    "    \n",
    "    axes.scatter(lam, lam_mean)\n",
    "    axes.errorbar(lam, lam_mean, lam_std)\n",
    "\n",
    "axes.plot(sorted(lam_stats), [lam_stats[x][\"mean\"] for x in sorted(lam_stats)], color=\"grey\", zorder=-1)\n",
    "axes.set_ylabel(\"$dH/d\\lambda$\")\n",
    "axes.set_xlabel(\"$\\lambda$\")\n",
    "\n",
    "fig.suptitle(\"dH/d$\\lambda$ for each Lambda point\")\n"
   ]
  },
  {
   "cell_type": "code",
   "execution_count": 17,
   "metadata": {
    "pycharm": {
     "is_executing": true
    }
   },
   "outputs": [],
   "source": [
    "from scipy import integrate\n",
    "\n",
    "lam = list(sorted(lam_stats.keys()))\n",
    "means = [lam_stats[x]['mean'] for x in lam] \n",
    "stds = [lam_stats[x]['std'] for x in lam] \n"
   ]
  },
  {
   "cell_type": "code",
   "execution_count": 18,
   "metadata": {
    "pycharm": {
     "is_executing": true
    },
    "tags": []
   },
   "outputs": [
    {
     "name": "stdout",
     "output_type": "stream",
     "text": [
      "\n",
      "Expected Result:  2.17328679514\n",
      "trapez Rule Result:  2.11352220931 +- 1.32872813531\n",
      "\n",
      "Difference: -0.0597645858264\n"
     ]
    }
   ],
   "source": [
    "dF_trapez = integrate.trapz(x=lam, y=means)\n",
    "dF_err = integrate.trapz(x=lam, y=stds)\n",
    "\n",
    "print()\n",
    "print(\"Expected Result: \", dG_expected)\n",
    "print(\"trapez Rule Result: \", dF_trapez, \"+-\", dF_err)\n",
    "print()\n",
    "print(\"Difference:\", dF_trapez - dG_expected)\n"
   ]
  },
  {
   "cell_type": "code",
   "execution_count": 19,
   "metadata": {
    "pycharm": {
     "is_executing": true
    },
    "tags": []
   },
   "outputs": [
    {
     "name": "stdout",
     "output_type": "stream",
     "text": [
      "\n",
      "Expected Result:  2.17328679514\n",
      "trapez Rule Result:  2.09215822469 +- 1.32821442961\n",
      "\n",
      "Difference: -0.0811285704545\n"
     ]
    }
   ],
   "source": [
    "# or kepschler Weinfass method @gerhard\n",
    "dF_simpson = integrate.simps(x=lam, y=means)\n",
    "dF_err = integrate.simps(x=lam, y=stds)\n",
    "\n",
    "print()\n",
    "print(\"Expected Result: \", dG_expected)\n",
    "print(\"trapez Rule Result: \", dF_simpson, \"+-\", dF_err)\n",
    "print()\n",
    "print(\"Difference:\", dF_simpson - dG_expected)"
   ]
  },
  {
   "cell_type": "markdown",
   "metadata": {},
   "source": [
    "## Exponentially Coupled - Enveloping Distribution Sampling (EDS) - BAR/RewightedFEP"
   ]
  },
  {
   "cell_type": "code",
   "execution_count": 20,
   "metadata": {
    "pycharm": {
     "is_executing": true
    }
   },
   "outputs": [
    {
     "data": {
      "text/plain": [
       "Text(0.5, 1.0, 'Sampled Potentials')"
      ]
     },
     "execution_count": 20,
     "metadata": {},
     "output_type": "execute_result"
    },
    {
     "data": {
      "image/png": "[encoded data removed]",
      "text/plain": [
       "<Figure size 1152x648 with 1 Axes>"
      ]
     },
     "metadata": {
      "needs_background": "light"
     },
     "output_type": "display_data"
    }
   ],
   "source": [
    "#Build Potential\n",
    "s=1\n",
    "Eoff = [0,0]\n",
    "V_eds = pot.envelopedPotential(V_is=[h1,h2] , s=s)\n",
    "s_values = np.linspace(1,0.1, 20)\n",
    "\n",
    "#Visualize\n",
    "positions = np.arange(-10,10, 0.2)\n",
    "fig = plt.figure(figsize=[16,9])\n",
    "\n",
    "for s in s_values:\n",
    "    V_eds.s=s\n",
    "    plt.plot(positions,V_eds.ene(positions), lw=3, label=\"$V_r=\"+str(round(s,3))+\"$\")\n",
    "\n",
    "plt.plot(positions,h1.ene(positions), label=\"state1\", lw=1, color=\"grey\")\n",
    "plt.plot(positions,h2.ene(positions), label=\"state2\", lw=1, color=\"black\")\n",
    "\n",
    "\n",
    "plt.legend()  \n",
    "plt.ylim([-5,10])\n",
    "#plt.xlim([-2,8])\n",
    "\n",
    "plt.ylabel(\"V[kT]\")\n",
    "plt.xlabel(\"r\")\n",
    "plt.title(\"Sampled Potentials\")"
   ]
  },
  {
   "cell_type": "code",
   "execution_count": null,
   "metadata": {
    "pycharm": {
     "is_executing": true
    },
    "scrolled": false
   },
   "outputs": [
    {
     "data": {
      "application/vnd.jupyter.widget-view+json": {
       "model_id": "1facf8f5d8a54e9f907bab8d1544d83b",
       "version_major": 2,
       "version_minor": 0
      },
      "text/plain": [
       "HBox(children=(FloatProgress(value=0.0, description=' Simulation: ', max=10000.0, style=ProgressStyle(descript…"
      ]
     },
     "metadata": {},
     "output_type": "display_data"
    },
    {
     "name": "stdout",
     "output_type": "stream",
     "text": [
      "\n"
     ]
    },
    {
     "data": {
      "application/vnd.jupyter.widget-view+json": {
       "model_id": "c7cc2339bc5841f69fdbc2740916a50a",
       "version_major": 2,
       "version_minor": 0
      },
      "text/plain": [
       "HBox(children=(FloatProgress(value=0.0, description=' Simulation: ', max=10000.0, style=ProgressStyle(descript…"
      ]
     },
     "metadata": {},
     "output_type": "display_data"
    },
    {
     "name": "stdout",
     "output_type": "stream",
     "text": [
      "\n"
     ]
    },
    {
     "data": {
      "application/vnd.jupyter.widget-view+json": {
       "model_id": "086d0ef68ca741a4b0e213f65353ac31",
       "version_major": 2,
       "version_minor": 0
      },
      "text/plain": [
       "HBox(children=(FloatProgress(value=0.0, description=' Simulation: ', max=10000.0, style=ProgressStyle(descript…"
      ]
     },
     "metadata": {},
     "output_type": "display_data"
    },
    {
     "name": "stdout",
     "output_type": "stream",
     "text": [
      "\n"
     ]
    },
    {
     "data": {
      "application/vnd.jupyter.widget-view+json": {
       "model_id": "8264aa2d09824572b83b70917f7f11f2",
       "version_major": 2,
       "version_minor": 0
      },
      "text/plain": [
       "HBox(children=(FloatProgress(value=0.0, description=' Simulation: ', max=10000.0, style=ProgressStyle(descript…"
      ]
     },
     "metadata": {},
     "output_type": "display_data"
    },
    {
     "name": "stdout",
     "output_type": "stream",
     "text": [
      "\n"
     ]
    },
    {
     "data": {
      "application/vnd.jupyter.widget-view+json": {
       "model_id": "f12d0ef1b14c4fcdb35b64d5357ac087",
       "version_major": 2,
       "version_minor": 0
      },
      "text/plain": [
       "HBox(children=(FloatProgress(value=0.0, description=' Simulation: ', max=10000.0, style=ProgressStyle(descript…"
      ]
     },
     "metadata": {},
     "output_type": "display_data"
    },
    {
     "name": "stdout",
     "output_type": "stream",
     "text": [
      "\n"
     ]
    },
    {
     "data": {
      "application/vnd.jupyter.widget-view+json": {
       "model_id": "590e908ad9f540098e605bb70e77e7fb",
       "version_major": 2,
       "version_minor": 0
      },
      "text/plain": [
       "HBox(children=(FloatProgress(value=0.0, description=' Simulation: ', max=10000.0, style=ProgressStyle(descript…"
      ]
     },
     "metadata": {},
     "output_type": "display_data"
    },
    {
     "name": "stdout",
     "output_type": "stream",
     "text": [
      "\n"
     ]
    },
    {
     "data": {
      "application/vnd.jupyter.widget-view+json": {
       "model_id": "f1140113563f4406a26cf0c2fe554281",
       "version_major": 2,
       "version_minor": 0
      },
      "text/plain": [
       "HBox(children=(FloatProgress(value=0.0, description=' Simulation: ', max=10000.0, style=ProgressStyle(descript…"
      ]
     },
     "metadata": {},
     "output_type": "display_data"
    },
    {
     "name": "stdout",
     "output_type": "stream",
     "text": [
      "\n"
     ]
    },
    {
     "data": {
      "application/vnd.jupyter.widget-view+json": {
       "model_id": "f6659b8ae7dc41d6b3fb8b8dc522773d",
       "version_major": 2,
       "version_minor": 0
      },
      "text/plain": [
       "HBox(children=(FloatProgress(value=0.0, description=' Simulation: ', max=10000.0, style=ProgressStyle(descript…"
      ]
     },
     "metadata": {},
     "output_type": "display_data"
    },
    {
     "name": "stdout",
     "output_type": "stream",
     "text": [
      "\n"
     ]
    },
    {
     "data": {
      "application/vnd.jupyter.widget-view+json": {
       "model_id": "902ec4daaeba473a8c81f0388589b306",
       "version_major": 2,
       "version_minor": 0
      },
      "text/plain": [
       "HBox(children=(FloatProgress(value=0.0, description=' Simulation: ', max=10000.0, style=ProgressStyle(descript…"
      ]
     },
     "metadata": {},
     "output_type": "display_data"
    },
    {
     "name": "stdout",
     "output_type": "stream",
     "text": [
      "\n"
     ]
    },
    {
     "data": {
      "application/vnd.jupyter.widget-view+json": {
       "model_id": "413a565dca28445991b79a3ec299a3fb",
       "version_major": 2,
       "version_minor": 0
      },
      "text/plain": [
       "HBox(children=(FloatProgress(value=0.0, description=' Simulation: ', max=10000.0, style=ProgressStyle(descript…"
      ]
     },
     "metadata": {},
     "output_type": "display_data"
    },
    {
     "name": "stdout",
     "output_type": "stream",
     "text": [
      "\n"
     ]
    },
    {
     "data": {
      "application/vnd.jupyter.widget-view+json": {
       "model_id": "948bb4dcc30d4638a363eb093f9297fa",
       "version_major": 2,
       "version_minor": 0
      },
      "text/plain": [
       "HBox(children=(FloatProgress(value=0.0, description=' Simulation: ', max=10000.0, style=ProgressStyle(descript…"
      ]
     },
     "metadata": {},
     "output_type": "display_data"
    },
    {
     "name": "stdout",
     "output_type": "stream",
     "text": [
      "\n"
     ]
    },
    {
     "data": {
      "application/vnd.jupyter.widget-view+json": {
       "model_id": "a3507eeacb984a1cbea2ad6ebc495550",
       "version_major": 2,
       "version_minor": 0
      },
      "text/plain": [
       "HBox(children=(FloatProgress(value=0.0, description=' Simulation: ', max=10000.0, style=ProgressStyle(descript…"
      ]
     },
     "metadata": {},
     "output_type": "display_data"
    },
    {
     "name": "stdout",
     "output_type": "stream",
     "text": [
      "\n"
     ]
    },
    {
     "data": {
      "application/vnd.jupyter.widget-view+json": {
       "model_id": "2d6fa0fe97294389a0580196aca88e91",
       "version_major": 2,
       "version_minor": 0
      },
      "text/plain": [
       "HBox(children=(FloatProgress(value=0.0, description=' Simulation: ', max=10000.0, style=ProgressStyle(descript…"
      ]
     },
     "metadata": {},
     "output_type": "display_data"
    },
    {
     "name": "stdout",
     "output_type": "stream",
     "text": [
      "\n"
     ]
    },
    {
     "data": {
      "application/vnd.jupyter.widget-view+json": {
       "model_id": "2197a0f1fa9146cfbd2ac042d39c2d71",
       "version_major": 2,
       "version_minor": 0
      },
      "text/plain": [
       "HBox(children=(FloatProgress(value=0.0, description=' Simulation: ', max=10000.0, style=ProgressStyle(descript…"
      ]
     },
     "metadata": {},
     "output_type": "display_data"
    },
    {
     "name": "stdout",
     "output_type": "stream",
     "text": [
      "\n"
     ]
    },
    {
     "data": {
      "application/vnd.jupyter.widget-view+json": {
       "model_id": "1c0809871c5d40bdb595c87ad0a142e1",
       "version_major": 2,
       "version_minor": 0
      },
      "text/plain": [
       "HBox(children=(FloatProgress(value=0.0, description=' Simulation: ', max=10000.0, style=ProgressStyle(descript…"
      ]
     },
     "metadata": {},
     "output_type": "display_data"
    }
   ],
   "source": [
    "steps = simulation_steps_total_per_approach\n",
    "equilibration_steps = 100\n",
    "\n",
    "integrator = metropolisMonteCarloIntegrator(randomnessIncreaseFactor=rand)\n",
    "eds_system = edsSystem(potential=V_eds, integrator=integrator, eds_Eoff=Eoff)\n",
    "eds_simulation_trajs = []\n",
    "\n",
    "for s in s_values:\n",
    "    print(s)\n",
    "    eds_system.set_s(s)\n",
    "    eds_system.simulate(steps, withdrawTraj=True, initSystem=True)\n",
    "    state1_traj = eds_system.getTrajectory()\n",
    "    eds_simulation_trajs.append(state1_traj)\n"
   ]
  },
  {
   "cell_type": "code",
   "execution_count": null,
   "metadata": {
    "pycharm": {
     "is_executing": true
    }
   },
   "outputs": [],
   "source": [
    "#Visualisation\n",
    "seperateeach=3\n",
    "rel_max = 5\n",
    "\n",
    "nTrajs = len(simulation_trajs)\n",
    "nrows = (nTrajs//seperateeach)+1 if(nTrajs%seperateeach >0) else(nTrajs//seperateeach)\n",
    "ncols = seperateeach if(nTrajs>seperateeach) else nTrajs\n",
    "\n",
    "fig, axes = plt.subplots(ncols=ncols, nrows=nrows, figsize=[16,9])\n",
    "axes= np.concatenate(axes)\n",
    "for ind, traj in enumerate(eds_simulation_trajs):\n",
    "    V_eds.s_i = traj.s[1]\n",
    "    ene =  V_eds.ene(positions)\n",
    "    axes[ind].plot(positions, ene, c=\"C0\", )\n",
    "    axes[ind].scatter(list(traj.position[equilibration_steps:]), traj.totPotEnergy[equilibration_steps:], c=\"orange\")\n",
    "    axes[ind].set_ylim([np.min(ene)-1,np.min(ene)+rel_max])\n",
    "    axes[ind].set_title(\"$s = \"+str(round(traj.s[1],3))+\"$\")\n"
   ]
  },
  {
   "cell_type": "raw",
   "metadata": {},
   "source": [
    "for ind,traj in enumerate(simulation_trajs):\n",
    "    fig, axes = plt.subplots(ncols=1, figsize=[16,9])\n",
    "    axes = [axes]\n",
    "    V_eds.s_i =traj.s[1]\n",
    "    ene =  V_eds.ene(positions)\n",
    "    axes[0].plot(positions, ene, c=\"C0\", )\n",
    "    axes[0].scatter(list(traj.position[equilibration_steps:]), traj.totPotEnergy[equilibration_steps:], c=\"orange\")\n",
    "    axes[0].set_ylim([np.min(ene)-1,np.min(ene)+5])\n",
    "    axes[0].set_title(\"$s = \"+str(round(traj.s[1],3))+\"$\")\n",
    "\n",
    "    axes[0].set_xlim([-1,5])\n",
    "    #fig.savefig(\"EDS_sampling.png\")"
   ]
  },
  {
   "cell_type": "markdown",
   "metadata": {},
   "source": [
    "### FEP-EDS_Evaluation"
   ]
  },
  {
   "cell_type": "code",
   "execution_count": null,
   "metadata": {
    "pycharm": {
     "is_executing": true
    }
   },
   "outputs": [],
   "source": [
    "rew_zwanz = threeStateZwanzigReweighting(kT=True)\n",
    "\n",
    "dFresults = []\n",
    "s_vals = []\n",
    "for ind,traj in enumerate(eds_simulation_trajs):\n",
    "    #print(\"SIMULATION \", ind)\n",
    "    s_vals.append(traj.s[1])\n",
    "    traj_positions = traj.position[equilibration_steps:]\n",
    "    Vr = traj.totEnergy[equilibration_steps:]\n",
    "    V1 = h1.ene(traj_positions)\n",
    "    V2 = h2.ene(traj_positions)\n",
    "\n",
    "    dFRew_zwanz = rew_zwanz.calculate(Vi=V1, Vj=V2, Vr=Vr)\n",
    "    \n",
    "    dFresults.append(dFRew_zwanz)\n",
    "    \n",
    "print()\n",
    "print(\"\\tExpected Result: \", dG_expected)\n",
    "print(\"s\\t\\tdF\\t\\tdiff\")\n",
    "print(\"\\n\".join(map(str, [\"\\t\\t\".join(map(str, np.round(x,5))) for x in  zip(s_vals, dFresults, dFresults - dG_expected)])))\n",
    "print(\"\\n\\n\\n\")\n"
   ]
  },
  {
   "cell_type": "markdown",
   "metadata": {},
   "source": [
    "### BAR-EDS_Evaluation"
   ]
  },
  {
   "cell_type": "code",
   "execution_count": null,
   "metadata": {},
   "outputs": [],
   "source": [
    "for ind,traj in enumerate(eds_simulation_trajs):\n",
    "    print(\"SIMULATION \", ind)\n",
    "    print(\"\\ts = \", str(round(traj.s[1],3)))\n",
    "    traj_positions = traj.position[equilibration_steps:]\n",
    "    Vr = traj.totEnergy[equilibration_steps:]\n",
    "    V1 = h1.ene(traj_positions)\n",
    "    V2 = h2.ene(traj_positions)\n",
    "\n",
    "    w_fw = np.array(V1 - VR, dtype=np.float)\n",
    "    w_rv = np.array(V2 - VR, dtype=np.float)\n",
    "\n",
    "    (DeltaF, dDeltaF)=pymbar.BAR(w_F=w_fw, w_R=w_rv, DeltaF=0, method='bisection', verbose=False)\n",
    "    \n",
    "    print(DeltaF, DeltaF-dG_expected)"
   ]
  },
  {
   "cell_type": "code",
   "execution_count": null,
   "metadata": {},
   "outputs": [],
   "source": [
    "for ind,traj in enumerate(eds_simulation_trajs):\n",
    "    print(\"SIMULATION \", ind)\n",
    "    print(\"\\ts = \", str(round(traj.s[1],3)))\n",
    "    traj_positions = traj.position[equilibration_steps:]\n",
    "    Vr = traj.totEnergy[equilibration_steps:]\n",
    "    V1 = h1.ene(traj_positions)\n",
    "    V2 = h2.ene(traj_positions)\n",
    "\n",
    "    mbar = pymbar.mbar.MBAR(u_kn=[V1, V2], N_k=[len(state_1)/2, len(state_2)/2])\n",
    "    df_mbars, df, _ = mbar.getFreeEnergyDifferences()\n",
    "    print(df_mbars)\n",
    "    overlap, _, _ = mbar.computeOverlap()\n",
    "    print(\"overlap: \", overlap)\n",
    "    break\n",
    "    \n"
   ]
  },
  {
   "cell_type": "markdown",
   "metadata": {},
   "source": [
    "# Hybrid Methods - $\\lambda-EDS $"
   ]
  },
  {
   "cell_type": "code",
   "execution_count": null,
   "metadata": {
    "pycharm": {
     "is_executing": true
    }
   },
   "outputs": [],
   "source": [
    "#Build Potential\n",
    "s=1\n",
    "V_hleds = pot.hybridCoupledPotentials(Va=h1, Vb=h2, s=1, lam=0.5)\n",
    "\n",
    "#Build Potential\n",
    "Eoff = [0,0]\n",
    "V_hleds = pot.lambdaEDSPotential(V_is=[h1,h2] , s=s)\n",
    "s_values = np.linspace(1,0.1, 10)\n",
    "\n",
    "#Visualize\n",
    "positions = np.arange(-10,10, 0.2)\n",
    "fig = plt.figure(figsize=[16,9])\n",
    "\n",
    "for s in s_values:\n",
    "    V_hleds.s=s\n",
    "    plt.plot(positions,V_hleds.ene(positions), lw=3, label=\"$V_r=\"+str(round(s,3))+\"$\")\n",
    "\n",
    "plt.plot(positions,h1.ene(positions), label=\"state1\", lw=1, color=\"grey\")\n",
    "plt.plot(positions,h2.ene(positions), label=\"state2\", lw=1, color=\"black\")\n",
    "\n",
    "\n",
    "plt.legend()  \n",
    "plt.ylim([-5,10])\n",
    "plt.xlim([-8,8])\n",
    "\n",
    "plt.ylabel(\"V[kT]\")\n",
    "plt.xlabel(\"r\")\n",
    "plt.title(\"Sampled Potentials\")\n"
   ]
  },
  {
   "cell_type": "code",
   "execution_count": null,
   "metadata": {
    "pycharm": {
     "is_executing": true
    }
   },
   "outputs": [],
   "source": [
    "steps = simulation_steps_total_per_approach\n",
    "equilibration_steps = 100\n",
    "\n",
    "integrator = metropolisMonteCarloIntegrator(randomnessIncreaseFactor=rand)\n",
    "eds_system = edsSystem(potential=V_hleds, integrator=integrator, eds_Eoff=Eoff)\n",
    "hleds_simulation_trajs = []\n",
    "\n",
    "for s in s_values:\n",
    "    print(s)\n",
    "    hleds_system.set_s(s)\n",
    "    hleds_system.simulate(steps, withdrawTraj=True, initSystem=True)\n",
    "    state_traj = hleds_system.getTrajectory()\n",
    "    hleds_simulation_trajs.append(state_traj)\n"
   ]
  },
  {
   "cell_type": "code",
   "execution_count": null,
   "metadata": {},
   "outputs": [],
   "source": [
    "#Visualisation\n",
    "seperateeach=3\n",
    "rel_max = 5\n",
    "\n",
    "nTrajs = len(simulation_trajs)\n",
    "nrows = (nTrajs//seperateeach)+1 if(nTrajs%seperateeach >0) else(nTrajs//seperateeach)\n",
    "ncols = seperateeach if(nTrajs>seperateeach) else nTrajs\n",
    "\n",
    "fig, axes = plt.subplots(ncols=ncols, nrows=nrows, figsize=[16,9])\n",
    "axes= np.concatenate(axes)\n",
    "for ind, traj in enumerate(hleds_simulation_trajs):\n",
    "    V_eds.s_i = traj.s[1]\n",
    "    ene =  V_eds.ene(positions)\n",
    "    axes[ind].plot(positions, ene, c=\"C0\", )\n",
    "    axes[ind].scatter(list(traj.position[equilibration_steps:]), traj.totPotEnergy[equilibration_steps:], c=\"orange\")\n",
    "    axes[ind].set_ylim([np.min(ene)-1,np.min(ene)+rel_max])\n",
    "    axes[ind].set_title(\"$s = \"+str(round(traj.s[1],3))+\"$\")\n"
   ]
  },
  {
   "cell_type": "code",
   "execution_count": null,
   "metadata": {},
   "outputs": [],
   "source": []
  },
  {
   "cell_type": "code",
   "execution_count": null,
   "metadata": {
    "pycharm": {
     "is_executing": true
    }
   },
   "outputs": [],
   "source": [
    "rew_zwanz = threeStateZwanzigReweighting(kT=True)\n",
    "\n",
    "dFresults = []\n",
    "s_vals = []\n",
    "for ind,traj in enumerate(hleds_simulation_trajs):\n",
    "    #print(\"SIMULATION \", ind)\n",
    "    s_vals.append(traj.s[1])\n",
    "    traj_positions = traj.position[equilibration_steps:]\n",
    "    Vr = traj.totEnergy[equilibration_steps:]\n",
    "    V1 = h1.ene(traj_positions)\n",
    "    V2 = h2.ene(traj_positions)\n",
    "\n",
    "    dFRew_zwanz = rew_zwanz.calculate(Vi=V1, Vj=V2, Vr=Vr)\n",
    "    \n",
    "    dFresults.append(dFRew_zwanz)\n",
    "    \n",
    "print()\n",
    "print(\"\\tExpected Result: \", dG_expected)\n",
    "print(\"s\\t\\tdF\\t\\tdiff\")\n",
    "print(\"\\n\".join(map(str, [\"\\t\\t\".join(map(str, np.round(x,5))) for x in  zip(s_vals, dFresults, dFresults - dG_expected)])))\n",
    "print(\"\\n\\n\\n\")\n"
   ]
  },
  {
   "cell_type": "markdown",
   "metadata": {},
   "source": [
    "# Enhanced Sampling with system Coupling"
   ]
  },
  {
   "cell_type": "markdown",
   "metadata": {},
   "source": [
    "#### Conveyor Belt TI"
   ]
  },
  {
   "cell_type": "code",
   "execution_count": null,
   "metadata": {
    "pycharm": {
     "is_executing": true
    }
   },
   "outputs": [],
   "source": [
    "import ensembler.ensemble.replicas_dynamic_parameters as cvb\n",
    "from ensembler.system import perturbed_system\n",
    "equilibration_steps = 100\n",
    "numsys = 4\n",
    "V_perturbed = pot.linearCoupledPotentials(Va=h1, Vb=h2)\n",
    "integrator = metropolisMonteCarloIntegrator(randomnessIncreaseFactor=rand)\n",
    "\n",
    "syst = perturbed_system.perturbedSystem(potential=V_perturbed , integrator=integrator)\n",
    "ens=cvb.ConveyorBelt(0.0, numsys, system=syst, build=False)\n"
   ]
  },
  {
   "cell_type": "code",
   "execution_count": null,
   "metadata": {
    "pycharm": {
     "is_executing": true
    }
   },
   "outputs": [],
   "source": [
    "ens.simulate(steps//numsys)\n"
   ]
  },
  {
   "cell_type": "code",
   "execution_count": null,
   "metadata": {
    "pycharm": {
     "is_executing": true
    }
   },
   "outputs": [],
   "source": [
    "trajs = ens.get_trajectories()\n",
    "trajs[0]"
   ]
  },
  {
   "cell_type": "code",
   "execution_count": null,
   "metadata": {
    "pycharm": {
     "is_executing": true
    }
   },
   "outputs": [],
   "source": [
    "import pandas as pd\n",
    "trajs = ens.get_trajectories()\n",
    "mega_traj = pd.concat(list(trajs.values()), ignore_index=True)\n",
    "\n",
    "#State Potentials\n",
    "h1 = pot.harmonicOscillatorPotential(k=k1, x_shift=xoff1, y_shift=yoff1) \n",
    "h2 = pot.harmonicOscillatorPotential(k=k2, x_shift=xoff2, y_shift=yoff2)\n",
    "\n",
    "\n",
    "fig, axes = plt.subplots(ncols=1, figsize=[16,9])\n",
    "axes = [axes]\n",
    "axes[0].scatter(list(mega_traj.position[equilibration_steps:]), mega_traj.totPotEnergy[equilibration_steps:], c=\"orange\")\n",
    "\n",
    "positions = np.arange(-10,10, 0.2)\n",
    "axes[0].plot(positions, h1.ene(positions), label=\"state1\", lw=1, color=\"grey\")\n",
    "axes[0].plot(positions, h2.ene(positions), label=\"state2\", lw=1, color=\"black\")\n",
    "\n",
    "axes[0].legend()  \n",
    "axes[0].set_ylim([0,10])\n",
    "axes[0].set_xlim([-8,8])\n",
    "\n",
    "axes[0].set_ylabel(\"V[kT]\")\n",
    "axes[0].set_xlabel(\"r\")\n",
    "axes[0].set_title(\"Conveyor Belt Sampling\")\n",
    "fig.savefig(\"CVB_sampling.png\")"
   ]
  },
  {
   "cell_type": "code",
   "execution_count": null,
   "metadata": {
    "pycharm": {
     "is_executing": true
    }
   },
   "outputs": [],
   "source": [
    "from scipy import integrate\n",
    "\n",
    "lambda_stat = mega_traj[[\"lam\",\"dhdlam\"]]\n",
    "lam_cvb = list(sorted(np.unique(lambda_stat.lam)))\n",
    "means_cvb = [np.mean(lambda_stat.loc[lambda_stat.lam == x].dhdlam) for x in lam_cvb] \n",
    "stds_cvb = [np.std(lambda_stat.loc[lambda_stat.lam == x].dhdlam) for x in lam_cvb] \n"
   ]
  },
  {
   "cell_type": "code",
   "execution_count": null,
   "metadata": {
    "pycharm": {
     "is_executing": true
    }
   },
   "outputs": [],
   "source": [
    "dF_trapez = integrate.trapz(x=lam_cvb, y=means_cvb)\n",
    "dF_err = integrate.trapz(x=lam_cvb, y=stds_cvb)\n",
    "\n",
    "print()\n",
    "print(\"Expected Result: \", dG_expected)\n",
    "print(\"trapez Rule Result: \", dF_trapez, \"+-\", dF_err)\n",
    "print()\n",
    "print(\"Difference:\", dF_trapez - dG_expected)\n"
   ]
  },
  {
   "cell_type": "markdown",
   "metadata": {},
   "source": [
    "# RE-EDS"
   ]
  },
  {
   "cell_type": "code",
   "execution_count": null,
   "metadata": {
    "pycharm": {
     "is_executing": true
    }
   },
   "outputs": [],
   "source": [
    "#potential\n",
    "Eoff = [0,1.5]\n",
    "V_eds = pot.envelopedPotential(V_is=[h1,h2])\n",
    "\n",
    "##Integrator\n",
    "integrator = metropolisMonteCarloIntegrator(randomnessIncreaseFactor=rand)\n",
    "\n",
    "##System\n",
    "eds_system = edsSystem(integrator=integrator, potential=V_eds)\n",
    "eds_system.Eoff = Eoff\n",
    "print(eds_system.potential.Eoff)\n",
    "\n",
    "##Ensemble\n",
    "from ensembler.ensemble import replica_exchange\n",
    "##Ensemble Settings:\n",
    "s_values = np.logspace(start=0, stop=-1, num=4)\n",
    "trials=200\n",
    "steps_between_trials=simulation_steps_total_per_approach//(len(s_values)*trials)\n",
    "\n",
    "print(\"DO trials: \", trials, \"steps: \", steps_between_trials)\n",
    "ensemble = replica_exchange.ReplicaExchangeEnvelopingDistributionSampling(system=eds_system, exchange_criterium=None, s_range=s_values, steps_between_trials=steps_between_trials)\n",
    "[replica.s for repID, replica in ensemble.replicas.items()]\n"
   ]
  },
  {
   "cell_type": "code",
   "execution_count": null,
   "metadata": {
    "pycharm": {
     "is_executing": true
    }
   },
   "outputs": [],
   "source": [
    "ensemble.simulate(trials, reset_ensemble=True)\n"
   ]
  },
  {
   "cell_type": "code",
   "execution_count": null,
   "metadata": {
    "pycharm": {
     "is_executing": true
    }
   },
   "outputs": [],
   "source": [
    "trajs = ensemble.get_trajectories()\n",
    "\n",
    "positions = np.linspace(-10,10)\n",
    "fig, axes = plt.subplots(ncols=len(trajs), figsize=[16,9])\n",
    "eqil=100\n",
    "for traj, ax in zip(trajs, axes):\n",
    "    ax.plot(positions, ensemble.replicas[traj].potential.ene(positions), c=\"grey\")\n",
    "    min_e = np.min(trajs[traj].totEnergy[eqil:])\n",
    "\n",
    "    ax.scatter(trajs[traj].position[eqil:], trajs[traj].totEnergy[eqil:])\n",
    "    ax.set_ylim([min_e-1,min_e+10])\n",
    "    ax.set_xlim([-4,8])\n",
    "    ax.set_title(\"replica\"+str(traj))\n"
   ]
  },
  {
   "cell_type": "code",
   "execution_count": null,
   "metadata": {
    "pycharm": {
     "is_executing": true
    }
   },
   "outputs": [],
   "source": [
    "trajs = ensemble.get_trajectories()\n",
    "\n",
    "positions = np.linspace(-10,10)\n",
    "fig, axes = plt.subplots(ncols=len(trajs), figsize=[16,9])\n",
    "eqil=100\n",
    "for traj, ax in zip(trajs, axes):\n",
    "    ax.hist(trajs[traj].position[eqil:])\n",
    "    ax.set_xlim([-4,8])\n",
    "    ax.set_title(\"replica\"+str(traj))\n"
   ]
  },
  {
   "cell_type": "code",
   "execution_count": null,
   "metadata": {
    "pycharm": {
     "is_executing": true
    }
   },
   "outputs": [],
   "source": [
    "\n",
    "fig, ax = plt.subplots(ncols=1, figsize=[16,9])\n",
    "enes = [trajs[x].totEnergy for x in sorted(trajs)] \n",
    "min_e = np.min(enes)\n",
    "max_e = np.max(enes)\n",
    "\n",
    "for ind, ene in enumerate(enes):\n",
    "    ax.plot(ene, label=\"replica\"+str(ind))\n",
    "ax.vlines([steps_between_trials*x for x in range(trials)], ymin=min_e, ymax=max_e, label=\"exchange\", lw=0.1)\n",
    "ax.set_title(\"replica potE timeseries\")\n",
    "ax.set_ylim(1.1*min_e, 1.1*max_e)\n",
    "ax.legend()"
   ]
  },
  {
   "cell_type": "code",
   "execution_count": null,
   "metadata": {
    "pycharm": {
     "is_executing": true
    }
   },
   "outputs": [],
   "source": [
    "stats= ensemble.exchange_information\n",
    "replicas = np.unique(ensemble.exchange_information.replicaID)\n",
    "trials = np.unique(ensemble.exchange_information.nExchange)\n",
    "\n",
    "import itertools as it\n",
    "\n",
    "fig, ax = plt.subplots(ncols=1, figsize=[16,9])\n",
    "\n",
    "replica_positions = {}\n",
    "for replica in replicas:\n",
    "    replica_positions.update({replica: stats.loc[stats.replicaID==replica].replicaPositionI})\n",
    "\n",
    "    x = trials\n",
    "    y = replica_positions[replica]\n",
    "\n",
    "    ax.plot(x,y , label=\"replica_\"+str(replica))\n",
    "\n",
    "#plt.yticks(replicas+1, reversed(replicas+1))\n",
    "ax.set_yticks(ticks=replicas)\n",
    "ax.set_yticklabels(labels=replicas)\n",
    "\n",
    "ax.set_ylabel(\"replica Positions\")\n",
    "ax.set_xlabel(\"trials\")\n",
    "ax.set_title(\"Replica exchange transitions\")\n",
    "if(len(replicas)<10): plt.legend()"
   ]
  },
  {
   "cell_type": "code",
   "execution_count": null,
   "metadata": {
    "pycharm": {
     "is_executing": true
    }
   },
   "outputs": [],
   "source": [
    "#FREE E\n",
    "equilibration_steps=100\n",
    "\n",
    "#State Potentials\n",
    "h1 = pot.harmonicOscillatorPotential(k=k1, x_shift=xoff1, y_shift=yoff1) \n",
    "h2 = pot.harmonicOscillatorPotential(k=k2, x_shift=xoff2, y_shift=yoff2)\n",
    "\n",
    "print(\"Reeds Rep 0\")\n",
    "print(\"\\ts = \", ensemble.exchange_dimensions['s'][0])\n",
    "positions = trajs[0].position[equilibration_steps:]\n",
    "Vr = list(map(float, trajs[0].totEnergy[equilibration_steps:]))\n",
    "V1 = h1.ene(positions)\n",
    "V2 = h2.ene(positions)\n",
    "\n",
    "\n",
    "rew_zwanz = threeStateZwanzigReweighting(kT=True)\n",
    "dFRew_zwanz = rew_zwanz.calculate(Vi=V2, Vj=V1, Vr=Vr)\n",
    "\n",
    "print()\n",
    "print(\"\\tExpected Result: \", dG_expected)\n",
    "print(\"\\tdF_Calc Result: \", dFRew_zwanz)\n",
    "print()\n",
    "print(\"\\tDifference:\", dFRew_zwanz - dG_expected)\n",
    "print(\"\\n\\n\\n\")"
   ]
  },
  {
   "cell_type": "code",
   "execution_count": null,
   "metadata": {
    "pycharm": {
     "is_executing": true
    }
   },
   "outputs": [],
   "source": [
    "#FREE E\n",
    "equilibration_steps=100\n",
    "\n",
    "#State Potentials\n",
    "h1 = pot.harmonicOscillatorPotential(k=k1, x_shift=xoff1, y_shift=yoff1) \n",
    "h2 = pot.harmonicOscillatorPotential(k=k2, x_shift=xoff2, y_shift=yoff2)\n",
    "\n",
    "print(\"Reeds Rep 0\")\n",
    "print(\"\\ts = \", ensemble.exchange_dimensions['s'][0])\n",
    "positions = trajs[1].position[equilibration_steps:]\n",
    "Vr = list(map(float, trajs[0].totEnergy[equilibration_steps:]))\n",
    "V1 = h1.ene(positions)\n",
    "V2 = h2.ene(positions)\n",
    "\n",
    "\n",
    "rew_zwanz = threeStateZwanzigReweighting(kT=True)\n",
    "dFRew_zwanz = rew_zwanz.calculate(Vi=V2, Vj=V1, Vr=Vr)\n",
    "\n",
    "print()\n",
    "print(\"\\tExpected Result: \", dG_expected)\n",
    "print(\"\\tdF_Calc Result: \", dFRew_zwanz)\n",
    "print()\n",
    "print(\"\\tDifference:\", dFRew_zwanz - dG_expected)\n",
    "print(\"\\n\\n\\n\")"
   ]
  },
  {
   "cell_type": "code",
   "execution_count": null,
   "metadata": {
    "pycharm": {
     "is_executing": true
    }
   },
   "outputs": [],
   "source": [
    "#FREE E\n",
    "equilibration_steps=100\n",
    "\n",
    "#State Potentials\n",
    "h1 = pot.harmonicOscillatorPotential(k=k1, x_shift=xoff1, y_shift=yoff1) \n",
    "h2 = pot.harmonicOscillatorPotential(k=k2, x_shift=xoff2, y_shift=yoff2)\n",
    "\n",
    "print(\"Reeds Rep 3\")\n",
    "print(\"\\ts = \", ensemble.exchange_dimensions['s'][0])\n",
    "positions = trajs[2].position[equilibration_steps:]\n",
    "Vr = list(map(float, trajs[0].totEnergy[equilibration_steps:]))\n",
    "V1 = h1.ene(positions)\n",
    "V2 = h2.ene(positions)\n",
    "\n",
    "\n",
    "rew_zwanz = threeStateZwanzigReweighting(kT=True)\n",
    "dFRew_zwanz = rew_zwanz.calculate(Vi=V2, Vj=V1, Vr=Vr)\n",
    "\n",
    "print()\n",
    "print(\"\\tExpected Result: \", dG_expected)\n",
    "print(\"\\tdF_Calc Result: \", dFRew_zwanz)\n",
    "print()\n",
    "print(\"\\tDifference:\", dFRew_zwanz - dG_expected)\n",
    "print(\"\\n\\n\\n\")"
   ]
  },
  {
   "cell_type": "code",
   "execution_count": null,
   "metadata": {
    "pycharm": {
     "is_executing": true
    }
   },
   "outputs": [],
   "source": [
    "#FREE E\n",
    "equilibration_steps=100\n",
    "\n",
    "#State Potentials\n",
    "h1 = pot.harmonicOscillatorPotential(k=k1, x_shift=xoff1, y_shift=yoff1) \n",
    "h2 = pot.harmonicOscillatorPotential(k=k2, x_shift=xoff2, y_shift=yoff2)\n",
    "\n",
    "print(\"Reeds Rep 4\")\n",
    "print(\"\\ts = \", ensemble.exchange_dimensions['s'][0])\n",
    "positions = trajs[3].position[equilibration_steps:]\n",
    "Vr = list(map(float, trajs[0].totEnergy[equilibration_steps:]))\n",
    "V1 = h1.ene(positions)\n",
    "V2 = h2.ene(positions)\n",
    "\n",
    "\n",
    "rew_zwanz = threeStateZwanzigReweighting(kT=True)\n",
    "dFRew_zwanz = rew_zwanz.calculate(Vi=V2, Vj=V1, Vr=Vr)\n",
    "\n",
    "print()\n",
    "print(\"\\tExpected Result: \", dG_expected)\n",
    "print(\"\\tdF_Calc Result: \", dFRew_zwanz)\n",
    "print()\n",
    "print(\"\\tDifference:\", dFRew_zwanz - dG_expected)\n",
    "print(\"\\n\\n\\n\")"
   ]
  },
  {
   "cell_type": "code",
   "execution_count": null,
   "metadata": {
    "pycharm": {
     "is_executing": true
    }
   },
   "outputs": [],
   "source": []
  }
 ],
 "metadata": {
  "file_extension": ".py",
  "kernelspec": {
   "display_name": "testBar",
   "language": "python",
   "name": "testbar"
  },
  "language_info": {
   "codemirror_mode": {
    "name": "ipython",
    "version": 3
   },
   "file_extension": ".py",
   "mimetype": "text/x-python",
   "name": "python",
   "nbconvert_exporter": "python",
   "pygments_lexer": "ipython3",
   "version": "3.6.10"
  },
  "mimetype": "text/x-python",
  "name": "python",
  "npconvert_exporter": "python",
  "pygments_lexer": "ipython3",
  "version": 3
 },
 "nbformat": 4,
 "nbformat_minor": 4
}
