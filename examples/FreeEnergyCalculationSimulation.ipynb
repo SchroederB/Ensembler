{
 "cells": [
  {
   "cell_type": "markdown",
   "metadata": {},
   "source": [
    "# Free Energy Calculations\n",
    "In this Notebook, we want to have a short glimpse on Free Energy Calculations. \n",
    "Free energies are an very important topic in computational chemistry. There are different aspects of free energies, like the conformational or the alchemical free energy. The conformational free energy is describing the behavior conformational behavior of a molecule in a certain environment and can vary due to e.g. sovlent. The alchemical free energy is describing how favorable a certain chemical change is fr a molecule in a certain environment. This change could be for example the methylation of a molecule in a protein complex. These aspects explain the big interest in Free Energies.\n",
    "\n",
    "We want to stay here in the picture of the alchemical free energy.\n",
    "To be able to estimate the influence of a chemical change, one needs to calculate the free energies of both so called states. \n",
    "\n",
    "Here we calculate the Gibbs Free Energy.\n",
    "\n",
    "$G_x = V_x - T_x  S_x $\n",
    "\n",
    "With the Gibbs Free Energy of state i and state J we can get the Free Energy Difference of the change.\n",
    "\n",
    "$\\Delta G_{ij} = G_j - G_i$ \n",
    "\n",
    "This allows us to estimate the influence of the change.\n",
    "\n",
    "\n",
    "\n",
    "In this notebook we will cover following methods:\n",
    "* pertubation\n",
    "\n",
    "  * FEP\n",
    "  * BAR\n",
    "* linear coupling\n",
    "    * TI\n",
    "* exponential coupling\n",
    "    * EDS\n",
    "* hybrid coupling\n",
    "    * $\\lambda$-EDS\n",
    "* Enhanced Sampling methods:\n",
    "    * Conveyor Belt\n",
    "    * RE-EDS\n"
   ]
  },
  {
   "cell_type": "code",
   "execution_count": 6,
   "metadata": {
    "tags": []
   },
   "outputs": [],
   "source": [
    "#Here some imports:\n",
    "\n",
    "##System Path\n",
    "import os, sys\n",
    "path = os.getcwd()+\"/..\"\n",
    "sys.path.append(path)\n",
    "\n",
    "##basics\n",
    "import numpy as np\n",
    "from matplotlib import pyplot as plt\n",
    "\n",
    "##Ensembler\n",
    "from ensembler.analysis.freeEnergyCalculation import zwanzigEquation, threeStateZwanzigReweighting, bennetAcceptanceRatio\n",
    "\n",
    "from ensembler.potentials import OneD as pot\n",
    "from ensembler.integrator.stochastic import metropolisMonteCarloIntegrator, langevinIntegrator\n",
    "from ensembler.system.basic_system import system\n",
    "from ensembler.system.perturbed_system import perturbedSystem\n",
    "from ensembler.system.eds_system import edsSystem\n",
    "\n",
    "from ensembler.visualisation.plotSimulations import static_sim_plots\n"
   ]
  },
  {
   "cell_type": "markdown",
   "metadata": {},
   "source": [
    "## Benchmarking parameters\n",
    "Here we define some parameters that allow us an easier comparison of the different methods."
   ]
  },
  {
   "cell_type": "code",
   "execution_count": 30,
   "metadata": {},
   "outputs": [],
   "source": [
    "simulation_steps_total_per_approach = 100000\n",
    "rand=0.1\n",
    "gamma=100\n"
   ]
  },
  {
   "cell_type": "markdown",
   "metadata": {},
   "source": [
    "## Setting up a System\n",
    "We are now going to Setup a system, for the Free Energy Calculations. For this Notebook, we want to keep it simple. Therefore two 1D-Harmonic Oscillators with different shifted minima and force constants shall be perfect for us.\n",
    "\n"
   ]
  },
  {
   "cell_type": "code",
   "execution_count": 14,
   "metadata": {},
   "outputs": [
    {
     "data": {
      "text/plain": [
       "(<Figure size 432x288 with 1 Axes>, None)"
      ]
     },
     "execution_count": 14,
     "metadata": {},
     "output_type": "execute_result"
    },
    {
     "data": {
      "image/png": "[encoded data removed]",
      "text/plain": [
       "<Figure size 432x288 with 1 Axes>"
      ]
     },
     "metadata": {
      "needs_background": "light"
     },
     "output_type": "display_data"
    }
   ],
   "source": [
    "#Build System\n",
    "#System Parameters:\n",
    "yoff1 = 0\n",
    "xoff1 = 0\n",
    "force_constant = k1 =0.5\n",
    "\n",
    "entropic_difference = k2 = 1\n",
    "potential_difference = yoff2 = 4#1\n",
    "phase_space_distance = xoff2 = 4\n",
    "\n",
    "#State Potentials\n",
    "h1 = pot.harmonicOscillatorPotential(k=k1, x_shift=xoff1, y_shift=yoff1) \n",
    "h2 = pot.harmonicOscillatorPotential(k=k2, x_shift=xoff2, y_shift=yoff2)\n",
    "\n",
    "#Visualize\n",
    "from ensembler.visualisation.plotPotentials import multiState_overlays\n",
    "multiState_overlays([h1,h2])"
   ]
  },
  {
   "cell_type": "markdown",
   "metadata": {},
   "source": [
    "## Analyctical Solution\n",
    "The Analytical solution for our problem can be calculated as follows: \n",
    "\n",
    "Gibbs Energy:   \n",
    "$ G_x = V_x - T_x  S_x $\n",
    "\n",
    "For a harmonic Oscillator the entropy term can be formulated as:\n",
    "\n",
    "$G_x = V_x - \\frac{1}{\\beta} log(\\sqrt{\\frac{2 \\pi}{k_X \\beta}})$\n",
    "\n",
    "\n",
    "The final difference is:\n",
    "\n",
    "$\\Delta G_{ij} = G_j - G_i$ \n"
   ]
  },
  {
   "cell_type": "code",
   "execution_count": 15,
   "metadata": {
    "tags": []
   },
   "outputs": [
    {
     "name": "stdout",
     "output_type": "stream",
     "text": [
      "expected dG:  4.346573590279973\n"
     ]
    }
   ],
   "source": [
    "#Analytical Solution\n",
    "beta = 1 # beta is in kT\n",
    "\n",
    "G_1 = yoff1 -(1/beta) * np.log(np.sqrt((2*np.pi)/(k1*beta)))\n",
    "G_2 = yoff2 -(1/beta) * np.log(np.sqrt((2*np.pi)/(k2*beta)))\n",
    "dG_expected = G_2-G_1\n",
    "\n",
    "print(\"expected dG: \", dG_expected)\n"
   ]
  },
  {
   "cell_type": "markdown",
   "metadata": {},
   "source": [
    "## Pertubation Methods - BAR/Zwanzig\n",
    "\n",
    "### Sampling\n",
    "    \n"
   ]
  },
  {
   "cell_type": "code",
   "execution_count": null,
   "metadata": {
    "scrolled": false,
    "tags": []
   },
   "outputs": [
    {
     "data": {
      "application/vnd.jupyter.widget-view+json": {
       "model_id": "652a1a632fe24451a65db3093b3ec794",
       "version_major": 2,
       "version_minor": 0
      },
      "text/plain": [
       "HBox(children=(FloatProgress(value=0.0, description='Simulation: ', max=50000.0, style=ProgressStyle(descripti…"
      ]
     },
     "metadata": {},
     "output_type": "display_data"
    }
   ],
   "source": [
    "#Simulate the two states:\n",
    "steps = simulation_steps_total_per_approach//2\n",
    "equilibration_steps = 100\n",
    "\n",
    "##Build Systems\n",
    "integrator = metropolisMonteCarloIntegrator(randomnessIncreaseFactor=rand)\n",
    "\n",
    "system1 = system(potential=h1, integrator=integrator)\n",
    "system2 = system(potential=h2, integrator=integrator2)\n",
    "\n",
    "\n",
    "system1.simulate(steps, withdrawTraj=True, initSystem=True)\n",
    "state1_traj = system1.getTrajectory()\n",
    "_ = static_sim_plots(system1)\n",
    "\n",
    "system2.simulate(steps, withdrawTraj=True, initSystem=True)\n",
    "state2_traj = system2.getTrajectory()\n",
    "_ = static_sim_plots(system2)\n",
    "plt.ylim([0,10])\n",
    "pass"
   ]
  },
  {
   "cell_type": "code",
   "execution_count": null,
   "metadata": {},
   "outputs": [],
   "source": [
    "#Visualisation\n",
    "fig, axes = plt.subplots(ncols=2)\n",
    "axes[0].plot(list(state1_traj.index[:equilibration_steps]), state1_traj.totEnergy[:equilibration_steps], c=\"grey\")\n",
    "axes[0].plot(list(state1_traj.index[equilibration_steps:]), state1_traj.totEnergy[equilibration_steps:], c=\"C0\")\n",
    "axes[0].set_ylim([0,5])\n",
    "axes[0].set_title(\"$state1$\")\n",
    "axes[0].set_xlabel(\"t[steps]\")\n",
    "axes[0].set_ylabel(\"$V[kT]$\")\n",
    "\n",
    "axes[1].plot(list(state2_traj.index[:equilibration_steps]), state2_traj.totEnergy[:equilibration_steps], c=\"grey\")\n",
    "axes[1].plot(list(state2_traj.index[equilibration_steps:]), state2_traj.totEnergy[equilibration_steps:], c=\"C1\")\n",
    "axes[1].set_ylim([0,5])\n",
    "axes[1].set_title(\"$state2$\")\n",
    "axes[1].set_xlabel(\"t[steps]\")\n",
    "fig.suptitle(\"simulated energy timeseries\")\n",
    "\n",
    "pass"
   ]
  },
  {
   "cell_type": "code",
   "execution_count": null,
   "metadata": {},
   "outputs": [],
   "source": [
    "#Visualisation\n",
    "fig, axes = plt.subplots(ncols=2, sharex=True, sharey=True)\n",
    "axes[0].hist(state1_traj.totEnergy[equilibration_steps:], color=\"C0\", density=True, bins=100)\n",
    "axes[0].set_title(\"$state1$\")\n",
    "axes[0].set_xlim([-1,10])\n",
    "axes[0].set_xlabel(\"r\")\n",
    "axes[0].set_ylabel(\"$p_{occurence}$\")\n",
    "\n",
    "axes[1].hist(state2_traj.totEnergy[equilibration_steps:], color=\"C1\", density=True, bins=100)\n",
    "axes[1].set_title(\"$state2$\")\n",
    "axes[1].set_xlim([-1,10])\n",
    "axes[1].set_xlabel(\"r\")\n",
    "\n",
    "fig.suptitle(\"total Energy distributions\")\n",
    "\n",
    "pass"
   ]
  },
  {
   "cell_type": "markdown",
   "metadata": {},
   "source": [
    "### Analysis\n",
    "#### Zwanzig Equation"
   ]
  },
  {
   "cell_type": "code",
   "execution_count": null,
   "metadata": {
    "tags": []
   },
   "outputs": [],
   "source": [
    "V1=state1_traj.totEnergy[equilibration_steps:]\n",
    "V2=state2_traj.totEnergy[equilibration_steps:]\n",
    "\n",
    "zwanz = zwanzigEquation(kT=True)\n",
    "dF_zwanzig = zwanz.calculate(Vi=V1, Vj=V2)\n",
    "\n",
    "print(\"Expected Result: \", dG_expected)\n",
    "print(\"Zwanzig Result: \", dF_zwanzig)\n",
    "print()\n",
    "print(\"Difference:\", dF_zwanzig - dG_expected)\n"
   ]
  },
  {
   "cell_type": "markdown",
   "metadata": {},
   "source": [
    "#### Bennet Acceptance Ratio (BAR)"
   ]
  },
  {
   "cell_type": "code",
   "execution_count": 18,
   "metadata": {
    "scrolled": false,
    "tags": []
   },
   "outputs": [
    {
     "ename": "TypeError",
     "evalue": "<lambda>() takes 1 positional argument but 2 were given",
     "output_type": "error",
     "traceback": [
      "\u001b[1;31m---------------------------------------------------------------------------\u001b[0m",
      "\u001b[1;31mTypeError\u001b[0m                                 Traceback (most recent call last)",
      "\u001b[1;32m<ipython-input-18-769dc92cd3d1>\u001b[0m in \u001b[0;36m<module>\u001b[1;34m\u001b[0m\n\u001b[0;32m      1\u001b[0m \u001b[1;31m#Sampling l1\u001b[0m\u001b[1;33m\u001b[0m\u001b[1;33m\u001b[0m\u001b[1;33m\u001b[0m\u001b[0m\n\u001b[0;32m      2\u001b[0m \u001b[0mV11\u001b[0m\u001b[1;33m=\u001b[0m\u001b[0mh1\u001b[0m\u001b[1;33m.\u001b[0m\u001b[0mene\u001b[0m\u001b[1;33m(\u001b[0m\u001b[0mstate1_traj\u001b[0m\u001b[1;33m.\u001b[0m\u001b[0mposition\u001b[0m\u001b[1;33m)\u001b[0m\u001b[1;33m\u001b[0m\u001b[1;33m\u001b[0m\u001b[0m\n\u001b[1;32m----> 3\u001b[1;33m \u001b[0mV21\u001b[0m\u001b[1;33m=\u001b[0m\u001b[0mh2\u001b[0m\u001b[1;33m.\u001b[0m\u001b[0mene\u001b[0m\u001b[1;33m(\u001b[0m\u001b[0mstate1_traj\u001b[0m\u001b[1;33m.\u001b[0m\u001b[0mposition\u001b[0m\u001b[1;33m)\u001b[0m\u001b[1;33m\u001b[0m\u001b[1;33m\u001b[0m\u001b[0m\n\u001b[0m\u001b[0;32m      4\u001b[0m \u001b[1;33m\u001b[0m\u001b[0m\n\u001b[0;32m      5\u001b[0m \u001b[1;31m#Sampling l2\u001b[0m\u001b[1;33m\u001b[0m\u001b[1;33m\u001b[0m\u001b[1;33m\u001b[0m\u001b[0m\n",
      "\u001b[1;32m~\\OneDrive - ETH Zürich\\PhD\\Code\\ensembler_public\\examples/..\\ensembler\\potentials\\_basicPotentials.py\u001b[0m in \u001b[0;36mene\u001b[1;34m(self, positions)\u001b[0m\n\u001b[0;32m    138\u001b[0m         \u001b[1;33m:\u001b[0m\u001b[1;32mreturn\u001b[0m\u001b[1;33m:\u001b[0m \u001b[0menergy\u001b[0m\u001b[1;33m\u001b[0m\u001b[1;33m\u001b[0m\u001b[0m\n\u001b[0;32m    139\u001b[0m         '''\n\u001b[1;32m--> 140\u001b[1;33m         \u001b[1;32mreturn\u001b[0m \u001b[0mnp\u001b[0m\u001b[1;33m.\u001b[0m\u001b[0msqueeze\u001b[0m\u001b[1;33m(\u001b[0m\u001b[0mself\u001b[0m\u001b[1;33m.\u001b[0m\u001b[0m_calculate_energies\u001b[0m\u001b[1;33m(\u001b[0m\u001b[0mnp\u001b[0m\u001b[1;33m.\u001b[0m\u001b[0msqueeze\u001b[0m\u001b[1;33m(\u001b[0m\u001b[0mnp\u001b[0m\u001b[1;33m.\u001b[0m\u001b[0marray\u001b[0m\u001b[1;33m(\u001b[0m\u001b[0mpositions\u001b[0m\u001b[1;33m)\u001b[0m\u001b[1;33m)\u001b[0m\u001b[1;33m)\u001b[0m\u001b[1;33m)\u001b[0m\u001b[1;33m\u001b[0m\u001b[1;33m\u001b[0m\u001b[0m\n\u001b[0m\u001b[0;32m    141\u001b[0m \u001b[1;33m\u001b[0m\u001b[0m\n\u001b[0;32m    142\u001b[0m \u001b[1;33m\u001b[0m\u001b[0m\n",
      "\u001b[1;31mTypeError\u001b[0m: <lambda>() takes 1 positional argument but 2 were given"
     ]
    }
   ],
   "source": [
    "#Sampling l1\n",
    "V11=h1.ene(state1_traj.position)\n",
    "V21=h2.ene(state1_traj.position)\n",
    "\n",
    "#Sampling l2\n",
    "V12=h1.ene(state2_traj.position)\n",
    "V22=h2.ene(state2_traj.position)\n",
    "\n",
    "bar = bennetAcceptanceRatio(kT=True)\n",
    "dF_bar = bar.calculate(Vj_i=V21, Vi_i=V11, Vi_j=V12, Vj_j=V22)\n",
    "\n",
    "print()\n",
    "print(\"Expected Result: \", dG_expected)\n",
    "print(\"BAR Result: \", dF_bar)\n",
    "print()\n",
    "print(\"Difference:\", dF_bar - dG_expected)\n"
   ]
  },
  {
   "cell_type": "markdown",
   "metadata": {},
   "source": [
    "# Linear Coupling Method - Thermodynamic Integration (TI)"
   ]
  },
  {
   "cell_type": "markdown",
   "metadata": {},
   "source": [
    "## Sampling"
   ]
  },
  {
   "cell_type": "code",
   "execution_count": 9,
   "metadata": {},
   "outputs": [
    {
     "data": {
      "text/plain": [
       "Text(0.5, 1.0, 'Sampled Potentials')"
      ]
     },
     "execution_count": 9,
     "metadata": {},
     "output_type": "execute_result"
    },
    {
     "data": {
      "image/png": "[encoded data removed]",
      "text/plain": [
       "<Figure size 432x288 with 1 Axes>"
      ]
     },
     "metadata": {
      "needs_background": "light"
     },
     "output_type": "display_data"
    }
   ],
   "source": [
    "#Build Potential\n",
    "V_perturbed = pot.linearCoupledPotentials(Va=h1, Vb=h2)\n",
    "\n",
    "#Visualize\n",
    "lambda_points = 10\n",
    "positions = np.arange(-5,10, 0.2)\n",
    "lambda_windows=np.linspace(0,1, lambda_points)\n",
    "for lam in lambda_windows:\n",
    "    V_perturbed.set_lam(lam)\n",
    "    ene =  V_perturbed.ene(positions)\n",
    "    plt.plot(positions,ene, label=\"lam_\"+str(round(lam, 2)))\n",
    "    \n",
    "plt.legend()\n",
    "plt.ylim([0,10])\n",
    "plt.ylabel(\"V[kT]\")\n",
    "plt.xlabel(\"r\")\n",
    "plt.title(\"Sampled Potentials\")"
   ]
  },
  {
   "cell_type": "code",
   "execution_count": 10,
   "metadata": {
    "tags": []
   },
   "outputs": [
    {
     "data": {
      "application/vnd.jupyter.widget-view+json": {
       "model_id": "df4f2bb840294cb38050fedfc0ba80c4",
       "version_major": 2,
       "version_minor": 0
      },
      "text/plain": [
       "HBox(children=(FloatProgress(value=0.0, description='Simulation: ', max=1000.0, style=ProgressStyle(descriptio…"
      ]
     },
     "metadata": {},
     "output_type": "display_data"
    },
    {
     "name": "stdout",
     "output_type": "stream",
     "text": [
      "\n"
     ]
    },
    {
     "data": {
      "application/vnd.jupyter.widget-view+json": {
       "model_id": "565752a8948a44d5a4c507df315a9a9a",
       "version_major": 2,
       "version_minor": 0
      },
      "text/plain": [
       "HBox(children=(FloatProgress(value=0.0, description='Simulation: ', max=1000.0, style=ProgressStyle(descriptio…"
      ]
     },
     "metadata": {},
     "output_type": "display_data"
    },
    {
     "name": "stdout",
     "output_type": "stream",
     "text": [
      "\n"
     ]
    },
    {
     "data": {
      "application/vnd.jupyter.widget-view+json": {
       "model_id": "8810c26566c742babd9412d3830777ea",
       "version_major": 2,
       "version_minor": 0
      },
      "text/plain": [
       "HBox(children=(FloatProgress(value=0.0, description='Simulation: ', max=1000.0, style=ProgressStyle(descriptio…"
      ]
     },
     "metadata": {},
     "output_type": "display_data"
    },
    {
     "name": "stdout",
     "output_type": "stream",
     "text": [
      "\n"
     ]
    },
    {
     "data": {
      "application/vnd.jupyter.widget-view+json": {
       "model_id": "fab2716a0019428ab37519bae132a1ff",
       "version_major": 2,
       "version_minor": 0
      },
      "text/plain": [
       "HBox(children=(FloatProgress(value=0.0, description='Simulation: ', max=1000.0, style=ProgressStyle(descriptio…"
      ]
     },
     "metadata": {},
     "output_type": "display_data"
    },
    {
     "name": "stdout",
     "output_type": "stream",
     "text": [
      "\n"
     ]
    },
    {
     "data": {
      "application/vnd.jupyter.widget-view+json": {
       "model_id": "30d38f75f0fc4e4c95f6d177cf0b5717",
       "version_major": 2,
       "version_minor": 0
      },
      "text/plain": [
       "HBox(children=(FloatProgress(value=0.0, description='Simulation: ', max=1000.0, style=ProgressStyle(descriptio…"
      ]
     },
     "metadata": {},
     "output_type": "display_data"
    },
    {
     "name": "stdout",
     "output_type": "stream",
     "text": [
      "\n"
     ]
    },
    {
     "data": {
      "application/vnd.jupyter.widget-view+json": {
       "model_id": "43b966544eb843179cfdcafd026f6574",
       "version_major": 2,
       "version_minor": 0
      },
      "text/plain": [
       "HBox(children=(FloatProgress(value=0.0, description='Simulation: ', max=1000.0, style=ProgressStyle(descriptio…"
      ]
     },
     "metadata": {},
     "output_type": "display_data"
    },
    {
     "name": "stdout",
     "output_type": "stream",
     "text": [
      "\n"
     ]
    },
    {
     "data": {
      "application/vnd.jupyter.widget-view+json": {
       "model_id": "62a34bd7d5124bdc98273bce410450b0",
       "version_major": 2,
       "version_minor": 0
      },
      "text/plain": [
       "HBox(children=(FloatProgress(value=0.0, description='Simulation: ', max=1000.0, style=ProgressStyle(descriptio…"
      ]
     },
     "metadata": {},
     "output_type": "display_data"
    },
    {
     "name": "stdout",
     "output_type": "stream",
     "text": [
      "\n"
     ]
    },
    {
     "data": {
      "application/vnd.jupyter.widget-view+json": {
       "model_id": "6949c06e92194761805e3646201bd030",
       "version_major": 2,
       "version_minor": 0
      },
      "text/plain": [
       "HBox(children=(FloatProgress(value=0.0, description='Simulation: ', max=1000.0, style=ProgressStyle(descriptio…"
      ]
     },
     "metadata": {},
     "output_type": "display_data"
    },
    {
     "name": "stdout",
     "output_type": "stream",
     "text": [
      "\n"
     ]
    },
    {
     "data": {
      "application/vnd.jupyter.widget-view+json": {
       "model_id": "b5de4870a7b74506b0f9f95c94f38f17",
       "version_major": 2,
       "version_minor": 0
      },
      "text/plain": [
       "HBox(children=(FloatProgress(value=0.0, description='Simulation: ', max=1000.0, style=ProgressStyle(descriptio…"
      ]
     },
     "metadata": {},
     "output_type": "display_data"
    },
    {
     "name": "stdout",
     "output_type": "stream",
     "text": [
      "\n"
     ]
    },
    {
     "data": {
      "application/vnd.jupyter.widget-view+json": {
       "model_id": "b183375a5c0a4a4fa43d86aa7afdc0b1",
       "version_major": 2,
       "version_minor": 0
      },
      "text/plain": [
       "HBox(children=(FloatProgress(value=0.0, description='Simulation: ', max=1000.0, style=ProgressStyle(descriptio…"
      ]
     },
     "metadata": {},
     "output_type": "display_data"
    },
    {
     "name": "stdout",
     "output_type": "stream",
     "text": [
      "\n"
     ]
    }
   ],
   "source": [
    "steps = simulation_steps_total_per_approach//lambda_points\n",
    "equilibration_steps = 30\n",
    "\n",
    "integrator = metropolisMonteCarloIntegrator(randomnessIncreaseFactor=rand)\n",
    "system = perturbedSystem(potential=V_perturbed, integrator=integrator)\n",
    "\n",
    "system_trajs = {}\n",
    "for lam in lambda_windows:\n",
    "    system.set_lam(lam)\n",
    "    system.simulate(steps, withdrawTraj=True, initSystem=True)\n",
    "    system_trajs.update({lam: system.trajectory})\n"
   ]
  },
  {
   "cell_type": "markdown",
   "metadata": {},
   "source": [
    "### Analysis"
   ]
  },
  {
   "cell_type": "code",
   "execution_count": 11,
   "metadata": {},
   "outputs": [
    {
     "data": {
      "text/html": [
       "<div>\n",
       "<style scoped>\n",
       "    .dataframe tbody tr th:only-of-type {\n",
       "        vertical-align: middle;\n",
       "    }\n",
       "\n",
       "    .dataframe tbody tr th {\n",
       "        vertical-align: top;\n",
       "    }\n",
       "\n",
       "    .dataframe thead th {\n",
       "        text-align: right;\n",
       "    }\n",
       "</style>\n",
       "<table border=\"1\" class=\"dataframe\">\n",
       "  <thead>\n",
       "    <tr style=\"text-align: right;\">\n",
       "      <th></th>\n",
       "      <th>position</th>\n",
       "      <th>temperature</th>\n",
       "      <th>totEnergy</th>\n",
       "      <th>totPotEnergy</th>\n",
       "      <th>totKinEnergy</th>\n",
       "      <th>dhdpos</th>\n",
       "      <th>velocity</th>\n",
       "      <th>lam</th>\n",
       "      <th>dhdlam</th>\n",
       "    </tr>\n",
       "  </thead>\n",
       "  <tbody>\n",
       "    <tr>\n",
       "      <th>0</th>\n",
       "      <td>2.6386324050203775</td>\n",
       "      <td>298.0</td>\n",
       "      <td>3.757497</td>\n",
       "      <td>3.757497</td>\n",
       "      <td>NaN</td>\n",
       "      <td>0.11153364984424408</td>\n",
       "      <td>NaN</td>\n",
       "      <td>0.888889</td>\n",
       "      <td>2.269014</td>\n",
       "    </tr>\n",
       "    <tr>\n",
       "      <th>1</th>\n",
       "      <td>-9.243032160397771</td>\n",
       "      <td>298.0</td>\n",
       "      <td>72.949402</td>\n",
       "      <td>72.949402</td>\n",
       "      <td>NaN</td>\n",
       "      <td>0.09836772176279762</td>\n",
       "      <td>NaN</td>\n",
       "      <td>1.000000</td>\n",
       "      <td>51.590991</td>\n",
       "    </tr>\n",
       "    <tr>\n",
       "      <th>2</th>\n",
       "      <td>-9.160609016873124</td>\n",
       "      <td>298.0</td>\n",
       "      <td>71.984901</td>\n",
       "      <td>71.984901</td>\n",
       "      <td>NaN</td>\n",
       "      <td>0.08242314352464597</td>\n",
       "      <td>NaN</td>\n",
       "      <td>1.000000</td>\n",
       "      <td>51.005712</td>\n",
       "    </tr>\n",
       "    <tr>\n",
       "      <th>3</th>\n",
       "      <td>-8.728788875483957</td>\n",
       "      <td>298.0</td>\n",
       "      <td>67.042850</td>\n",
       "      <td>67.042850</td>\n",
       "      <td>NaN</td>\n",
       "      <td>0.43182014138916636</td>\n",
       "      <td>NaN</td>\n",
       "      <td>1.000000</td>\n",
       "      <td>47.994911</td>\n",
       "    </tr>\n",
       "    <tr>\n",
       "      <th>4</th>\n",
       "      <td>-8.545871731107407</td>\n",
       "      <td>298.0</td>\n",
       "      <td>65.005641</td>\n",
       "      <td>65.005641</td>\n",
       "      <td>NaN</td>\n",
       "      <td>0.18291714437655038</td>\n",
       "      <td>NaN</td>\n",
       "      <td>1.000000</td>\n",
       "      <td>46.747660</td>\n",
       "    </tr>\n",
       "  </tbody>\n",
       "</table>\n",
       "</div>"
      ],
      "text/plain": [
       "             position  temperature  totEnergy  totPotEnergy  totKinEnergy  \\\n",
       "0  2.6386324050203775        298.0   3.757497      3.757497           NaN   \n",
       "1  -9.243032160397771        298.0  72.949402     72.949402           NaN   \n",
       "2  -9.160609016873124        298.0  71.984901     71.984901           NaN   \n",
       "3  -8.728788875483957        298.0  67.042850     67.042850           NaN   \n",
       "4  -8.545871731107407        298.0  65.005641     65.005641           NaN   \n",
       "\n",
       "                dhdpos  velocity       lam     dhdlam  \n",
       "0  0.11153364984424408       NaN  0.888889   2.269014  \n",
       "1  0.09836772176279762       NaN  1.000000  51.590991  \n",
       "2  0.08242314352464597       NaN  1.000000  51.005712  \n",
       "3  0.43182014138916636       NaN  1.000000  47.994911  \n",
       "4  0.18291714437655038       NaN  1.000000  46.747660  "
      ]
     },
     "execution_count": 11,
     "metadata": {},
     "output_type": "execute_result"
    }
   ],
   "source": [
    "system_trajs[lam].head()\n",
    " "
   ]
  },
  {
   "cell_type": "code",
   "execution_count": 12,
   "metadata": {},
   "outputs": [
    {
     "data": {
      "text/plain": [
       "Text(0.5, 0.98, 'Lambda points')"
      ]
     },
     "execution_count": 12,
     "metadata": {},
     "output_type": "execute_result"
    },
    {
     "data": {
      "image/png": "[encoded data removed]",
      "text/plain": [
       "<Figure size 432x288 with 1 Axes>"
      ]
     },
     "metadata": {
      "needs_background": "light"
     },
     "output_type": "display_data"
    }
   ],
   "source": [
    "fig, axes = plt.subplots(ncols=1)\n",
    "\n",
    "lam_stats = {}\n",
    "for lam in system_trajs:\n",
    "    lam_mean, lam_std = np.mean(system_trajs[lam].dhdlam[equilibration_steps:]), np.std(system_trajs[lam].dhdlam[equilibration_steps:])\n",
    "    lam_stats.update({lam:{\"mean\":lam_mean, \"std\": lam_std}})\n",
    "    \n",
    "    axes.scatter(lam, lam_mean)\n",
    "    axes.errorbar(lam, lam_mean, lam_std)\n",
    "\n",
    "axes.plot(sorted(lam_stats), [lam_stats[x][\"mean\"] for x in sorted(lam_stats)], color=\"grey\", zorder=-1)\n",
    "axes.set_ylabel(\"$dH/d\\lambda$\")\n",
    "axes.set_xlabel(\"$\\lambda$\")\n",
    "\n",
    "fig.suptitle(\"Lambda points\")\n"
   ]
  },
  {
   "cell_type": "code",
   "execution_count": 13,
   "metadata": {},
   "outputs": [],
   "source": [
    "from scipy import integrate\n",
    "\n",
    "lam = list(sorted(lam_stats.keys()))\n",
    "means = [lam_stats[x]['mean'] for x in lam] \n",
    "stds = [lam_stats[x]['std'] for x in lam] \n"
   ]
  },
  {
   "cell_type": "code",
   "execution_count": 14,
   "metadata": {
    "tags": []
   },
   "outputs": [
    {
     "name": "stdout",
     "output_type": "stream",
     "text": [
      "\n",
      "Expected Result:  4.346573590279973\n",
      "trapez Rule Result:  4.060479822812554 +- 0.821567063005831\n",
      "\n",
      "Difference: -0.28609376746741866\n"
     ]
    }
   ],
   "source": [
    "dF_trapez = integrate.trapz(x=lam, y=means)\n",
    "dF_err = integrate.trapz(x=lam, y=stds)\n",
    "\n",
    "print()\n",
    "print(\"Expected Result: \", dG_expected)\n",
    "print(\"trapez Rule Result: \", dF_trapez, \"+-\", dF_err)\n",
    "print()\n",
    "print(\"Difference:\", dF_trapez - dG_expected)\n"
   ]
  },
  {
   "cell_type": "code",
   "execution_count": 15,
   "metadata": {
    "tags": []
   },
   "outputs": [
    {
     "name": "stdout",
     "output_type": "stream",
     "text": [
      "\n",
      "Expected Result:  4.346573590279973\n",
      "trapez Rule Result:  4.0514364728969205 +- 0.8196818412558706\n",
      "\n",
      "Difference: -0.29513711738305215\n"
     ]
    }
   ],
   "source": [
    "# or kepschler Weinfass method @gerhard\n",
    "dF_simpson = integrate.simps(x=lam, y=means)\n",
    "dF_err = integrate.simps(x=lam, y=stds)\n",
    "\n",
    "print()\n",
    "print(\"Expected Result: \", dG_expected)\n",
    "print(\"trapez Rule Result: \", dF_simpson, \"+-\", dF_err)\n",
    "print()\n",
    "print(\"Difference:\", dF_simpson - dG_expected)"
   ]
  },
  {
   "cell_type": "markdown",
   "metadata": {},
   "source": [
    "## Exponentially Coupled - Enveloping Distribution Sampling (EDS) - BAR/RewightedFEP"
   ]
  },
  {
   "cell_type": "code",
   "execution_count": 4,
   "metadata": {},
   "outputs": [
    {
     "data": {
      "text/plain": [
       "Text(0.5, 1.0, 'Sampled Potentials')"
      ]
     },
     "execution_count": 4,
     "metadata": {},
     "output_type": "execute_result"
    },
    {
     "data": {
      "image/png": "[encoded data removed]",
      "text/plain": [
       "<Figure size 432x288 with 1 Axes>"
      ]
     },
     "metadata": {
      "needs_background": "light"
     },
     "output_type": "display_data"
    }
   ],
   "source": [
    "#Build Potential\n",
    "s=1\n",
    "V_eds = pot.exponentialCoupledPotentials(Va=h1, Vb=h2, s=s)\n",
    "\n",
    "s1 = 1.0\n",
    "s2 = 0.5\n",
    "s3 = 0.1\n",
    "s4 = 0.06\n",
    "\n",
    "#Visualize\n",
    "positions = np.arange(-5,10, 0.2)\n",
    "\n",
    "V_eds.set_s(s1)\n",
    "plt.plot(positions,V_eds.ene(positions), lw=3, label=\"$V_r=\"+str(s1)+\"$\")\n",
    "V_eds.set_s(s2)\n",
    "plt.plot(positions,V_eds.ene(positions), lw=3,  label=\"$V_r=\"+str(s2)+\"$\")\n",
    "V_eds.set_s(s3)\n",
    "plt.plot(positions,V_eds.ene(positions), lw=3,  label=\"$V_r=\"+str(s3)+\"$\")\n",
    "V_eds.set_s(s4)\n",
    "plt.plot(positions,V_eds.ene(positions), lw=3,  label=\"$V_r=\"+str(s4)+\"$\")\n",
    "\n",
    "plt.plot(positions,h1.ene(positions), label=\"state1\", lw=1, color=\"grey\")\n",
    "plt.plot(positions,h2.ene(positions), label=\"state2\", lw=1, color=\"black\")\n",
    "\n",
    "\n",
    "plt.legend()  \n",
    "#plt.ylim([-2,10])\n",
    "#plt.xlim([-2,8])\n",
    "\n",
    "plt.ylabel(\"V[kT]\")\n",
    "plt.xlabel(\"r\")\n",
    "plt.title(\"Sampled Potentials\")"
   ]
  },
  {
   "cell_type": "code",
   "execution_count": 5,
   "metadata": {},
   "outputs": [
    {
     "data": {
      "application/vnd.jupyter.widget-view+json": {
       "model_id": "33e94b069b764f2891de7a13dd8419eb",
       "version_major": 2,
       "version_minor": 0
      },
      "text/plain": [
       "HBox(children=(FloatProgress(value=0.0, description='Simulation: ', max=10000.0, style=ProgressStyle(descripti…"
      ]
     },
     "metadata": {},
     "output_type": "display_data"
    },
    {
     "name": "stdout",
     "output_type": "stream",
     "text": [
      "\n"
     ]
    },
    {
     "data": {
      "application/vnd.jupyter.widget-view+json": {
       "model_id": "0b3d66f837584450b039e6b5c2ff23dd",
       "version_major": 2,
       "version_minor": 0
      },
      "text/plain": [
       "HBox(children=(FloatProgress(value=0.0, description='Simulation: ', max=10000.0, style=ProgressStyle(descripti…"
      ]
     },
     "metadata": {},
     "output_type": "display_data"
    },
    {
     "name": "stdout",
     "output_type": "stream",
     "text": [
      "\n"
     ]
    },
    {
     "data": {
      "application/vnd.jupyter.widget-view+json": {
       "model_id": "b011ceb3d93242469ce3f29319706463",
       "version_major": 2,
       "version_minor": 0
      },
      "text/plain": [
       "HBox(children=(FloatProgress(value=0.0, description='Simulation: ', max=10000.0, style=ProgressStyle(descripti…"
      ]
     },
     "metadata": {},
     "output_type": "display_data"
    },
    {
     "name": "stdout",
     "output_type": "stream",
     "text": [
      "\n"
     ]
    },
    {
     "data": {
      "application/vnd.jupyter.widget-view+json": {
       "model_id": "b9df55f3ab89450bb36e6d4feee39cc9",
       "version_major": 2,
       "version_minor": 0
      },
      "text/plain": [
       "HBox(children=(FloatProgress(value=0.0, description='Simulation: ', max=10000.0, style=ProgressStyle(descripti…"
      ]
     },
     "metadata": {},
     "output_type": "display_data"
    },
    {
     "name": "stdout",
     "output_type": "stream",
     "text": [
      "\n"
     ]
    }
   ],
   "source": [
    "steps = simulation_steps_total_per_approach\n",
    "equilibration_steps = 100\n",
    "\n",
    "integrator = metropolisMonteCarloIntegrator(randomnessIncreaseFactor=rand)\n",
    "system = edsSystem(potential=V_eds, integrator=integrator)\n",
    "\n",
    "system.set_s(s1)\n",
    "system.simulate(steps, withdrawTraj=True, initSystem=True)\n",
    "state1_traj = system.getTrajectory()\n",
    "\n",
    "system.set_s(s2)\n",
    "system.simulate(steps, withdrawTraj=True, initSystem=True)\n",
    "state2_traj = system.getTrajectory()\n",
    "\n",
    "system.set_s(s3)\n",
    "system.simulate(steps, withdrawTraj=True, initSystem=True)\n",
    "state3_traj = system.getTrajectory()\n",
    "\n",
    "system.set_s(s4)\n",
    "system.simulate(steps, withdrawTraj=True, initSystem=True)\n",
    "state4_traj = system.getTrajectory()\n"
   ]
  },
  {
   "cell_type": "code",
   "execution_count": 6,
   "metadata": {},
   "outputs": [
    {
     "data": {
      "image/png": "[encoded data removed]",
      "text/plain": [
       "<Figure size 432x288 with 3 Axes>"
      ]
     },
     "metadata": {
      "needs_background": "light"
     },
     "output_type": "display_data"
    }
   ],
   "source": [
    "#Visualisation\n",
    "fig, axes = plt.subplots(ncols=4)\n",
    "axes[0].plot(list(state1_traj.index[:equilibration_steps]), state1_traj.totEnergy[:equilibration_steps], c=\"grey\")\n",
    "axes[0].plot(list(state1_traj.index[equilibration_steps:]), state1_traj.totEnergy[equilibration_steps:], c=\"C0\")\n",
    "axes[0].set_ylim([-1,5])\n",
    "axes[0].set_title(\"$s = \"+str(state1_traj.s[1])+\"$\")\n",
    "\n",
    "axes[1].plot(list(state2_traj.index[:equilibration_steps]), state2_traj.totEnergy[:equilibration_steps], c=\"grey\")\n",
    "axes[1].plot(list(state2_traj.index[equilibration_steps:]), state2_traj.totEnergy[equilibration_steps:], c=\"C1\")\n",
    "axes[1].set_ylim([-1,5])\n",
    "axes[1].set_title(\"$s =  \"+str(state2_traj.s[1])+\"$\")\n",
    "\n",
    "axes[2].plot(list(state3_traj.index[:equilibration_steps]), state3_traj.totEnergy[:equilibration_steps], c=\"grey\")\n",
    "axes[2].plot(list(state3_traj.index[equilibration_steps:]), state3_traj.totEnergy[equilibration_steps:], c=\"C2\")\n",
    "#axes[2].set_ylim([-1,5])\n",
    "axes[2].set_title(\"$s =  \"+str(state3_traj.s[1])+\"$\")\n",
    "\n",
    "axes[3].plot(list(state4_traj.index[:equilibration_steps]), state3_traj.totEnergy[:equilibration_steps], c=\"grey\")\n",
    "axes[3].plot(list(state4_traj.index[equilibration_steps:]), state3_traj.totEnergy[equilibration_steps:], c=\"C2\")\n",
    "#axes[2].set_ylim([-1,5])\n",
    "axes[3].set_title(\"$s =  \"+str(state3_traj.s[1])+\"$\")\n",
    "\n",
    "\n",
    "pass"
   ]
  },
  {
   "cell_type": "markdown",
   "metadata": {},
   "source": [
    "### FEP-EDS_Evaluation"
   ]
  },
  {
   "cell_type": "code",
   "execution_count": null,
   "metadata": {},
   "outputs": [],
   "source": [
    "print(\"SIMULATION 1\")\n",
    "print(\"\\ts = \", s1)\n",
    "positions = state1_traj.position[equilibration_steps:]\n",
    "Vr = state1_traj.totEnergy[equilibration_steps:]\n",
    "V1 = h1.ene(positions)\n",
    "V2 = h2.ene(positions)\n",
    "\n",
    "\n",
    "rew_zwanz = threeStateZwanzigReweighting(kT=True)\n",
    "dFRew_zwanz = rew_zwanz.calculate(Vi=V2, Vj=V1, Vr=Vr)\n",
    "\n",
    "print()\n",
    "print(\"\\tExpected Result: \", dG_expected)\n",
    "print(\"\\tdF_Calc Result: \", dFRew_zwanz)\n",
    "print()\n",
    "print(\"\\tDifference:\", dFRew_zwanz - dG_expected)\n",
    "print(\"\\n\\n\\n\")\n",
    "\n",
    "print(\"SIMULATION 2\")\n",
    "print(\"\\ts = \", s2)\n",
    "positions = state2_traj.position[equilibration_steps:]\n",
    "Vr = state2_traj.totEnergy[equilibration_steps:]\n",
    "V1 = h1.ene(positions)\n",
    "V2 = h2.ene(positions)\n",
    "\n",
    "\n",
    "rew_zwanz = threeStateZwanzigReweighting(kT=True)\n",
    "dFRew_zwanz = rew_zwanz.calculate(Vi=V2, Vj=V1, Vr=Vr)\n",
    "\n",
    "print()\n",
    "print(\"\\tExpected Result: \", dG_expected)\n",
    "print(\"\\tdF_Calc Result: \", dFRew_zwanz)\n",
    "print()\n",
    "print(\"\\tDifference:\", dFRew_zwanz - dG_expected)\n",
    "print(\"\\n\\n\\n\")\n",
    "\n",
    "print(\"SIMULATION 3\")\n",
    "print(\"\\ts = \", s3)\n",
    "positions = state3_traj.position[equilibration_steps:]\n",
    "Vr = state3_traj.totEnergy[equilibration_steps:]\n",
    "V1 = h1.ene(positions)\n",
    "V2 = h2.ene(positions)\n",
    "\n",
    "\n",
    "rew_zwanz = threeStateZwanzigReweighting(kT=True)\n",
    "dFRew_zwanz = rew_zwanz.calculate(Vi=V2, Vj=V1, Vr=Vr)\n",
    "\n",
    "print()\n",
    "print(\"\\tExpected Result: \", dG_expected)\n",
    "print(\"\\tdF_Calc Result: \", dFRew_zwanz)\n",
    "print()\n",
    "print(\"\\tDifference:\", dFRew_zwanz - dG_expected)\n",
    "print(\"\\n\\n\\n\")\n"
   ]
  },
  {
   "cell_type": "markdown",
   "metadata": {},
   "source": [
    "### BAR-EDS_Evaluation"
   ]
  },
  {
   "cell_type": "code",
   "execution_count": null,
   "metadata": {},
   "outputs": [],
   "source": [
    "print(\"SIMULATION 3\")\n",
    "print(\"\\ts = \", s3)\n",
    "positions = state3_traj.position[equilibration_steps:]\n",
    "Vr = state3_traj.totEnergy[equilibration_steps:]\n",
    "V1 = h1.ene(positions)\n",
    "V2 = h2.ene(positions)\n",
    "\n",
    "#define states\n",
    "V12 = [V1_x for V1_x, V2_x in zip(V1, V2) if (V1_x > V2_x)]\n",
    "V22 = [V2_x for V1_x, V2_x in zip(V1, V2) if (V1_x > V2_x)]\n",
    "V21 = [V2_x for V1_x, V2_x in zip(V1, V2) if (V1_x < V2_x)]\n",
    "V11 = [V1_x for V1_x, V2_x in zip(V1, V2) if (V1_x < V2_x)]\n",
    "\n",
    "\n",
    "#bar\n",
    "bar = bennetAcceptanceRatio(kT=True)\n",
    "dF_bar = bar.calculate(Vj_i=V21, Vi_i=V11, Vi_j=V12, Vj_j=V22)\n",
    "\n",
    "print()\n",
    "print(\"\\tExpected Result: \", dG_expected)\n",
    "print(\"\\tdF_Calc Result: \", dF_bar)\n",
    "print()\n",
    "print(\"\\tDifference:\", dF_bar - dG_expected)\n",
    "print(\"\\n\\n\\n\")\n",
    "\n"
   ]
  },
  {
   "cell_type": "code",
   "execution_count": null,
   "metadata": {},
   "outputs": [],
   "source": [
    "print(\"SIMULATION 1\")\n",
    "print(\"\\ts = \", s3)\n",
    "positions = state1_traj.position[equilibration_steps:]\n",
    "Vr = state1_traj.totEnergy[equilibration_steps:]\n",
    "V1 = h1.ene(positions)\n",
    "V2 = h2.ene(positions)\n",
    "\n",
    "#define states\n",
    "V12 = [V1_x for V1_x, V2_x in zip(V1, V2) if (V1_x > V2_x)]\n",
    "V22 = [V2_x for V1_x, V2_x in zip(V1, V2) if (V1_x > V2_x)]\n",
    "V21 = [V2_x for V1_x, V2_x in zip(V1, V2) if (V1_x < V2_x)]\n",
    "V11 = [V1_x for V1_x, V2_x in zip(V1, V2) if (V1_x < V2_x)]\n",
    "\n",
    "print(len(V12), len(V11))\n",
    "\n",
    "#bar\n",
    "bar = bennetAcceptanceRatio(kT=True)\n",
    "dF_bar = bar.calculate(Vj_i=V21, Vi_i=V11, Vi_j=V12, Vj_j=V22)\n",
    "\n",
    "print()\n",
    "print(\"\\tExpected Result: \", dG_expected)\n",
    "print(\"\\tdF_Calc Result: \", dF_bar)\n",
    "print()\n",
    "print(\"\\tDifference:\", dF_bar - dG_expected)\n",
    "print(\"\\n\\n\\n\")\n",
    "\n"
   ]
  },
  {
   "cell_type": "code",
   "execution_count": null,
   "metadata": {},
   "outputs": [],
   "source": [
    "print(\"SIMULATION 2\")\n",
    "print(\"\\ts = \", s2)\n",
    "positions = state2_traj.position[equilibration_steps:]\n",
    "Vr = state2_traj.totEnergy[equilibration_steps:]\n",
    "V1 = h1.ene(positions)\n",
    "V2 = h2.ene(positions)\n",
    "\n",
    "#define states\n",
    "V12 = [V1_x for V1_x, V2_x in zip(V1, V2) if (V1_x > V2_x)]\n",
    "V22 = [V2_x for V1_x, V2_x in zip(V1, V2) if (V1_x > V2_x)]\n",
    "V21 = [V2_x for V1_x, V2_x in zip(V1, V2) if (V1_x < V2_x)]\n",
    "V11 = [V1_x for V1_x, V2_x in zip(V1, V2) if (V1_x < V2_x)]\n",
    "\n",
    "print(len(V12), len(V11))\n",
    "\n",
    "#bar\n",
    "bar = bennetAcceptanceRatio(kT=True)\n",
    "dF_bar = bar.calculate(Vj_i=V21, Vi_i=V11, Vi_j=V12, Vj_j=V22)\n",
    "\n",
    "print()\n",
    "print(\"\\tExpected Result: \", dG_expected)\n",
    "print(\"\\tdF_Calc Result: \", dF_bar)\n",
    "print()\n",
    "print(\"\\tDifference:\", dF_bar - dG_expected)\n",
    "print(\"\\n\\n\\n\")\n",
    "\n"
   ]
  },
  {
   "cell_type": "code",
   "execution_count": null,
   "metadata": {},
   "outputs": [],
   "source": [
    "print(\"SIMULATION 1\")\n",
    "print(\"\\ts = \", s1)\n",
    "positions = state1_traj.position[equilibration_steps:]\n",
    "Vr = state1_traj.totEnergy[equilibration_steps:]\n",
    "V1 = h1.ene(positions)\n",
    "V2 = h2.ene(positions)\n",
    "\n",
    "#define states\n",
    "V12 = V1\n",
    "V22 = Vr\n",
    "V21 = V2\n",
    "V11 = Vr\n",
    "\n",
    "print(len(V12), len(V11))\n",
    "\n",
    "#bar\n",
    "bar = bennetAcceptanceRatio(kT=True)\n",
    "dF_bar = bar.calculate(Vj_i=V21, Vi_i=V11, Vi_j=V12, Vj_j=V22)\n",
    "\n",
    "print()\n",
    "print(\"\\tExpected Result: \", dG_expected)\n",
    "print(\"\\tdF_Calc Result: \", dF_bar)\n",
    "print()\n",
    "print(\"\\tDifference:\", dF_bar - dG_expected)\n",
    "print(\"\\n\\n\\n\")\n",
    "\n"
   ]
  },
  {
   "cell_type": "markdown",
   "metadata": {},
   "source": [
    "# Hybrid Methods - $\\lambda-EDS $"
   ]
  },
  {
   "cell_type": "code",
   "execution_count": null,
   "metadata": {},
   "outputs": [],
   "source": [
    "# "
   ]
  },
  {
   "cell_type": "markdown",
   "metadata": {},
   "source": [
    "# Enhanced Sampling with system Coupling"
   ]
  },
  {
   "cell_type": "markdown",
   "metadata": {},
   "source": [
    "# RE-EDS"
   ]
  },
  {
   "cell_type": "code",
   "execution_count": null,
   "metadata": {},
   "outputs": [],
   "source": [
    "#potential\n",
    "Eoff = [0,0.65]\n",
    "s=1\n",
    "V_eds = pot.envelopedPotential(V_is=[h1, h2], s=s, Eoff_i=Eoff)\n",
    "\n",
    "##Integrator\n",
    "integrator = metropolisMonteCarloIntegrator(randomnessIncreaseFactor=rand)\n",
    "\n",
    "##System\n",
    "eds_system = edsSystem(integrator=integrator, potential=V_eds)\n",
    "\n",
    "\n",
    "##Ensemble\n",
    "from ensembler.ensemble import replica_exchange\n",
    "##Ensemble Settings:\n",
    "s_values = np.logspace(start=0, stop=-1, num=3)\n",
    "s_values = [100, 0.3, 0.1]\n",
    "trials=20\n",
    "steps_between_trials=simulation_steps_total_per_approach//(3*trials)\n",
    "\n",
    "ensemble = replica_exchange.ReplicaExchangeEnvelopingDistributionSampling(system=eds_system, exchange_criterium=None, s_range=s_values, steps_between_trials=steps_between_trials)\n"
   ]
  },
  {
   "cell_type": "code",
   "execution_count": null,
   "metadata": {},
   "outputs": [],
   "source": [
    "ensemble.simulate(trials, reset_ensemble=True)\n"
   ]
  },
  {
   "cell_type": "code",
   "execution_count": null,
   "metadata": {},
   "outputs": [],
   "source": [
    "[replica.potential.s for repID, replica in ensemble.replicas.items()]"
   ]
  },
  {
   "cell_type": "code",
   "execution_count": null,
   "metadata": {},
   "outputs": [],
   "source": [
    "trajs = ensemble.get_trajectories()\n",
    "\n",
    "positions = np.linspace(-10,10)\n",
    "fig, axes = plt.subplots(ncols=len(trajs), figsize=[16,9])\n",
    "eqil=100\n",
    "for traj, ax in zip(trajs, axes):\n",
    "    ax.plot(positions, ensemble.replicas[traj].potential.ene(positions), c=\"grey\")\n",
    "    min_e = np.min(trajs[traj].totEnergy[eqil:])\n",
    "\n",
    "    ax.scatter(trajs[traj].position[eqil:], trajs[traj].totEnergy[eqil:])\n",
    "    ax.set_ylim([min_e-1,min_e+10])\n",
    "    ax.set_xlim([-4,8])\n",
    "    ax.set_title(\"replica\"+str(traj))\n"
   ]
  },
  {
   "cell_type": "code",
   "execution_count": null,
   "metadata": {},
   "outputs": [],
   "source": [
    "trajs = ensemble.get_trajectories()\n",
    "\n",
    "positions = np.linspace(-10,10)\n",
    "fig, axes = plt.subplots(ncols=len(trajs), figsize=[16,9])\n",
    "eqil=100\n",
    "for traj, ax in zip(trajs, axes):\n",
    "    ax.hist(trajs[traj].position[eqil:])\n",
    "    ax.set_xlim([-4,8])\n",
    "    ax.set_title(\"replica\"+str(traj))\n"
   ]
  },
  {
   "cell_type": "code",
   "execution_count": null,
   "metadata": {},
   "outputs": [],
   "source": [
    "\n",
    "fig, ax = plt.subplots(ncols=1, figsize=[16,9])\n",
    "enes = [trajs[x].totEnergy for x in sorted(trajs)] \n",
    "min_e = np.min(enes)\n",
    "max_e = np.max(enes)\n",
    "\n",
    "for ind, ene in enumerate(enes):\n",
    "    ax.plot(ene, label=\"replica\"+str(ind))\n",
    "ax.vlines([steps_between_trials*x for x in range(trials)], ymin=min_e, ymax=max_e, label=\"exchange\", lw=0.1)\n",
    "ax.set_title(\"replica potE timeseries\")\n",
    "ax.set_ylim(1.1*min_e, 1.1*max_e)\n",
    "ax.legend()"
   ]
  },
  {
   "cell_type": "code",
   "execution_count": null,
   "metadata": {},
   "outputs": [],
   "source": [
    "stats= ensemble.exchange_information\n",
    "replicas = np.unique(ensemble.exchange_information.replicaID)\n",
    "trials = np.unique(ensemble.exchange_information.nExchange)\n",
    "\n",
    "import itertools as it\n",
    "\n",
    "fig, ax = plt.subplots(ncols=1, figsize=[16,9])\n",
    "\n",
    "replica_positions = {}\n",
    "for replica in replicas:\n",
    "    replica_positions.update({replica: stats.loc[stats.replicaID==replica].replicaPositionI})\n",
    "\n",
    "    x = trials\n",
    "    y = replica_positions[replica]\n",
    "\n",
    "    ax.plot(x,y , label=\"replica_\"+str(replica))\n",
    "\n",
    "#plt.yticks(replicas+1, reversed(replicas+1))\n",
    "ax.set_yticks(ticks=replicas)\n",
    "ax.set_yticklabels(labels=replicas)\n",
    "\n",
    "ax.set_ylabel(\"replica Positions\")\n",
    "ax.set_xlabel(\"trials\")\n",
    "ax.set_title(\"Replica exchange transitions\")\n",
    "if(len(replicas)<10): plt.legend()"
   ]
  },
  {
   "cell_type": "code",
   "execution_count": null,
   "metadata": {},
   "outputs": [],
   "source": [
    "#FREE E\n",
    "equilibration_steps=100\n",
    "print(\"Reeds Rep 0\")\n",
    "print(\"\\ts = \", ensemble.exchange_dimensions['s'][0])\n",
    "positions = trajs[0].position[equilibration_steps:]\n",
    "Vr = trajs[0].totEnergy[equilibration_steps:]\n",
    "V1 = h1.ene(positions)\n",
    "V2 = h2.ene(positions)\n",
    "\n",
    "\n",
    "rew_zwanz = threeStateZwanzigReweighting(kT=True)\n",
    "dFRew_zwanz = rew_zwanz.calculate(Vi=V2, Vj=V1, Vr=Vr)\n",
    "\n",
    "print()\n",
    "print(\"\\tExpected Result: \", dG_expected)\n",
    "print(\"\\tdF_Calc Result: \", dFRew_zwanz)\n",
    "print()\n",
    "print(\"\\tDifference:\", dFRew_zwanz - dG_expected)\n",
    "print(\"\\n\\n\\n\")"
   ]
  },
  {
   "cell_type": "code",
   "execution_count": null,
   "metadata": {},
   "outputs": [],
   "source": []
  }
 ],
 "metadata": {
  "file_extension": ".py",
  "kernelspec": {
   "display_name": "Python 3.7.7 64-bit ('EnsemblerDev': conda)",
   "language": "python",
   "name": "python37764bitensemblerdevcondaa4593ef55eeb4c19ab962e621795cac3"
  },
  "language_info": {
   "codemirror_mode": {
    "name": "ipython",
    "version": 3
   },
   "file_extension": ".py",
   "mimetype": "text/x-python",
   "name": "python",
   "nbconvert_exporter": "python",
   "pygments_lexer": "ipython3",
   "version": "3.7.7"
  },
  "mimetype": "text/x-python",
  "name": "python",
  "npconvert_exporter": "python",
  "pygments_lexer": "ipython3",
  "version": 3
 },
 "nbformat": 4,
 "nbformat_minor": 4
}
