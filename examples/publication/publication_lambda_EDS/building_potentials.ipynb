{
 "cells": [
  {
   "cell_type": "code",
   "execution_count": 4,
   "metadata": {},
   "outputs": [],
   "source": [
    "#enveloping potential\n",
    "# simple Example plot Enveloped Potential with two Harmonic Oscilators\n",
    "##Imports:\n",
    "import os, sys, numpy as np\n",
    "sys.path.append(os.getcwd()+\"/../../..\")\n",
    "\n",
    "import ensembler.potentials.TwoD as pot2D\n",
    "import ensembler.visualisation.plotPotentials as exPlot\n",
    "\n",
    "point_resolution = 120 # if you want to save time use: 120\n",
    "%matplotlib inline"
   ]
  },
  {
   "cell_type": "markdown",
   "metadata": {},
   "source": [
    "# BUILD POTENTIAL\n",
    "\n",
    "Here we define the two states, we want to use during our simulations."
   ]
  },
  {
   "cell_type": "code",
   "execution_count": 5,
   "metadata": {},
   "outputs": [],
   "source": [
    "# Settings\n",
    "barrier = 50 #kT - minimal barrier in system\n",
    "amplitude = barrier/2\n",
    "shift  = np.rad2deg(0.5*np.pi)\n",
    "\n",
    "#System States\n",
    "V1 = pot2D.wavePotential(phase_shift=(shift,shift), multiplicity=(2.0, 2.0), amplitude=(amplitude, amplitude))\n",
    "V2 = pot2D.wavePotential(phase_shift=(0.0, 0.0), multiplicity=(2.0, 2.0), amplitude=(amplitude, amplitude))\n",
    "\n"
   ]
  },
  {
   "cell_type": "code",
   "execution_count": 6,
   "metadata": {},
   "outputs": [
    {
     "name": "stdout",
     "output_type": "stream",
     "text": [
      "180 180\n"
     ]
    },
    {
     "ename": "ValueError",
     "evalue": "not enough values to unpack (expected 3, got 2)",
     "output_type": "error",
     "traceback": [
      "\u001B[1;31m---------------------------------------------------------------------------\u001B[0m",
      "\u001B[1;31mValueError\u001B[0m                                Traceback (most recent call last)",
      "\u001B[1;32m<ipython-input-6-efa39048a257>\u001B[0m in \u001B[0;36m<module>\u001B[1;34m\u001B[0m\n\u001B[0;32m      1\u001B[0m \u001B[1;31m#Visualisation\u001B[0m\u001B[1;33m\u001B[0m\u001B[1;33m\u001B[0m\u001B[1;33m\u001B[0m\u001B[0m\n\u001B[1;32m----> 2\u001B[1;33m \u001B[0mfig\u001B[0m \u001B[1;33m=\u001B[0m \u001B[0mexPlot\u001B[0m\u001B[1;33m.\u001B[0m\u001B[0mplot_2D_2states\u001B[0m\u001B[1;33m(\u001B[0m\u001B[0mV1\u001B[0m\u001B[1;33m,\u001B[0m \u001B[0mV2\u001B[0m\u001B[1;33m,\u001B[0m \u001B[0mspace_range\u001B[0m\u001B[1;33m=\u001B[0m\u001B[1;33m[\u001B[0m\u001B[1;33m(\u001B[0m\u001B[1;33m-\u001B[0m\u001B[1;36m180\u001B[0m\u001B[1;33m,\u001B[0m\u001B[1;36m180\u001B[0m\u001B[1;33m)\u001B[0m\u001B[1;33m,\u001B[0m \u001B[1;33m(\u001B[0m\u001B[1;33m-\u001B[0m\u001B[1;36m180\u001B[0m\u001B[1;33m,\u001B[0m\u001B[1;36m180\u001B[0m\u001B[1;33m)\u001B[0m\u001B[1;33m]\u001B[0m\u001B[1;33m,\u001B[0m \u001B[0mpoint_resolution\u001B[0m\u001B[1;33m=\u001B[0m\u001B[0mpoint_resolution\u001B[0m\u001B[1;33m)\u001B[0m\u001B[1;33m\u001B[0m\u001B[1;33m\u001B[0m\u001B[0m\n\u001B[0m\u001B[0;32m      3\u001B[0m \u001B[0mfig\u001B[0m\u001B[1;33m.\u001B[0m\u001B[0mshow\u001B[0m\u001B[1;33m(\u001B[0m\u001B[1;33m)\u001B[0m\u001B[1;33m\u001B[0m\u001B[1;33m\u001B[0m\u001B[0m\n\u001B[0;32m      4\u001B[0m \u001B[1;33m\u001B[0m\u001B[0m\n\u001B[0;32m      5\u001B[0m \u001B[1;33m\u001B[0m\u001B[0m\n",
      "\u001B[1;32m~\\OneDrive - ETH Zürich\\PhD\\Code\\ensembler_public\\ensembler\\visualisation\\plotPotentials.py\u001B[0m in \u001B[0;36mplot_2D_2states\u001B[1;34m(V1, V2, space_range, point_resolution)\u001B[0m\n\u001B[0;32m    601\u001B[0m     _, _ , surf1 = plot_2D_potential_V(V1, ax=axes[0], title=\"State 1\", x_label=\"$\\phi/[^{\\circ}]$\",\n\u001B[0;32m    602\u001B[0m                                      \u001B[0my_label\u001B[0m\u001B[1;33m=\u001B[0m\u001B[1;34m\"$\\psi/[^{\\circ}]$\"\u001B[0m\u001B[1;33m,\u001B[0m \u001B[0mspace_range\u001B[0m\u001B[1;33m=\u001B[0m\u001B[0mspace_range\u001B[0m\u001B[1;33m,\u001B[0m\u001B[1;33m\u001B[0m\u001B[1;33m\u001B[0m\u001B[0m\n\u001B[1;32m--> 603\u001B[1;33m                                      point_resolution=point_resolution)\n\u001B[0m\u001B[0;32m    604\u001B[0m     _, _, surf2 = plot_2D_potential_V(V2, ax=axes[1], title=\"State 2\", x_label=\"$\\phi/[^{\\circ}]$\",\n\u001B[0;32m    605\u001B[0m                                      \u001B[0my_label\u001B[0m\u001B[1;33m=\u001B[0m\u001B[1;34m\"$\\psi/[^{\\circ}]$\"\u001B[0m\u001B[1;33m,\u001B[0m \u001B[0mspace_range\u001B[0m\u001B[1;33m=\u001B[0m\u001B[0mspace_range\u001B[0m\u001B[1;33m,\u001B[0m\u001B[1;33m\u001B[0m\u001B[1;33m\u001B[0m\u001B[0m\n",
      "\u001B[1;31mValueError\u001B[0m: not enough values to unpack (expected 3, got 2)"
     ]
    },
    {
     "data": {
      "text/plain": "<Figure size 1080x720 with 2 Axes>",
      "image/png": "[encoded data removed]"
     },
     "metadata": {
      "needs_background": "light"
     },
     "output_type": "display_data"
    }
   ],
   "source": [
    "#Visualisation\n",
    "fig = exPlot.plot_2D_2states(V1, V2, space_range=[(-180,180), (-180,180)], point_resolution=point_resolution)\n",
    "fig.show()\n"
   ]
  },
  {
   "cell_type": "markdown",
   "metadata": {},
   "source": [
    "Next we are going to couple them in an EDS potential."
   ]
  },
  {
   "cell_type": "code",
   "execution_count": null,
   "metadata": {
    "tags": []
   },
   "outputs": [],
   "source": [
    "Eoff = [0,0]\n",
    "s= 1.0\n",
    "edsPot = pot2D.envelopedPotential(V_is=[V1, V2], s=s, Eoff_i=Eoff)\n",
    "print(edsPot)\n"
   ]
  },
  {
   "cell_type": "code",
   "execution_count": null,
   "metadata": {},
   "outputs": [],
   "source": [
    "fig = exPlot.plot_2D_2State_EDS_potential(eds_pot=edsPot, point_resolution=point_resolution)\n",
    "fig.show()\n"
   ]
  },
  {
   "cell_type": "code",
   "execution_count": null,
   "metadata": {},
   "outputs": [],
   "source": [
    "In this plot we show, the s dependency."
   ]
  },
  {
   "cell_type": "code",
   "execution_count": null,
   "metadata": {},
   "outputs": [],
   "source": [
    "fig = exPlot.plot_2D_2State_EDS_potential(eds_pot=edsPot, s=0.025, point_resolution=point_resolution)\n",
    "fig.show()"
   ]
  },
  {
   "cell_type": "markdown",
   "metadata": {},
   "source": [
    "# smoothing parameter dependency\n",
    "Next we want to show how  the EDS Potentials are behaving on changing the smoothing parameter s."
   ]
  },
  {
   "cell_type": "code",
   "execution_count": null,
   "metadata": {},
   "outputs": [],
   "source": [
    "s_values = {np.round(s,3):[] for s in np.logspace(1,-3, 10)}\n",
    "fig = exPlot.plot_2D_2State_EDS_potential_sDependency(sVal_traj_Dict=s_values, eds_pot=edsPot, point_resolution=point_resolution)\n",
    "fig.show()\n"
   ]
  },
  {
   "cell_type": "code",
   "execution_count": null,
   "metadata": {},
   "outputs": [],
   "source": []
  }
 ],
 "metadata": {
  "kernelspec": {
   "name": "python37764bitensemblerdevcondaa4593ef55eeb4c19ab962e621795cac3",
   "language": "python",
   "display_name": "Python 3.7.7 64-bit ('EnsemblerDev': conda)"
  },
  "language_info": {
   "codemirror_mode": {
    "name": "ipython",
    "version": 3
   },
   "file_extension": ".py",
   "mimetype": "text/x-python",
   "name": "python",
   "nbconvert_exporter": "python",
   "pygments_lexer": "ipython3",
   "version": "3.7.7-final"
  }
 },
 "nbformat": 4,
 "nbformat_minor": 4
}