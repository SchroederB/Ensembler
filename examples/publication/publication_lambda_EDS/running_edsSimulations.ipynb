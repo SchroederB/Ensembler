{
 "cells": [
  {
   "cell_type": "code",
   "execution_count": 1,
   "metadata": {
    "pycharm": {
     "is_executing": true
    }
   },
   "outputs": [],
   "source": [
    "#enveloping potential\n",
    "# simple Example plot Enveloped Potential with two Harmonic Oscilators\n",
    "##Imports:\n",
    "import os, sys as csys, datetime, tempfile\n",
    "import math, numpy as np, pandas as pd\n",
    "import matplotlib.pyplot as plt\n",
    "\n",
    "from tqdm.notebook import tqdm\n",
    "\n",
    "\n",
    "csys.path.append(os.getcwd()+\"/../../..\")\n",
    "\n",
    "#Ensembler\n",
    "import ensembler.potentials.TwoD as pot2D\n",
    "import ensembler.potentials.TwoD as pot2D\n",
    "\n",
    "from ensembler.samplers.stochastic import metropolisMonteCarloIntegrator\n",
    "from ensembler.conditions.box_conditions import periodicBoundaryCondition\n",
    "from ensembler.system.basic_system import system\n",
    "\n",
    "import ensembler.visualisation.plotPotentials as exPlot\n",
    "\n",
    "plot_resolution= 1200 # lowRes but fast: 120\n",
    "%matplotlib inline"
   ]
  },
  {
   "cell_type": "code",
   "execution_count": 2,
   "metadata": {
    "pycharm": {
     "name": "#%%\n"
    }
   },
   "outputs": [],
   "source": [
    "#ENERGIES Sampling - CURRENTLY NOT USED!\n",
    "def write_out_etraj(traj, out_path, V1, V2):\n",
    "    visited_positions =  np.array(list(map(np.array, traj.position)))\n",
    "    state1 = V1.ene(visited_positions)\n",
    "    state2 = V2.ene(visited_positions)\n",
    "    Vrenergies = np.array(traj.total_potential_energy)\n",
    "\n",
    "    out_file = open(out_path, \"w\")\n",
    "    out_file.write(\"t\\tV1\\tV2\\tVr\\n\")#HEADER\n",
    "    for t, V1, V2, Vr in zip(traj.index, state1, state2, Vrenergies):\n",
    "        out_file.write(str(t)+\"\\t\"+str(V1)+\"\\t\"+str(V2)+\"\\t\"+str(Vr)+\"\\n\")\n",
    "\n",
    "    out_file.close()"
   ]
  },
  {
   "cell_type": "code",
   "execution_count": 3,
   "metadata": {
    "pycharm": {
     "name": "#%%\n"
    }
   },
   "outputs": [],
   "source": [
    "\n",
    "def simulate_replicas(out_dir:str, barrier, opt_s, replicas=10, simulation_steps=1000000):\n",
    "    if(not os.path.exists(out_dir)):\n",
    "        os.mkdir(out_dir)\n",
    "    \n",
    "    start_t = datetime.datetime.now()\n",
    "    #Potentials\n",
    "    amplitude = barrier/2\n",
    "    shift  = np.rad2deg(0.5*math.pi)\n",
    "    Eoff = [0,0]\n",
    "\n",
    "    V1 = pot2D.wavePotential(phase_shift=(shift,shift), multiplicity=(2.0, 2.0), amplitude=(amplitude, amplitude))\n",
    "    V2 = pot2D.wavePotential(phase_shift=(0.0, 0.0), multiplicity=(2.0, 2.0), amplitude=(amplitude, amplitude))\n",
    "    edsPot = pot2D.envelopedPotential(V_is=[V1, V2], s=1.0, eoff=Eoff)\n",
    "    exPlot.plot_2D_2State_EDS_potential(eds_pot=edsPot, out_path = out_dir+\"/SimSpace_\"+str(barrier)+\"kT.png\", point_resolution=plot_resolution)\n",
    "\n",
    "    #Simulation Setup\n",
    "    svals = sorted([10, 1, 0.5, 0.25, 0.1, 0.05, 0.025, 0.01]+[opt_s], reverse=True)\n",
    "    ##Build modules\n",
    "    periodic_bound = periodicBoundaryCondition(boundary=[[-180,180], [-180,180]])\n",
    "    integrator = metropolisMonteCarloIntegrator(fixed_step_size=[1,1], max_iteration_tillAccept=1000) \n",
    "    \n",
    "    ###Build System\n",
    "    sys=system(potential=edsPot, sampler=integrator, conditions=[periodic_bound])\n",
    "    print(sys.nDimensions, edsPot.constants[edsPot.nDimensions])\n",
    "    print(\"svalue sequence - #s=\"+str(len(svals))+\" \", svals)\n",
    "    \n",
    "    ## SIMULATE\n",
    "    start=0\n",
    "    syst = None\n",
    "    for replica in tqdm(range(start, replicas), desc=\"Replicas: \", leave=False):\n",
    "        ##INIT REPLICA\n",
    "        ###fILE hANDLING\n",
    "        replica_out = out_dir+\"/replica_\"+str(replica)\n",
    "        if(not os.path.exists(replica_out)):\n",
    "            os.mkdir(replica_out)\n",
    "\n",
    "        ## SIMULATE REPLICA\n",
    "        start_sim = datetime.datetime.now()\n",
    "        s_val_posDict = {}  #OUT\n",
    "        for s in tqdm(svals, desc=\"Current Simulation of replica \"+str(replica)+\": \", leave=False):\n",
    "            sys.potential.s = s\n",
    "            cur_state = sys.simulate(simulation_steps, withdraw_traj=True, init_system=True)\n",
    "\n",
    "            s_val_posDict.update({s:sys.trajectory})\n",
    "\n",
    "        end_sim = datetime.datetime.now()\n",
    "        duration_sim = end_sim-start_sim\n",
    "\n",
    "        traj = sys.trajectory\n",
    "\n",
    "        #plotting:\n",
    "        print(\"plotting\")\n",
    "        start_plot = datetime.datetime.now()\n",
    "        exPlot.plot_2D_2State_EDS_potential(edsPot, out_path = replica_out+\"/SimSpace_withTraj_\"+str(barrier)+\"kT.png\", traj=traj, point_resolution=plot_resolution)\n",
    "        if(replica == 0):\n",
    "            fig = exPlot.plot_2D_2State_EDS_potential_sDependency(sVal_traj_Dict=s_val_posDict, eds_pot=edsPot, plot_trajs=False, out_path=out_dir+\"/s_dependent_sampling_relBarrier_\"+str(barrier)+\"kT.png\", point_resolution=plot_resolution)\n",
    "        fig = exPlot.plot_2D_2State_EDS_potential_sDependency(sVal_traj_Dict=s_val_posDict, eds_pot=edsPot, plot_trajs=True, out_path=replica_out+\"/s_dependent_sampling_relBarrier_\"+str(barrier)+\"kT_withTraj.png\", point_resolution=plot_resolution)\n",
    "        end_plot = datetime.datetime.now()\n",
    "        duration_plot = end_plot-start_plot\n",
    "\n",
    "        for s in s_val_posDict:\n",
    "            write_out_etraj(traj=s_val_posDict[s], out_path=replica_out+\"/replica_traj_s\"+str(s)+\".dat\", V1=sys.potential.V_is[0], V2=sys.potential.V_is[1])\n",
    "        sys.write_trajectory(replica_out+\"/total_replica_traj.dat\")\n",
    "\n",
    "\n",
    "    del edsPot, sys, traj \n",
    "    \n",
    "    end_t = datetime.datetime.now()\n",
    "    duration = end_t-start_t\n",
    "    print(\"Done - duration: \", duration)\n",
    "    print(\"Done - simulation duration: \", duration_sim)\n",
    "    print(\"Done - plotting duration: \", duration_plot)\n",
    "\n"
   ]
  },
  {
   "cell_type": "code",
   "execution_count": 4,
   "metadata": {
    "pycharm": {
     "name": "#%%\n"
    },
    "tags": []
   },
   "outputs": [
    {
     "name": "stdout",
     "output_type": "stream",
     "text": [
      "C:\\Users\\benja\\AppData\\Local\\Temp/edsSim\n"
     ]
    },
    {
     "data": {
      "application/vnd.jupyter.widget-view+json": {
       "model_id": "cea4d60beb9a4ff3b698838ab6e7d498",
       "version_major": 2,
       "version_minor": 0
      },
      "text/plain": [
       "HBox(children=(FloatProgress(value=0.0, description='Barrier approaches: ', max=5.0, style=ProgressStyle(descr…"
      ]
     },
     "metadata": {},
     "output_type": "display_data"
    },
    {
     "name": "stdout",
     "output_type": "stream",
     "text": [
      "-3.141592653589793 3.141592653589793 -3.141592653589793 3.141592653589793\n",
      "2 2\n",
      "svalue sequence - #s=9  [10, 1, 0.5, 0.25, 0.122, 0.1, 0.05, 0.025, 0.01]\n"
     ]
    },
    {
     "data": {
      "application/vnd.jupyter.widget-view+json": {
       "model_id": "",
       "version_major": 2,
       "version_minor": 0
      },
      "text/plain": [
       "HBox(children=(FloatProgress(value=0.0, description='Replicas: ', max=1.0, style=ProgressStyle(description_wid…"
      ]
     },
     "metadata": {},
     "output_type": "display_data"
    },
    {
     "data": {
      "application/vnd.jupyter.widget-view+json": {
       "model_id": "",
       "version_major": 2,
       "version_minor": 0
      },
      "text/plain": [
       "HBox(children=(FloatProgress(value=0.0, description='Current Simulation of replica 0: ', max=9.0, style=Progre…"
      ]
     },
     "metadata": {},
     "output_type": "display_data"
    },
    {
     "name": "stderr",
     "output_type": "stream",
     "text": [
      "Simulation:  Simulation: 100%|██████████| 100/100 [00:02<00:00, 45.82it/s]\n",
      "Simulation:  Simulation: 100%|██████████| 100/100 [00:03<00:00, 32.88it/s]\n",
      "Simulation:  Simulation: 100%|██████████| 100/100 [00:02<00:00, 37.30it/s]\n",
      "Simulation:  Simulation: 100%|██████████| 100/100 [00:03<00:00, 32.12it/s]\n",
      "Simulation:  Simulation: 100%|██████████| 100/100 [00:02<00:00, 48.90it/s]\n",
      "Simulation:  Simulation: 100%|██████████| 100/100 [00:02<00:00, 42.84it/s]\n",
      "Simulation:  Simulation: 100%|██████████| 100/100 [00:02<00:00, 49.63it/s]\n",
      "Simulation:  Simulation: 100%|██████████| 100/100 [00:02<00:00, 45.30it/s]\n",
      "Simulation:  Simulation: 100%|██████████| 100/100 [00:02<00:00, 45.98it/s]\n"
     ]
    },
    {
     "name": "stdout",
     "output_type": "stream",
     "text": [
      "plotting\n",
      "-3.141592653589793 3.141592653589793 -3.141592653589793 3.141592653589793\n",
      "Done - duration:  0:01:25.135253\n",
      "Done - simulation duration:  0:00:23.993810\n",
      "Done - plotting duration:  0:00:52.306686\n",
      "-3.141592653589793 3.141592653589793 -3.141592653589793 3.141592653589793\n",
      "2 2\n",
      "svalue sequence - #s=9  [10, 1, 0.5, 0.25, 0.1, 0.061, 0.05, 0.025, 0.01]\n"
     ]
    },
    {
     "data": {
      "application/vnd.jupyter.widget-view+json": {
       "model_id": "",
       "version_major": 2,
       "version_minor": 0
      },
      "text/plain": [
       "HBox(children=(FloatProgress(value=0.0, description='Replicas: ', max=1.0, style=ProgressStyle(description_wid…"
      ]
     },
     "metadata": {},
     "output_type": "display_data"
    },
    {
     "data": {
      "application/vnd.jupyter.widget-view+json": {
       "model_id": "",
       "version_major": 2,
       "version_minor": 0
      },
      "text/plain": [
       "HBox(children=(FloatProgress(value=0.0, description='Current Simulation of replica 0: ', max=9.0, style=Progre…"
      ]
     },
     "metadata": {},
     "output_type": "display_data"
    },
    {
     "name": "stderr",
     "output_type": "stream",
     "text": [
      "Simulation:  Simulation: 100%|██████████| 100/100 [00:02<00:00, 46.45it/s]\n",
      "Simulation:  Simulation: 100%|██████████| 100/100 [00:02<00:00, 43.00it/s]\n",
      "Simulation:  Simulation: 100%|██████████| 100/100 [00:02<00:00, 45.06it/s]\n",
      "Simulation:  Simulation: 100%|██████████| 100/100 [00:02<00:00, 41.88it/s]\n",
      "Simulation:  Simulation: 100%|██████████| 100/100 [00:02<00:00, 43.29it/s]\n",
      "Simulation:  Simulation: 100%|██████████| 100/100 [00:02<00:00, 36.13it/s]\n",
      "Simulation:  Simulation: 100%|██████████| 100/100 [00:01<00:00, 83.89it/s]\n",
      "Simulation:  Simulation: 100%|██████████| 100/100 [00:01<00:00, 71.14it/s]\n",
      "Simulation:  Simulation: 100%|██████████| 100/100 [00:01<00:00, 90.29it/s]\n"
     ]
    },
    {
     "name": "stdout",
     "output_type": "stream",
     "text": [
      "plotting\n",
      "-3.141592653589793 3.141592653589793 -3.141592653589793 3.141592653589793\n",
      "Done - duration:  0:01:10.719284\n",
      "Done - simulation duration:  0:00:20.005430\n",
      "Done - plotting duration:  0:00:41.825862\n",
      "-3.141592653589793 3.141592653589793 -3.141592653589793 3.141592653589793\n",
      "2 2\n",
      "svalue sequence - #s=9  [10, 1, 0.5, 0.25, 0.1, 0.05, 0.03, 0.025, 0.01]\n"
     ]
    },
    {
     "data": {
      "application/vnd.jupyter.widget-view+json": {
       "model_id": "",
       "version_major": 2,
       "version_minor": 0
      },
      "text/plain": [
       "HBox(children=(FloatProgress(value=0.0, description='Replicas: ', max=1.0, style=ProgressStyle(description_wid…"
      ]
     },
     "metadata": {},
     "output_type": "display_data"
    },
    {
     "data": {
      "application/vnd.jupyter.widget-view+json": {
       "model_id": "",
       "version_major": 2,
       "version_minor": 0
      },
      "text/plain": [
       "HBox(children=(FloatProgress(value=0.0, description='Current Simulation of replica 0: ', max=9.0, style=Progre…"
      ]
     },
     "metadata": {},
     "output_type": "display_data"
    },
    {
     "name": "stderr",
     "output_type": "stream",
     "text": [
      "Simulation:  Simulation: 100%|██████████| 100/100 [00:03<00:00, 30.41it/s]\n",
      "Simulation:  Simulation: 100%|██████████| 100/100 [00:03<00:00, 31.97it/s]\n",
      "Simulation:  Simulation: 100%|██████████| 100/100 [00:02<00:00, 45.15it/s]\n",
      "Simulation:  Simulation: 100%|██████████| 100/100 [00:02<00:00, 38.46it/s]\n",
      "Simulation:  Simulation: 100%|██████████| 100/100 [00:04<00:00, 22.19it/s]\n",
      "Simulation:  Simulation: 100%|██████████| 100/100 [00:03<00:00, 31.08it/s]\n",
      "Simulation:  Simulation: 100%|██████████| 100/100 [00:02<00:00, 40.58it/s]\n",
      "Simulation:  Simulation: 100%|██████████| 100/100 [00:03<00:00, 30.76it/s]\n",
      "Simulation:  Simulation: 100%|██████████| 100/100 [00:03<00:00, 30.08it/s]\n"
     ]
    },
    {
     "name": "stdout",
     "output_type": "stream",
     "text": [
      "plotting\n",
      "-3.141592653589793 3.141592653589793 -3.141592653589793 3.141592653589793\n",
      "Done - duration:  0:01:17.760188\n",
      "Done - simulation duration:  0:00:29.424248\n",
      "Done - plotting duration:  0:00:41.678395\n",
      "-3.141592653589793 3.141592653589793 -3.141592653589793 3.141592653589793\n",
      "2 2\n",
      "svalue sequence - #s=9  [10, 1, 0.5, 0.25, 0.1, 0.05, 0.03, 0.025, 0.01]\n"
     ]
    },
    {
     "data": {
      "application/vnd.jupyter.widget-view+json": {
       "model_id": "",
       "version_major": 2,
       "version_minor": 0
      },
      "text/plain": [
       "HBox(children=(FloatProgress(value=0.0, description='Replicas: ', max=1.0, style=ProgressStyle(description_wid…"
      ]
     },
     "metadata": {},
     "output_type": "display_data"
    },
    {
     "data": {
      "application/vnd.jupyter.widget-view+json": {
       "model_id": "",
       "version_major": 2,
       "version_minor": 0
      },
      "text/plain": [
       "HBox(children=(FloatProgress(value=0.0, description='Current Simulation of replica 0: ', max=9.0, style=Progre…"
      ]
     },
     "metadata": {},
     "output_type": "display_data"
    },
    {
     "name": "stderr",
     "output_type": "stream",
     "text": [
      "Simulation:  Simulation: 100%|██████████| 100/100 [00:03<00:00, 32.29it/s]\n",
      "Simulation:  Simulation: 100%|██████████| 100/100 [00:02<00:00, 35.98it/s]\n",
      "Simulation:  Simulation: 100%|██████████| 100/100 [00:00<00:00, 109.57it/s]\n",
      "Simulation:  Simulation: 100%|██████████| 100/100 [00:04<00:00, 22.99it/s]\n",
      "Simulation:  Simulation: 100%|██████████| 100/100 [00:01<00:00, 62.65it/s]\n",
      "Simulation:  Simulation: 100%|██████████| 100/100 [00:01<00:00, 95.88it/s]\n",
      "Simulation:  Simulation: 100%|██████████| 100/100 [00:02<00:00, 40.50it/s]\n",
      "Simulation:  Simulation: 100%|██████████| 100/100 [00:05<00:00, 17.23it/s]\n",
      "Simulation:  Simulation: 100%|██████████| 100/100 [00:03<00:00, 25.94it/s]\n"
     ]
    },
    {
     "name": "stdout",
     "output_type": "stream",
     "text": [
      "plotting\n",
      "-3.141592653589793 3.141592653589793 -3.141592653589793 3.141592653589793\n",
      "Done - duration:  0:01:21.658285\n",
      "Done - simulation duration:  0:00:26.859624\n",
      "Done - plotting duration:  0:00:50.659989\n",
      "-3.141592653589793 3.141592653589793 -3.141592653589793 3.141592653589793\n",
      "2 2\n",
      "svalue sequence - #s=9  [10, 1, 0.5, 0.25, 0.1, 0.05, 0.025, 0.01, 0.006]\n"
     ]
    },
    {
     "data": {
      "application/vnd.jupyter.widget-view+json": {
       "model_id": "",
       "version_major": 2,
       "version_minor": 0
      },
      "text/plain": [
       "HBox(children=(FloatProgress(value=0.0, description='Replicas: ', max=1.0, style=ProgressStyle(description_wid…"
      ]
     },
     "metadata": {},
     "output_type": "display_data"
    },
    {
     "data": {
      "application/vnd.jupyter.widget-view+json": {
       "model_id": "",
       "version_major": 2,
       "version_minor": 0
      },
      "text/plain": [
       "HBox(children=(FloatProgress(value=0.0, description='Current Simulation of replica 0: ', max=9.0, style=Progre…"
      ]
     },
     "metadata": {},
     "output_type": "display_data"
    },
    {
     "name": "stderr",
     "output_type": "stream",
     "text": [
      "Simulation:  Simulation: 100%|██████████| 100/100 [00:34<00:00,  2.88it/s]\n",
      "Simulation:  Simulation: 100%|██████████| 100/100 [00:22<00:00,  4.40it/s]\n",
      "Simulation:  Simulation: 100%|██████████| 100/100 [00:29<00:00,  3.41it/s]\n",
      "Simulation:  Simulation: 100%|██████████| 100/100 [00:28<00:00,  3.50it/s]\n",
      "Simulation:  Simulation: 100%|██████████| 100/100 [00:07<00:00, 14.10it/s]\n",
      "Simulation:  Simulation: 100%|██████████| 100/100 [00:11<00:00,  8.50it/s]\n",
      "Simulation:  Simulation: 100%|██████████| 100/100 [00:49<00:00,  2.01it/s]\n",
      "Simulation:  Simulation: 100%|██████████| 100/100 [00:16<00:00,  5.95it/s]\n",
      "Simulation:  Simulation: 100%|██████████| 100/100 [00:18<00:00,  5.37it/s]\n"
     ]
    },
    {
     "name": "stdout",
     "output_type": "stream",
     "text": [
      "plotting\n",
      "-3.141592653589793 3.141592653589793 -3.141592653589793 3.141592653589793\n",
      "Done - duration:  0:04:38.919436\n",
      "Done - simulation duration:  0:03:41.077242\n",
      "Done - plotting duration:  0:00:50.099964\n",
      "\n"
     ]
    }
   ],
   "source": [
    "#run multiple replicas\n",
    "tmp_dir = tempfile.gettempdir()+\"/edsSim\"\n",
    "if(not os.path.exists(tmp_dir)):\n",
    "    os.mkdir(tmp_dir)\n",
    "os.chdir(tmp_dir)\n",
    "\n",
    "print(tmp_dir)\n",
    "\n",
    "\n",
    "#BUILD Potential:\n",
    "#params:\n",
    "replicas = 1#0\n",
    "\n",
    "##STEPS\n",
    "each_sim = 100#00000 #each s value and each replica\n",
    "\n",
    "#s_est = 0.609/Delta U_barrier\n",
    "optimal_ses = {2.5: 0.122,\n",
    "               5: 0.061,\n",
    "               10: 0.03,\n",
    "               20: 0.03, #0.015\n",
    "               50: 0.006}\n",
    "\n",
    "\n",
    "for barrier in tqdm(optimal_ses, desc=\"Barrier approaches: \"):\n",
    "    approach_dir = tmp_dir+\"/independent_simulations_with_\"+str(barrier)+\"kT_barriers\"\n",
    "    simulate_replicas(out_dir=approach_dir, barrier=barrier, opt_s=optimal_ses[barrier], replicas=replicas, simulation_steps=each_sim)\n",
    "\n"
   ]
  },
  {
   "cell_type": "code",
   "execution_count": 5,
   "metadata": {},
   "outputs": [
    {
     "data": {
      "text/plain": [
       "'C:\\\\Users\\\\benja\\\\AppData\\\\Local\\\\Temp/edsSim/independent_simulations_with_50kT_barriers'"
      ]
     },
     "execution_count": 5,
     "metadata": {},
     "output_type": "execute_result"
    }
   ],
   "source": [
    "approach_dir"
   ]
  },
  {
   "cell_type": "code",
   "execution_count": null,
   "metadata": {},
   "outputs": [],
   "source": []
  },
  {
   "cell_type": "code",
   "execution_count": null,
   "metadata": {},
   "outputs": [],
   "source": []
  }
 ],
 "metadata": {
  "kernelspec": {
   "display_name": "Python 3.7.7 64-bit ('EnsemblerDev': conda)",
   "language": "python",
   "name": "python37764bitensemblerdevcondaa4593ef55eeb4c19ab962e621795cac3"
  },
  "language_info": {
   "codemirror_mode": {
    "name": "ipython",
    "version": 3
   },
   "file_extension": ".py",
   "mimetype": "text/x-python",
   "name": "python",
   "nbconvert_exporter": "python",
   "pygments_lexer": "ipython3",
   "version": "3.7.7"
  }
 },
 "nbformat": 4,
 "nbformat_minor": 4
}
