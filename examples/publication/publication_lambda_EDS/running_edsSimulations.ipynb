{
 "cells": [
  {
   "cell_type": "code",
   "execution_count": 1,
   "metadata": {
    "pycharm": {
     "is_executing": true
    }
   },
   "outputs": [],
   "source": [
    "#enveloping potential\n",
    "# simple Example plot Enveloped Potential with two Harmonic Oscilators\n",
    "##Imports:\n",
    "import os, sys as csys, datetime, tempfile\n",
    "import math, numpy as np, pandas as pd\n",
    "import matplotlib.pyplot as plt\n",
    "\n",
    "from tqdm import tqdm_notebook as tqdm\n",
    "\n",
    "\n",
    "csys.path.append(os.getcwd()+\"/../../..\")\n",
    "\n",
    "#Ensembler\n",
    "import ensembler.potentials.TwoD as pot2D\n",
    "\n",
    "from ensembler.integrator.stochastic import metropolisMonteCarloIntegrator\n",
    "from ensembler.conditions.periodicBoundaryCondition import periodicBoundaryCondition\n",
    "from ensembler.system.basic_system import system\n",
    "\n",
    "import ensembler.visualisation.plotPotentials as exPlot\n",
    "\n",
    "plot_resolution= 1200 # lowRes but fast: 120\n",
    "%matplotlib inline"
   ]
  },
  {
   "cell_type": "code",
   "execution_count": 2,
   "metadata": {
    "pycharm": {
     "name": "#%%\n"
    }
   },
   "outputs": [],
   "source": [
    "#ENERGIES Sampling - CURRENTLY NOT USED!\n",
    "def write_out_etraj(traj, out_path, V1, V2):\n",
    "    visited_positions =  np.array(list(map(np.array, traj.position)))\n",
    "    state1 = V1.ene(visited_positions)\n",
    "    state2 = V2.ene(visited_positions)\n",
    "    Vrenergies = np.array(traj.totPotEnergy)\n",
    "\n",
    "    out_file = open(out_path, \"w\")\n",
    "    out_file.write(\"t\\tV1\\tV2\\tVr\\n\")#HEADER\n",
    "    for t, V1, V2, Vr in zip(traj.index, state1, state2, Vrenergies):\n",
    "        out_file.write(str(t)+\"\\t\"+str(V1)+\"\\t\"+str(V2)+\"\\t\"+str(Vr)+\"\\n\")\n",
    "\n",
    "    out_file.close()"
   ]
  },
  {
   "cell_type": "code",
   "execution_count": 3,
   "metadata": {
    "pycharm": {
     "name": "#%%\n"
    }
   },
   "outputs": [],
   "source": [
    "\n",
    "def simulate_replicas(out_dir:str, barrier, opt_s, replicas=10, simulation_steps=1000000):\n",
    "    if(not os.path.exists(out_dir)):\n",
    "        os.mkdir(out_dir)\n",
    "    \n",
    "    start_t = datetime.datetime.now()\n",
    "    #Potentials\n",
    "    amplitude = barrier/2\n",
    "    shift  = np.rad2deg(0.5*math.pi)\n",
    "    Eoff = [0,0]\n",
    "\n",
    "    V1 = pot2D.wavePotential(phase_shift=(shift,shift), multiplicity=(2.0, 2.0), amplitude=(amplitude, amplitude))\n",
    "    V2 = pot2D.wavePotential(phase_shift=(0.0, 0.0), multiplicity=(2.0, 2.0), amplitude=(amplitude, amplitude))\n",
    "    edsPot = pot2D.envelopedPotential(V_is=[V1, V2], s=1.0, Eoff_i=Eoff)\n",
    "    exPlot.plot_2D_2State_EDS_potential(eds_pot=edsPot, out_path = out_dir+\"/SimSpace_\"+str(barrier)+\"kT.png\", point_resolution=plot_resolution)\n",
    "\n",
    "    #Simulation Setup\n",
    "    svals = sorted([10, 1, 0.5, 0.25, 0.1, 0.05, 0.025, 0.01]+[opt_s], reverse=True)\n",
    "    ##Build modules\n",
    "    periodic_bound = periodicBoundaryCondition(boundary=[[-180,180], [-180,180]])\n",
    "    integrator = metropolisMonteCarloIntegrator(fixedStepSize=[1,1]) \n",
    "    \n",
    "    ###Build System\n",
    "    sys=system(potential=edsPot, integrator=integrator, conditions=[periodic_bound])\n",
    "    print(sys.nDim, edsPot.nDim)\n",
    "    print(\"svalue sequence - #s=\"+str(len(svals))+\" \", svals)\n",
    "    \n",
    "    ## SIMULATE\n",
    "    start=0\n",
    "    syst = None\n",
    "    for replica in tqdm(range(start, replicas), desc=\"Replicas: \", leave=False):\n",
    "        ##INIT REPLICA\n",
    "        ###fILE hANDLING\n",
    "        replica_out = out_dir+\"/replica_\"+str(replica)\n",
    "        if(not os.path.exists(replica_out)):\n",
    "            os.mkdir(replica_out)\n",
    "\n",
    "        ## SIMULATE REPLICA\n",
    "        start_sim = datetime.datetime.now()\n",
    "        s_val_posDict = {}  #OUT\n",
    "        for s in tqdm(svals, desc=\"Current Simulation of replica \"+str(replica)+\": \", leave=False):\n",
    "            sys.potential.s = s\n",
    "            cur_state = sys.simulate(simulation_steps, withdrawTraj=True, initSystem=True)\n",
    "\n",
    "            s_val_posDict.update({s:sys.getTrajectory()})\n",
    "\n",
    "        end_sim = datetime.datetime.now()\n",
    "        duration_sim = end_sim-start_sim\n",
    "\n",
    "        traj = sys.getTrajectory()\n",
    "\n",
    "        #plotting:\n",
    "        print(\"plotting\")\n",
    "        start_plot = datetime.datetime.now()\n",
    "        exPlot.plot_2D_2State_EDS_potential(edsPot, out_path = replica_out+\"/SimSpace_withTraj_\"+str(barrier)+\"kT.png\", traj=traj, point_resolution=plot_resolution)\n",
    "        if(replica == 0):\n",
    "            fig = exPlot.plot_2D_2State_EDS_potential_sDependency(sVal_traj_Dict=s_val_posDict, eds_pot=edsPot, plot_trajs=False, out_path=out_dir+\"/s_dependent_sampling_relBarrier_\"+str(barrier)+\"kT.png\", point_resolution=plot_resolution)\n",
    "        fig = exPlot.plot_2D_2State_EDS_potential_sDependency(sVal_traj_Dict=s_val_posDict, eds_pot=edsPot, plot_trajs=True, out_path=replica_out+\"/s_dependent_sampling_relBarrier_\"+str(barrier)+\"kT_withTraj.png\", point_resolution=plot_resolution)\n",
    "        end_plot = datetime.datetime.now()\n",
    "        duration_plot = end_plot-start_plot\n",
    "\n",
    "        for s in s_val_posDict:\n",
    "            write_out_etraj(traj=s_val_posDict[s], out_path=replica_out+\"/replica_traj_s\"+str(s)+\".dat\", V1=sys.potential.V_is[0], V2=sys.potential.V_is[1])\n",
    "        sys.writeTrajectory(replica_out+\"/total_replica_traj.dat\")\n",
    "\n",
    "\n",
    "    del edsPot, sys, traj \n",
    "    \n",
    "    end_t = datetime.datetime.now()\n",
    "    duration = end_t-start_t\n",
    "    print(\"Done - duration: \", duration)\n",
    "    print(\"Done - simulation duration: \", duration_sim)\n",
    "    print(\"Done - plotting duration: \", duration_plot)\n",
    "\n"
   ]
  },
  {
   "cell_type": "code",
   "execution_count": 4,
   "metadata": {
    "pycharm": {
     "name": "#%%\n"
    },
    "tags": []
   },
   "outputs": [
    {
     "output_type": "stream",
     "name": "stderr",
     "text": "Barrier approaches:   0%|          | 0/5 [00:00<?, ?it/s]C:\\Users\\benja\\AppData\\Local\\Temp/edsSim\nBarrier approaches:   0%|          | 0/5 [00:11<?, ?it/s]\n"
    },
    {
     "output_type": "error",
     "ename": "KeyboardInterrupt",
     "evalue": "",
     "traceback": [
      "\u001b[1;31m---------------------------------------------------------------------------\u001b[0m",
      "\u001b[1;31mKeyboardInterrupt\u001b[0m                         Traceback (most recent call last)",
      "\u001b[1;32m<ipython-input-4-5fe8cd5ec3cf>\u001b[0m in \u001b[0;36m<module>\u001b[1;34m\u001b[0m\n\u001b[0;32m     25\u001b[0m \u001b[1;32mfor\u001b[0m \u001b[0mbarrier\u001b[0m \u001b[1;32min\u001b[0m \u001b[0mtqdm\u001b[0m\u001b[1;33m(\u001b[0m\u001b[0moptimal_ses\u001b[0m\u001b[1;33m,\u001b[0m \u001b[0mdesc\u001b[0m\u001b[1;33m=\u001b[0m\u001b[1;34m\"Barrier approaches: \"\u001b[0m\u001b[1;33m)\u001b[0m\u001b[1;33m:\u001b[0m\u001b[1;33m\u001b[0m\u001b[1;33m\u001b[0m\u001b[0m\n\u001b[0;32m     26\u001b[0m     \u001b[0mapproach_dir\u001b[0m \u001b[1;33m=\u001b[0m \u001b[0mtmp_dir\u001b[0m\u001b[1;33m+\u001b[0m\u001b[1;34m\"/independent_simulations_with_\"\u001b[0m\u001b[1;33m+\u001b[0m\u001b[0mstr\u001b[0m\u001b[1;33m(\u001b[0m\u001b[0mbarrier\u001b[0m\u001b[1;33m)\u001b[0m\u001b[1;33m+\u001b[0m\u001b[1;34m\"kT_barriers\"\u001b[0m\u001b[1;33m\u001b[0m\u001b[1;33m\u001b[0m\u001b[0m\n\u001b[1;32m---> 27\u001b[1;33m     \u001b[0msimulate_replicas\u001b[0m\u001b[1;33m(\u001b[0m\u001b[0mout_dir\u001b[0m\u001b[1;33m=\u001b[0m\u001b[0mapproach_dir\u001b[0m\u001b[1;33m,\u001b[0m \u001b[0mbarrier\u001b[0m\u001b[1;33m=\u001b[0m\u001b[0mbarrier\u001b[0m\u001b[1;33m,\u001b[0m \u001b[0mopt_s\u001b[0m\u001b[1;33m=\u001b[0m\u001b[0moptimal_ses\u001b[0m\u001b[1;33m[\u001b[0m\u001b[0mbarrier\u001b[0m\u001b[1;33m]\u001b[0m\u001b[1;33m,\u001b[0m \u001b[0mreplicas\u001b[0m\u001b[1;33m=\u001b[0m\u001b[0mreplicas\u001b[0m\u001b[1;33m,\u001b[0m \u001b[0msimulation_steps\u001b[0m\u001b[1;33m=\u001b[0m\u001b[0meach_sim\u001b[0m\u001b[1;33m)\u001b[0m\u001b[1;33m\u001b[0m\u001b[1;33m\u001b[0m\u001b[0m\n\u001b[0m\u001b[0;32m     28\u001b[0m \u001b[1;33m\u001b[0m\u001b[0m\n",
      "\u001b[1;32m<ipython-input-3-e34fb2355ff9>\u001b[0m in \u001b[0;36msimulate_replicas\u001b[1;34m(out_dir, barrier, opt_s, replicas, simulation_steps)\u001b[0m\n\u001b[0;32m     12\u001b[0m     \u001b[0mV2\u001b[0m \u001b[1;33m=\u001b[0m \u001b[0mpot2D\u001b[0m\u001b[1;33m.\u001b[0m\u001b[0mwavePotential\u001b[0m\u001b[1;33m(\u001b[0m\u001b[0mphase_shift\u001b[0m\u001b[1;33m=\u001b[0m\u001b[1;33m(\u001b[0m\u001b[1;36m0.0\u001b[0m\u001b[1;33m,\u001b[0m \u001b[1;36m0.0\u001b[0m\u001b[1;33m)\u001b[0m\u001b[1;33m,\u001b[0m \u001b[0mmultiplicity\u001b[0m\u001b[1;33m=\u001b[0m\u001b[1;33m(\u001b[0m\u001b[1;36m2.0\u001b[0m\u001b[1;33m,\u001b[0m \u001b[1;36m2.0\u001b[0m\u001b[1;33m)\u001b[0m\u001b[1;33m,\u001b[0m \u001b[0mamplitude\u001b[0m\u001b[1;33m=\u001b[0m\u001b[1;33m(\u001b[0m\u001b[0mamplitude\u001b[0m\u001b[1;33m,\u001b[0m \u001b[0mamplitude\u001b[0m\u001b[1;33m)\u001b[0m\u001b[1;33m)\u001b[0m\u001b[1;33m\u001b[0m\u001b[1;33m\u001b[0m\u001b[0m\n\u001b[0;32m     13\u001b[0m     \u001b[0medsPot\u001b[0m \u001b[1;33m=\u001b[0m \u001b[0mpot2D\u001b[0m\u001b[1;33m.\u001b[0m\u001b[0menvelopedPotential\u001b[0m\u001b[1;33m(\u001b[0m\u001b[0mV_is\u001b[0m\u001b[1;33m=\u001b[0m\u001b[1;33m[\u001b[0m\u001b[0mV1\u001b[0m\u001b[1;33m,\u001b[0m \u001b[0mV2\u001b[0m\u001b[1;33m]\u001b[0m\u001b[1;33m,\u001b[0m \u001b[0ms\u001b[0m\u001b[1;33m=\u001b[0m\u001b[1;36m1.0\u001b[0m\u001b[1;33m,\u001b[0m \u001b[0mEoff_i\u001b[0m\u001b[1;33m=\u001b[0m\u001b[0mEoff\u001b[0m\u001b[1;33m)\u001b[0m\u001b[1;33m\u001b[0m\u001b[1;33m\u001b[0m\u001b[0m\n\u001b[1;32m---> 14\u001b[1;33m     \u001b[0mexPlot\u001b[0m\u001b[1;33m.\u001b[0m\u001b[0mplot_2D_2State_EDS_potential\u001b[0m\u001b[1;33m(\u001b[0m\u001b[0meds_pot\u001b[0m\u001b[1;33m=\u001b[0m\u001b[0medsPot\u001b[0m\u001b[1;33m,\u001b[0m \u001b[0mout_path\u001b[0m \u001b[1;33m=\u001b[0m \u001b[0mout_dir\u001b[0m\u001b[1;33m+\u001b[0m\u001b[1;34m\"/SimSpace_\"\u001b[0m\u001b[1;33m+\u001b[0m\u001b[0mstr\u001b[0m\u001b[1;33m(\u001b[0m\u001b[0mbarrier\u001b[0m\u001b[1;33m)\u001b[0m\u001b[1;33m+\u001b[0m\u001b[1;34m\"kT.png\"\u001b[0m\u001b[1;33m,\u001b[0m \u001b[0mpoint_resolution\u001b[0m\u001b[1;33m=\u001b[0m\u001b[0mplot_resolution\u001b[0m\u001b[1;33m)\u001b[0m\u001b[1;33m\u001b[0m\u001b[1;33m\u001b[0m\u001b[0m\n\u001b[0m\u001b[0;32m     15\u001b[0m \u001b[1;33m\u001b[0m\u001b[0m\n\u001b[0;32m     16\u001b[0m     \u001b[1;31m#Simulation Setup\u001b[0m\u001b[1;33m\u001b[0m\u001b[1;33m\u001b[0m\u001b[1;33m\u001b[0m\u001b[0m\n",
      "\u001b[1;32mc:\\Users\\benja\\OneDrive - ETH Zürich\\PhD\\Code\\ensembler_public\\examples\\publication\\publication_lambda_EDS/../../..\\ensembler\\visualisation\\plotPotentials.py\u001b[0m in \u001b[0;36mplot_2D_2State_EDS_potential\u001b[1;34m(eds_pot, out_path, traj, s, positions2D, space_range, point_resolution, x_label, y_label, verbose)\u001b[0m\n\u001b[0;32m    577\u001b[0m     \u001b[0menergies1\u001b[0m \u001b[1;33m=\u001b[0m \u001b[0mV1\u001b[0m\u001b[1;33m.\u001b[0m\u001b[0mene\u001b[0m\u001b[1;33m(\u001b[0m\u001b[0mpositions2D\u001b[0m\u001b[1;33m)\u001b[0m\u001b[1;33m\u001b[0m\u001b[1;33m\u001b[0m\u001b[0m\n\u001b[0;32m    578\u001b[0m     \u001b[0menergies2\u001b[0m \u001b[1;33m=\u001b[0m \u001b[0mV2\u001b[0m\u001b[1;33m.\u001b[0m\u001b[0mene\u001b[0m\u001b[1;33m(\u001b[0m\u001b[0mpositions2D\u001b[0m\u001b[1;33m)\u001b[0m\u001b[1;33m\u001b[0m\u001b[1;33m\u001b[0m\u001b[0m\n\u001b[1;32m--> 579\u001b[1;33m     \u001b[0menergiesEds\u001b[0m \u001b[1;33m=\u001b[0m \u001b[0meds_pot\u001b[0m\u001b[1;33m.\u001b[0m\u001b[0mene\u001b[0m\u001b[1;33m(\u001b[0m\u001b[0mpositions2D\u001b[0m\u001b[1;33m)\u001b[0m\u001b[1;33m\u001b[0m\u001b[1;33m\u001b[0m\u001b[0m\n\u001b[0m\u001b[0;32m    580\u001b[0m \u001b[1;33m\u001b[0m\u001b[0m\n\u001b[0;32m    581\u001b[0m     \u001b[1;31m# generate map for 2D\u001b[0m\u001b[1;33m\u001b[0m\u001b[1;33m\u001b[0m\u001b[1;33m\u001b[0m\u001b[0m\n",
      "\u001b[1;32mc:\\Users\\benja\\OneDrive - ETH Zürich\\PhD\\Code\\ensembler_public\\examples\\publication\\publication_lambda_EDS/../../..\\ensembler\\potentials\\_baseclasses.py\u001b[0m in \u001b[0;36mene\u001b[1;34m(self, positions)\u001b[0m\n\u001b[0;32m     58\u001b[0m         '''\n\u001b[0;32m     59\u001b[0m         \u001b[0mpositions\u001b[0m \u001b[1;33m=\u001b[0m \u001b[0mself\u001b[0m\u001b[1;33m.\u001b[0m\u001b[0m_check_positions_type\u001b[0m\u001b[1;33m(\u001b[0m\u001b[0mpositions\u001b[0m\u001b[1;33m)\u001b[0m\u001b[1;33m\u001b[0m\u001b[1;33m\u001b[0m\u001b[0m\n\u001b[1;32m---> 60\u001b[1;33m         \u001b[1;32mreturn\u001b[0m \u001b[0mself\u001b[0m\u001b[1;33m.\u001b[0m\u001b[0m_calculate_energies\u001b[0m\u001b[1;33m(\u001b[0m\u001b[0mpositions\u001b[0m\u001b[1;33m)\u001b[0m\u001b[1;33m\u001b[0m\u001b[1;33m\u001b[0m\u001b[0m\n\u001b[0m\u001b[0;32m     61\u001b[0m \u001b[1;33m\u001b[0m\u001b[0m\n\u001b[0;32m     62\u001b[0m     \u001b[1;32mdef\u001b[0m \u001b[0mdvdpos\u001b[0m\u001b[1;33m(\u001b[0m\u001b[0mself\u001b[0m\u001b[1;33m,\u001b[0m \u001b[0mpositions\u001b[0m\u001b[1;33m:\u001b[0m \u001b[1;33m(\u001b[0m\u001b[0mIterable\u001b[0m\u001b[1;33m[\u001b[0m\u001b[0mNumber\u001b[0m\u001b[1;33m]\u001b[0m \u001b[1;32mor\u001b[0m \u001b[0mNumber\u001b[0m\u001b[1;33m)\u001b[0m\u001b[1;33m)\u001b[0m \u001b[1;33m->\u001b[0m \u001b[1;33m(\u001b[0m\u001b[0mIterable\u001b[0m\u001b[1;33m[\u001b[0m\u001b[0mNumber\u001b[0m\u001b[1;33m]\u001b[0m \u001b[1;32mor\u001b[0m \u001b[0mNumber\u001b[0m\u001b[1;33m)\u001b[0m\u001b[1;33m:\u001b[0m\u001b[1;33m\u001b[0m\u001b[1;33m\u001b[0m\u001b[0m\n",
      "\u001b[1;32mc:\\Users\\benja\\OneDrive - ETH Zürich\\PhD\\Code\\ensembler_public\\examples\\publication\\publication_lambda_EDS/../../..\\ensembler\\potentials\\_baseclasses.py\u001b[0m in \u001b[0;36m_calculate_energies_multiPos\u001b[1;34m(self, positions)\u001b[0m\n\u001b[0;32m    196\u001b[0m         \u001b[1;33m:\u001b[0m\u001b[1;32mreturn\u001b[0m\u001b[1;33m:\u001b[0m  \u001b[1;33m-\u001b[0m\u001b[1;33m\u001b[0m\u001b[1;33m\u001b[0m\u001b[0m\n\u001b[0;32m    197\u001b[0m         \"\"\"\n\u001b[1;32m--> 198\u001b[1;33m         \u001b[0mene\u001b[0m \u001b[1;33m=\u001b[0m \u001b[0mnp\u001b[0m\u001b[1;33m.\u001b[0m\u001b[0marray\u001b[0m\u001b[1;33m(\u001b[0m\u001b[0mlist\u001b[0m\u001b[1;33m(\u001b[0m\u001b[0mmap\u001b[0m\u001b[1;33m(\u001b[0m\u001b[0mself\u001b[0m\u001b[1;33m.\u001b[0m\u001b[0m_calculate_energies_singlePos\u001b[0m\u001b[1;33m,\u001b[0m \u001b[0mpositions\u001b[0m\u001b[1;33m)\u001b[0m\u001b[1;33m)\u001b[0m\u001b[1;33m)\u001b[0m\u001b[1;33m\u001b[0m\u001b[1;33m\u001b[0m\u001b[0m\n\u001b[0m\u001b[0;32m    199\u001b[0m         \u001b[1;32mreturn\u001b[0m \u001b[0mene\u001b[0m\u001b[1;33m.\u001b[0m\u001b[0mitem\u001b[0m\u001b[1;33m(\u001b[0m\u001b[1;33m)\u001b[0m \u001b[1;32mif\u001b[0m \u001b[1;33m(\u001b[0m\u001b[0mlen\u001b[0m\u001b[1;33m(\u001b[0m\u001b[0mene\u001b[0m\u001b[1;33m.\u001b[0m\u001b[0mshape\u001b[0m\u001b[1;33m)\u001b[0m \u001b[1;33m==\u001b[0m \u001b[1;36m1\u001b[0m \u001b[1;32mand\u001b[0m \u001b[0mene\u001b[0m\u001b[1;33m.\u001b[0m\u001b[0mshape\u001b[0m\u001b[1;33m[\u001b[0m\u001b[1;36m0\u001b[0m\u001b[1;33m]\u001b[0m \u001b[1;33m==\u001b[0m \u001b[1;36m1\u001b[0m\u001b[1;33m)\u001b[0m \u001b[1;32melse\u001b[0m \u001b[0mene\u001b[0m\u001b[1;33m\u001b[0m\u001b[1;33m\u001b[0m\u001b[0m\n\u001b[0;32m    200\u001b[0m \u001b[1;33m\u001b[0m\u001b[0m\n",
      "\u001b[1;32mc:\\Users\\benja\\OneDrive - ETH Zürich\\PhD\\Code\\ensembler_public\\examples\\publication\\publication_lambda_EDS/../../..\\ensembler\\potentials\\ND.py\u001b[0m in \u001b[0;36m_calculate_energies_singlePos\u001b[1;34m(self, position)\u001b[0m\n\u001b[0;32m    229\u001b[0m         \u001b[0mpartA\u001b[0m \u001b[1;33m=\u001b[0m \u001b[0mnp\u001b[0m\u001b[1;33m.\u001b[0m\u001b[0mmultiply\u001b[0m\u001b[1;33m(\u001b[0m\u001b[1;33m-\u001b[0m\u001b[0mself\u001b[0m\u001b[1;33m.\u001b[0m\u001b[0ms\u001b[0m\u001b[1;33m,\u001b[0m \u001b[0mnp\u001b[0m\u001b[1;33m.\u001b[0m\u001b[0msubtract\u001b[0m\u001b[1;33m(\u001b[0m\u001b[0mself\u001b[0m\u001b[1;33m.\u001b[0m\u001b[0mV_is\u001b[0m\u001b[1;33m[\u001b[0m\u001b[1;36m0\u001b[0m\u001b[1;33m]\u001b[0m\u001b[1;33m.\u001b[0m\u001b[0mene\u001b[0m\u001b[1;33m(\u001b[0m\u001b[0mposition\u001b[0m\u001b[1;33m[\u001b[0m\u001b[1;36m0\u001b[0m\u001b[1;33m]\u001b[0m\u001b[1;33m)\u001b[0m\u001b[1;33m,\u001b[0m \u001b[0mself\u001b[0m\u001b[1;33m.\u001b[0m\u001b[0mEoff_i\u001b[0m\u001b[1;33m[\u001b[0m\u001b[1;36m0\u001b[0m\u001b[1;33m]\u001b[0m\u001b[1;33m)\u001b[0m\u001b[1;33m)\u001b[0m\u001b[1;33m\u001b[0m\u001b[1;33m\u001b[0m\u001b[0m\n\u001b[0;32m    230\u001b[0m         \u001b[1;32mif\u001b[0m\u001b[1;33m(\u001b[0m\u001b[0mlen\u001b[0m\u001b[1;33m(\u001b[0m\u001b[0mself\u001b[0m\u001b[1;33m.\u001b[0m\u001b[0mEoff_i\u001b[0m\u001b[1;33m)\u001b[0m \u001b[1;33m>\u001b[0m\u001b[1;36m1\u001b[0m\u001b[1;33m)\u001b[0m\u001b[1;33m:\u001b[0m\u001b[1;33m\u001b[0m\u001b[1;33m\u001b[0m\u001b[0m\n\u001b[1;32m--> 231\u001b[1;33m             \u001b[0mpartB\u001b[0m \u001b[1;33m=\u001b[0m \u001b[0mnp\u001b[0m\u001b[1;33m.\u001b[0m\u001b[0mmultiply\u001b[0m\u001b[1;33m(\u001b[0m\u001b[1;33m-\u001b[0m\u001b[0mself\u001b[0m\u001b[1;33m.\u001b[0m\u001b[0ms\u001b[0m\u001b[1;33m,\u001b[0m \u001b[0mnp\u001b[0m\u001b[1;33m.\u001b[0m\u001b[0msubtract\u001b[0m\u001b[1;33m(\u001b[0m\u001b[0mself\u001b[0m\u001b[1;33m.\u001b[0m\u001b[0mV_is\u001b[0m\u001b[1;33m[\u001b[0m\u001b[1;36m1\u001b[0m\u001b[1;33m]\u001b[0m\u001b[1;33m.\u001b[0m\u001b[0mene\u001b[0m\u001b[1;33m(\u001b[0m\u001b[0mposition\u001b[0m\u001b[1;33m[\u001b[0m\u001b[1;36m1\u001b[0m\u001b[1;33m]\u001b[0m\u001b[1;33m)\u001b[0m\u001b[1;33m,\u001b[0m \u001b[0mself\u001b[0m\u001b[1;33m.\u001b[0m\u001b[0mEoff_i\u001b[0m\u001b[1;33m[\u001b[0m\u001b[1;36m1\u001b[0m\u001b[1;33m]\u001b[0m\u001b[1;33m)\u001b[0m\u001b[1;33m)\u001b[0m\u001b[1;33m\u001b[0m\u001b[1;33m\u001b[0m\u001b[0m\n\u001b[0m\u001b[0;32m    232\u001b[0m             \u001b[0msum_prefactors\u001b[0m \u001b[1;33m=\u001b[0m \u001b[0mmax\u001b[0m\u001b[1;33m(\u001b[0m\u001b[0mpartA\u001b[0m\u001b[1;33m,\u001b[0m \u001b[0mpartB\u001b[0m\u001b[1;33m)\u001b[0m \u001b[1;33m+\u001b[0m \u001b[0mnp\u001b[0m\u001b[1;33m.\u001b[0m\u001b[0mlog\u001b[0m\u001b[1;33m(\u001b[0m\u001b[1;36m1\u001b[0m \u001b[1;33m+\u001b[0m \u001b[0mnp\u001b[0m\u001b[1;33m.\u001b[0m\u001b[0mexp\u001b[0m\u001b[1;33m(\u001b[0m\u001b[0mmin\u001b[0m\u001b[1;33m(\u001b[0m\u001b[0mpartA\u001b[0m\u001b[1;33m,\u001b[0m \u001b[0mpartB\u001b[0m\u001b[1;33m)\u001b[0m \u001b[1;33m-\u001b[0m \u001b[0mmax\u001b[0m\u001b[1;33m(\u001b[0m\u001b[0mpartA\u001b[0m\u001b[1;33m,\u001b[0m \u001b[0mpartB\u001b[0m\u001b[1;33m)\u001b[0m\u001b[1;33m)\u001b[0m\u001b[1;33m)\u001b[0m\u001b[1;33m\u001b[0m\u001b[1;33m\u001b[0m\u001b[0m\n\u001b[0;32m    233\u001b[0m         \u001b[1;32melse\u001b[0m\u001b[1;33m:\u001b[0m\u001b[1;33m\u001b[0m\u001b[1;33m\u001b[0m\u001b[0m\n",
      "\u001b[1;32mc:\\Users\\benja\\OneDrive - ETH Zürich\\PhD\\Code\\ensembler_public\\examples\\publication\\publication_lambda_EDS/../../..\\ensembler\\potentials\\TwoD.py\u001b[0m in \u001b[0;36m<lambda>\u001b[1;34m(positions)\u001b[0m\n\u001b[0;32m    105\u001b[0m \u001b[1;33m\u001b[0m\u001b[0m\n\u001b[0;32m    106\u001b[0m     \u001b[1;32mdef\u001b[0m \u001b[0mset_degree_mode\u001b[0m\u001b[1;33m(\u001b[0m\u001b[0mself\u001b[0m\u001b[1;33m)\u001b[0m\u001b[1;33m:\u001b[0m\u001b[1;33m\u001b[0m\u001b[1;33m\u001b[0m\u001b[0m\n\u001b[1;32m--> 107\u001b[1;33m         \u001b[0mself\u001b[0m\u001b[1;33m.\u001b[0m\u001b[0mene\u001b[0m \u001b[1;33m=\u001b[0m \u001b[1;32mlambda\u001b[0m \u001b[0mpositions\u001b[0m\u001b[1;33m:\u001b[0m \u001b[0mnp\u001b[0m\u001b[1;33m.\u001b[0m\u001b[0msqueeze\u001b[0m\u001b[1;33m(\u001b[0m\u001b[0mself\u001b[0m\u001b[1;33m.\u001b[0m\u001b[0m_calculate_energies\u001b[0m\u001b[1;33m(\u001b[0m\u001b[1;33m*\u001b[0m\u001b[0mnp\u001b[0m\u001b[1;33m.\u001b[0m\u001b[0mhsplit\u001b[0m\u001b[1;33m(\u001b[0m\u001b[0mnp\u001b[0m\u001b[1;33m.\u001b[0m\u001b[0mdeg2rad\u001b[0m\u001b[1;33m(\u001b[0m\u001b[0mpositions\u001b[0m\u001b[1;33m)\u001b[0m\u001b[1;33m,\u001b[0m \u001b[0mself\u001b[0m\u001b[1;33m.\u001b[0m\u001b[0mconstants\u001b[0m\u001b[1;33m[\u001b[0m\u001b[0mself\u001b[0m\u001b[1;33m.\u001b[0m\u001b[0mnDim\u001b[0m\u001b[1;33m]\u001b[0m\u001b[1;33m)\u001b[0m\u001b[1;33m)\u001b[0m\u001b[1;33m)\u001b[0m\u001b[1;33m\u001b[0m\u001b[1;33m\u001b[0m\u001b[0m\n\u001b[0m\u001b[0;32m    108\u001b[0m         \u001b[0mself\u001b[0m\u001b[1;33m.\u001b[0m\u001b[0mdvdpos\u001b[0m \u001b[1;33m=\u001b[0m \u001b[1;32mlambda\u001b[0m \u001b[0mpositions\u001b[0m\u001b[1;33m:\u001b[0m \u001b[0mnp\u001b[0m\u001b[1;33m.\u001b[0m\u001b[0msqueeze\u001b[0m\u001b[1;33m(\u001b[0m\u001b[0mself\u001b[0m\u001b[1;33m.\u001b[0m\u001b[0m_calculate_dVdpos\u001b[0m\u001b[1;33m(\u001b[0m\u001b[1;33m*\u001b[0m\u001b[0mnp\u001b[0m\u001b[1;33m.\u001b[0m\u001b[0mhsplit\u001b[0m\u001b[1;33m(\u001b[0m\u001b[0mnp\u001b[0m\u001b[1;33m.\u001b[0m\u001b[0mdeg2rad\u001b[0m\u001b[1;33m(\u001b[0m\u001b[0mpositions\u001b[0m\u001b[1;33m)\u001b[0m\u001b[1;33m,\u001b[0m \u001b[0mself\u001b[0m\u001b[1;33m.\u001b[0m\u001b[0mconstants\u001b[0m\u001b[1;33m[\u001b[0m\u001b[0mself\u001b[0m\u001b[1;33m.\u001b[0m\u001b[0mnDim\u001b[0m\u001b[1;33m]\u001b[0m\u001b[1;33m)\u001b[0m\u001b[1;33m)\u001b[0m\u001b[1;33m)\u001b[0m\u001b[1;33m\u001b[0m\u001b[1;33m\u001b[0m\u001b[0m\n\u001b[0;32m    109\u001b[0m \u001b[1;33m\u001b[0m\u001b[0m\n",
      "\u001b[1;32m<lambdifygenerated-11>\u001b[0m in \u001b[0;36m_lambdifygenerated\u001b[1;34m(pos_0, pos_1)\u001b[0m\n\u001b[0;32m      1\u001b[0m \u001b[1;32mdef\u001b[0m \u001b[0m_lambdifygenerated\u001b[0m\u001b[1;33m(\u001b[0m\u001b[0mpos_0\u001b[0m\u001b[1;33m,\u001b[0m \u001b[0mpos_1\u001b[0m\u001b[1;33m)\u001b[0m\u001b[1;33m:\u001b[0m\u001b[1;33m\u001b[0m\u001b[1;33m\u001b[0m\u001b[0m\n\u001b[1;32m----> 2\u001b[1;33m     \u001b[1;32mreturn\u001b[0m \u001b[1;33m(\u001b[0m\u001b[1;33m(\u001b[0m\u001b[0mbuiltins\u001b[0m\u001b[1;33m.\u001b[0m\u001b[0msum\u001b[0m\u001b[1;33m(\u001b[0m\u001b[0marray\u001b[0m\u001b[1;33m(\u001b[0m\u001b[1;33m[\u001b[0m\u001b[1;33m[\u001b[0m\u001b[1;36m1.25\u001b[0m\u001b[1;33m*\u001b[0m\u001b[0mcos\u001b[0m\u001b[1;33m(\u001b[0m\u001b[1;36m2.0\u001b[0m\u001b[1;33m*\u001b[0m\u001b[0mpos_0\u001b[0m\u001b[1;33m)\u001b[0m\u001b[1;33m]\u001b[0m\u001b[1;33m,\u001b[0m \u001b[1;33m[\u001b[0m\u001b[1;36m1.25\u001b[0m\u001b[1;33m*\u001b[0m\u001b[0mcos\u001b[0m\u001b[1;33m(\u001b[0m\u001b[1;36m2.0\u001b[0m\u001b[1;33m*\u001b[0m\u001b[0mpos_1\u001b[0m\u001b[1;33m)\u001b[0m\u001b[1;33m]\u001b[0m\u001b[1;33m]\u001b[0m\u001b[1;33m)\u001b[0m\u001b[1;33m[\u001b[0m\u001b[0mi\u001b[0m\u001b[1;33m,\u001b[0m \u001b[1;36m0\u001b[0m\u001b[1;33m]\u001b[0m \u001b[1;32mfor\u001b[0m \u001b[0mi\u001b[0m \u001b[1;32min\u001b[0m \u001b[0mrange\u001b[0m\u001b[1;33m(\u001b[0m\u001b[1;36m0\u001b[0m\u001b[1;33m,\u001b[0m \u001b[1;36m1\u001b[0m\u001b[1;33m+\u001b[0m\u001b[1;36m1\u001b[0m\u001b[1;33m)\u001b[0m\u001b[1;33m)\u001b[0m\u001b[1;33m)\u001b[0m\u001b[1;33m)\u001b[0m\u001b[1;33m\u001b[0m\u001b[1;33m\u001b[0m\u001b[0m\n\u001b[0m",
      "\u001b[1;32m<lambdifygenerated-11>\u001b[0m in \u001b[0;36m<genexpr>\u001b[1;34m(.0)\u001b[0m\n\u001b[0;32m      1\u001b[0m \u001b[1;32mdef\u001b[0m \u001b[0m_lambdifygenerated\u001b[0m\u001b[1;33m(\u001b[0m\u001b[0mpos_0\u001b[0m\u001b[1;33m,\u001b[0m \u001b[0mpos_1\u001b[0m\u001b[1;33m)\u001b[0m\u001b[1;33m:\u001b[0m\u001b[1;33m\u001b[0m\u001b[1;33m\u001b[0m\u001b[0m\n\u001b[1;32m----> 2\u001b[1;33m     \u001b[1;32mreturn\u001b[0m \u001b[1;33m(\u001b[0m\u001b[1;33m(\u001b[0m\u001b[0mbuiltins\u001b[0m\u001b[1;33m.\u001b[0m\u001b[0msum\u001b[0m\u001b[1;33m(\u001b[0m\u001b[0marray\u001b[0m\u001b[1;33m(\u001b[0m\u001b[1;33m[\u001b[0m\u001b[1;33m[\u001b[0m\u001b[1;36m1.25\u001b[0m\u001b[1;33m*\u001b[0m\u001b[0mcos\u001b[0m\u001b[1;33m(\u001b[0m\u001b[1;36m2.0\u001b[0m\u001b[1;33m*\u001b[0m\u001b[0mpos_0\u001b[0m\u001b[1;33m)\u001b[0m\u001b[1;33m]\u001b[0m\u001b[1;33m,\u001b[0m \u001b[1;33m[\u001b[0m\u001b[1;36m1.25\u001b[0m\u001b[1;33m*\u001b[0m\u001b[0mcos\u001b[0m\u001b[1;33m(\u001b[0m\u001b[1;36m2.0\u001b[0m\u001b[1;33m*\u001b[0m\u001b[0mpos_1\u001b[0m\u001b[1;33m)\u001b[0m\u001b[1;33m]\u001b[0m\u001b[1;33m]\u001b[0m\u001b[1;33m)\u001b[0m\u001b[1;33m[\u001b[0m\u001b[0mi\u001b[0m\u001b[1;33m,\u001b[0m \u001b[1;36m0\u001b[0m\u001b[1;33m]\u001b[0m \u001b[1;32mfor\u001b[0m \u001b[0mi\u001b[0m \u001b[1;32min\u001b[0m \u001b[0mrange\u001b[0m\u001b[1;33m(\u001b[0m\u001b[1;36m0\u001b[0m\u001b[1;33m,\u001b[0m \u001b[1;36m1\u001b[0m\u001b[1;33m+\u001b[0m\u001b[1;36m1\u001b[0m\u001b[1;33m)\u001b[0m\u001b[1;33m)\u001b[0m\u001b[1;33m)\u001b[0m\u001b[1;33m)\u001b[0m\u001b[1;33m\u001b[0m\u001b[1;33m\u001b[0m\u001b[0m\n\u001b[0m",
      "\u001b[1;31mKeyboardInterrupt\u001b[0m: "
     ]
    }
   ],
   "source": [
    "#run multiple replicas\n",
    "tmp_dir = tempfile.gettempdir()+\"/edsSim\"\n",
    "if(not os.path.exists(tmp_dir)):\n",
    "    os.mkdir(tmp_dir)\n",
    "os.chdir(tmp_dir)\n",
    "\n",
    "print(tmp_dir)\n",
    "\n",
    "\n",
    "#BUILD Potential:\n",
    "#params:\n",
    "replicas = 1#0\n",
    "\n",
    "##STEPS\n",
    "each_sim = 10#00000 #each s value and each replica\n",
    "\n",
    "#s_est = 0.609/Delta U_barrier\n",
    "optimal_ses = {2.5: 0.122,\n",
    "               5: 0.061,\n",
    "               10: 0.03,\n",
    "               20: 0.03, #0.015\n",
    "               50: 0.006}\n",
    "\n",
    "\n",
    "for barrier in tqdm(optimal_ses, desc=\"Barrier approaches: \"):\n",
    "    approach_dir = tmp_dir+\"/independent_simulations_with_\"+str(barrier)+\"kT_barriers\"\n",
    "    simulate_replicas(out_dir=approach_dir, barrier=barrier, opt_s=optimal_ses[barrier], replicas=replicas, simulation_steps=each_sim)\n",
    "\n"
   ]
  },
  {
   "cell_type": "code",
   "execution_count": null,
   "metadata": {},
   "outputs": [],
   "source": []
  }
 ],
 "metadata": {
  "kernelspec": {
   "display_name": "Python 3.7.7 64-bit ('EnsemblerDev': conda)",
   "language": "python",
   "name": "python37764bitensemblerdevcondaa4593ef55eeb4c19ab962e621795cac3"
  },
  "language_info": {
   "codemirror_mode": {
    "name": "ipython",
    "version": 3
   },
   "file_extension": ".py",
   "mimetype": "text/x-python",
   "name": "python",
   "nbconvert_exporter": "python",
   "pygments_lexer": "ipython3",
   "version": "3.7.7-final"
  }
 },
 "nbformat": 4,
 "nbformat_minor": 4
}