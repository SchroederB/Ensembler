{
 "cells": [
  {
   "cell_type": "code",
   "execution_count": 1,
   "metadata": {
    "pycharm": {
     "is_executing": true
    }
   },
   "outputs": [],
   "source": [
    "#enveloping potential\n",
    "# simple Example plot Enveloped Potential with two Harmonic Oscilators\n",
    "##Imports:\n",
    "import os, sys as csys, datetime, tempfile\n",
    "import math, numpy as np, pandas as pd\n",
    "import matplotlib.pyplot as plt\n",
    "\n",
    "from tqdm import tqdm_notebook as tqdm\n",
    "\n",
    "\n",
    "csys.path.append(os.getcwd()+\"/../../..\")\n",
    "\n",
    "#Ensembler\n",
    "import ensembler.potentials.TwoD as pot2D\n",
    "\n",
    "from ensembler.integrator.stochastic import metropolisMonteCarloIntegrator\n",
    "from ensembler.conditions.periodicBoundaryCondition import periodicBoundaryCondition\n",
    "from ensembler.system.basic_system import system\n",
    "\n",
    "import ensembler.visualisation.plotPotentials as exPlot\n",
    "\n",
    "plot_resolution= 1200 # lowRes but fast: 120\n",
    "%matplotlib inline"
   ]
  },
  {
   "cell_type": "code",
   "execution_count": 2,
   "metadata": {
    "pycharm": {
     "name": "#%%\n"
    }
   },
   "outputs": [],
   "source": [
    "#ENERGIES Sampling - CURRENTLY NOT USED!\n",
    "def write_out_etraj(traj, out_path, V1, V2):\n",
    "    visited_positions =  np.array(list(map(np.array, traj.position)))\n",
    "    state1 = V1.ene(visited_positions)\n",
    "    state2 = V2.ene(visited_positions)\n",
    "    Vrenergies = np.array(traj.totPotEnergy)\n",
    "\n",
    "    out_file = open(out_path, \"w\")\n",
    "    out_file.write(\"t\\tV1\\tV2\\tVr\\n\")#HEADER\n",
    "    for t, V1, V2, Vr in zip(traj.index, state1, state2, Vrenergies):\n",
    "        out_file.write(str(t)+\"\\t\"+str(V1)+\"\\t\"+str(V2)+\"\\t\"+str(Vr)+\"\\n\")\n",
    "\n",
    "    out_file.close()"
   ]
  },
  {
   "cell_type": "code",
   "execution_count": 3,
   "metadata": {
    "pycharm": {
     "name": "#%%\n"
    }
   },
   "outputs": [],
   "source": [
    "\n",
    "def simulate_replicas(out_dir:str, barrier, opt_s, replicas=10, simulation_steps=1000000):\n",
    "    if(not os.path.exists(out_dir)):\n",
    "        os.mkdir(out_dir)\n",
    "    \n",
    "    start_t = datetime.datetime.now()\n",
    "    #Potentials\n",
    "    amplitude = barrier/2\n",
    "    shift  = np.rad2deg(0.5*math.pi)\n",
    "    Eoff = [0,0]\n",
    "\n",
    "    V1 = pot2D.wavePotential(phase_shift=(shift,shift), multiplicity=(2.0, 2.0), amplitude=(amplitude, amplitude))\n",
    "    V2 = pot2D.wavePotential(phase_shift=(0.0, 0.0), multiplicity=(2.0, 2.0), amplitude=(amplitude, amplitude))\n",
    "    edsPot = pot2D.envelopedPotential(V_is=[V1, V2], s=1.0, Eoff_i=Eoff)\n",
    "    exPlot.plot_2D_2State_EDS_potential(eds_pot=edsPot, out_path = out_dir+\"/SimSpace_\"+str(barrier)+\"kT.png\", point_resolution=plot_resolution)\n",
    "\n",
    "    #Simulation Setup\n",
    "    svals = sorted([10, 1, 0.5, 0.25, 0.1, 0.05, 0.025, 0.01]+[opt_s], reverse=True)\n",
    "    ##Build modules\n",
    "    periodic_bound = periodicBoundaryCondition(boundary=[[-180,180], [-180,180]])\n",
    "    integrator = metropolisMonteCarloIntegrator(fixedStepSize=[1,1]) \n",
    "    \n",
    "    ###Build System\n",
    "    sys=system(potential=edsPot, integrator=integrator, conditions=[periodic_bound])\n",
    "    print(sys.nDim, edsPot.nDim)\n",
    "    print(\"svalue sequence - #s=\"+str(len(svals))+\" \", svals)\n",
    "    \n",
    "    ## SIMULATE\n",
    "    start=0\n",
    "    syst = None\n",
    "    for replica in tqdm(range(start, replicas), desc=\"Replicas: \", leave=False):\n",
    "        ##INIT REPLICA\n",
    "        ###fILE hANDLING\n",
    "        replica_out = out_dir+\"/replica_\"+str(replica)\n",
    "        if(not os.path.exists(replica_out)):\n",
    "            os.mkdir(replica_out)\n",
    "\n",
    "        ## SIMULATE REPLICA\n",
    "        start_sim = datetime.datetime.now()\n",
    "        s_val_posDict = {}  #OUT\n",
    "        for s in tqdm(svals, desc=\"Current Simulation of replica \"+str(replica)+\": \", leave=False):\n",
    "            sys.potential.s = s\n",
    "            cur_state = sys.simulate(simulation_steps, withdrawTraj=True, initSystem=True)\n",
    "\n",
    "            s_val_posDict.update({s:sys.getTrajectory()})\n",
    "\n",
    "        end_sim = datetime.datetime.now()\n",
    "        duration_sim = end_sim-start_sim\n",
    "\n",
    "        traj = sys.getTrajectory()\n",
    "\n",
    "        #plotting:\n",
    "        print(\"plotting\")\n",
    "        start_plot = datetime.datetime.now()\n",
    "        exPlot.plot_2D_2State_EDS_potential(edsPot, out_path = replica_out+\"/SimSpace_withTraj_\"+str(barrier)+\"kT.png\", traj=traj, point_resolution=plot_resolution)\n",
    "        if(replica == 0):\n",
    "            fig = exPlot.plot_2D_2State_EDS_potential_sDependency(sVal_traj_Dict=s_val_posDict, eds_pot=edsPot, plot_trajs=False, out_path=out_dir+\"/s_dependent_sampling_relBarrier_\"+str(barrier)+\"kT.png\", point_resolution=plot_resolution)\n",
    "        fig = exPlot.plot_2D_2State_EDS_potential_sDependency(sVal_traj_Dict=s_val_posDict, eds_pot=edsPot, plot_trajs=True, out_path=replica_out+\"/s_dependent_sampling_relBarrier_\"+str(barrier)+\"kT_withTraj.png\", point_resolution=plot_resolution)\n",
    "        end_plot = datetime.datetime.now()\n",
    "        duration_plot = end_plot-start_plot\n",
    "\n",
    "        for s in s_val_posDict:\n",
    "            write_out_etraj(traj=s_val_posDict[s], out_path=replica_out+\"/replica_traj_s\"+str(s)+\".dat\", V1=sys.potential.V_is[0], V2=sys.potential.V_is[1])\n",
    "        sys.writeTrajectory(replica_out+\"/total_replica_traj.dat\")\n",
    "\n",
    "\n",
    "    del edsPot, sys, traj \n",
    "    \n",
    "    end_t = datetime.datetime.now()\n",
    "    duration = end_t-start_t\n",
    "    print(\"Done - duration: \", duration)\n",
    "    print(\"Done - simulation duration: \", duration_sim)\n",
    "    print(\"Done - plotting duration: \", duration_plot)\n",
    "\n"
   ]
  },
  {
   "cell_type": "code",
   "execution_count": 4,
   "metadata": {
    "pycharm": {
     "name": "#%%\n"
    },
    "tags": []
   },
   "outputs": [
    {
     "output_type": "stream",
     "name": "stderr",
     "text": "Barrier approaches:   0%|          | 0/5 [00:00<?, ?it/s]C:\\Users\\benja\\AppData\\Local\\Temp/edsSim\n\nReplicas:   0%|          | 0/1 [00:00<?, ?it/s]\u001b[A\n\nCurrent Simulation of replica 0:   0%|          | 0/9 [00:00<?, ?it/s]\u001b[A\u001b[A2 2\nsvalue sequence - #s=9  [10, 1, 0.5, 0.25, 0.122, 0.1, 0.05, 0.025, 0.01]\n"
    },
    {
     "output_type": "display_data",
     "data": {
      "text/plain": "HBox(children=(FloatProgress(value=0.0, description='Simulation: ', max=10.0, style=ProgressStyle(description_…",
      "application/vnd.jupyter.widget-view+json": {
       "version_major": 2,
       "version_minor": 0,
       "model_id": "6c25e95d99c7458e8fe56d548ad3baef"
      }
     },
     "metadata": {}
    },
    {
     "output_type": "stream",
     "name": "stderr",
     "text": "\n\n\u001b[A\u001b[A\nBarrier approaches:   0%|          | 0/5 [02:40<?, ?it/s]\n\n"
    },
    {
     "output_type": "error",
     "ename": "TypeError",
     "evalue": "zip argument #1 must support iteration",
     "traceback": [
      "\u001b[1;31m---------------------------------------------------------------------------\u001b[0m",
      "\u001b[1;31mTypeError\u001b[0m                                 Traceback (most recent call last)",
      "\u001b[1;32m<ipython-input-4-5fe8cd5ec3cf>\u001b[0m in \u001b[0;36m<module>\u001b[1;34m\u001b[0m\n\u001b[0;32m     25\u001b[0m \u001b[1;32mfor\u001b[0m \u001b[0mbarrier\u001b[0m \u001b[1;32min\u001b[0m \u001b[0mtqdm\u001b[0m\u001b[1;33m(\u001b[0m\u001b[0moptimal_ses\u001b[0m\u001b[1;33m,\u001b[0m \u001b[0mdesc\u001b[0m\u001b[1;33m=\u001b[0m\u001b[1;34m\"Barrier approaches: \"\u001b[0m\u001b[1;33m)\u001b[0m\u001b[1;33m:\u001b[0m\u001b[1;33m\u001b[0m\u001b[1;33m\u001b[0m\u001b[0m\n\u001b[0;32m     26\u001b[0m     \u001b[0mapproach_dir\u001b[0m \u001b[1;33m=\u001b[0m \u001b[0mtmp_dir\u001b[0m\u001b[1;33m+\u001b[0m\u001b[1;34m\"/independent_simulations_with_\"\u001b[0m\u001b[1;33m+\u001b[0m\u001b[0mstr\u001b[0m\u001b[1;33m(\u001b[0m\u001b[0mbarrier\u001b[0m\u001b[1;33m)\u001b[0m\u001b[1;33m+\u001b[0m\u001b[1;34m\"kT_barriers\"\u001b[0m\u001b[1;33m\u001b[0m\u001b[1;33m\u001b[0m\u001b[0m\n\u001b[1;32m---> 27\u001b[1;33m     \u001b[0msimulate_replicas\u001b[0m\u001b[1;33m(\u001b[0m\u001b[0mout_dir\u001b[0m\u001b[1;33m=\u001b[0m\u001b[0mapproach_dir\u001b[0m\u001b[1;33m,\u001b[0m \u001b[0mbarrier\u001b[0m\u001b[1;33m=\u001b[0m\u001b[0mbarrier\u001b[0m\u001b[1;33m,\u001b[0m \u001b[0mopt_s\u001b[0m\u001b[1;33m=\u001b[0m\u001b[0moptimal_ses\u001b[0m\u001b[1;33m[\u001b[0m\u001b[0mbarrier\u001b[0m\u001b[1;33m]\u001b[0m\u001b[1;33m,\u001b[0m \u001b[0mreplicas\u001b[0m\u001b[1;33m=\u001b[0m\u001b[0mreplicas\u001b[0m\u001b[1;33m,\u001b[0m \u001b[0msimulation_steps\u001b[0m\u001b[1;33m=\u001b[0m\u001b[0meach_sim\u001b[0m\u001b[1;33m)\u001b[0m\u001b[1;33m\u001b[0m\u001b[1;33m\u001b[0m\u001b[0m\n\u001b[0m\u001b[0;32m     28\u001b[0m \u001b[1;33m\u001b[0m\u001b[0m\n",
      "\u001b[1;32m<ipython-input-3-e34fb2355ff9>\u001b[0m in \u001b[0;36msimulate_replicas\u001b[1;34m(out_dir, barrier, opt_s, replicas, simulation_steps)\u001b[0m\n\u001b[0;32m     40\u001b[0m         \u001b[1;32mfor\u001b[0m \u001b[0ms\u001b[0m \u001b[1;32min\u001b[0m \u001b[0mtqdm\u001b[0m\u001b[1;33m(\u001b[0m\u001b[0msvals\u001b[0m\u001b[1;33m,\u001b[0m \u001b[0mdesc\u001b[0m\u001b[1;33m=\u001b[0m\u001b[1;34m\"Current Simulation of replica \"\u001b[0m\u001b[1;33m+\u001b[0m\u001b[0mstr\u001b[0m\u001b[1;33m(\u001b[0m\u001b[0mreplica\u001b[0m\u001b[1;33m)\u001b[0m\u001b[1;33m+\u001b[0m\u001b[1;34m\": \"\u001b[0m\u001b[1;33m,\u001b[0m \u001b[0mleave\u001b[0m\u001b[1;33m=\u001b[0m\u001b[1;32mFalse\u001b[0m\u001b[1;33m)\u001b[0m\u001b[1;33m:\u001b[0m\u001b[1;33m\u001b[0m\u001b[1;33m\u001b[0m\u001b[0m\n\u001b[0;32m     41\u001b[0m             \u001b[0msys\u001b[0m\u001b[1;33m.\u001b[0m\u001b[0mpotential\u001b[0m\u001b[1;33m.\u001b[0m\u001b[0ms\u001b[0m \u001b[1;33m=\u001b[0m \u001b[0ms\u001b[0m\u001b[1;33m\u001b[0m\u001b[1;33m\u001b[0m\u001b[0m\n\u001b[1;32m---> 42\u001b[1;33m             \u001b[0mcur_state\u001b[0m \u001b[1;33m=\u001b[0m \u001b[0msys\u001b[0m\u001b[1;33m.\u001b[0m\u001b[0msimulate\u001b[0m\u001b[1;33m(\u001b[0m\u001b[0msimulation_steps\u001b[0m\u001b[1;33m,\u001b[0m \u001b[0mwithdrawTraj\u001b[0m\u001b[1;33m=\u001b[0m\u001b[1;32mTrue\u001b[0m\u001b[1;33m,\u001b[0m \u001b[0minitSystem\u001b[0m\u001b[1;33m=\u001b[0m\u001b[1;32mTrue\u001b[0m\u001b[1;33m)\u001b[0m\u001b[1;33m\u001b[0m\u001b[1;33m\u001b[0m\u001b[0m\n\u001b[0m\u001b[0;32m     43\u001b[0m \u001b[1;33m\u001b[0m\u001b[0m\n\u001b[0;32m     44\u001b[0m             \u001b[0ms_val_posDict\u001b[0m\u001b[1;33m.\u001b[0m\u001b[0mupdate\u001b[0m\u001b[1;33m(\u001b[0m\u001b[1;33m{\u001b[0m\u001b[0ms\u001b[0m\u001b[1;33m:\u001b[0m\u001b[0msys\u001b[0m\u001b[1;33m.\u001b[0m\u001b[0mgetTrajectory\u001b[0m\u001b[1;33m(\u001b[0m\u001b[1;33m)\u001b[0m\u001b[1;33m}\u001b[0m\u001b[1;33m)\u001b[0m\u001b[1;33m\u001b[0m\u001b[1;33m\u001b[0m\u001b[0m\n",
      "\u001b[1;32mc:\\Users\\benja\\OneDrive - ETH Zürich\\PhD\\Code\\ensembler_public\\examples\\publication\\publication_lambda_EDS/../../..\\ensembler\\system\\basic_system.py\u001b[0m in \u001b[0;36msimulate\u001b[1;34m(self, steps, withdrawTraj, save_every_state, initSystem, verbosity)\u001b[0m\n\u001b[0;32m    286\u001b[0m \u001b[1;33m\u001b[0m\u001b[0m\n\u001b[0;32m    287\u001b[0m             \u001b[1;31m#Apply Restraints, Constraints ...\u001b[0m\u001b[1;33m\u001b[0m\u001b[1;33m\u001b[0m\u001b[1;33m\u001b[0m\u001b[0m\n\u001b[1;32m--> 288\u001b[1;33m             \u001b[0mself\u001b[0m\u001b[1;33m.\u001b[0m\u001b[0mapplyConditions\u001b[0m\u001b[1;33m(\u001b[0m\u001b[1;33m)\u001b[0m\u001b[1;33m\u001b[0m\u001b[1;33m\u001b[0m\u001b[0m\n\u001b[0m\u001b[0;32m    289\u001b[0m \u001b[1;33m\u001b[0m\u001b[0m\n\u001b[0;32m    290\u001b[0m             \u001b[1;31m#Set new State\u001b[0m\u001b[1;33m\u001b[0m\u001b[1;33m\u001b[0m\u001b[1;33m\u001b[0m\u001b[0m\n",
      "\u001b[1;32mc:\\Users\\benja\\OneDrive - ETH Zürich\\PhD\\Code\\ensembler_public\\examples\\publication\\publication_lambda_EDS/../../..\\ensembler\\system\\basic_system.py\u001b[0m in \u001b[0;36mapplyConditions\u001b[1;34m(self)\u001b[0m\n\u001b[0;32m    305\u001b[0m         \u001b[1;32mfor\u001b[0m \u001b[0maditional\u001b[0m \u001b[1;32min\u001b[0m \u001b[0mself\u001b[0m\u001b[1;33m.\u001b[0m\u001b[0mconditions\u001b[0m\u001b[1;33m:\u001b[0m\u001b[1;33m\u001b[0m\u001b[1;33m\u001b[0m\u001b[0m\n\u001b[0;32m    306\u001b[0m             \u001b[1;31m#setattr(aditional, \"system\", self)  #todo: nicer solution?\u001b[0m\u001b[1;33m\u001b[0m\u001b[1;33m\u001b[0m\u001b[1;33m\u001b[0m\u001b[0m\n\u001b[1;32m--> 307\u001b[1;33m             \u001b[0maditional\u001b[0m\u001b[1;33m.\u001b[0m\u001b[0mapply\u001b[0m\u001b[1;33m(\u001b[0m\u001b[1;33m)\u001b[0m\u001b[1;33m\u001b[0m\u001b[1;33m\u001b[0m\u001b[0m\n\u001b[0m\u001b[0;32m    308\u001b[0m \u001b[1;33m\u001b[0m\u001b[0m\n\u001b[0;32m    309\u001b[0m     \u001b[1;32mdef\u001b[0m \u001b[0mappend_state\u001b[0m\u001b[1;33m(\u001b[0m\u001b[0mself\u001b[0m\u001b[1;33m,\u001b[0m \u001b[0mnewPosition\u001b[0m\u001b[1;33m,\u001b[0m \u001b[0mnewVelocity\u001b[0m\u001b[1;33m,\u001b[0m \u001b[0mnewForces\u001b[0m\u001b[1;33m)\u001b[0m\u001b[1;33m->\u001b[0m\u001b[0mNoReturn\u001b[0m\u001b[1;33m:\u001b[0m\u001b[1;33m\u001b[0m\u001b[1;33m\u001b[0m\u001b[0m\n",
      "\u001b[1;32mc:\\Users\\benja\\OneDrive - ETH Zürich\\PhD\\Code\\ensembler_public\\examples\\publication\\publication_lambda_EDS/../../..\\ensembler\\conditions\\periodicBoundaryCondition.py\u001b[0m in \u001b[0;36mapply\u001b[1;34m(self)\u001b[0m\n\u001b[0;32m     53\u001b[0m             \u001b[1;32mfor\u001b[0m \u001b[0mstate_pos\u001b[0m \u001b[1;32min\u001b[0m \u001b[0mself\u001b[0m\u001b[1;33m.\u001b[0m\u001b[0msystem\u001b[0m\u001b[1;33m.\u001b[0m\u001b[0m_currentPosition\u001b[0m\u001b[1;33m:\u001b[0m\u001b[1;33m\u001b[0m\u001b[1;33m\u001b[0m\u001b[0m\n\u001b[0;32m     54\u001b[0m                 \u001b[0mnew_current_position\u001b[0m \u001b[1;33m=\u001b[0m \u001b[1;33m[\u001b[0m\u001b[1;33m]\u001b[0m\u001b[1;33m\u001b[0m\u001b[1;33m\u001b[0m\u001b[0m\n\u001b[1;32m---> 55\u001b[1;33m                 \u001b[1;32mfor\u001b[0m \u001b[0mdim_pos\u001b[0m\u001b[1;33m,\u001b[0m \u001b[0mdimlBound\u001b[0m\u001b[1;33m,\u001b[0m \u001b[0mdimhBound\u001b[0m \u001b[1;32min\u001b[0m \u001b[0mzip\u001b[0m\u001b[1;33m(\u001b[0m\u001b[0mstate_pos\u001b[0m\u001b[1;33m,\u001b[0m \u001b[0mself\u001b[0m\u001b[1;33m.\u001b[0m\u001b[0mlowerbounds\u001b[0m\u001b[1;33m,\u001b[0m \u001b[0mself\u001b[0m\u001b[1;33m.\u001b[0m\u001b[0mhigherbounds\u001b[0m\u001b[1;33m)\u001b[0m\u001b[1;33m:\u001b[0m\u001b[1;33m\u001b[0m\u001b[1;33m\u001b[0m\u001b[0m\n\u001b[0m\u001b[0;32m     56\u001b[0m                     \u001b[1;31m#print(dim_pos)\u001b[0m\u001b[1;33m\u001b[0m\u001b[1;33m\u001b[0m\u001b[1;33m\u001b[0m\u001b[0m\n\u001b[0;32m     57\u001b[0m                     \u001b[1;32mif\u001b[0m \u001b[1;33m(\u001b[0m\u001b[0mdim_pos\u001b[0m \u001b[1;33m<\u001b[0m \u001b[0mdimlBound\u001b[0m\u001b[1;33m)\u001b[0m\u001b[1;33m:\u001b[0m\u001b[1;33m\u001b[0m\u001b[1;33m\u001b[0m\u001b[0m\n",
      "\u001b[1;31mTypeError\u001b[0m: zip argument #1 must support iteration"
     ]
    }
   ],
   "source": [
    "#run multiple replicas\n",
    "tmp_dir = tempfile.gettempdir()+\"/edsSim\"\n",
    "if(not os.path.exists(tmp_dir)):\n",
    "    os.mkdir(tmp_dir)\n",
    "os.chdir(tmp_dir)\n",
    "\n",
    "print(tmp_dir)\n",
    "\n",
    "\n",
    "#BUILD Potential:\n",
    "#params:\n",
    "replicas = 1#0\n",
    "\n",
    "##STEPS\n",
    "each_sim = 10#00000 #each s value and each replica\n",
    "\n",
    "#s_est = 0.609/Delta U_barrier\n",
    "optimal_ses = {2.5: 0.122,\n",
    "               5: 0.061,\n",
    "               10: 0.03,\n",
    "               20: 0.03, #0.015\n",
    "               50: 0.006}\n",
    "\n",
    "\n",
    "for barrier in tqdm(optimal_ses, desc=\"Barrier approaches: \"):\n",
    "    approach_dir = tmp_dir+\"/independent_simulations_with_\"+str(barrier)+\"kT_barriers\"\n",
    "    simulate_replicas(out_dir=approach_dir, barrier=barrier, opt_s=optimal_ses[barrier], replicas=replicas, simulation_steps=each_sim)\n",
    "\n"
   ]
  },
  {
   "cell_type": "code",
   "execution_count": null,
   "metadata": {},
   "outputs": [],
   "source": []
  }
 ],
 "metadata": {
  "kernelspec": {
   "display_name": "Python 3.7.7 64-bit ('EnsemblerDev': conda)",
   "language": "python",
   "name": "python37764bitensemblerdevcondaa4593ef55eeb4c19ab962e621795cac3"
  },
  "language_info": {
   "codemirror_mode": {
    "name": "ipython",
    "version": 3
   },
   "file_extension": ".py",
   "mimetype": "text/x-python",
   "name": "python",
   "nbconvert_exporter": "python",
   "pygments_lexer": "ipython3",
   "version": "3.7.7-final"
  }
 },
 "nbformat": 4,
 "nbformat_minor": 4
}