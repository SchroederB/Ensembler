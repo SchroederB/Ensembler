{
 "cells": [
  {
   "cell_type": "code",
   "execution_count": 1,
   "metadata": {
    "tags": []
   },
   "outputs": [
    {
     "output_type": "stream",
     "name": "stdout",
     "text": "try adding local path to package\n"
    }
   ],
   "source": [
    "import importlib.util\n",
    "spec = importlib.util.find_spec(\"ensembler\")\n",
    "\n",
    "if(spec is None):\n",
    "    print(\"try adding local path to package\")\n",
    "    import os, sys\n",
    "    sys.path.append(os.getcwd()+\"/../..\")\n",
    "\n",
    "import ensembler.util.ensemblerTypes as eT"
   ]
  },
  {
   "cell_type": "code",
   "execution_count": 2,
   "metadata": {},
   "outputs": [
    {
     "output_type": "execute_result",
     "data": {
      "text/plain": "~system"
     },
     "metadata": {},
     "execution_count": 2
    }
   ],
   "source": [
    "system = eT.system\n",
    "system"
   ]
  },
  {
   "cell_type": "code",
   "execution_count": 3,
   "metadata": {},
   "outputs": [
    {
     "output_type": "execute_result",
     "data": {
      "text/plain": "({'__module__': 'ensembler.util.ensemblerTypes'},\n ['__bound__',\n  '__class__',\n  '__constraints__',\n  '__contravariant__',\n  '__copy__',\n  '__covariant__',\n  '__deepcopy__',\n  '__delattr__',\n  '__dict__',\n  '__dir__',\n  '__doc__',\n  '__eq__',\n  '__format__',\n  '__ge__',\n  '__getattribute__',\n  '__gt__',\n  '__hash__',\n  '__init__',\n  '__init_subclass__',\n  '__le__',\n  '__lt__',\n  '__module__',\n  '__name__',\n  '__ne__',\n  '__new__',\n  '__reduce__',\n  '__reduce_ex__',\n  '__repr__',\n  '__setattr__',\n  '__sizeof__',\n  '__slots__',\n  '__str__',\n  '__subclasshook__',\n  '__weakref__'])"
     },
     "metadata": {},
     "execution_count": 3
    }
   ],
   "source": [
    "vars(system),dir(system)"
   ]
  },
  {
   "cell_type": "code",
   "execution_count": 4,
   "metadata": {},
   "outputs": [
    {
     "output_type": "error",
     "ename": "AttributeError",
     "evalue": "'TypeVar' object has no attribute 'constraints'",
     "traceback": [
      "\u001b[1;31m---------------------------------------------------------------------------\u001b[0m",
      "\u001b[1;31mAttributeError\u001b[0m                            Traceback (most recent call last)",
      "\u001b[1;32m<ipython-input-4-b10621f5978c>\u001b[0m in \u001b[0;36m<module>\u001b[1;34m\u001b[0m\n\u001b[1;32m----> 1\u001b[1;33m \u001b[0msystem\u001b[0m\u001b[1;33m.\u001b[0m\u001b[0mconstraints\u001b[0m\u001b[1;33m\u001b[0m\u001b[1;33m\u001b[0m\u001b[0m\n\u001b[0m",
      "\u001b[1;31mAttributeError\u001b[0m: 'TypeVar' object has no attribute 'constraints'"
     ]
    }
   ],
   "source": [
    "system.con"
   ]
  },
  {
   "cell_type": "code",
   "execution_count": 5,
   "metadata": {
    "tags": []
   },
   "outputs": [
    {
     "output_type": "stream",
     "name": "stdout",
     "text": "Help on TypeVar in module ensembler.util.ensemblerTypes object:\n\nsystem = class TypeVar(_Final, _Immutable)\n |  system(name, *constraints, bound=None, covariant=False, contravariant=False)\n |  \n |  Type variable.\n |  \n |  Usage::\n |  \n |    T = TypeVar('T')  # Can be anything\n |    A = TypeVar('A', str, bytes)  # Must be str or bytes\n |  \n |  Type variables exist primarily for the benefit of static type\n |  checkers.  They serve as the parameters for generic types as well\n |  as for generic function definitions.  See class Generic for more\n |  information on generic types.  Generic functions work as follows:\n |  \n |    def repeat(x: T, n: int) -> List[T]:\n |        '''Return a list containing n references to x.'''\n |        return [x]*n\n |  \n |    def longest(x: A, y: A) -> A:\n |        '''Return the longest of two strings.'''\n |        return x if len(x) >= len(y) else y\n |  \n |  The latter example's signature is essentially the overloading\n |  of (str, str) -> str and (bytes, bytes) -> bytes.  Also note\n |  that if the arguments are instances of some subclass of str,\n |  the return type is still plain str.\n |  \n |  At runtime, isinstance(x, T) and issubclass(C, T) will raise TypeError.\n |  \n |  Type variables defined with covariant=True or contravariant=True\n |  can be used to declare covariant or contravariant generic types.\n |  See PEP 484 for more details. By default generic types are invariant\n |  in all type variables.\n |  \n |  Type variables can be introspected. e.g.:\n |  \n |    T.__name__ == 'T'\n |    T.__constraints__ == ()\n |    T.__covariant__ == False\n |    T.__contravariant__ = False\n |    A.__constraints__ == (str, bytes)\n |  \n |  Note that only type variables defined in global scope can be pickled.\n |  \n |  Method resolution order:\n |      TypeVar\n |      _Final\n |      _Immutable\n |      builtins.object\n |  \n |  Methods defined here:\n |  \n |  __init__(self, name, *constraints, bound=None, covariant=False, contravariant=False)\n |      Initialize self.  See help(type(self)) for accurate signature.\n |  \n |  __reduce__(self)\n |      Helper for pickle.\n |  \n |  __repr__(self)\n |      Return repr(self).\n |  \n |  ----------------------------------------------------------------------\n |  Data descriptors defined here:\n |  \n |  __bound__\n |  \n |  __constraints__\n |  \n |  __contravariant__\n |  \n |  __covariant__\n |  \n |  __dict__\n |      dictionary for instance variables (if defined)\n |  \n |  ----------------------------------------------------------------------\n |  Class methods inherited from _Final:\n |  \n |  __init_subclass__(*args, **kwds) from builtins.type\n |      This method is called when a class is subclassed.\n |      \n |      The default implementation does nothing. It may be\n |      overridden to extend subclasses.\n |  \n |  ----------------------------------------------------------------------\n |  Data descriptors inherited from _Final:\n |  \n |  __weakref__\n |      list of weak references to the object (if defined)\n |  \n |  ----------------------------------------------------------------------\n |  Methods inherited from _Immutable:\n |  \n |  __copy__(self)\n |  \n |  __deepcopy__(self, memo)\n\n"
    }
   ],
   "source": [
    "help(system)"
   ]
  },
  {
   "cell_type": "code",
   "execution_count": null,
   "metadata": {},
   "outputs": [],
   "source": []
  }
 ],
 "metadata": {
  "language_info": {
   "codemirror_mode": {
    "name": "ipython",
    "version": 3
   },
   "file_extension": ".py",
   "mimetype": "text/x-python",
   "name": "python",
   "nbconvert_exporter": "python",
   "pygments_lexer": "ipython3",
   "version": "3.7.7-final"
  },
  "orig_nbformat": 2,
  "kernelspec": {
   "name": "python37764bitensemblerdevcondaa4593ef55eeb4c19ab962e621795cac3",
   "display_name": "Python 3.7.7 64-bit ('EnsemblerDev': conda)"
  }
 },
 "nbformat": 4,
 "nbformat_minor": 2
}