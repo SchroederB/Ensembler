{
 "metadata": {
  "language_info": {
   "codemirror_mode": {
    "name": "ipython",
    "version": 3
   },
   "file_extension": ".py",
   "mimetype": "text/x-python",
   "name": "python",
   "nbconvert_exporter": "python",
   "pygments_lexer": "ipython3",
   "version": 3
  },
  "orig_nbformat": 2,
  "kernelspec": {
   "name": "python_defaultSpec_1595255810750",
   "display_name": "Python 3.7.7 64-bit ('EnsemblerDev': conda)"
  }
 },
 "nbformat": 4,
 "nbformat_minor": 2,
 "cells": [
  {
   "cell_type": "code",
   "execution_count": 4,
   "metadata": {},
   "outputs": [],
   "source": [
    "##System Path\n",
    "import os, sys\n",
    "root = os.getcwd()\n",
    "path =root+\"/../../\"\n",
    "img_dir = root+\"/img\"\n",
    "sys.path.append(path)\n",
    "\n",
    "if(not os.path.exists(img_dir)):\n",
    "    os.mkdir(img_dir)"
   ]
  },
  {
   "cell_type": "code",
   "execution_count": 2,
   "metadata": {},
   "outputs": [],
   "source": [
    "#imports\n",
    "import numpy as np\n",
    "from ensembler.potentials import OneD as potentials1D\n",
    "from ensembler.visualisation import plotPotentials\n",
    "\n",
    "#phase space\n",
    "positions = np.linspace(start=0, stop=10, num=1000)\n",
    "\n",
    "#build potential\n",
    "V = potentials1D.fourWellPotential(a=1,b=4, c=6, d=8)\n",
    "\n",
    "#visualize\n",
    "fig, outpath = plotPotentials.plot_1DPotential_Term(potential=V, positions=positions, out_path=img_dir+\"/four_well.png\")\n",
    "\n",
    "\n"
   ]
  },
  {
   "cell_type": "code",
   "execution_count": 3,
   "metadata": {
    "tags": []
   },
   "outputs": [
    {
     "output_type": "display_data",
     "data": {
      "text/plain": "HBox(children=(FloatProgress(value=0.0, description='Simulation: ', max=5000.0, style=ProgressStyle(descriptio…",
      "application/vnd.jupyter.widget-view+json": {
       "version_major": 2,
       "version_minor": 0,
       "model_id": "17139e00ef4542df9342917021f26c55"
      }
     },
     "metadata": {}
    },
    {
     "output_type": "stream",
     "name": "stdout",
     "text": "initializing Langevin old Positions\t \n\n\n\n{'bodies': [<matplotlib.collections.PolyCollection object at 0x0000016CBC688CC8>]}\n"
    }
   ],
   "source": [
    "#Langevin integration simulation:\n",
    "##imports\n",
    "from ensembler.potentials.OneD import harmonicOscillatorPotential\n",
    "from ensembler.integrator.stochastic import langevinIntegrator\n",
    "from ensembler.system import system\n",
    "from ensembler.visualisation.plotSimulations import static_sim_plots\n",
    "\n",
    "##settings\n",
    "sim_steps = 5000\n",
    "time_step = 0.1\n",
    "start_position = 0\n",
    "temperature = 300\n",
    "\n",
    "##Simulation Setup\n",
    "pot=harmonicOscillatorPotential()\n",
    "integrator = langevinIntegrator(dt=time_step)\n",
    "sys=system(potential=pot, integrator=integrator,  position=start_position,  temperature=temperature)\n",
    "\n",
    "##simulate\n",
    "cur_state = sys.simulate(sim_steps)\n",
    "\n",
    "##visualize\n",
    "fig, out_path = static_sim_plots(sys, title=\"Langevin Simulation\", out_path=\"langevine_simulation.png\")"
   ]
  },
  {
   "cell_type": "code",
   "execution_count": null,
   "metadata": {},
   "outputs": [],
   "source": []
  }
 ]
}