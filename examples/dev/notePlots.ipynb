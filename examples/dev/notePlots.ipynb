{
 "cells": [
  {
   "cell_type": "code",
   "execution_count": 1,
   "metadata": {},
   "outputs": [
    {
     "data": {
      "text/plain": "'C:\\\\Users\\\\benja\\\\OneDrive - ETH Zürich\\\\PhD\\\\Code\\\\ensembler_public\\\\examples\\\\dev/img'"
     },
     "execution_count": 1,
     "metadata": {},
     "output_type": "execute_result"
    }
   ],
   "source": [
    "##System Path\n",
    "import os, sys, numpy as np\n",
    "root = os.getcwd()\n",
    "path =root+\"/../../\"\n",
    "img_dir = root+\"/img\"\n",
    "sys.path.append(path)\n",
    "\n",
    "if(not os.path.exists(img_dir)):\n",
    "    os.mkdir(img_dir)\n",
    "img_dir\n"
   ]
  },
  {
   "cell_type": "markdown",
   "metadata": {},
   "source": [
    "# Basic Examples\n",
    "## Potential"
   ]
  },
  {
   "cell_type": "code",
   "execution_count": 2,
   "metadata": {},
   "outputs": [
    {
     "data": {
      "text/plain": "<Figure size 243.78x150.664 with 2 Axes>",
      "image/png": "[encoded data removed]"
     },
     "metadata": {},
     "output_type": "display_data"
    }
   ],
   "source": [
    "#imports\n",
    "import numpy as np\n",
    "from ensembler.potentials.OneD import fourWellPotential\n",
    "from ensembler.visualisation.plotPotentials import plot_1DPotential\n",
    "\n",
    "#build potential\n",
    "V = fourWellPotential(Vmax=4, a=1.5, b=4.0, c=7.0, d=9.0,  ah=2., bh=0., ch=0.5, dh=1.)\n",
    "\n",
    "#visualize\n",
    "positions = np.linspace(start=0, stop=11, num=1000) #phase space to be visualized\n",
    "fig, outpath = plot_1DPotential(potential=V, positions=positions, title=\"Four Well Potential\")"
   ]
  },
  {
   "cell_type": "code",
   "execution_count": 3,
   "metadata": {},
   "outputs": [],
   "source": [
    "fig, outpath = plot_1DPotential(potential=V, positions=positions, title=\"Four Well Potential\", out_path=img_dir+\"/four_well.png\")\n"
   ]
  },
  {
   "cell_type": "code",
   "execution_count": 4,
   "metadata": {
    "tags": []
   },
   "outputs": [
    {
     "ename": "ImportError",
     "evalue": "cannot import name 'static_sim_plots' from 'ensembler.visualisation.plotSimulations' (C:\\Users\\benja\\OneDrive - ETH Zürich\\PhD\\Code\\ensembler_public\\examples\\dev/../..\\ensembler\\visualisation\\plotSimulations.py)",
     "output_type": "error",
     "traceback": [
      "\u001B[1;31m---------------------------------------------------------------------------\u001B[0m",
      "\u001B[1;31mImportError\u001B[0m                               Traceback (most recent call last)",
      "\u001B[1;32m<ipython-input-4-64c03cc3877a>\u001B[0m in \u001B[0;36m<module>\u001B[1;34m\u001B[0m\n\u001B[0;32m      4\u001B[0m \u001B[1;32mfrom\u001B[0m \u001B[0mensembler\u001B[0m\u001B[1;33m.\u001B[0m\u001B[0msamplers\u001B[0m\u001B[1;33m.\u001B[0m\u001B[0mstochastic\u001B[0m \u001B[1;32mimport\u001B[0m \u001B[0mlangevinIntegrator\u001B[0m\u001B[1;33m\u001B[0m\u001B[1;33m\u001B[0m\u001B[0m\n\u001B[0;32m      5\u001B[0m \u001B[1;32mfrom\u001B[0m \u001B[0mensembler\u001B[0m\u001B[1;33m.\u001B[0m\u001B[0msystem\u001B[0m \u001B[1;32mimport\u001B[0m \u001B[0msystem\u001B[0m\u001B[1;33m\u001B[0m\u001B[1;33m\u001B[0m\u001B[0m\n\u001B[1;32m----> 6\u001B[1;33m \u001B[1;32mfrom\u001B[0m \u001B[0mensembler\u001B[0m\u001B[1;33m.\u001B[0m\u001B[0mvisualisation\u001B[0m\u001B[1;33m.\u001B[0m\u001B[0mplotSimulations\u001B[0m \u001B[1;32mimport\u001B[0m \u001B[0mstatic_sim_plots\u001B[0m\u001B[1;33m\u001B[0m\u001B[1;33m\u001B[0m\u001B[0m\n\u001B[0m\u001B[0;32m      7\u001B[0m \u001B[1;33m\u001B[0m\u001B[0m\n\u001B[0;32m      8\u001B[0m \u001B[1;31m##Simulation Setup\u001B[0m\u001B[1;33m\u001B[0m\u001B[1;33m\u001B[0m\u001B[1;33m\u001B[0m\u001B[0m\n",
      "\u001B[1;31mImportError\u001B[0m: cannot import name 'static_sim_plots' from 'ensembler.visualisation.plotSimulations' (C:\\Users\\benja\\OneDrive - ETH Zürich\\PhD\\Code\\ensembler_public\\examples\\dev/../..\\ensembler\\visualisation\\plotSimulations.py)"
     ]
    }
   ],
   "source": [
    "#Langevin integration simulation:\n",
    "##Imports\n",
    "from ensembler.potentials.OneD import fourWellPotential\n",
    "from ensembler.samplers.stochastic import langevinIntegrator\n",
    "from ensembler.system import system\n",
    "from ensembler.visualisation.plotSimulations import static_sim_plots\n",
    "\n",
    "##Simulation Setup\n",
    "V = fourWellPotential(Vmax=4, a=1.5, b=4.0, c=7.0, d=9.0,  ah=2., bh=0., ch=0.5, dh=1.)\n",
    "\n",
    "sampler = langevinIntegrator(dt=0.1, gamma=10)\n",
    "\n",
    "system1 = system(potential=V, sampler=sampler,  start_position=4,  temperature=1)\n",
    "\n",
    "##Simulate\n",
    "cur_state = system1.simulate(steps=1000)\n",
    "\n",
    "##Visualize\n",
    "positions = np.linspace(start=0, stop=10, num=1000) #phase space to be visualized\n",
    "fig, out_path = static_sim_plots(system=system1, title=\"Langevin Simulation\", limits_coordinate_space=positions)\n"
   ]
  },
  {
   "cell_type": "code",
   "execution_count": null,
   "metadata": {},
   "outputs": [],
   "source": [
    "fig, out_pSath = static_sim_plots(system1, title=\"Langevin Simulation\", limits_coordinate_space=positions, out_path=img_dir+\"/langevin_simulation.png\")\n"
   ]
  },
  {
   "cell_type": "code",
   "execution_count": null,
   "metadata": {},
   "outputs": [],
   "source": [
    "#Local elevation/metadynamics simulation:\n",
    "##Imports\n",
    "from ensembler.potentials.OneD import fourWellPotential, metadynamicsPotential\n",
    "from ensembler.samplers.stochastic import langevinIntegrator\n",
    "from ensembler.system import system\n",
    "from ensembler.visualisation.plotSimulations import static_sim_plots\n",
    "\n",
    "##Simulation Setup\n",
    "origpot = fourWellPotential(Vmax=4, a=1.5, b=4.0, c=7.0, d=9.0,  ah=2., bh=0., ch=0.5, dh=1.)\n",
    "V = metadynamicsPotential(origpot, amplitude=0.5, sigma=0.2, n_trigger=5)\n",
    "\n",
    "sampler = langevinIntegrator(dt=0.1, gamma=10, old_Position=3)\n",
    "\n",
    "system2=system(potential=V, sampler=sampler, start_position=4, temperature=0.1)\n",
    "\n",
    "##Simulate\n",
    "cur_state = system2.simulate(steps=1000,withdraw_traj=True, init_system=True)\n",
    "\n",
    "##Visualize\n",
    "positions = np.linspace(start=0, stop=10, num=1000) #phase space to be visualized\n",
    "fig, out_path = static_sim_plots(system=system2, title=\"Local Elevation/Metadynamics Simulation\", limits_coordinate_space=positions)\n"
   ]
  },
  {
   "cell_type": "code",
   "execution_count": null,
   "metadata": {},
   "outputs": [],
   "source": [
    "##visualize\n",
    "fig, out_path = static_sim_plots(sys, title=\"Local Elevation/ Metadynamics\", x_range=positions, out_path=img_dir+\"/metaDynamics_simulation.png\")\n"
   ]
  },
  {
   "cell_type": "code",
   "execution_count": 5,
   "metadata": {},
   "outputs": [
    {
     "ename": "NameError",
     "evalue": "name 'system2' is not defined",
     "output_type": "error",
     "traceback": [
      "\u001B[1;31m---------------------------------------------------------------------------\u001B[0m",
      "\u001B[1;31mNameError\u001B[0m                                 Traceback (most recent call last)",
      "\u001B[1;32m<ipython-input-5-1fd02424dfe0>\u001B[0m in \u001B[0;36m<module>\u001B[1;34m\u001B[0m\n\u001B[1;32m----> 1\u001B[1;33m \u001B[0msystem2\u001B[0m\u001B[1;33m.\u001B[0m\u001B[0mtrajectory\u001B[0m\u001B[1;33m\u001B[0m\u001B[1;33m\u001B[0m\u001B[0m\n\u001B[0m\u001B[0;32m      2\u001B[0m \u001B[1;33m\u001B[0m\u001B[0m\n",
      "\u001B[1;31mNameError\u001B[0m: name 'system2' is not defined"
     ]
    }
   ],
   "source": [
    "system2.trajectory"
   ]
  },
  {
   "cell_type": "code",
   "execution_count": null,
   "outputs": [],
   "source": [
    "vars(sampler)"
   ],
   "metadata": {
    "collapsed": false,
    "pycharm": {
     "name": "#%%\n"
    }
   }
  },
  {
   "cell_type": "code",
   "execution_count": null,
   "outputs": [],
   "source": [],
   "metadata": {
    "collapsed": false,
    "pycharm": {
     "name": "#%%\n",
     "is_executing": true
    }
   }
  }
 ],
 "metadata": {
  "kernelspec": {
   "display_name": "Python 3.7.7 64-bit ('EnsemblerDev': conda)",
   "language": "python",
   "name": "python37764bitensemblerdevcondaa4593ef55eeb4c19ab962e621795cac3"
  },
  "language_info": {
   "codemirror_mode": {
    "name": "ipython",
    "version": 3
   },
   "file_extension": ".py",
   "mimetype": "text/x-python",
   "name": "python",
   "nbconvert_exporter": "python",
   "pygments_lexer": "ipython3",
   "version": "3.7.7"
  }
 },
 "nbformat": 4,
 "nbformat_minor": 2
}