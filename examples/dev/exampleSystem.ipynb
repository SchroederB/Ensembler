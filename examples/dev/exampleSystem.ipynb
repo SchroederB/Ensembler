{
 "cells": [
  {
   "cell_type": "code",
   "execution_count": 1,
   "metadata": {},
   "outputs": [
    {
     "name": "stdout",
     "output_type": "stream",
     "text": [
      "C:\\Users\\benja\\OneDrive - ETH Zürich\\PhD\\Code\\ensembler_public\\examples\\dev/../..\n"
     ]
    }
   ],
   "source": [
    "import os, sys\n",
    "path = os.getcwd()+\"/../..\"\n",
    "print(path)\n",
    "sys.path.append(path)    #give here the path to the folder containing the pac\n",
    "# kage,default does not work!!\n",
    "\n",
    "import numpy as np\n",
    "import pandas as pd\n",
    "\n",
    "from ensembler.system import basic_system as system, perturbed_system as perturbed\n",
    "from ensembler.integrator import  stochastic as integ\n",
    "import ensembler.potentials.OneD as pot\n",
    "\n",
    "test_performance_sim_steps = 100"
   ]
  },
  {
   "cell_type": "markdown",
   "metadata": {},
   "source": [
    "# Systems\n",
    "\n",
    "Systems are containers, that contain everything, that is needed to carry out a particle simulation "
   ]
  },
  {
   "cell_type": "markdown",
   "metadata": {},
   "source": [
    "## Basic System"
   ]
  },
  {
   "cell_type": "code",
   "execution_count": 2,
   "metadata": {},
   "outputs": [
    {
     "ename": "AttributeError",
     "evalue": "module 'ensembler.potentials.OneD' has no attribute 'harmonicOscillator'",
     "output_type": "error",
     "traceback": [
      "\u001B[1;31m---------------------------------------------------------------------------\u001B[0m",
      "\u001B[1;31mAttributeError\u001B[0m                            Traceback (most recent call last)",
      "\u001B[1;32m<ipython-input-2-1374008a0d2d>\u001B[0m in \u001B[0;36m<module>\u001B[1;34m\u001B[0m\n\u001B[0;32m      1\u001B[0m \u001B[1;31m#Build a system:\u001B[0m\u001B[1;33m\u001B[0m\u001B[1;33m\u001B[0m\u001B[1;33m\u001B[0m\u001B[0m\n\u001B[0;32m      2\u001B[0m \u001B[1;31m## Potential\u001B[0m\u001B[1;33m\u001B[0m\u001B[1;33m\u001B[0m\u001B[1;33m\u001B[0m\u001B[0m\n\u001B[1;32m----> 3\u001B[1;33m \u001B[0mV\u001B[0m \u001B[1;33m=\u001B[0m \u001B[0mpot\u001B[0m\u001B[1;33m.\u001B[0m\u001B[0mharmonicOscillator\u001B[0m\u001B[1;33m(\u001B[0m\u001B[0mk\u001B[0m\u001B[1;33m=\u001B[0m\u001B[1;36m5.0\u001B[0m\u001B[1;33m)\u001B[0m\u001B[1;33m\u001B[0m\u001B[1;33m\u001B[0m\u001B[0m\n\u001B[0m\u001B[0;32m      4\u001B[0m \u001B[1;31m## Integrator\u001B[0m\u001B[1;33m\u001B[0m\u001B[1;33m\u001B[0m\u001B[1;33m\u001B[0m\u001B[0m\n\u001B[0;32m      5\u001B[0m \u001B[0mintegrator\u001B[0m \u001B[1;33m=\u001B[0m \u001B[0minteg\u001B[0m\u001B[1;33m.\u001B[0m\u001B[0mmetropolisMonteCarloIntegrator\u001B[0m\u001B[1;33m(\u001B[0m\u001B[1;33m)\u001B[0m\u001B[1;33m\u001B[0m\u001B[1;33m\u001B[0m\u001B[0m\n",
      "\u001B[1;31mAttributeError\u001B[0m: module 'ensembler.potentials.OneD' has no attribute 'harmonicOscillator'"
     ]
    }
   ],
   "source": [
    "#Build a system:\n",
    "## Potential\n",
    "V = pot.harmonicOscillator(k=5.0)\n",
    "## Integrator\n",
    "integrator = integ.metropolisMonteCarloIntegrator()\n",
    "## System    \n",
    "sys = system.system(potential=V, integrator=integrator)"
   ]
  },
  {
   "cell_type": "code",
   "execution_count": null,
   "metadata": {},
   "outputs": [],
   "source": [
    "%time sys.simulate(test_performance_sim_steps)"
   ]
  },
  {
   "cell_type": "code",
   "execution_count": null,
   "metadata": {},
   "outputs": [],
   "source": [
    "sys.trajectory"
   ]
  },
  {
   "cell_type": "markdown",
   "metadata": {},
   "source": [
    "## Perturbed Systems"
   ]
  },
  {
   "cell_type": "code",
   "execution_count": null,
   "metadata": {},
   "outputs": [],
   "source": [
    "\n",
    "integrator = integ.metropolisMonteCarloIntegrator()\n",
    "\n",
    "sys = perturbed.perturbedSystem(lam=0.0, potential=pot.linearCoupledPotentials(), integrator=integrator)"
   ]
  },
  {
   "cell_type": "code",
   "execution_count": null,
   "metadata": {},
   "outputs": [],
   "source": [
    "%time sys.simulate(test_performance_sim_steps)"
   ]
  },
  {
   "cell_type": "code",
   "execution_count": null,
   "metadata": {},
   "outputs": [],
   "source": [
    "sys.trajectory"
   ]
  },
  {
   "cell_type": "markdown",
   "metadata": {},
   "source": [
    "### Test different lambdas"
   ]
  },
  {
   "cell_type": "code",
   "execution_count": null,
   "metadata": {},
   "outputs": [],
   "source": [
    "integrator = integ.metropolisMonteCarloIntegrator()\n",
    "sys=[system.perturbedSystem(lam=0.0, potential=pot.linearCoupledPotentials(), integrator=integrator), \n",
    "     system.perturbedSystem(lam=1.0, potential=pot.linearCoupledPotentials(), integrator=integrator)]\n"
   ]
  },
  {
   "cell_type": "code",
   "execution_count": null,
   "metadata": {},
   "outputs": [],
   "source": [
    "traj=[]\n",
    "for s in sys:\n",
    "    s.set_position(0.0)\n",
    "    s.simulate(1000, withdrawTraj=True)\n",
    "    \n",
    "    t= s.trajectory\n",
    "    t.position = np.array(t.position.values.tolist()).flatten()\n",
    "    t.dhdlam =  pd.Series(s.potential._calculate_dVdlam(np.array(t.position.values.tolist()).flatten()))\n",
    "    traj.append(t)\n"
   ]
  },
  {
   "cell_type": "code",
   "execution_count": null,
   "metadata": {},
   "outputs": [],
   "source": [
    "import matplotlib.pyplot  as plt\n",
    "from mpl_toolkits.mplot3d import Axes3D\n",
    "from matplotlib import cm\n",
    "from matplotlib import colorbar\n",
    "%matplotlib inline\n",
    "\n",
    "fig, ax=plt.subplots(3, 2, figsize=[15,10])\n",
    "labels=['Position /nm', 'Potential Energy /$\\mathrm{kJ}\\, \\mathrm{mol}^{-1}$', '$ \\partial \\mathcal{H} \\\n",
    "/ \\partial \\lambda  \\, / \\mathrm{kJ} \\, \\mathrm{mol}^{-1}$']\n",
    "for s in range(2):\n",
    "    hist=[]\n",
    "    for i, j in enumerate(['position', 'totPotEnergy', ]): #'dhdlam']):\n",
    "        hist.append(np.histogram(traj[s][j][0], bins=30, density=1))\n",
    "        ax[i,0].plot(traj[s].index, traj[s][j],'.', label='$\\lambda={:d}$'.format(s))\n",
    "        ax[i,0].set_ylabel(labels[i])\n",
    "        ax[i,1].plot(hist[i][0], hist[i][1][:-1]+(hist[i][1][1]-hist[i][1][0])/2.0,label='$\\lambda={:d}$'.format(s))\n",
    "        ax[i,1].legend()\n",
    "ax[2,0].set_xlabel('Step')\n",
    "ax[2,1].set_xlabel('Density')\n",
    "ax[2,1].set_ylim(0,20)\n",
    "ax[2,1].legend()"
   ]
  },
  {
   "cell_type": "markdown",
   "metadata": {},
   "source": [
    "## Enveloped System"
   ]
  },
  {
   "cell_type": "code",
   "execution_count": null,
   "metadata": {},
   "outputs": [],
   "source": [
    "#Build a system:\n",
    "## Potential\n",
    "w1 = pot.harmonicOscillator(x_shift=-2)\n",
    "w2 = pot.harmonicOscillator(x_shift=2)\n",
    "V = pot.envelopedPotential(V_is=[w1,w2], Eoff_i=[0,0])\n",
    "\n",
    "## Integrator\n",
    "integrator = integ.metropolisMonteCarloIntegrator()\n",
    "## System    \n",
    "sys = system.edsSystem(potential=V, integrator=integrator)"
   ]
  },
  {
   "cell_type": "code",
   "execution_count": null,
   "metadata": {},
   "outputs": [],
   "source": [
    "%time sys.simulate(test_performance_sim_steps)"
   ]
  },
  {
   "cell_type": "code",
   "execution_count": null,
   "metadata": {},
   "outputs": [],
   "source": [
    "sys.trajectory"
   ]
  },
  {
   "cell_type": "code",
   "execution_count": null,
   "metadata": {},
   "outputs": [],
   "source": []
  }
 ],
 "metadata": {
  "kernelspec": {
   "name": "pycharm-1d975009",
   "language": "python",
   "display_name": "PyCharm (Code)"
  },
  "language_info": {
   "codemirror_mode": {
    "name": "ipython",
    "version": 3
   },
   "file_extension": ".py",
   "mimetype": "text/x-python",
   "name": "python",
   "nbconvert_exporter": "python",
   "pygments_lexer": "ipython3",
   "version": "3.7.4-final"
  }
 },
 "nbformat": 4,
 "nbformat_minor": 2
}