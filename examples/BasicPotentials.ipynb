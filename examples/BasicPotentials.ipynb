{
 "cells": [
  {
   "cell_type": "markdown",
   "metadata": {},
   "source": [
    "# Potentials\n",
    "\n",
    "In this Notebook you can find the different Potentials, that are already implemented and can be used for your projects. Play around with the parameters to get familiar with the Potentials\n",
    "\n",
    "\n",
    "Here you also can find classical Potentials like the harmonic Oscillator or the Lennard Jones Potential.\n"
   ]
  },
  {
   "cell_type": "code",
   "execution_count": 1,
   "metadata": {},
   "outputs": [],
   "source": [
    "import os, sys\n",
    "path = \"../\"\n",
    "sys.path.append(path)\n",
    "\n",
    "\n",
    "import numpy as np\n",
    "from matplotlib import pyplot as plt\n",
    "\n",
    "#Ensembler\n",
    "from ensembler.potentials import OneD as potentials1D\n",
    "from ensembler.potentials import TwoD as potentials2D\n",
    "\n",
    "#Plotting:\n",
    "import ensembler.visualisation.plotPotentials as vis\n",
    "\n",
    "#params\n",
    "test_timing_with_points =100"
   ]
  },
  {
   "cell_type": "code",
   "execution_count": 2,
   "metadata": {
    "pycharm": {
     "name": "#%%\n"
    }
   },
   "outputs": [],
   "source": [
    "import numpy as np\n",
    "from ensembler.potentials import OneD as potentials1D\n",
    "import ensembler.visualisation.plotPotentials as vis"
   ]
  },
  {
   "cell_type": "code",
   "execution_count": 3,
   "metadata": {},
   "outputs": [
    {
     "data": {
      "text/plain": [
       "'C:\\\\Users\\\\benja\\\\OneDrive - ETH Zürich\\\\PhD\\\\Code\\\\ensembler_public\\\\examples'"
      ]
     },
     "execution_count": 3,
     "metadata": {},
     "output_type": "execute_result"
    }
   ],
   "source": [
    "os.getcwd()"
   ]
  },
  {
   "cell_type": "markdown",
   "metadata": {},
   "source": [
    "## Classics"
   ]
  },
  {
   "cell_type": "markdown",
   "metadata": {},
   "source": [
    "### Harmonic Oscillator\n",
    "\n",
    "The Harmonic Oscillator is one of the most used modelling potentials1D. Its based on hooke's law and can be used to describe obviously springs, but also covalent bonds of two atoms and many more physical relations.\n",
    "\n",
    "\n",
    "Functional:\n",
    "\n",
    "$V =  \\frac{1}{2}*k*(r - r_0)^2+V_{offset} $\n",
    "\n",
    "with:\n",
    "* $k$ force constant\n",
    "* $r_0$ optimal position (optimal covalent bond length)\n",
    "* $r$ current position (current bond length)\n",
    "* $V_{offset}$ minimal potential energy offset\n",
    "\n",
    "first partial deviation by r\n",
    "\n",
    "$\\frac{\\partial V}{\\partial r} = k*(r - r_0) $\n",
    "\n",
    "\n",
    "\n",
    "#### 1D"
   ]
  },
  {
   "cell_type": "code",
   "execution_count": 4,
   "metadata": {
    "tags": []
   },
   "outputs": [
    {
     "name": "stdout",
     "output_type": "stream",
     "text": [
      "calculate 100 positions: \n",
      "Wall time: 0 ns\n",
      "\n",
      "Visualization\n"
     ]
    },
    {
     "data": {
      "image/png": "[encoded data removed]",
      "text/plain": [
       "<Figure size 432x288 with 2 Axes>"
      ]
     },
     "metadata": {
      "needs_background": "light"
     },
     "output_type": "display_data"
    }
   ],
   "source": [
    "# 1D\n",
    "positions = np.linspace(-10,10, test_timing_with_points)\n",
    "\n",
    "V = potentials1D.harmonicOscillatorPotential()\n",
    "#print(V)\n",
    "\n",
    "print(\"calculate \"+str(len(positions))+\" positions: \")\n",
    "%time V.ene(positions)\n",
    "\n",
    "print(\"\\nVisualization\")\n",
    "fig, axes = vis.plot_1DPotential_Term(V, positions=positions)\n",
    "\n",
    "#fig.savefig(\"harmonic_Oscillator.png\")"
   ]
  },
  {
   "cell_type": "markdown",
   "metadata": {},
   "source": [
    "#### 2D"
   ]
  },
  {
   "cell_type": "code",
   "execution_count": 5,
   "metadata": {
    "tags": []
   },
   "outputs": [
    {
     "name": "stdout",
     "output_type": "stream",
     "text": [
      "calculate 100 positions: \n"
     ]
    },
    {
     "ename": "IndexError",
     "evalue": "index 1 is out of bounds for axis 0 with size 1",
     "output_type": "error",
     "traceback": [
      "\u001b[1;31m---------------------------------------------------------------------------\u001b[0m",
      "\u001b[1;31mIndexError\u001b[0m                                Traceback (most recent call last)",
      "\u001b[1;32m<timed eval>\u001b[0m in \u001b[0;36m<module>\u001b[1;34m\u001b[0m\n",
      "\u001b[1;32m~\\OneDrive - ETH Zürich\\PhD\\Code\\ensembler_public\\ensembler\\potentials\\_basicPotentials.py\u001b[0m in \u001b[0;36mene\u001b[1;34m(self, positions)\u001b[0m\n\u001b[0;32m    113\u001b[0m \u001b[1;33m\u001b[0m\u001b[0m\n\u001b[0;32m    114\u001b[0m     \u001b[1;32mdef\u001b[0m \u001b[0mene\u001b[0m\u001b[1;33m(\u001b[0m\u001b[0mself\u001b[0m\u001b[1;33m,\u001b[0m \u001b[0mpositions\u001b[0m\u001b[1;33m:\u001b[0m \u001b[0mUnion\u001b[0m\u001b[1;33m[\u001b[0m\u001b[0mNumber\u001b[0m\u001b[1;33m,\u001b[0m \u001b[0mSized\u001b[0m\u001b[1;33m]\u001b[0m\u001b[1;33m)\u001b[0m\u001b[1;33m->\u001b[0m\u001b[0mUnion\u001b[0m\u001b[1;33m[\u001b[0m\u001b[0mNumber\u001b[0m\u001b[1;33m,\u001b[0m \u001b[0mSized\u001b[0m\u001b[1;33m]\u001b[0m\u001b[1;33m:\u001b[0m\u001b[1;33m\u001b[0m\u001b[1;33m\u001b[0m\u001b[0m\n\u001b[1;32m--> 115\u001b[1;33m         \u001b[1;32mreturn\u001b[0m \u001b[0mnp\u001b[0m\u001b[1;33m.\u001b[0m\u001b[0msqueeze\u001b[0m\u001b[1;33m(\u001b[0m\u001b[0mself\u001b[0m\u001b[1;33m.\u001b[0m\u001b[0m_calculate_energies\u001b[0m\u001b[1;33m(\u001b[0m\u001b[1;33m*\u001b[0m\u001b[0mnp\u001b[0m\u001b[1;33m.\u001b[0m\u001b[0mhsplit\u001b[0m\u001b[1;33m(\u001b[0m\u001b[0mpositions\u001b[0m\u001b[1;33m,\u001b[0m \u001b[0mself\u001b[0m\u001b[1;33m.\u001b[0m\u001b[0mconstants\u001b[0m\u001b[1;33m[\u001b[0m\u001b[0mself\u001b[0m\u001b[1;33m.\u001b[0m\u001b[0mnDim\u001b[0m\u001b[1;33m]\u001b[0m\u001b[1;33m)\u001b[0m\u001b[1;33m)\u001b[0m\u001b[1;33m)\u001b[0m\u001b[1;33m\u001b[0m\u001b[1;33m\u001b[0m\u001b[0m\n\u001b[0m\u001b[0;32m    116\u001b[0m \u001b[1;33m\u001b[0m\u001b[0m\n\u001b[0;32m    117\u001b[0m \u001b[1;33m\u001b[0m\u001b[0m\n",
      "\u001b[1;32m<lambdifygenerated-19>\u001b[0m in \u001b[0;36m_lambdifygenerated\u001b[1;34m(r_0, r_1)\u001b[0m\n\u001b[0;32m      1\u001b[0m \u001b[1;32mdef\u001b[0m \u001b[0m_lambdifygenerated\u001b[0m\u001b[1;33m(\u001b[0m\u001b[0mr_0\u001b[0m\u001b[1;33m,\u001b[0m \u001b[0mr_1\u001b[0m\u001b[1;33m)\u001b[0m\u001b[1;33m:\u001b[0m\u001b[1;33m\u001b[0m\u001b[1;33m\u001b[0m\u001b[0m\n\u001b[1;32m----> 2\u001b[1;33m     \u001b[1;32mreturn\u001b[0m \u001b[1;33m(\u001b[0m\u001b[1;33m(\u001b[0m\u001b[0mbuiltins\u001b[0m\u001b[1;33m.\u001b[0m\u001b[0msum\u001b[0m\u001b[1;33m(\u001b[0m\u001b[0marray\u001b[0m\u001b[1;33m(\u001b[0m\u001b[1;33m[\u001b[0m\u001b[1;33m[\u001b[0m\u001b[0mV_off\u001b[0m \u001b[1;33m+\u001b[0m \u001b[1;36m0.5\u001b[0m\u001b[1;33m*\u001b[0m\u001b[0mk\u001b[0m\u001b[1;33m*\u001b[0m\u001b[0mr\u001b[0m\u001b[1;33m**\u001b[0m\u001b[1;36m2\u001b[0m \u001b[1;33m-\u001b[0m \u001b[1;36m1.0\u001b[0m\u001b[1;33m*\u001b[0m\u001b[0mk\u001b[0m\u001b[1;33m*\u001b[0m\u001b[0mr\u001b[0m\u001b[1;33m*\u001b[0m\u001b[0mr_shift\u001b[0m \u001b[1;33m+\u001b[0m \u001b[1;36m0.5\u001b[0m\u001b[1;33m*\u001b[0m\u001b[0mk\u001b[0m\u001b[1;33m*\u001b[0m\u001b[0mr_shift\u001b[0m\u001b[1;33m**\u001b[0m\u001b[1;36m2\u001b[0m\u001b[1;33m]\u001b[0m\u001b[1;33m]\u001b[0m\u001b[1;33m)\u001b[0m\u001b[1;33m[\u001b[0m\u001b[0mi\u001b[0m\u001b[1;33m,\u001b[0m \u001b[1;36m0\u001b[0m\u001b[1;33m]\u001b[0m \u001b[1;32mfor\u001b[0m \u001b[0mi\u001b[0m \u001b[1;32min\u001b[0m \u001b[0mrange\u001b[0m\u001b[1;33m(\u001b[0m\u001b[1;36m0\u001b[0m\u001b[1;33m,\u001b[0m \u001b[1;36m2\u001b[0m\u001b[1;33m+\u001b[0m\u001b[1;36m1\u001b[0m\u001b[1;33m)\u001b[0m\u001b[1;33m)\u001b[0m\u001b[1;33m)\u001b[0m\u001b[1;33m)\u001b[0m\u001b[1;33m\u001b[0m\u001b[1;33m\u001b[0m\u001b[0m\n\u001b[0m",
      "\u001b[1;32m<lambdifygenerated-19>\u001b[0m in \u001b[0;36m<genexpr>\u001b[1;34m(.0)\u001b[0m\n\u001b[0;32m      1\u001b[0m \u001b[1;32mdef\u001b[0m \u001b[0m_lambdifygenerated\u001b[0m\u001b[1;33m(\u001b[0m\u001b[0mr_0\u001b[0m\u001b[1;33m,\u001b[0m \u001b[0mr_1\u001b[0m\u001b[1;33m)\u001b[0m\u001b[1;33m:\u001b[0m\u001b[1;33m\u001b[0m\u001b[1;33m\u001b[0m\u001b[0m\n\u001b[1;32m----> 2\u001b[1;33m     \u001b[1;32mreturn\u001b[0m \u001b[1;33m(\u001b[0m\u001b[1;33m(\u001b[0m\u001b[0mbuiltins\u001b[0m\u001b[1;33m.\u001b[0m\u001b[0msum\u001b[0m\u001b[1;33m(\u001b[0m\u001b[0marray\u001b[0m\u001b[1;33m(\u001b[0m\u001b[1;33m[\u001b[0m\u001b[1;33m[\u001b[0m\u001b[0mV_off\u001b[0m \u001b[1;33m+\u001b[0m \u001b[1;36m0.5\u001b[0m\u001b[1;33m*\u001b[0m\u001b[0mk\u001b[0m\u001b[1;33m*\u001b[0m\u001b[0mr\u001b[0m\u001b[1;33m**\u001b[0m\u001b[1;36m2\u001b[0m \u001b[1;33m-\u001b[0m \u001b[1;36m1.0\u001b[0m\u001b[1;33m*\u001b[0m\u001b[0mk\u001b[0m\u001b[1;33m*\u001b[0m\u001b[0mr\u001b[0m\u001b[1;33m*\u001b[0m\u001b[0mr_shift\u001b[0m \u001b[1;33m+\u001b[0m \u001b[1;36m0.5\u001b[0m\u001b[1;33m*\u001b[0m\u001b[0mk\u001b[0m\u001b[1;33m*\u001b[0m\u001b[0mr_shift\u001b[0m\u001b[1;33m**\u001b[0m\u001b[1;36m2\u001b[0m\u001b[1;33m]\u001b[0m\u001b[1;33m]\u001b[0m\u001b[1;33m)\u001b[0m\u001b[1;33m[\u001b[0m\u001b[0mi\u001b[0m\u001b[1;33m,\u001b[0m \u001b[1;36m0\u001b[0m\u001b[1;33m]\u001b[0m \u001b[1;32mfor\u001b[0m \u001b[0mi\u001b[0m \u001b[1;32min\u001b[0m \u001b[0mrange\u001b[0m\u001b[1;33m(\u001b[0m\u001b[1;36m0\u001b[0m\u001b[1;33m,\u001b[0m \u001b[1;36m2\u001b[0m\u001b[1;33m+\u001b[0m\u001b[1;36m1\u001b[0m\u001b[1;33m)\u001b[0m\u001b[1;33m)\u001b[0m\u001b[1;33m)\u001b[0m\u001b[1;33m)\u001b[0m\u001b[1;33m\u001b[0m\u001b[1;33m\u001b[0m\u001b[0m\n\u001b[0m",
      "\u001b[1;31mIndexError\u001b[0m: index 1 is out of bounds for axis 0 with size 1"
     ]
    },
    {
     "name": "stdout",
     "output_type": "stream",
     "text": [
      "\n",
      "Visualization\n"
     ]
    },
    {
     "ename": "IndexError",
     "evalue": "index 1 is out of bounds for axis 0 with size 1",
     "output_type": "error",
     "traceback": [
      "\u001b[1;31m---------------------------------------------------------------------------\u001b[0m",
      "\u001b[1;31mIndexError\u001b[0m                                Traceback (most recent call last)",
      "\u001b[1;32m<ipython-input-5-37279cefecea>\u001b[0m in \u001b[0;36m<module>\u001b[1;34m\u001b[0m\n\u001b[0;32m     12\u001b[0m \u001b[1;33m\u001b[0m\u001b[0m\n\u001b[0;32m     13\u001b[0m \u001b[0mprint\u001b[0m\u001b[1;33m(\u001b[0m\u001b[1;34m\"\\nVisualization\"\u001b[0m\u001b[1;33m)\u001b[0m\u001b[1;33m\u001b[0m\u001b[1;33m\u001b[0m\u001b[0m\n\u001b[1;32m---> 14\u001b[1;33m \u001b[0mplt\u001b[0m\u001b[1;33m.\u001b[0m\u001b[0mimshow\u001b[0m\u001b[1;33m(\u001b[0m\u001b[0mV\u001b[0m\u001b[1;33m.\u001b[0m\u001b[0mene\u001b[0m\u001b[1;33m(\u001b[0m\u001b[0mpositions2D\u001b[0m\u001b[1;33m)\u001b[0m\u001b[1;33m.\u001b[0m\u001b[0mreshape\u001b[0m\u001b[1;33m(\u001b[0m\u001b[1;33m[\u001b[0m\u001b[0mtest_timing_with_points\u001b[0m\u001b[1;33m,\u001b[0m\u001b[0mtest_timing_with_points\u001b[0m\u001b[1;33m]\u001b[0m\u001b[1;33m)\u001b[0m\u001b[1;33m)\u001b[0m\u001b[1;33m\u001b[0m\u001b[1;33m\u001b[0m\u001b[0m\n\u001b[0m",
      "\u001b[1;32m~\\OneDrive - ETH Zürich\\PhD\\Code\\ensembler_public\\ensembler\\potentials\\_basicPotentials.py\u001b[0m in \u001b[0;36mene\u001b[1;34m(self, positions)\u001b[0m\n\u001b[0;32m    113\u001b[0m \u001b[1;33m\u001b[0m\u001b[0m\n\u001b[0;32m    114\u001b[0m     \u001b[1;32mdef\u001b[0m \u001b[0mene\u001b[0m\u001b[1;33m(\u001b[0m\u001b[0mself\u001b[0m\u001b[1;33m,\u001b[0m \u001b[0mpositions\u001b[0m\u001b[1;33m:\u001b[0m \u001b[0mUnion\u001b[0m\u001b[1;33m[\u001b[0m\u001b[0mNumber\u001b[0m\u001b[1;33m,\u001b[0m \u001b[0mSized\u001b[0m\u001b[1;33m]\u001b[0m\u001b[1;33m)\u001b[0m\u001b[1;33m->\u001b[0m\u001b[0mUnion\u001b[0m\u001b[1;33m[\u001b[0m\u001b[0mNumber\u001b[0m\u001b[1;33m,\u001b[0m \u001b[0mSized\u001b[0m\u001b[1;33m]\u001b[0m\u001b[1;33m:\u001b[0m\u001b[1;33m\u001b[0m\u001b[1;33m\u001b[0m\u001b[0m\n\u001b[1;32m--> 115\u001b[1;33m         \u001b[1;32mreturn\u001b[0m \u001b[0mnp\u001b[0m\u001b[1;33m.\u001b[0m\u001b[0msqueeze\u001b[0m\u001b[1;33m(\u001b[0m\u001b[0mself\u001b[0m\u001b[1;33m.\u001b[0m\u001b[0m_calculate_energies\u001b[0m\u001b[1;33m(\u001b[0m\u001b[1;33m*\u001b[0m\u001b[0mnp\u001b[0m\u001b[1;33m.\u001b[0m\u001b[0mhsplit\u001b[0m\u001b[1;33m(\u001b[0m\u001b[0mpositions\u001b[0m\u001b[1;33m,\u001b[0m \u001b[0mself\u001b[0m\u001b[1;33m.\u001b[0m\u001b[0mconstants\u001b[0m\u001b[1;33m[\u001b[0m\u001b[0mself\u001b[0m\u001b[1;33m.\u001b[0m\u001b[0mnDim\u001b[0m\u001b[1;33m]\u001b[0m\u001b[1;33m)\u001b[0m\u001b[1;33m)\u001b[0m\u001b[1;33m)\u001b[0m\u001b[1;33m\u001b[0m\u001b[1;33m\u001b[0m\u001b[0m\n\u001b[0m\u001b[0;32m    116\u001b[0m \u001b[1;33m\u001b[0m\u001b[0m\n\u001b[0;32m    117\u001b[0m \u001b[1;33m\u001b[0m\u001b[0m\n",
      "\u001b[1;32m<lambdifygenerated-19>\u001b[0m in \u001b[0;36m_lambdifygenerated\u001b[1;34m(r_0, r_1)\u001b[0m\n\u001b[0;32m      1\u001b[0m \u001b[1;32mdef\u001b[0m \u001b[0m_lambdifygenerated\u001b[0m\u001b[1;33m(\u001b[0m\u001b[0mr_0\u001b[0m\u001b[1;33m,\u001b[0m \u001b[0mr_1\u001b[0m\u001b[1;33m)\u001b[0m\u001b[1;33m:\u001b[0m\u001b[1;33m\u001b[0m\u001b[1;33m\u001b[0m\u001b[0m\n\u001b[1;32m----> 2\u001b[1;33m     \u001b[1;32mreturn\u001b[0m \u001b[1;33m(\u001b[0m\u001b[1;33m(\u001b[0m\u001b[0mbuiltins\u001b[0m\u001b[1;33m.\u001b[0m\u001b[0msum\u001b[0m\u001b[1;33m(\u001b[0m\u001b[0marray\u001b[0m\u001b[1;33m(\u001b[0m\u001b[1;33m[\u001b[0m\u001b[1;33m[\u001b[0m\u001b[0mV_off\u001b[0m \u001b[1;33m+\u001b[0m \u001b[1;36m0.5\u001b[0m\u001b[1;33m*\u001b[0m\u001b[0mk\u001b[0m\u001b[1;33m*\u001b[0m\u001b[0mr\u001b[0m\u001b[1;33m**\u001b[0m\u001b[1;36m2\u001b[0m \u001b[1;33m-\u001b[0m \u001b[1;36m1.0\u001b[0m\u001b[1;33m*\u001b[0m\u001b[0mk\u001b[0m\u001b[1;33m*\u001b[0m\u001b[0mr\u001b[0m\u001b[1;33m*\u001b[0m\u001b[0mr_shift\u001b[0m \u001b[1;33m+\u001b[0m \u001b[1;36m0.5\u001b[0m\u001b[1;33m*\u001b[0m\u001b[0mk\u001b[0m\u001b[1;33m*\u001b[0m\u001b[0mr_shift\u001b[0m\u001b[1;33m**\u001b[0m\u001b[1;36m2\u001b[0m\u001b[1;33m]\u001b[0m\u001b[1;33m]\u001b[0m\u001b[1;33m)\u001b[0m\u001b[1;33m[\u001b[0m\u001b[0mi\u001b[0m\u001b[1;33m,\u001b[0m \u001b[1;36m0\u001b[0m\u001b[1;33m]\u001b[0m \u001b[1;32mfor\u001b[0m \u001b[0mi\u001b[0m \u001b[1;32min\u001b[0m \u001b[0mrange\u001b[0m\u001b[1;33m(\u001b[0m\u001b[1;36m0\u001b[0m\u001b[1;33m,\u001b[0m \u001b[1;36m2\u001b[0m\u001b[1;33m+\u001b[0m\u001b[1;36m1\u001b[0m\u001b[1;33m)\u001b[0m\u001b[1;33m)\u001b[0m\u001b[1;33m)\u001b[0m\u001b[1;33m)\u001b[0m\u001b[1;33m\u001b[0m\u001b[1;33m\u001b[0m\u001b[0m\n\u001b[0m",
      "\u001b[1;32m<lambdifygenerated-19>\u001b[0m in \u001b[0;36m<genexpr>\u001b[1;34m(.0)\u001b[0m\n\u001b[0;32m      1\u001b[0m \u001b[1;32mdef\u001b[0m \u001b[0m_lambdifygenerated\u001b[0m\u001b[1;33m(\u001b[0m\u001b[0mr_0\u001b[0m\u001b[1;33m,\u001b[0m \u001b[0mr_1\u001b[0m\u001b[1;33m)\u001b[0m\u001b[1;33m:\u001b[0m\u001b[1;33m\u001b[0m\u001b[1;33m\u001b[0m\u001b[0m\n\u001b[1;32m----> 2\u001b[1;33m     \u001b[1;32mreturn\u001b[0m \u001b[1;33m(\u001b[0m\u001b[1;33m(\u001b[0m\u001b[0mbuiltins\u001b[0m\u001b[1;33m.\u001b[0m\u001b[0msum\u001b[0m\u001b[1;33m(\u001b[0m\u001b[0marray\u001b[0m\u001b[1;33m(\u001b[0m\u001b[1;33m[\u001b[0m\u001b[1;33m[\u001b[0m\u001b[0mV_off\u001b[0m \u001b[1;33m+\u001b[0m \u001b[1;36m0.5\u001b[0m\u001b[1;33m*\u001b[0m\u001b[0mk\u001b[0m\u001b[1;33m*\u001b[0m\u001b[0mr\u001b[0m\u001b[1;33m**\u001b[0m\u001b[1;36m2\u001b[0m \u001b[1;33m-\u001b[0m \u001b[1;36m1.0\u001b[0m\u001b[1;33m*\u001b[0m\u001b[0mk\u001b[0m\u001b[1;33m*\u001b[0m\u001b[0mr\u001b[0m\u001b[1;33m*\u001b[0m\u001b[0mr_shift\u001b[0m \u001b[1;33m+\u001b[0m \u001b[1;36m0.5\u001b[0m\u001b[1;33m*\u001b[0m\u001b[0mk\u001b[0m\u001b[1;33m*\u001b[0m\u001b[0mr_shift\u001b[0m\u001b[1;33m**\u001b[0m\u001b[1;36m2\u001b[0m\u001b[1;33m]\u001b[0m\u001b[1;33m]\u001b[0m\u001b[1;33m)\u001b[0m\u001b[1;33m[\u001b[0m\u001b[0mi\u001b[0m\u001b[1;33m,\u001b[0m \u001b[1;36m0\u001b[0m\u001b[1;33m]\u001b[0m \u001b[1;32mfor\u001b[0m \u001b[0mi\u001b[0m \u001b[1;32min\u001b[0m \u001b[0mrange\u001b[0m\u001b[1;33m(\u001b[0m\u001b[1;36m0\u001b[0m\u001b[1;33m,\u001b[0m \u001b[1;36m2\u001b[0m\u001b[1;33m+\u001b[0m\u001b[1;36m1\u001b[0m\u001b[1;33m)\u001b[0m\u001b[1;33m)\u001b[0m\u001b[1;33m)\u001b[0m\u001b[1;33m)\u001b[0m\u001b[1;33m\u001b[0m\u001b[1;33m\u001b[0m\u001b[0m\n\u001b[0m",
      "\u001b[1;31mIndexError\u001b[0m: index 1 is out of bounds for axis 0 with size 1"
     ]
    }
   ],
   "source": [
    "# 2D\n",
    "positions = np.linspace(-4, 4, test_timing_with_points)\n",
    "x_positions, y_positions = np.meshgrid(positions,positions)\n",
    "positions2D = np.array([x_positions.flatten(), y_positions.flatten()]).T\n",
    "\n",
    "V = potentials2D.harmonicOscillatorPotential()\n",
    "#print(V)\n",
    "\n",
    "print(\"calculate \"+str(len(positions))+\" positions: \")\n",
    "%time V.ene(positions2D)\n",
    "\n",
    "\n",
    "print(\"\\nVisualization\")\n",
    "plt.imshow(V.ene(positions2D).reshape([test_timing_with_points,test_timing_with_points]))"
   ]
  },
  {
   "cell_type": "markdown",
   "metadata": {},
   "source": [
    "### Double Well Potential\n",
    "The double well is a very nice potential.\n",
    "\n",
    "Functional:\n",
    "\n",
    "$V = \\frac{V_{max}}{b^4}*((-\\frac{a}{2} + r)^2-b^2)^2$\n",
    "\n",
    "\n",
    "first order derivative\n",
    "\n",
    "$\\frac{\\partial V}{\\partial r} = \\frac{V_max}{b^4}*(-2a + 4r)*((-a/2 + r)^2-b^2) $"
   ]
  },
  {
   "cell_type": "code",
   "execution_count": 6,
   "metadata": {
    "tags": []
   },
   "outputs": [
    {
     "name": "stdout",
     "output_type": "stream",
     "text": [
      "calculate 100 positions: \n",
      "Wall time: 0 ns\n",
      "\n",
      "Visualization\n"
     ]
    },
    {
     "data": {
      "image/png": "[encoded data removed]",
      "text/plain": [
       "<Figure size 432x288 with 2 Axes>"
      ]
     },
     "metadata": {
      "needs_background": "light"
     },
     "output_type": "display_data"
    }
   ],
   "source": [
    "positions = np.linspace(-3, 3, test_timing_with_points)\n",
    "\n",
    "V = potentials1D.doubleWellPotential(a=0, b=1, Vmax=5)\n",
    "#print(V)\n",
    "\n",
    "print(\"calculate \"+str(len(positions))+\" positions: \")\n",
    "%time V.ene(positions)\n",
    "\n",
    "print(\"\\nVisualization\")\n",
    "fig, axes = vis.plot_1DPotential_Term(V, positions=positions, y_range=[-50,50])\n",
    "fig.axes[0].set_ylim([0,10])\n",
    "fig.savefig(\"double_well.png\")\n",
    "\n",
    "pass"
   ]
  },
  {
   "cell_type": "markdown",
   "metadata": {},
   "source": [
    "# Four Well Potential"
   ]
  },
  {
   "cell_type": "code",
   "execution_count": 2,
   "metadata": {
    "tags": []
   },
   "outputs": [
    {
     "ename": "NameError",
     "evalue": "name 'np' is not defined",
     "output_type": "error",
     "traceback": [
      "\u001b[1;31m---------------------------------------------------------------------------\u001b[0m",
      "\u001b[1;31mNameError\u001b[0m                                 Traceback (most recent call last)",
      "\u001b[1;32m<ipython-input-2-b7697abf4899>\u001b[0m in \u001b[0;36m<module>\u001b[1;34m\u001b[0m\n\u001b[0;32m      1\u001b[0m \u001b[1;31m#phase space\u001b[0m\u001b[1;33m\u001b[0m\u001b[1;33m\u001b[0m\u001b[1;33m\u001b[0m\u001b[0m\n\u001b[1;32m----> 2\u001b[1;33m \u001b[0mpositions\u001b[0m \u001b[1;33m=\u001b[0m \u001b[0mnp\u001b[0m\u001b[1;33m.\u001b[0m\u001b[0mlinspace\u001b[0m\u001b[1;33m(\u001b[0m\u001b[1;36m0\u001b[0m\u001b[1;33m,\u001b[0m \u001b[1;36m10\u001b[0m\u001b[1;33m,\u001b[0m \u001b[0mtest_timing_with_points\u001b[0m\u001b[1;33m)\u001b[0m\u001b[1;33m\u001b[0m\u001b[1;33m\u001b[0m\u001b[0m\n\u001b[0m\u001b[0;32m      3\u001b[0m \u001b[1;33m\u001b[0m\u001b[0m\n\u001b[0;32m      4\u001b[0m \u001b[1;31m#build potential\u001b[0m\u001b[1;33m\u001b[0m\u001b[1;33m\u001b[0m\u001b[1;33m\u001b[0m\u001b[0m\n\u001b[0;32m      5\u001b[0m \u001b[0mV\u001b[0m \u001b[1;33m=\u001b[0m \u001b[0mpotentials1D\u001b[0m\u001b[1;33m.\u001b[0m\u001b[0mfourWellPotential\u001b[0m\u001b[1;33m(\u001b[0m\u001b[0ma\u001b[0m\u001b[1;33m=\u001b[0m\u001b[1;36m1\u001b[0m\u001b[1;33m,\u001b[0m\u001b[0mb\u001b[0m\u001b[1;33m=\u001b[0m\u001b[1;36m4\u001b[0m\u001b[1;33m,\u001b[0m \u001b[0mc\u001b[0m\u001b[1;33m=\u001b[0m\u001b[1;36m6\u001b[0m\u001b[1;33m,\u001b[0m \u001b[0md\u001b[0m\u001b[1;33m=\u001b[0m\u001b[1;36m8\u001b[0m\u001b[1;33m)\u001b[0m\u001b[1;33m\u001b[0m\u001b[1;33m\u001b[0m\u001b[0m\n",
      "\u001b[1;31mNameError\u001b[0m: name 'np' is not defined"
     ]
    }
   ],
   "source": [
    "#phase space\n",
    "positions = np.linspace(0, 10, test_timing_with_points)\n",
    "\n",
    "#build potential\n",
    "V = potentials1D.fourWellPotential(a=1,b=4, c=6, d=8)\n",
    "\n",
    "print(\"calculate \"+str(len(positions))+\" positions: \")\n",
    "%time V.ene(positions)\n",
    "\n",
    "print(\"\\nVisualization\") #visualize\n",
    "fig, axes = vis.plot_1DPotential_Term(V, positions=positions)\n",
    "#fig.savefig(\"four_well.png\")\n",
    "\n",
    "pass"
   ]
  },
  {
   "cell_type": "code",
   "execution_count": 3,
   "metadata": {},
   "outputs": [
    {
     "ename": "ModuleNotFoundError",
     "evalue": "No module named 'ensembler'",
     "output_type": "error",
     "traceback": [
      "\u001b[1;31m---------------------------------------------------------------------------\u001b[0m",
      "\u001b[1;31mModuleNotFoundError\u001b[0m                       Traceback (most recent call last)",
      "\u001b[1;32m<ipython-input-3-ebacdaaf7c2c>\u001b[0m in \u001b[0;36m<module>\u001b[1;34m\u001b[0m\n\u001b[0;32m      1\u001b[0m \u001b[1;32mimport\u001b[0m \u001b[0mnumpy\u001b[0m \u001b[1;32mas\u001b[0m \u001b[0mnp\u001b[0m\u001b[1;33m\u001b[0m\u001b[1;33m\u001b[0m\u001b[0m\n\u001b[1;32m----> 2\u001b[1;33m \u001b[1;32mfrom\u001b[0m \u001b[0mensembler\u001b[0m\u001b[1;33m.\u001b[0m\u001b[0mpotentials\u001b[0m \u001b[1;32mimport\u001b[0m \u001b[0mOneD\u001b[0m \u001b[1;32mas\u001b[0m \u001b[0mpotentials1D\u001b[0m\u001b[1;33m\u001b[0m\u001b[1;33m\u001b[0m\u001b[0m\n\u001b[0m\u001b[0;32m      3\u001b[0m \u001b[1;32mfrom\u001b[0m \u001b[0mensembler\u001b[0m\u001b[1;33m.\u001b[0m\u001b[0mvisualisation\u001b[0m \u001b[1;32mimport\u001b[0m \u001b[0mplotPotentials\u001b[0m\u001b[1;33m\u001b[0m\u001b[1;33m\u001b[0m\u001b[0m\n\u001b[0;32m      4\u001b[0m \u001b[1;33m\u001b[0m\u001b[0m\n\u001b[0;32m      5\u001b[0m \u001b[1;31m#phase space\u001b[0m\u001b[1;33m\u001b[0m\u001b[1;33m\u001b[0m\u001b[1;33m\u001b[0m\u001b[0m\n",
      "\u001b[1;31mModuleNotFoundError\u001b[0m: No module named 'ensembler'"
     ]
    }
   ],
   "source": [
    "import numpy as np\n",
    "from ensembler.potentials import OneD as potentials1D\n",
    "from ensembler.visualisation import plotPotentials\n",
    "\n",
    "#phase space\n",
    "positions = np.linspace(start=0, stop=10, num=1000)\n",
    "\n",
    "#build potential\n",
    "V = potentials1D.fourWellPotential(a=1,b=4, c=6, d=8)\n",
    "\n",
    "#visualize\n",
    "fig, axes = plotPotentials.plot_1DPotential_Term(V, positions=positions)\n",
    "fig.savefig(\"four_well.png\")\n"
   ]
  },
  {
   "cell_type": "markdown",
   "metadata": {},
   "source": [
    "### Wave Potential\n",
    "\n",
    "Functional: \n",
    "\n",
    "$A*cos(m*(r + w)) + V_{off}$\n",
    "\n",
    "first derivative:\n",
    "\n",
    "$\\frac{\\partial V}{\\partial r} = -A*m*sin(m*(r + w)) $"
   ]
  },
  {
   "cell_type": "code",
   "execution_count": 4,
   "metadata": {
    "tags": []
   },
   "outputs": [
    {
     "ename": "NameError",
     "evalue": "name 'test_timing_with_points' is not defined",
     "output_type": "error",
     "traceback": [
      "\u001b[1;31m---------------------------------------------------------------------------\u001b[0m",
      "\u001b[1;31mNameError\u001b[0m                                 Traceback (most recent call last)",
      "\u001b[1;32m<ipython-input-4-69e8196c0651>\u001b[0m in \u001b[0;36m<module>\u001b[1;34m\u001b[0m\n\u001b[0;32m      1\u001b[0m \u001b[1;31m#1D\u001b[0m\u001b[1;33m\u001b[0m\u001b[1;33m\u001b[0m\u001b[1;33m\u001b[0m\u001b[0m\n\u001b[1;32m----> 2\u001b[1;33m \u001b[0mpositions\u001b[0m \u001b[1;33m=\u001b[0m \u001b[0mnp\u001b[0m\u001b[1;33m.\u001b[0m\u001b[0mlinspace\u001b[0m\u001b[1;33m(\u001b[0m\u001b[1;36m0\u001b[0m\u001b[1;33m,\u001b[0m \u001b[1;36m4\u001b[0m\u001b[1;33m,\u001b[0m \u001b[0mtest_timing_with_points\u001b[0m\u001b[1;33m)\u001b[0m\u001b[1;33m\u001b[0m\u001b[1;33m\u001b[0m\u001b[0m\n\u001b[0m\u001b[0;32m      3\u001b[0m \u001b[1;33m\u001b[0m\u001b[0m\n\u001b[0;32m      4\u001b[0m \u001b[0mV\u001b[0m \u001b[1;33m=\u001b[0m \u001b[0mpotentials1D\u001b[0m\u001b[1;33m.\u001b[0m\u001b[0mwavePotential\u001b[0m\u001b[1;33m(\u001b[0m\u001b[1;33m)\u001b[0m\u001b[1;33m\u001b[0m\u001b[1;33m\u001b[0m\u001b[0m\n\u001b[0;32m      5\u001b[0m \u001b[1;31m#print(V)\u001b[0m\u001b[1;33m\u001b[0m\u001b[1;33m\u001b[0m\u001b[1;33m\u001b[0m\u001b[0m\n",
      "\u001b[1;31mNameError\u001b[0m: name 'test_timing_with_points' is not defined"
     ]
    }
   ],
   "source": [
    "#1D\n",
    "positions = np.linspace(0, 4, test_timing_with_points)\n",
    "\n",
    "V = potentials1D.wavePotential()\n",
    "#print(V)\n",
    "\n",
    "print(\"calculate \"+str(len(positions))+\" positions: \")\n",
    "%time V.ene(positions)\n",
    "\n",
    "print(\"\\nVisualization\")\n",
    "fig, axes = vis.plot_1DPotential_Term(V, positions=positions)"
   ]
  },
  {
   "cell_type": "code",
   "execution_count": 5,
   "metadata": {
    "pycharm": {
     "name": "#%%\n"
    },
    "tags": []
   },
   "outputs": [
    {
     "ename": "NameError",
     "evalue": "name 'test_timing_with_points' is not defined",
     "output_type": "error",
     "traceback": [
      "\u001b[1;31m---------------------------------------------------------------------------\u001b[0m",
      "\u001b[1;31mNameError\u001b[0m                                 Traceback (most recent call last)",
      "\u001b[1;32m<ipython-input-5-d498dca881b9>\u001b[0m in \u001b[0;36m<module>\u001b[1;34m\u001b[0m\n\u001b[0;32m      1\u001b[0m \u001b[1;31m#2D\u001b[0m\u001b[1;33m\u001b[0m\u001b[1;33m\u001b[0m\u001b[1;33m\u001b[0m\u001b[0m\n\u001b[1;32m----> 2\u001b[1;33m \u001b[0mpositions\u001b[0m \u001b[1;33m=\u001b[0m \u001b[0mnp\u001b[0m\u001b[1;33m.\u001b[0m\u001b[0mlinspace\u001b[0m\u001b[1;33m(\u001b[0m\u001b[1;33m-\u001b[0m\u001b[1;36m180\u001b[0m\u001b[1;33m,\u001b[0m \u001b[1;36m180\u001b[0m\u001b[1;33m,\u001b[0m \u001b[0mtest_timing_with_points\u001b[0m\u001b[1;33m)\u001b[0m\u001b[1;33m\u001b[0m\u001b[1;33m\u001b[0m\u001b[0m\n\u001b[0m\u001b[0;32m      3\u001b[0m \u001b[0mx_positions\u001b[0m\u001b[1;33m,\u001b[0m \u001b[0my_positions\u001b[0m \u001b[1;33m=\u001b[0m \u001b[0mnp\u001b[0m\u001b[1;33m.\u001b[0m\u001b[0mmeshgrid\u001b[0m\u001b[1;33m(\u001b[0m\u001b[0mpositions\u001b[0m\u001b[1;33m,\u001b[0m\u001b[0mpositions\u001b[0m\u001b[1;33m)\u001b[0m\u001b[1;33m\u001b[0m\u001b[1;33m\u001b[0m\u001b[0m\n\u001b[0;32m      4\u001b[0m \u001b[0mpositions2D\u001b[0m \u001b[1;33m=\u001b[0m \u001b[0mnp\u001b[0m\u001b[1;33m.\u001b[0m\u001b[0marray\u001b[0m\u001b[1;33m(\u001b[0m\u001b[1;33m[\u001b[0m\u001b[0mx_positions\u001b[0m\u001b[1;33m.\u001b[0m\u001b[0mflatten\u001b[0m\u001b[1;33m(\u001b[0m\u001b[1;33m)\u001b[0m\u001b[1;33m,\u001b[0m \u001b[0my_positions\u001b[0m\u001b[1;33m.\u001b[0m\u001b[0mflatten\u001b[0m\u001b[1;33m(\u001b[0m\u001b[1;33m)\u001b[0m\u001b[1;33m]\u001b[0m\u001b[1;33m)\u001b[0m\u001b[1;33m.\u001b[0m\u001b[0mT\u001b[0m\u001b[1;33m\u001b[0m\u001b[1;33m\u001b[0m\u001b[0m\n\u001b[0;32m      5\u001b[0m \u001b[1;33m\u001b[0m\u001b[0m\n",
      "\u001b[1;31mNameError\u001b[0m: name 'test_timing_with_points' is not defined"
     ]
    }
   ],
   "source": [
    "#2D\n",
    "positions = np.linspace(-180, 180, test_timing_with_points)\n",
    "x_positions, y_positions = np.meshgrid(positions,positions)\n",
    "positions2D = np.array([x_positions.flatten(), y_positions.flatten()]).T\n",
    "\n",
    "V = potentials2D.wavePotential(multiplicity=[2,2], degree=True)\n",
    "#print(V)\n",
    "\n",
    "print(\"calculate \"+str(len(positions))+\" positions: \")\n",
    "%time V.ene(positions2D)\n",
    "\n",
    "\n",
    "print(\"\\nVisualization\")\n",
    "plt.imshow(V.ene(positions2D).reshape([test_timing_with_points,test_timing_with_points]))"
   ]
  },
  {
   "cell_type": "markdown",
   "metadata": {
    "pycharm": {
     "name": "#%% md\n"
    }
   },
   "source": [
    "### Torsion Potential"
   ]
  },
  {
   "cell_type": "code",
   "execution_count": 6,
   "metadata": {
    "pycharm": {
     "name": "#%%\n"
    },
    "tags": []
   },
   "outputs": [
    {
     "ename": "NameError",
     "evalue": "name 'test_timing_with_points' is not defined",
     "output_type": "error",
     "traceback": [
      "\u001b[1;31m---------------------------------------------------------------------------\u001b[0m",
      "\u001b[1;31mNameError\u001b[0m                                 Traceback (most recent call last)",
      "\u001b[1;32m<ipython-input-6-6f0ca6049dc3>\u001b[0m in \u001b[0;36m<module>\u001b[1;34m\u001b[0m\n\u001b[1;32m----> 1\u001b[1;33m \u001b[0mpositions\u001b[0m \u001b[1;33m=\u001b[0m \u001b[0mnp\u001b[0m\u001b[1;33m.\u001b[0m\u001b[0mlinspace\u001b[0m\u001b[1;33m(\u001b[0m\u001b[1;33m-\u001b[0m\u001b[1;36m4\u001b[0m\u001b[1;33m,\u001b[0m \u001b[1;36m4\u001b[0m\u001b[1;33m,\u001b[0m \u001b[0mtest_timing_with_points\u001b[0m\u001b[1;33m)\u001b[0m\u001b[1;33m\u001b[0m\u001b[1;33m\u001b[0m\u001b[0m\n\u001b[0m\u001b[0;32m      2\u001b[0m \u001b[1;33m\u001b[0m\u001b[0m\n\u001b[0;32m      3\u001b[0m \u001b[0mw1\u001b[0m \u001b[1;33m=\u001b[0m \u001b[0mpotentials1D\u001b[0m\u001b[1;33m.\u001b[0m\u001b[0mwavePotential\u001b[0m\u001b[1;33m(\u001b[0m\u001b[0mmultiplicity\u001b[0m\u001b[1;33m=\u001b[0m\u001b[1;36m3\u001b[0m\u001b[1;33m)\u001b[0m\u001b[1;33m\u001b[0m\u001b[1;33m\u001b[0m\u001b[0m\n\u001b[0;32m      4\u001b[0m \u001b[0mw2\u001b[0m \u001b[1;33m=\u001b[0m \u001b[0mpotentials1D\u001b[0m\u001b[1;33m.\u001b[0m\u001b[0mwavePotential\u001b[0m\u001b[1;33m(\u001b[0m\u001b[1;33m)\u001b[0m\u001b[1;33m\u001b[0m\u001b[1;33m\u001b[0m\u001b[0m\n\u001b[0;32m      5\u001b[0m \u001b[0mwaves\u001b[0m \u001b[1;33m=\u001b[0m \u001b[1;33m[\u001b[0m\u001b[0mw1\u001b[0m\u001b[1;33m,\u001b[0m \u001b[0mw2\u001b[0m\u001b[1;33m]\u001b[0m\u001b[1;33m\u001b[0m\u001b[1;33m\u001b[0m\u001b[0m\n",
      "\u001b[1;31mNameError\u001b[0m: name 'test_timing_with_points' is not defined"
     ]
    }
   ],
   "source": [
    "positions = np.linspace(-4, 4, test_timing_with_points)\n",
    "\n",
    "w1 = potentials1D.wavePotential(multiplicity=3)\n",
    "w2 = potentials1D.wavePotential()\n",
    "waves = [w1, w2]\n",
    "\n",
    "V = potentials1D.torsionPotential(wavePotentials=waves)\n",
    "#print(V)\n",
    "\n",
    "print(\"calculate \"+str(len(positions))+\" positions: \")\n",
    "%time V.ene(positions)\n",
    "\n",
    "print(\"\\nVisualization\")\n",
    "fig, axes = vis.plot_1DPotential_Term(V, positions=positions)\n"
   ]
  },
  {
   "cell_type": "markdown",
   "metadata": {
    "pycharm": {
     "name": "#%% md\n"
    }
   },
   "source": [
    "### Lennard Jones Potential\n",
    "\n",
    "Functional: \n",
    "\n",
    "$V = 4e*(\\frac{s^{12}}{(r - r_0)^12} - \\frac{s^6}{(r - r_0)^6}) +  V_{off}$\n",
    "\n",
    "first derivative:\n",
    "\n",
    "$\\frac{\\partial V}{\\partial r} = 4e*(-12*\\frac{s^{12}}{(r - r_0)^13} + 6*\\frac{s^6}{(r - r_0)^7})$\n"
   ]
  },
  {
   "cell_type": "code",
   "execution_count": 7,
   "metadata": {
    "pycharm": {
     "name": "#%%\n"
    },
    "tags": []
   },
   "outputs": [
    {
     "ename": "NameError",
     "evalue": "name 'test_timing_with_points' is not defined",
     "output_type": "error",
     "traceback": [
      "\u001b[1;31m---------------------------------------------------------------------------\u001b[0m",
      "\u001b[1;31mNameError\u001b[0m                                 Traceback (most recent call last)",
      "\u001b[1;32m<ipython-input-7-ef384b527860>\u001b[0m in \u001b[0;36m<module>\u001b[1;34m\u001b[0m\n\u001b[1;32m----> 1\u001b[1;33m \u001b[0mpositions\u001b[0m \u001b[1;33m=\u001b[0m \u001b[0mnp\u001b[0m\u001b[1;33m.\u001b[0m\u001b[0mlinspace\u001b[0m\u001b[1;33m(\u001b[0m\u001b[1;36m0.1\u001b[0m\u001b[1;33m,\u001b[0m \u001b[1;36m5\u001b[0m\u001b[1;33m,\u001b[0m \u001b[0mtest_timing_with_points\u001b[0m\u001b[1;33m)\u001b[0m\u001b[1;33m\u001b[0m\u001b[1;33m\u001b[0m\u001b[0m\n\u001b[0m\u001b[0;32m      2\u001b[0m \u001b[1;33m\u001b[0m\u001b[0m\n\u001b[0;32m      3\u001b[0m \u001b[0mV\u001b[0m \u001b[1;33m=\u001b[0m \u001b[0mpotentials1D\u001b[0m\u001b[1;33m.\u001b[0m\u001b[0mLennardJonesPotential\u001b[0m\u001b[1;33m(\u001b[0m\u001b[1;33m)\u001b[0m\u001b[1;33m\u001b[0m\u001b[1;33m\u001b[0m\u001b[0m\n\u001b[0;32m      4\u001b[0m \u001b[1;31m#print(V)\u001b[0m\u001b[1;33m\u001b[0m\u001b[1;33m\u001b[0m\u001b[1;33m\u001b[0m\u001b[0m\n\u001b[0;32m      5\u001b[0m \u001b[1;33m\u001b[0m\u001b[0m\n",
      "\u001b[1;31mNameError\u001b[0m: name 'test_timing_with_points' is not defined"
     ]
    }
   ],
   "source": [
    "positions = np.linspace(0.1, 5, test_timing_with_points)\n",
    "\n",
    "V = potentials1D.LennardJonesPotential()\n",
    "#print(V)\n",
    "\n",
    "print(\"calculate \"+str(len(positions))+\" positions: \")\n",
    "%time V.ene(positions)\n",
    "\n",
    "print(\"\\nVisualization\")\n",
    "fig, axes = vis.plot_1DPotential_Term(V, positions=positions)\n",
    "axes[0].set_ylim([-5, 10])\n",
    "axes[1].set_ylim([-5, 10])\n",
    "pass"
   ]
  },
  {
   "cell_type": "markdown",
   "metadata": {},
   "source": [
    "### Culomb Potential\n",
    "\n",
    "\n",
    "Functional: \n",
    "\n",
    "$V = \\frac{q_1q_2}{(4 \\pi \\epsilon r)}$\n",
    "\n",
    "first derivative:\n",
    "\n",
    "$\\frac{\\partial V}{\\partial r} = \\frac{-q_1q_2}{(4\\pi \\epsilon r^2)}$\n",
    "\n"
   ]
  },
  {
   "cell_type": "code",
   "execution_count": 8,
   "metadata": {
    "tags": []
   },
   "outputs": [
    {
     "ename": "NameError",
     "evalue": "name 'test_timing_with_points' is not defined",
     "output_type": "error",
     "traceback": [
      "\u001b[1;31m---------------------------------------------------------------------------\u001b[0m",
      "\u001b[1;31mNameError\u001b[0m                                 Traceback (most recent call last)",
      "\u001b[1;32m<ipython-input-8-20b68615f233>\u001b[0m in \u001b[0;36m<module>\u001b[1;34m\u001b[0m\n\u001b[1;32m----> 1\u001b[1;33m \u001b[0mpositions\u001b[0m \u001b[1;33m=\u001b[0m \u001b[0mnp\u001b[0m\u001b[1;33m.\u001b[0m\u001b[0mlinspace\u001b[0m\u001b[1;33m(\u001b[0m\u001b[1;36m0.1\u001b[0m\u001b[1;33m,\u001b[0m \u001b[1;36m5\u001b[0m\u001b[1;33m,\u001b[0m \u001b[0mtest_timing_with_points\u001b[0m\u001b[1;33m)\u001b[0m\u001b[1;33m\u001b[0m\u001b[1;33m\u001b[0m\u001b[0m\n\u001b[0m\u001b[0;32m      2\u001b[0m \u001b[1;33m\u001b[0m\u001b[0m\n\u001b[0;32m      3\u001b[0m \u001b[0mV\u001b[0m \u001b[1;33m=\u001b[0m \u001b[0mpotentials1D\u001b[0m\u001b[1;33m.\u001b[0m\u001b[0mcoulombPotential\u001b[0m\u001b[1;33m(\u001b[0m\u001b[1;33m)\u001b[0m\u001b[1;33m\u001b[0m\u001b[1;33m\u001b[0m\u001b[0m\n\u001b[0;32m      4\u001b[0m \u001b[1;31m#print(V)\u001b[0m\u001b[1;33m\u001b[0m\u001b[1;33m\u001b[0m\u001b[1;33m\u001b[0m\u001b[0m\n\u001b[0;32m      5\u001b[0m \u001b[1;33m\u001b[0m\u001b[0m\n",
      "\u001b[1;31mNameError\u001b[0m: name 'test_timing_with_points' is not defined"
     ]
    }
   ],
   "source": [
    "positions = np.linspace(0.1, 5, test_timing_with_points)\n",
    "\n",
    "V = potentials1D.coulombPotential()\n",
    "#print(V)\n",
    "\n",
    "print(\"calculate \"+str(len(positions))+\" positions: \")\n",
    "%time V.ene(positions)\n",
    "\n",
    "print(\"\\nVisualization\")\n",
    "fig, axes = vis.plot_1DPotential_Term(V, positions=positions)"
   ]
  },
  {
   "cell_type": "markdown",
   "metadata": {
    "pycharm": {
     "name": "#%% md\n"
    }
   },
   "source": [
    "# Perturbed/MultiState Potentials"
   ]
  },
  {
   "cell_type": "markdown",
   "metadata": {},
   "source": [
    "## linear coupled\n",
    "\n",
    "Functional:\n",
    "\n",
    "$V(r, \\lambda) = \\lambda V_a(r) + (1-\\lambda) V_b(r)$\n",
    "\n",
    "\n",
    "first order derivatives:\n",
    "\n",
    "\n",
    "$\\frac{\\partial V}{\\partial \\lambda} = $\n",
    "\n",
    "$\\frac{\\partial V}{\\partial r} = $\n"
   ]
  },
  {
   "cell_type": "code",
   "execution_count": 9,
   "metadata": {
    "tags": []
   },
   "outputs": [
    {
     "ename": "NameError",
     "evalue": "name 'test_timing_with_points' is not defined",
     "output_type": "error",
     "traceback": [
      "\u001b[1;31m---------------------------------------------------------------------------\u001b[0m",
      "\u001b[1;31mNameError\u001b[0m                                 Traceback (most recent call last)",
      "\u001b[1;32m<ipython-input-9-509d050317ad>\u001b[0m in \u001b[0;36m<module>\u001b[1;34m\u001b[0m\n\u001b[1;32m----> 1\u001b[1;33m \u001b[0mpositions\u001b[0m \u001b[1;33m=\u001b[0m \u001b[0mnp\u001b[0m\u001b[1;33m.\u001b[0m\u001b[0mlinspace\u001b[0m\u001b[1;33m(\u001b[0m\u001b[1;33m-\u001b[0m\u001b[1;36m4\u001b[0m\u001b[1;33m,\u001b[0m \u001b[1;36m4\u001b[0m\u001b[1;33m,\u001b[0m \u001b[0mtest_timing_with_points\u001b[0m\u001b[1;33m)\u001b[0m\u001b[1;33m\u001b[0m\u001b[1;33m\u001b[0m\u001b[0m\n\u001b[0m\u001b[0;32m      2\u001b[0m \u001b[1;33m\u001b[0m\u001b[0m\n\u001b[0;32m      3\u001b[0m \u001b[0mw1\u001b[0m \u001b[1;33m=\u001b[0m \u001b[0mpotentials1D\u001b[0m\u001b[1;33m.\u001b[0m\u001b[0mharmonicOscillator\u001b[0m\u001b[1;33m(\u001b[0m\u001b[1;33m)\u001b[0m\u001b[1;33m\u001b[0m\u001b[1;33m\u001b[0m\u001b[0m\n\u001b[0;32m      4\u001b[0m \u001b[0mw2\u001b[0m \u001b[1;33m=\u001b[0m \u001b[0mpotentials1D\u001b[0m\u001b[1;33m.\u001b[0m\u001b[0mharmonicOscillator\u001b[0m\u001b[1;33m(\u001b[0m\u001b[0mk\u001b[0m\u001b[1;33m=\u001b[0m\u001b[1;36m11\u001b[0m\u001b[1;33m)\u001b[0m\u001b[1;33m\u001b[0m\u001b[1;33m\u001b[0m\u001b[0m\n\u001b[0;32m      5\u001b[0m \u001b[1;33m\u001b[0m\u001b[0m\n",
      "\u001b[1;31mNameError\u001b[0m: name 'test_timing_with_points' is not defined"
     ]
    }
   ],
   "source": [
    "positions = np.linspace(-4, 4, test_timing_with_points)\n",
    "\n",
    "w1 = potentials1D.harmonicOscillator()\n",
    "w2 = potentials1D.harmonicOscillator(k=11)\n",
    "\n",
    "V = potentials1D.linearCoupledPotentials(Va=w1, Vb=w2)\n",
    "#print(V)\n",
    "\n",
    "print(\"calculate \"+str(len(positions))+\" positions: \")\n",
    "%time V.ene(positions)\n",
    "\n",
    "print(\"\\nVisualization\")\n",
    "fig, axes = vis.plot_1DPotential_Term(V, positions=positions)\n"
   ]
  },
  {
   "cell_type": "code",
   "execution_count": 10,
   "metadata": {
    "pycharm": {
     "name": "#%%\n"
    },
    "tags": []
   },
   "outputs": [
    {
     "ename": "NameError",
     "evalue": "name 'test_timing_with_points' is not defined",
     "output_type": "error",
     "traceback": [
      "\u001b[1;31m---------------------------------------------------------------------------\u001b[0m",
      "\u001b[1;31mNameError\u001b[0m                                 Traceback (most recent call last)",
      "\u001b[1;32m<ipython-input-10-07d76c771042>\u001b[0m in \u001b[0;36m<module>\u001b[1;34m\u001b[0m\n\u001b[1;32m----> 1\u001b[1;33m \u001b[0mpositions\u001b[0m \u001b[1;33m=\u001b[0m \u001b[0mnp\u001b[0m\u001b[1;33m.\u001b[0m\u001b[0mlinspace\u001b[0m\u001b[1;33m(\u001b[0m\u001b[1;33m-\u001b[0m\u001b[1;36m4\u001b[0m\u001b[1;33m,\u001b[0m \u001b[1;36m4\u001b[0m\u001b[1;33m,\u001b[0m \u001b[0mtest_timing_with_points\u001b[0m\u001b[1;33m)\u001b[0m\u001b[1;33m\u001b[0m\u001b[1;33m\u001b[0m\u001b[0m\n\u001b[0m\u001b[0;32m      2\u001b[0m \u001b[1;33m\u001b[0m\u001b[0m\n\u001b[0;32m      3\u001b[0m \u001b[0mw1\u001b[0m \u001b[1;33m=\u001b[0m \u001b[0mpotentials1D\u001b[0m\u001b[1;33m.\u001b[0m\u001b[0mharmonicOscillatorPotential\u001b[0m\u001b[1;33m(\u001b[0m\u001b[0mk\u001b[0m\u001b[1;33m=\u001b[0m\u001b[1;36m10\u001b[0m\u001b[1;33m,\u001b[0m \u001b[0mx_shift\u001b[0m\u001b[1;33m=\u001b[0m\u001b[1;33m-\u001b[0m\u001b[1;36m2\u001b[0m\u001b[1;33m)\u001b[0m\u001b[1;33m\u001b[0m\u001b[1;33m\u001b[0m\u001b[0m\n\u001b[0;32m      4\u001b[0m \u001b[0mw2\u001b[0m \u001b[1;33m=\u001b[0m \u001b[0mpotentials1D\u001b[0m\u001b[1;33m.\u001b[0m\u001b[0mharmonicOscillatorPotential\u001b[0m\u001b[1;33m(\u001b[0m\u001b[0mk\u001b[0m\u001b[1;33m=\u001b[0m\u001b[1;36m10\u001b[0m\u001b[1;33m,\u001b[0m \u001b[0mx_shift\u001b[0m\u001b[1;33m=\u001b[0m\u001b[1;36m2\u001b[0m\u001b[1;33m)\u001b[0m\u001b[1;33m\u001b[0m\u001b[1;33m\u001b[0m\u001b[0m\n\u001b[0;32m      5\u001b[0m \u001b[1;33m\u001b[0m\u001b[0m\n",
      "\u001b[1;31mNameError\u001b[0m: name 'test_timing_with_points' is not defined"
     ]
    }
   ],
   "source": [
    "positions = np.linspace(-4, 4, test_timing_with_points)\n",
    "\n",
    "w1 = potentials1D.harmonicOscillatorPotential(k=10, x_shift=-2)\n",
    "w2 = potentials1D.harmonicOscillatorPotential(k=10, x_shift=2)\n",
    "\n",
    "\n",
    "w1 = potentials1D.harmonicOscillatorPotential(k=12, x_shift=-2)\n",
    "w2 = potentials1D.harmonicOscillatorPotential(k=12, x_shift=2)\n",
    "V = potentials1D.linearCoupledPotentials(Va=w1, Vb=w2)\n",
    "\n",
    "lambda_ene = []\n",
    "for lam in np.arange(0, 1, 0.01):\n",
    "    V.set_lam(lam)\n",
    "    lambda_ene.append(V.ene(positions))\n",
    "\n",
    "print(\"\\nVisualization\")\n",
    "fig, ax = plt.subplots(ncols=1, figsize=[10,10])\n",
    "mapping = ax.imshow(lambda_ene, extent=[0,100, 0,100], vmin=0, vmax=50)\n",
    "opt_labels = np.array(ax.get_yticks())/100\n",
    "ax.set_yticklabels(opt_labels)\n",
    "opt_labels = np.round(((np.array(ax.get_yticks())/100)*8)-4,2)\n",
    "ax.set_xticklabels(opt_labels)\n",
    "\n",
    "ax.set_ylabel(\"lambda\")\n",
    "ax.set_xlabel(\"r\")\n",
    "cm = plt.colorbar(mapping)\n",
    "cm.set_label(\"V\")\n",
    "fig.tight_layout()\n"
   ]
  },
  {
   "cell_type": "markdown",
   "metadata": {
    "pycharm": {
     "name": "#%% md\n"
    }
   },
   "source": [
    "# exponential Copuled - Enveloping Potential\n",
    "\n",
    "\n",
    "Used in EDS\n",
    "\n",
    "Functional:\n",
    "\n",
    "$V(r) = -\\frac{1}{k_b T s} ln(e^{- k_b T s (V_i-E^{off}_i)}+e^{-k_b T s (V_j-E^{off}_j)})$ \n",
    "\n"
   ]
  },
  {
   "cell_type": "code",
   "execution_count": 11,
   "metadata": {
    "tags": []
   },
   "outputs": [
    {
     "name": "stdout",
     "output_type": "stream",
     "text": [
      "calculate 1000000 positions: \n",
      "Wall time: 92.6 ms\n",
      "\n",
      "Visualization\n"
     ]
    },
    {
     "data": {
      "image/png": "[encoded data removed]",
      "text/plain": [
       "<Figure size 243.78x150.664 with 2 Axes>"
      ]
     },
     "metadata": {
      "needs_background": "light"
     },
     "output_type": "display_data"
    },
    {
     "data": {
      "text/plain": [
       "(0, 2)"
      ]
     },
     "execution_count": 11,
     "metadata": {},
     "output_type": "execute_result"
    },
    {
     "data": {
      "image/png": "[encoded data removed]",
      "text/plain": [
       "<Figure size 243.78x150.664 with 1 Axes>"
      ]
     },
     "metadata": {
      "needs_background": "light"
     },
     "output_type": "display_data"
    }
   ],
   "source": [
    "positions = np.linspace(-4, 4, test_timing_with_points*10000)\n",
    "\n",
    "w1 = potentials1D.harmonicOscillatorPotential(x_shift=-2)\n",
    "w2 = potentials1D.harmonicOscillatorPotential(x_shift=2)\n",
    "\n",
    "#print(w1, w2)\n",
    "V = potentials1D.exponentialCoupledPotentials(Va=w1, Vb=w2, s=1, eoffA=0, eoffB=0)\n",
    "#print(V)\n",
    "\n",
    "print(\"calculate \"+str(len(positions))+\" positions: \")\n",
    "%time V.ene(positions)\n",
    "\n",
    "print(\"\\nVisualization\")\n",
    "fig, axes = vis.plot_1DPotential_Term(V, positions=positions)\n",
    "plt.show()\n",
    "plt.close()\n",
    "plt.plot(positions, V.ene(positions))\n",
    "plt.plot(positions, w1.ene(positions))\n",
    "plt.plot(positions, w2.ene(positions))\n",
    "\n",
    "\n",
    "plt.ylim([0,2])\n"
   ]
  },
  {
   "cell_type": "markdown",
   "metadata": {
    "pycharm": {
     "name": "#%% md\n"
    }
   },
   "source": [
    "# linear & exponential hybrid Copuled - $\\lambda$ EDS\n",
    "\n",
    "Functional:\n",
    "\n",
    "$V(r) = -\\frac{1}{k_b T s} ln(\\lambda e^{- k_b T s (V_i-E^{off}_i)}+(1-\\lambda)e^{-k_b T s (V_j-E^{off}_j)})$ \n",
    "\n"
   ]
  },
  {
   "cell_type": "code",
   "execution_count": 12,
   "metadata": {
    "pycharm": {
     "name": "#%%\n"
    }
   },
   "outputs": [
    {
     "ename": "NameError",
     "evalue": "name 'test_timing_with_points' is not defined",
     "output_type": "error",
     "traceback": [
      "\u001b[1;31m---------------------------------------------------------------------------\u001b[0m",
      "\u001b[1;31mNameError\u001b[0m                                 Traceback (most recent call last)",
      "\u001b[1;32m<ipython-input-12-39a5bebee1ba>\u001b[0m in \u001b[0;36m<module>\u001b[1;34m\u001b[0m\n\u001b[1;32m----> 1\u001b[1;33m \u001b[0mpositions\u001b[0m \u001b[1;33m=\u001b[0m \u001b[0mnp\u001b[0m\u001b[1;33m.\u001b[0m\u001b[0mlinspace\u001b[0m\u001b[1;33m(\u001b[0m\u001b[1;33m-\u001b[0m\u001b[1;36m4\u001b[0m\u001b[1;33m,\u001b[0m \u001b[1;36m4\u001b[0m\u001b[1;33m,\u001b[0m \u001b[0mtest_timing_with_points\u001b[0m\u001b[1;33m)\u001b[0m\u001b[1;33m\u001b[0m\u001b[1;33m\u001b[0m\u001b[0m\n\u001b[0m\u001b[0;32m      2\u001b[0m \u001b[1;33m\u001b[0m\u001b[0m\n\u001b[0;32m      3\u001b[0m \u001b[0mw1\u001b[0m \u001b[1;33m=\u001b[0m \u001b[0mpotentials1D\u001b[0m\u001b[1;33m.\u001b[0m\u001b[0mharmonicOscillatorPotential\u001b[0m\u001b[1;33m(\u001b[0m\u001b[0mx_shift\u001b[0m\u001b[1;33m=\u001b[0m\u001b[1;33m-\u001b[0m\u001b[1;36m2\u001b[0m\u001b[1;33m)\u001b[0m\u001b[1;33m\u001b[0m\u001b[1;33m\u001b[0m\u001b[0m\n\u001b[0;32m      4\u001b[0m \u001b[0mw2\u001b[0m \u001b[1;33m=\u001b[0m \u001b[0mpotentials1D\u001b[0m\u001b[1;33m.\u001b[0m\u001b[0mharmonicOscillatorPotential\u001b[0m\u001b[1;33m(\u001b[0m\u001b[0mx_shift\u001b[0m\u001b[1;33m=\u001b[0m\u001b[1;36m2\u001b[0m\u001b[1;33m)\u001b[0m\u001b[1;33m\u001b[0m\u001b[1;33m\u001b[0m\u001b[0m\n\u001b[0;32m      5\u001b[0m \u001b[1;33m\u001b[0m\u001b[0m\n",
      "\u001b[1;31mNameError\u001b[0m: name 'test_timing_with_points' is not defined"
     ]
    }
   ],
   "source": [
    "positions = np.linspace(-4, 4, test_timing_with_points)\n",
    "\n",
    "w1 = potentials1D.harmonicOscillatorPotential(x_shift=-2)\n",
    "w2 = potentials1D.harmonicOscillatorPotential(x_shift=2)\n",
    "\n",
    "V = potentials1D.hybridCoupledPotentials(Va=w1, Vb=w2, lam=0)\n",
    "#print(V)\n",
    "\n",
    "print(\"calculate \"+str(len(positions))+\" positions: \")\n",
    "%time V.ene(positions)\n",
    "\n",
    "print(\"\\nVisualization\")\n",
    "fig, axes = vis.plot_1DPotential_Term(V, positions=positions)\n",
    "\n",
    "#perturbed potentilas\n"
   ]
  },
  {
   "cell_type": "code",
   "execution_count": 13,
   "metadata": {
    "pycharm": {
     "name": "#%%\n"
    }
   },
   "outputs": [
    {
     "ename": "NameError",
     "evalue": "name 'test_timing_with_points' is not defined",
     "output_type": "error",
     "traceback": [
      "\u001b[1;31m---------------------------------------------------------------------------\u001b[0m",
      "\u001b[1;31mNameError\u001b[0m                                 Traceback (most recent call last)",
      "\u001b[1;32m<ipython-input-13-f479540c5c4f>\u001b[0m in \u001b[0;36m<module>\u001b[1;34m\u001b[0m\n\u001b[1;32m----> 1\u001b[1;33m \u001b[0mpositions\u001b[0m \u001b[1;33m=\u001b[0m \u001b[0mnp\u001b[0m\u001b[1;33m.\u001b[0m\u001b[0mlinspace\u001b[0m\u001b[1;33m(\u001b[0m\u001b[1;33m-\u001b[0m\u001b[1;36m4\u001b[0m\u001b[1;33m,\u001b[0m \u001b[1;36m4\u001b[0m\u001b[1;33m,\u001b[0m \u001b[0mtest_timing_with_points\u001b[0m\u001b[1;33m)\u001b[0m\u001b[1;33m\u001b[0m\u001b[1;33m\u001b[0m\u001b[0m\n\u001b[0m\u001b[0;32m      2\u001b[0m \u001b[1;33m\u001b[0m\u001b[0m\n\u001b[0;32m      3\u001b[0m \u001b[0mw1\u001b[0m \u001b[1;33m=\u001b[0m \u001b[0mpotentials1D\u001b[0m\u001b[1;33m.\u001b[0m\u001b[0mharmonicOscillatorPotential\u001b[0m\u001b[1;33m(\u001b[0m\u001b[0mk\u001b[0m\u001b[1;33m=\u001b[0m\u001b[1;36m12\u001b[0m\u001b[1;33m,\u001b[0m \u001b[0mx_shift\u001b[0m\u001b[1;33m=\u001b[0m\u001b[1;33m-\u001b[0m\u001b[1;36m2\u001b[0m\u001b[1;33m)\u001b[0m\u001b[1;33m\u001b[0m\u001b[1;33m\u001b[0m\u001b[0m\n\u001b[0;32m      4\u001b[0m \u001b[0mw2\u001b[0m \u001b[1;33m=\u001b[0m \u001b[0mpotentials1D\u001b[0m\u001b[1;33m.\u001b[0m\u001b[0mharmonicOscillatorPotential\u001b[0m\u001b[1;33m(\u001b[0m\u001b[0mk\u001b[0m\u001b[1;33m=\u001b[0m\u001b[1;36m12\u001b[0m\u001b[1;33m,\u001b[0m \u001b[0mx_shift\u001b[0m\u001b[1;33m=\u001b[0m\u001b[1;36m2\u001b[0m\u001b[1;33m)\u001b[0m\u001b[1;33m\u001b[0m\u001b[1;33m\u001b[0m\u001b[0m\n\u001b[0;32m      5\u001b[0m \u001b[0mV\u001b[0m \u001b[1;33m=\u001b[0m \u001b[0mpotentials1D\u001b[0m\u001b[1;33m.\u001b[0m\u001b[0mhybridCoupledPotentials\u001b[0m\u001b[1;33m(\u001b[0m\u001b[0mVa\u001b[0m\u001b[1;33m=\u001b[0m\u001b[0mw1\u001b[0m\u001b[1;33m,\u001b[0m \u001b[0mVb\u001b[0m\u001b[1;33m=\u001b[0m\u001b[0mw2\u001b[0m\u001b[1;33m,\u001b[0m \u001b[0ms\u001b[0m\u001b[1;33m=\u001b[0m\u001b[1;36m0.1\u001b[0m\u001b[1;33m)\u001b[0m\u001b[1;33m\u001b[0m\u001b[1;33m\u001b[0m\u001b[0m\n",
      "\u001b[1;31mNameError\u001b[0m: name 'test_timing_with_points' is not defined"
     ]
    }
   ],
   "source": [
    "positions = np.linspace(-4, 4, test_timing_with_points)\n",
    "\n",
    "w1 = potentials1D.harmonicOscillatorPotential(k=12, x_shift=-2)\n",
    "w2 = potentials1D.harmonicOscillatorPotential(k=12, x_shift=2)\n",
    "V = potentials1D.hybridCoupledPotentials(Va=w1, Vb=w2, s=0.1)\n",
    "\n",
    "#ha=harmonicOsc(fc=1.0, x_shift=0.0), hb=harmonicOsc(fc=3.0, x_shift=10.0), s=0.05, temp=300.0\n",
    "\n",
    "lambda_ene = []\n",
    "for lam in np.arange(0, 1.01, 0.01):\n",
    "    V.set_lam(lam)\n",
    "    lambda_ene.append(V.ene(positions))\n",
    "\n",
    "print(\"\\nVisualization\")\n",
    "fig, ax = plt.subplots(ncols=1, figsize=[10,10])\n",
    "mapping = ax.imshow(lambda_ene, extent=[0,100, 0,100], vmin=0, vmax=10)\n",
    "opt_labels = np.array(ax.get_yticks())/100\n",
    "ax.set_yticklabels(opt_labels)\n",
    "opt_labels = np.round(((np.array(ax.get_yticks())/100)*8)-4,2)\n",
    "ax.set_xticklabels(opt_labels)\n",
    "\n",
    "ax.set_ylabel(\"lambda\")\n",
    "ax.set_xlabel(\"r\")\n",
    "cm = plt.colorbar(mapping)\n",
    "cm.set_label(\"V\")\n",
    "fig.tight_layout()\n"
   ]
  },
  {
   "cell_type": "code",
   "execution_count": 14,
   "metadata": {
    "pycharm": {
     "name": "#%%\n"
    }
   },
   "outputs": [
    {
     "ename": "NameError",
     "evalue": "name 'test_timing_with_points' is not defined",
     "output_type": "error",
     "traceback": [
      "\u001b[1;31m---------------------------------------------------------------------------\u001b[0m",
      "\u001b[1;31mNameError\u001b[0m                                 Traceback (most recent call last)",
      "\u001b[1;32m<ipython-input-14-f6740a1e6b0c>\u001b[0m in \u001b[0;36m<module>\u001b[1;34m\u001b[0m\n\u001b[1;32m----> 1\u001b[1;33m \u001b[0mpositions\u001b[0m \u001b[1;33m=\u001b[0m \u001b[0mnp\u001b[0m\u001b[1;33m.\u001b[0m\u001b[0mlinspace\u001b[0m\u001b[1;33m(\u001b[0m\u001b[1;33m-\u001b[0m\u001b[1;36m4\u001b[0m\u001b[1;33m,\u001b[0m \u001b[1;36m4\u001b[0m\u001b[1;33m,\u001b[0m \u001b[0mtest_timing_with_points\u001b[0m\u001b[1;33m)\u001b[0m\u001b[1;33m\u001b[0m\u001b[1;33m\u001b[0m\u001b[0m\n\u001b[0m\u001b[0;32m      2\u001b[0m \u001b[1;33m\u001b[0m\u001b[0m\n\u001b[0;32m      3\u001b[0m \u001b[0mw1\u001b[0m \u001b[1;33m=\u001b[0m \u001b[0mpotentials1D\u001b[0m\u001b[1;33m.\u001b[0m\u001b[0mharmonicOscillatorPotential\u001b[0m\u001b[1;33m(\u001b[0m\u001b[0mk\u001b[0m\u001b[1;33m=\u001b[0m\u001b[1;36m12\u001b[0m\u001b[1;33m,\u001b[0m \u001b[0mx_shift\u001b[0m\u001b[1;33m=\u001b[0m\u001b[1;33m-\u001b[0m\u001b[1;36m2\u001b[0m\u001b[1;33m)\u001b[0m\u001b[1;33m\u001b[0m\u001b[1;33m\u001b[0m\u001b[0m\n\u001b[0;32m      4\u001b[0m \u001b[0mw2\u001b[0m \u001b[1;33m=\u001b[0m \u001b[0mpotentials1D\u001b[0m\u001b[1;33m.\u001b[0m\u001b[0mharmonicOscillatorPotential\u001b[0m\u001b[1;33m(\u001b[0m\u001b[0mk\u001b[0m\u001b[1;33m=\u001b[0m\u001b[1;36m12\u001b[0m\u001b[1;33m,\u001b[0m \u001b[0mx_shift\u001b[0m\u001b[1;33m=\u001b[0m\u001b[1;36m2\u001b[0m\u001b[1;33m)\u001b[0m\u001b[1;33m\u001b[0m\u001b[1;33m\u001b[0m\u001b[0m\n\u001b[0;32m      5\u001b[0m \u001b[0mV\u001b[0m \u001b[1;33m=\u001b[0m \u001b[0mpotentials1D\u001b[0m\u001b[1;33m.\u001b[0m\u001b[0mhybridCoupledPotentials\u001b[0m\u001b[1;33m(\u001b[0m\u001b[0mVa\u001b[0m\u001b[1;33m=\u001b[0m\u001b[0mw1\u001b[0m\u001b[1;33m,\u001b[0m \u001b[0mVb\u001b[0m\u001b[1;33m=\u001b[0m\u001b[0mw2\u001b[0m\u001b[1;33m,\u001b[0m \u001b[0ms\u001b[0m\u001b[1;33m=\u001b[0m\u001b[1;36m0.1\u001b[0m\u001b[1;33m)\u001b[0m\u001b[1;33m\u001b[0m\u001b[1;33m\u001b[0m\u001b[0m\n",
      "\u001b[1;31mNameError\u001b[0m: name 'test_timing_with_points' is not defined"
     ]
    }
   ],
   "source": [
    "positions = np.linspace(-4, 4, test_timing_with_points)\n",
    "\n",
    "w1 = potentials1D.harmonicOscillatorPotential(k=12, x_shift=-2)\n",
    "w2 = potentials1D.harmonicOscillatorPotential(k=12, x_shift=2)\n",
    "V = potentials1D.hybridCoupledPotentials(Va=w1, Vb=w2, s=0.1)\n",
    "\n",
    "\n",
    "points=50\n",
    "lambda_ene = []\n",
    "for lam, s in zip(np.linspace(0, 0.5, points), np.logspace(0, -3,  points)):\n",
    "    V.set_lam(lam)\n",
    "    V.set_s(s)\n",
    "    lambda_ene.append(V.ene(positions))\n",
    "for lam, s in zip(np.linspace(0.51, 1,  points), np.logspace(-3, 0,  points)):\n",
    "    V.set_lam(lam)\n",
    "    V.set_s(s)\n",
    "    lambda_ene.append(V.ene(positions))\n",
    "\n",
    "print(\"\\nVisualization\")\n",
    "fig, ax = plt.subplots(ncols=1, figsize=[10,10])\n",
    "mapping = ax.imshow(lambda_ene, extent=[0,100, 0,100], vmin=0, vmax=30)\n",
    "opt_labels = np.array(ax.get_yticks())/100\n",
    "ax.set_yticklabels(opt_labels)\n",
    "opt_labels = np.round(((np.array(ax.get_yticks())/100)*8)-4,2)\n",
    "ax.set_xticklabels(opt_labels)\n",
    "\n",
    "ax.set_ylabel(\"lambda\")\n",
    "ax.set_xlabel(\"r\")\n",
    "cm = plt.colorbar(mapping)\n",
    "cm.set_label(\"V\")\n",
    "fig.tight_layout()\n"
   ]
  },
  {
   "cell_type": "code",
   "execution_count": 15,
   "metadata": {
    "pycharm": {
     "name": "#%%\n"
    },
    "tags": []
   },
   "outputs": [
    {
     "ename": "SyntaxError",
     "evalue": "invalid syntax (<ipython-input-15-70dc21314b60>, line 3)",
     "output_type": "error",
     "traceback": [
      "\u001b[1;36m  File \u001b[1;32m\"<ipython-input-15-70dc21314b60>\"\u001b[1;36m, line \u001b[1;32m3\u001b[0m\n\u001b[1;33m    The Gerhard Koenich Memorial\u001b[0m\n\u001b[1;37m              ^\u001b[0m\n\u001b[1;31mSyntaxError\u001b[0m\u001b[1;31m:\u001b[0m invalid syntax\n"
     ]
    }
   ],
   "source": [
    "# Special Potential\n",
    "\n",
    "The Gerhard Koenich Memorial"
   ]
  },
  {
   "cell_type": "code",
   "execution_count": 16,
   "metadata": {
    "pycharm": {
     "name": "#%%\n"
    },
    "tags": []
   },
   "outputs": [
    {
     "ename": "SyntaxError",
     "evalue": "invalid syntax (<ipython-input-16-583d0bf56eca>, line 3)",
     "output_type": "error",
     "traceback": [
      "\u001b[1;36m  File \u001b[1;32m\"<ipython-input-16-583d0bf56eca>\"\u001b[1;36m, line \u001b[1;32m3\u001b[0m\n\u001b[1;33m    This potential returns always the same value independt on its position.\u001b[0m\n\u001b[1;37m                 ^\u001b[0m\n\u001b[1;31mSyntaxError\u001b[0m\u001b[1;31m:\u001b[0m invalid syntax\n"
     ]
    }
   ],
   "source": [
    "## dummy Potential\n",
    "\n",
    "This potential returns always the same value independt on its position.\n",
    "\n",
    "Functional:\n",
    "$V(r)=x$\n"
   ]
  },
  {
   "cell_type": "code",
   "execution_count": 17,
   "metadata": {
    "tags": []
   },
   "outputs": [
    {
     "ename": "NameError",
     "evalue": "name 'test_timing_with_points' is not defined",
     "output_type": "error",
     "traceback": [
      "\u001b[1;31m---------------------------------------------------------------------------\u001b[0m",
      "\u001b[1;31mNameError\u001b[0m                                 Traceback (most recent call last)",
      "\u001b[1;32m<ipython-input-17-df34a7646083>\u001b[0m in \u001b[0;36m<module>\u001b[1;34m\u001b[0m\n\u001b[1;32m----> 1\u001b[1;33m \u001b[0mpositions\u001b[0m \u001b[1;33m=\u001b[0m \u001b[0mnp\u001b[0m\u001b[1;33m.\u001b[0m\u001b[0mlinspace\u001b[0m\u001b[1;33m(\u001b[0m\u001b[1;36m1\u001b[0m\u001b[1;33m,\u001b[0m\u001b[1;36m100\u001b[0m\u001b[1;33m,\u001b[0m \u001b[0mtest_timing_with_points\u001b[0m\u001b[1;33m)\u001b[0m\u001b[1;33m\u001b[0m\u001b[1;33m\u001b[0m\u001b[0m\n\u001b[0m\u001b[0;32m      2\u001b[0m \u001b[1;33m\u001b[0m\u001b[0m\n\u001b[0;32m      3\u001b[0m \u001b[0mV\u001b[0m \u001b[1;33m=\u001b[0m \u001b[0mpotentials1D\u001b[0m\u001b[1;33m.\u001b[0m\u001b[0mdummyPotential\u001b[0m\u001b[1;33m(\u001b[0m\u001b[1;33m)\u001b[0m\u001b[1;33m\u001b[0m\u001b[1;33m\u001b[0m\u001b[0m\n\u001b[0;32m      4\u001b[0m \u001b[1;33m\u001b[0m\u001b[0m\n\u001b[0;32m      5\u001b[0m \u001b[0mprint\u001b[0m\u001b[1;33m(\u001b[0m\u001b[1;34m\"calculate \"\u001b[0m\u001b[1;33m+\u001b[0m\u001b[0mstr\u001b[0m\u001b[1;33m(\u001b[0m\u001b[0mlen\u001b[0m\u001b[1;33m(\u001b[0m\u001b[0mpositions\u001b[0m\u001b[1;33m)\u001b[0m\u001b[1;33m)\u001b[0m\u001b[1;33m+\u001b[0m\u001b[1;34m\" positions: \"\u001b[0m\u001b[1;33m)\u001b[0m\u001b[1;33m\u001b[0m\u001b[1;33m\u001b[0m\u001b[0m\n",
      "\u001b[1;31mNameError\u001b[0m: name 'test_timing_with_points' is not defined"
     ]
    }
   ],
   "source": [
    "positions = np.linspace(1,100, test_timing_with_points)\n",
    "\n",
    "V = potentials1D.dummyPotential()\n",
    "\n",
    "print(\"calculate \"+str(len(positions))+\" positions: \")\n",
    "%time V.ene(positions)\n",
    "\n",
    "print(\"\\nVisualization\")\n",
    "fig, axes = vis.plot_1DPotential_Term(V, positions=positions)"
   ]
  },
  {
   "cell_type": "markdown",
   "metadata": {},
   "source": [
    "## Flatwell Potential\n",
    "\n",
    "A potential return dependent on a position a value in a binary fashion"
   ]
  },
  {
   "cell_type": "markdown",
   "metadata": {
    "pycharm": {
     "name": "#%% md\n"
    }
   },
   "source": [
    "positions = sorted(list(np.linspace(-10,10, test_timing_with_points))+[1, 0])\n",
    "\n",
    "V = potentials1D.flatwellPotential()\n",
    "#print(V)\n",
    "\n",
    "print(\"calculate \"+str(len(positions))+\" positions: \")\n",
    "%time V.ene(positions)\n",
    "\n",
    "print(\"\\nVisualization\")\n",
    "fig, axes = vis.plot_1DPotential_Term(V, positions=positions, y_range=[-3, 10])"
   ]
  },
  {
   "cell_type": "code",
   "execution_count": 18,
   "metadata": {
    "pycharm": {
     "name": "#%%\n"
    }
   },
   "outputs": [
    {
     "ename": "NameError",
     "evalue": "name 'test_timing_with_points' is not defined",
     "output_type": "error",
     "traceback": [
      "\u001b[1;31m---------------------------------------------------------------------------\u001b[0m",
      "\u001b[1;31mNameError\u001b[0m                                 Traceback (most recent call last)",
      "\u001b[1;32m<ipython-input-18-9867e5478425>\u001b[0m in \u001b[0;36m<module>\u001b[1;34m\u001b[0m\n\u001b[1;32m----> 1\u001b[1;33m \u001b[0mpositions\u001b[0m \u001b[1;33m=\u001b[0m \u001b[0mnp\u001b[0m\u001b[1;33m.\u001b[0m\u001b[0mlinspace\u001b[0m\u001b[1;33m(\u001b[0m\u001b[1;36m1\u001b[0m\u001b[1;33m,\u001b[0m\u001b[1;36m100\u001b[0m\u001b[1;33m,\u001b[0m \u001b[0mtest_timing_with_points\u001b[0m\u001b[1;33m)\u001b[0m\u001b[1;33m\u001b[0m\u001b[1;33m\u001b[0m\u001b[0m\n\u001b[0m\u001b[0;32m      2\u001b[0m \u001b[1;33m\u001b[0m\u001b[0m\n\u001b[0;32m      3\u001b[0m \u001b[0mV\u001b[0m \u001b[1;33m=\u001b[0m \u001b[0mpotentials\u001b[0m\u001b[1;33m.\u001b[0m\u001b[0mdummyPotential\u001b[0m\u001b[1;33m(\u001b[0m\u001b[1;33m)\u001b[0m\u001b[1;33m\u001b[0m\u001b[1;33m\u001b[0m\u001b[0m\n\u001b[0;32m      4\u001b[0m \u001b[1;33m\u001b[0m\u001b[0m\n\u001b[0;32m      5\u001b[0m \u001b[0mprint\u001b[0m\u001b[1;33m(\u001b[0m\u001b[1;34m\"calculate \"\u001b[0m\u001b[1;33m+\u001b[0m\u001b[0mstr\u001b[0m\u001b[1;33m(\u001b[0m\u001b[0mlen\u001b[0m\u001b[1;33m(\u001b[0m\u001b[0mpositions\u001b[0m\u001b[1;33m)\u001b[0m\u001b[1;33m)\u001b[0m\u001b[1;33m+\u001b[0m\u001b[1;34m\" positions: \"\u001b[0m\u001b[1;33m)\u001b[0m\u001b[1;33m\u001b[0m\u001b[1;33m\u001b[0m\u001b[0m\n",
      "\u001b[1;31mNameError\u001b[0m: name 'test_timing_with_points' is not defined"
     ]
    }
   ],
   "source": [
    "positions = np.linspace(1,100, test_timing_with_points)\n",
    "\n",
    "V = potentials.dummyPotential()\n",
    "\n",
    "print(\"calculate \"+str(len(positions))+\" positions: \")\n",
    "%time V.ene(positions)\n",
    "\n",
    "print(\"\\nVisualization\")\n",
    "fig, axes = vis.plot_1DPotential_Term(V, positions=positions)"
   ]
  },
  {
   "cell_type": "markdown",
   "metadata": {},
   "source": [
    "## Flatwell Potential\n",
    "\n",
    "A potential return dependent on a position a value in a binary fashion"
   ]
  },
  {
   "cell_type": "code",
   "execution_count": null,
   "metadata": {
    "pycharm": {
     "name": "#%%\n"
    }
   },
   "outputs": [],
   "source": [
    "positions = sorted(list(np.linspace(-10,10, test_timing_with_points))+[1, 0])\n",
    "\n",
    "V = potentials.flatwellPotential()\n",
    "#print(V)\n",
    "\n",
    "print(\"calculate \"+str(len(positions))+\" positions: \")\n",
    "%time V.ene(positions)\n",
    "\n",
    "print(\"\\nVisualization\")\n",
    "fig, axes = vis.plot_1DPotential_Term(V, positions=positions, y_range=[-3, 10])"
   ]
  },
  {
   "cell_type": "code",
   "execution_count": null,
   "metadata": {
    "pycharm": {
     "name": "#%%\n"
    }
   },
   "outputs": [],
   "source": []
  },
  {
   "cell_type": "markdown",
   "metadata": {},
   "source": [
    "## Flatwell Potential\n",
    "\n",
    "A potential return dependent on a position a value in a binary fashion"
   ]
  },
  {
   "cell_type": "code",
   "execution_count": 19,
   "metadata": {
    "pycharm": {
     "name": "#%%\n"
    }
   },
   "outputs": [
    {
     "ename": "NameError",
     "evalue": "name 'test_timing_with_points' is not defined",
     "output_type": "error",
     "traceback": [
      "\u001b[1;31m---------------------------------------------------------------------------\u001b[0m",
      "\u001b[1;31mNameError\u001b[0m                                 Traceback (most recent call last)",
      "\u001b[1;32m<ipython-input-19-2bbee2dc8673>\u001b[0m in \u001b[0;36m<module>\u001b[1;34m\u001b[0m\n\u001b[1;32m----> 1\u001b[1;33m \u001b[0mpositions\u001b[0m \u001b[1;33m=\u001b[0m \u001b[0msorted\u001b[0m\u001b[1;33m(\u001b[0m\u001b[0mlist\u001b[0m\u001b[1;33m(\u001b[0m\u001b[0mnp\u001b[0m\u001b[1;33m.\u001b[0m\u001b[0mlinspace\u001b[0m\u001b[1;33m(\u001b[0m\u001b[1;33m-\u001b[0m\u001b[1;36m10\u001b[0m\u001b[1;33m,\u001b[0m\u001b[1;36m10\u001b[0m\u001b[1;33m,\u001b[0m \u001b[0mtest_timing_with_points\u001b[0m\u001b[1;33m)\u001b[0m\u001b[1;33m)\u001b[0m\u001b[1;33m+\u001b[0m\u001b[1;33m[\u001b[0m\u001b[1;36m1\u001b[0m\u001b[1;33m,\u001b[0m \u001b[1;36m0\u001b[0m\u001b[1;33m]\u001b[0m\u001b[1;33m)\u001b[0m\u001b[1;33m\u001b[0m\u001b[1;33m\u001b[0m\u001b[0m\n\u001b[0m\u001b[0;32m      2\u001b[0m \u001b[1;33m\u001b[0m\u001b[0m\n\u001b[0;32m      3\u001b[0m \u001b[0mV\u001b[0m \u001b[1;33m=\u001b[0m \u001b[0mpotentials\u001b[0m\u001b[1;33m.\u001b[0m\u001b[0mflatwellPotential\u001b[0m\u001b[1;33m(\u001b[0m\u001b[1;33m)\u001b[0m\u001b[1;33m\u001b[0m\u001b[1;33m\u001b[0m\u001b[0m\n\u001b[0;32m      4\u001b[0m \u001b[1;31m#print(V)\u001b[0m\u001b[1;33m\u001b[0m\u001b[1;33m\u001b[0m\u001b[1;33m\u001b[0m\u001b[0m\n\u001b[0;32m      5\u001b[0m \u001b[1;33m\u001b[0m\u001b[0m\n",
      "\u001b[1;31mNameError\u001b[0m: name 'test_timing_with_points' is not defined"
     ]
    }
   ],
   "source": [
    "positions = sorted(list(np.linspace(-10,10, test_timing_with_points))+[1, 0])\n",
    "\n",
    "V = potentials.flatwellPotential()\n",
    "#print(V)\n",
    "\n",
    "print(\"calculate \"+str(len(positions))+\" positions: \")\n",
    "%time V.ene(positions)\n",
    "\n",
    "print(\"\\nVisualization\")\n",
    "fig, axes = vis.plot_1DPotential_Term(V, positions=positions, y_range=[-3, 10])"
   ]
  },
  {
   "cell_type": "code",
   "execution_count": null,
   "metadata": {
    "pycharm": {
     "name": "#%%\n"
    }
   },
   "outputs": [],
   "source": []
  },
  {
   "cell_type": "markdown",
   "metadata": {},
   "source": [
    "## Flatwell Potential\n",
    "\n",
    "A potential return dependent on a position a value in a binary fashion"
   ]
  },
  {
   "cell_type": "code",
   "execution_count": 20,
   "metadata": {
    "pycharm": {
     "name": "#%%\n"
    }
   },
   "outputs": [
    {
     "ename": "NameError",
     "evalue": "name 'test_timing_with_points' is not defined",
     "output_type": "error",
     "traceback": [
      "\u001b[1;31m---------------------------------------------------------------------------\u001b[0m",
      "\u001b[1;31mNameError\u001b[0m                                 Traceback (most recent call last)",
      "\u001b[1;32m<ipython-input-20-2bbee2dc8673>\u001b[0m in \u001b[0;36m<module>\u001b[1;34m\u001b[0m\n\u001b[1;32m----> 1\u001b[1;33m \u001b[0mpositions\u001b[0m \u001b[1;33m=\u001b[0m \u001b[0msorted\u001b[0m\u001b[1;33m(\u001b[0m\u001b[0mlist\u001b[0m\u001b[1;33m(\u001b[0m\u001b[0mnp\u001b[0m\u001b[1;33m.\u001b[0m\u001b[0mlinspace\u001b[0m\u001b[1;33m(\u001b[0m\u001b[1;33m-\u001b[0m\u001b[1;36m10\u001b[0m\u001b[1;33m,\u001b[0m\u001b[1;36m10\u001b[0m\u001b[1;33m,\u001b[0m \u001b[0mtest_timing_with_points\u001b[0m\u001b[1;33m)\u001b[0m\u001b[1;33m)\u001b[0m\u001b[1;33m+\u001b[0m\u001b[1;33m[\u001b[0m\u001b[1;36m1\u001b[0m\u001b[1;33m,\u001b[0m \u001b[1;36m0\u001b[0m\u001b[1;33m]\u001b[0m\u001b[1;33m)\u001b[0m\u001b[1;33m\u001b[0m\u001b[1;33m\u001b[0m\u001b[0m\n\u001b[0m\u001b[0;32m      2\u001b[0m \u001b[1;33m\u001b[0m\u001b[0m\n\u001b[0;32m      3\u001b[0m \u001b[0mV\u001b[0m \u001b[1;33m=\u001b[0m \u001b[0mpotentials\u001b[0m\u001b[1;33m.\u001b[0m\u001b[0mflatwellPotential\u001b[0m\u001b[1;33m(\u001b[0m\u001b[1;33m)\u001b[0m\u001b[1;33m\u001b[0m\u001b[1;33m\u001b[0m\u001b[0m\n\u001b[0;32m      4\u001b[0m \u001b[1;31m#print(V)\u001b[0m\u001b[1;33m\u001b[0m\u001b[1;33m\u001b[0m\u001b[1;33m\u001b[0m\u001b[0m\n\u001b[0;32m      5\u001b[0m \u001b[1;33m\u001b[0m\u001b[0m\n",
      "\u001b[1;31mNameError\u001b[0m: name 'test_timing_with_points' is not defined"
     ]
    }
   ],
   "source": [
    "positions = sorted(list(np.linspace(-10,10, test_timing_with_points))+[1, 0])\n",
    "\n",
    "V = potentials.flatwellPotential()\n",
    "#print(V)\n",
    "\n",
    "print(\"calculate \"+str(len(positions))+\" positions: \")\n",
    "%time V.ene(positions)\n",
    "\n",
    "print(\"\\nVisualization\")\n",
    "fig, axes = vis.plot_1DPotential_Term(V, positions=positions, y_range=[-3, 10])"
   ]
  },
  {
   "cell_type": "code",
   "execution_count": null,
   "metadata": {
    "pycharm": {
     "name": "#%%\n"
    }
   },
   "outputs": [],
   "source": []
  },
  {
   "cell_type": "markdown",
   "metadata": {},
   "source": [
    "## Flatwell Potential\n",
    "\n",
    "A potential return dependent on a position a value in a binary fashion"
   ]
  },
  {
   "cell_type": "code",
   "execution_count": 21,
   "metadata": {
    "pycharm": {
     "name": "#%%\n"
    }
   },
   "outputs": [
    {
     "ename": "NameError",
     "evalue": "name 'test_timing_with_points' is not defined",
     "output_type": "error",
     "traceback": [
      "\u001b[1;31m---------------------------------------------------------------------------\u001b[0m",
      "\u001b[1;31mNameError\u001b[0m                                 Traceback (most recent call last)",
      "\u001b[1;32m<ipython-input-21-2bbee2dc8673>\u001b[0m in \u001b[0;36m<module>\u001b[1;34m\u001b[0m\n\u001b[1;32m----> 1\u001b[1;33m \u001b[0mpositions\u001b[0m \u001b[1;33m=\u001b[0m \u001b[0msorted\u001b[0m\u001b[1;33m(\u001b[0m\u001b[0mlist\u001b[0m\u001b[1;33m(\u001b[0m\u001b[0mnp\u001b[0m\u001b[1;33m.\u001b[0m\u001b[0mlinspace\u001b[0m\u001b[1;33m(\u001b[0m\u001b[1;33m-\u001b[0m\u001b[1;36m10\u001b[0m\u001b[1;33m,\u001b[0m\u001b[1;36m10\u001b[0m\u001b[1;33m,\u001b[0m \u001b[0mtest_timing_with_points\u001b[0m\u001b[1;33m)\u001b[0m\u001b[1;33m)\u001b[0m\u001b[1;33m+\u001b[0m\u001b[1;33m[\u001b[0m\u001b[1;36m1\u001b[0m\u001b[1;33m,\u001b[0m \u001b[1;36m0\u001b[0m\u001b[1;33m]\u001b[0m\u001b[1;33m)\u001b[0m\u001b[1;33m\u001b[0m\u001b[1;33m\u001b[0m\u001b[0m\n\u001b[0m\u001b[0;32m      2\u001b[0m \u001b[1;33m\u001b[0m\u001b[0m\n\u001b[0;32m      3\u001b[0m \u001b[0mV\u001b[0m \u001b[1;33m=\u001b[0m \u001b[0mpotentials\u001b[0m\u001b[1;33m.\u001b[0m\u001b[0mflatwellPotential\u001b[0m\u001b[1;33m(\u001b[0m\u001b[1;33m)\u001b[0m\u001b[1;33m\u001b[0m\u001b[1;33m\u001b[0m\u001b[0m\n\u001b[0;32m      4\u001b[0m \u001b[1;31m#print(V)\u001b[0m\u001b[1;33m\u001b[0m\u001b[1;33m\u001b[0m\u001b[1;33m\u001b[0m\u001b[0m\n\u001b[0;32m      5\u001b[0m \u001b[1;33m\u001b[0m\u001b[0m\n",
      "\u001b[1;31mNameError\u001b[0m: name 'test_timing_with_points' is not defined"
     ]
    }
   ],
   "source": [
    "positions = sorted(list(np.linspace(-10,10, test_timing_with_points))+[1, 0])\n",
    "\n",
    "V = potentials.flatwellPotential()\n",
    "#print(V)\n",
    "\n",
    "print(\"calculate \"+str(len(positions))+\" positions: \")\n",
    "%time V.ene(positions)\n",
    "\n",
    "print(\"\\nVisualization\")\n",
    "fig, axes = vis.plot_1DPotential_Term(V, positions=positions, y_range=[-3, 10])"
   ]
  },
  {
   "cell_type": "code",
   "execution_count": null,
   "metadata": {
    "pycharm": {
     "name": "#%%\n"
    }
   },
   "outputs": [],
   "source": []
  },
  {
   "cell_type": "markdown",
   "metadata": {},
   "source": [
    "## Flatwell Potential\n",
    "\n",
    "A potential return dependent on a position a value in a binary fashion"
   ]
  },
  {
   "cell_type": "code",
   "execution_count": 22,
   "metadata": {
    "pycharm": {
     "name": "#%%\n"
    }
   },
   "outputs": [
    {
     "ename": "NameError",
     "evalue": "name 'test_timing_with_points' is not defined",
     "output_type": "error",
     "traceback": [
      "\u001b[1;31m---------------------------------------------------------------------------\u001b[0m",
      "\u001b[1;31mNameError\u001b[0m                                 Traceback (most recent call last)",
      "\u001b[1;32m<ipython-input-22-2bbee2dc8673>\u001b[0m in \u001b[0;36m<module>\u001b[1;34m\u001b[0m\n\u001b[1;32m----> 1\u001b[1;33m \u001b[0mpositions\u001b[0m \u001b[1;33m=\u001b[0m \u001b[0msorted\u001b[0m\u001b[1;33m(\u001b[0m\u001b[0mlist\u001b[0m\u001b[1;33m(\u001b[0m\u001b[0mnp\u001b[0m\u001b[1;33m.\u001b[0m\u001b[0mlinspace\u001b[0m\u001b[1;33m(\u001b[0m\u001b[1;33m-\u001b[0m\u001b[1;36m10\u001b[0m\u001b[1;33m,\u001b[0m\u001b[1;36m10\u001b[0m\u001b[1;33m,\u001b[0m \u001b[0mtest_timing_with_points\u001b[0m\u001b[1;33m)\u001b[0m\u001b[1;33m)\u001b[0m\u001b[1;33m+\u001b[0m\u001b[1;33m[\u001b[0m\u001b[1;36m1\u001b[0m\u001b[1;33m,\u001b[0m \u001b[1;36m0\u001b[0m\u001b[1;33m]\u001b[0m\u001b[1;33m)\u001b[0m\u001b[1;33m\u001b[0m\u001b[1;33m\u001b[0m\u001b[0m\n\u001b[0m\u001b[0;32m      2\u001b[0m \u001b[1;33m\u001b[0m\u001b[0m\n\u001b[0;32m      3\u001b[0m \u001b[0mV\u001b[0m \u001b[1;33m=\u001b[0m \u001b[0mpotentials\u001b[0m\u001b[1;33m.\u001b[0m\u001b[0mflatwellPotential\u001b[0m\u001b[1;33m(\u001b[0m\u001b[1;33m)\u001b[0m\u001b[1;33m\u001b[0m\u001b[1;33m\u001b[0m\u001b[0m\n\u001b[0;32m      4\u001b[0m \u001b[1;31m#print(V)\u001b[0m\u001b[1;33m\u001b[0m\u001b[1;33m\u001b[0m\u001b[1;33m\u001b[0m\u001b[0m\n\u001b[0;32m      5\u001b[0m \u001b[1;33m\u001b[0m\u001b[0m\n",
      "\u001b[1;31mNameError\u001b[0m: name 'test_timing_with_points' is not defined"
     ]
    }
   ],
   "source": [
    "positions = sorted(list(np.linspace(-10,10, test_timing_with_points))+[1, 0])\n",
    "\n",
    "V = potentials.flatwellPotential()\n",
    "#print(V)\n",
    "\n",
    "print(\"calculate \"+str(len(positions))+\" positions: \")\n",
    "%time V.ene(positions)\n",
    "\n",
    "print(\"\\nVisualization\")\n",
    "fig, axes = vis.plot_1DPotential_Term(V, positions=positions, y_range=[-3, 10])"
   ]
  },
  {
   "cell_type": "code",
   "execution_count": null,
   "metadata": {
    "pycharm": {
     "name": "#%%\n"
    }
   },
   "outputs": [],
   "source": []
  },
  {
   "cell_type": "markdown",
   "metadata": {},
   "source": [
    "## Flatwell Potential\n",
    "\n",
    "A potential return dependent on a position a value in a binary fashion"
   ]
  },
  {
   "cell_type": "code",
   "execution_count": 23,
   "metadata": {
    "pycharm": {
     "name": "#%%\n"
    }
   },
   "outputs": [
    {
     "ename": "NameError",
     "evalue": "name 'test_timing_with_points' is not defined",
     "output_type": "error",
     "traceback": [
      "\u001b[1;31m---------------------------------------------------------------------------\u001b[0m",
      "\u001b[1;31mNameError\u001b[0m                                 Traceback (most recent call last)",
      "\u001b[1;32m<ipython-input-23-2bbee2dc8673>\u001b[0m in \u001b[0;36m<module>\u001b[1;34m\u001b[0m\n\u001b[1;32m----> 1\u001b[1;33m \u001b[0mpositions\u001b[0m \u001b[1;33m=\u001b[0m \u001b[0msorted\u001b[0m\u001b[1;33m(\u001b[0m\u001b[0mlist\u001b[0m\u001b[1;33m(\u001b[0m\u001b[0mnp\u001b[0m\u001b[1;33m.\u001b[0m\u001b[0mlinspace\u001b[0m\u001b[1;33m(\u001b[0m\u001b[1;33m-\u001b[0m\u001b[1;36m10\u001b[0m\u001b[1;33m,\u001b[0m\u001b[1;36m10\u001b[0m\u001b[1;33m,\u001b[0m \u001b[0mtest_timing_with_points\u001b[0m\u001b[1;33m)\u001b[0m\u001b[1;33m)\u001b[0m\u001b[1;33m+\u001b[0m\u001b[1;33m[\u001b[0m\u001b[1;36m1\u001b[0m\u001b[1;33m,\u001b[0m \u001b[1;36m0\u001b[0m\u001b[1;33m]\u001b[0m\u001b[1;33m)\u001b[0m\u001b[1;33m\u001b[0m\u001b[1;33m\u001b[0m\u001b[0m\n\u001b[0m\u001b[0;32m      2\u001b[0m \u001b[1;33m\u001b[0m\u001b[0m\n\u001b[0;32m      3\u001b[0m \u001b[0mV\u001b[0m \u001b[1;33m=\u001b[0m \u001b[0mpotentials\u001b[0m\u001b[1;33m.\u001b[0m\u001b[0mflatwellPotential\u001b[0m\u001b[1;33m(\u001b[0m\u001b[1;33m)\u001b[0m\u001b[1;33m\u001b[0m\u001b[1;33m\u001b[0m\u001b[0m\n\u001b[0;32m      4\u001b[0m \u001b[1;31m#print(V)\u001b[0m\u001b[1;33m\u001b[0m\u001b[1;33m\u001b[0m\u001b[1;33m\u001b[0m\u001b[0m\n\u001b[0;32m      5\u001b[0m \u001b[1;33m\u001b[0m\u001b[0m\n",
      "\u001b[1;31mNameError\u001b[0m: name 'test_timing_with_points' is not defined"
     ]
    }
   ],
   "source": [
    "positions = sorted(list(np.linspace(-10,10, test_timing_with_points))+[1, 0])\n",
    "\n",
    "V = potentials.flatwellPotential()\n",
    "#print(V)\n",
    "\n",
    "print(\"calculate \"+str(len(positions))+\" positions: \")\n",
    "%time V.ene(positions)\n",
    "\n",
    "print(\"\\nVisualization\")\n",
    "fig, axes = vis.plot_1DPotential_Term(V, positions=positions, y_range=[-3, 10])"
   ]
  },
  {
   "cell_type": "code",
   "execution_count": null,
   "metadata": {
    "pycharm": {
     "name": "#%%\n"
    }
   },
   "outputs": [],
   "source": []
  },
  {
   "cell_type": "markdown",
   "metadata": {},
   "source": [
    "## Flatwell Potential\n",
    "\n",
    "A potential return dependent on a position a value in a binary fashion"
   ]
  },
  {
   "cell_type": "code",
   "execution_count": 24,
   "metadata": {
    "pycharm": {
     "name": "#%%\n"
    }
   },
   "outputs": [
    {
     "ename": "NameError",
     "evalue": "name 'test_timing_with_points' is not defined",
     "output_type": "error",
     "traceback": [
      "\u001b[1;31m---------------------------------------------------------------------------\u001b[0m",
      "\u001b[1;31mNameError\u001b[0m                                 Traceback (most recent call last)",
      "\u001b[1;32m<ipython-input-24-2bbee2dc8673>\u001b[0m in \u001b[0;36m<module>\u001b[1;34m\u001b[0m\n\u001b[1;32m----> 1\u001b[1;33m \u001b[0mpositions\u001b[0m \u001b[1;33m=\u001b[0m \u001b[0msorted\u001b[0m\u001b[1;33m(\u001b[0m\u001b[0mlist\u001b[0m\u001b[1;33m(\u001b[0m\u001b[0mnp\u001b[0m\u001b[1;33m.\u001b[0m\u001b[0mlinspace\u001b[0m\u001b[1;33m(\u001b[0m\u001b[1;33m-\u001b[0m\u001b[1;36m10\u001b[0m\u001b[1;33m,\u001b[0m\u001b[1;36m10\u001b[0m\u001b[1;33m,\u001b[0m \u001b[0mtest_timing_with_points\u001b[0m\u001b[1;33m)\u001b[0m\u001b[1;33m)\u001b[0m\u001b[1;33m+\u001b[0m\u001b[1;33m[\u001b[0m\u001b[1;36m1\u001b[0m\u001b[1;33m,\u001b[0m \u001b[1;36m0\u001b[0m\u001b[1;33m]\u001b[0m\u001b[1;33m)\u001b[0m\u001b[1;33m\u001b[0m\u001b[1;33m\u001b[0m\u001b[0m\n\u001b[0m\u001b[0;32m      2\u001b[0m \u001b[1;33m\u001b[0m\u001b[0m\n\u001b[0;32m      3\u001b[0m \u001b[0mV\u001b[0m \u001b[1;33m=\u001b[0m \u001b[0mpotentials\u001b[0m\u001b[1;33m.\u001b[0m\u001b[0mflatwellPotential\u001b[0m\u001b[1;33m(\u001b[0m\u001b[1;33m)\u001b[0m\u001b[1;33m\u001b[0m\u001b[1;33m\u001b[0m\u001b[0m\n\u001b[0;32m      4\u001b[0m \u001b[1;31m#print(V)\u001b[0m\u001b[1;33m\u001b[0m\u001b[1;33m\u001b[0m\u001b[1;33m\u001b[0m\u001b[0m\n\u001b[0;32m      5\u001b[0m \u001b[1;33m\u001b[0m\u001b[0m\n",
      "\u001b[1;31mNameError\u001b[0m: name 'test_timing_with_points' is not defined"
     ]
    }
   ],
   "source": [
    "positions = sorted(list(np.linspace(-10,10, test_timing_with_points))+[1, 0])\n",
    "\n",
    "V = potentials.flatwellPotential()\n",
    "#print(V)\n",
    "\n",
    "print(\"calculate \"+str(len(positions))+\" positions: \")\n",
    "%time V.ene(positions)\n",
    "\n",
    "print(\"\\nVisualization\")\n",
    "fig, axes = vis.plot_1DPotential_Term(V, positions=positions, y_range=[-3, 10])"
   ]
  },
  {
   "cell_type": "code",
   "execution_count": 54,
   "metadata": {
    "tags": []
   },
   "outputs": [
    {
     "name": "stdout",
     "output_type": "stream",
     "text": [
      "calculate 100 positions: \n",
      "Wall time: 0 ns\n",
      "\n",
      "Visualization\n"
     ]
    },
    {
     "data": {
      "image/png": "[encoded data removed]",
      "image/svg+xml": [
       "<?xml version=\"1.0\" encoding=\"utf-8\" standalone=\"no\"?>\r\n",
       "<!DOCTYPE svg PUBLIC \"-//W3C//DTD SVG 1.1//EN\"\r\n",
       "  \"http://www.w3.org/Graphics/SVG/1.1/DTD/svg11.dtd\">\r\n",
       "<!-- Created with matplotlib (https://matplotlib.org/) -->\r\n",
       "<svg height=\"279.565pt\" version=\"1.1\" viewBox=\"0 0 420.412344 279.565\" width=\"420.412344pt\" xmlns=\"http://www.w3.org/2000/svg\" xmlns:xlink=\"http://www.w3.org/1999/xlink\">\r\n",
       " <defs>\r\n",
       "  <style type=\"text/css\">\r\n",
       "*{stroke-linecap:butt;stroke-linejoin:round;}\r\n",
       "  </style>\r\n",
       " </defs>\r\n",
       " <g id=\"figure_1\">\r\n",
       "  <g id=\"patch_1\">\r\n",
       "   <path d=\"M 0 279.565 \r\n",
       "L 420.412344 279.565 \r\n",
       "L 420.412344 0 \r\n",
       "L 0 0 \r\n",
       "z\r\n",
       "\" style=\"fill:none;\"/>\r\n",
       "  </g>\r\n",
       "  <g id=\"axes_1\">\r\n",
       "   <g id=\"patch_2\">\r\n",
       "    <path d=\"M 48.381719 245.88 \r\n",
       "L 195.931719 245.88 \r\n",
       "L 195.931719 38.88 \r\n",
       "L 48.381719 38.88 \r\n",
       "z\r\n",
       "\" style=\"fill:#ffffff;\"/>\r\n",
       "   </g>\r\n",
       "   <g id=\"matplotlib.axis_1\">\r\n",
       "    <g id=\"xtick_1\">\r\n",
       "     <g id=\"line2d_1\">\r\n",
       "      <defs>\r\n",
       "       <path d=\"M 0 0 \r\n",
       "L 0 3.5 \r\n",
       "\" id=\"mc0b48051b5\" style=\"stroke:#000000;stroke-width:0.8;\"/>\r\n",
       "      </defs>\r\n",
       "      <g>\r\n",
       "       <use style=\"stroke:#000000;stroke-width:0.8;\" x=\"76.699396\" xlink:href=\"#mc0b48051b5\" y=\"245.88\"/>\r\n",
       "      </g>\r\n",
       "     </g>\r\n",
       "     <g id=\"text_1\">\r\n",
       "      <!-- 20 -->\r\n",
       "      <defs>\r\n",
       "       <path d=\"M 19.1875 8.296875 \r\n",
       "L 53.609375 8.296875 \r\n",
       "L 53.609375 0 \r\n",
       "L 7.328125 0 \r\n",
       "L 7.328125 8.296875 \r\n",
       "Q 12.9375 14.109375 22.625 23.890625 \r\n",
       "Q 32.328125 33.6875 34.8125 36.53125 \r\n",
       "Q 39.546875 41.84375 41.421875 45.53125 \r\n",
       "Q 43.3125 49.21875 43.3125 52.78125 \r\n",
       "Q 43.3125 58.59375 39.234375 62.25 \r\n",
       "Q 35.15625 65.921875 28.609375 65.921875 \r\n",
       "Q 23.96875 65.921875 18.8125 64.3125 \r\n",
       "Q 13.671875 62.703125 7.8125 59.421875 \r\n",
       "L 7.8125 69.390625 \r\n",
       "Q 13.765625 71.78125 18.9375 73 \r\n",
       "Q 24.125 74.21875 28.421875 74.21875 \r\n",
       "Q 39.75 74.21875 46.484375 68.546875 \r\n",
       "Q 53.21875 62.890625 53.21875 53.421875 \r\n",
       "Q 53.21875 48.921875 51.53125 44.890625 \r\n",
       "Q 49.859375 40.875 45.40625 35.40625 \r\n",
       "Q 44.1875 33.984375 37.640625 27.21875 \r\n",
       "Q 31.109375 20.453125 19.1875 8.296875 \r\n",
       "z\r\n",
       "\" id=\"DejaVuSans-50\"/>\r\n",
       "       <path d=\"M 31.78125 66.40625 \r\n",
       "Q 24.171875 66.40625 20.328125 58.90625 \r\n",
       "Q 16.5 51.421875 16.5 36.375 \r\n",
       "Q 16.5 21.390625 20.328125 13.890625 \r\n",
       "Q 24.171875 6.390625 31.78125 6.390625 \r\n",
       "Q 39.453125 6.390625 43.28125 13.890625 \r\n",
       "Q 47.125 21.390625 47.125 36.375 \r\n",
       "Q 47.125 51.421875 43.28125 58.90625 \r\n",
       "Q 39.453125 66.40625 31.78125 66.40625 \r\n",
       "z\r\n",
       "M 31.78125 74.21875 \r\n",
       "Q 44.046875 74.21875 50.515625 64.515625 \r\n",
       "Q 56.984375 54.828125 56.984375 36.375 \r\n",
       "Q 56.984375 17.96875 50.515625 8.265625 \r\n",
       "Q 44.046875 -1.421875 31.78125 -1.421875 \r\n",
       "Q 19.53125 -1.421875 13.0625 8.265625 \r\n",
       "Q 6.59375 17.96875 6.59375 36.375 \r\n",
       "Q 6.59375 54.828125 13.0625 64.515625 \r\n",
       "Q 19.53125 74.21875 31.78125 74.21875 \r\n",
       "z\r\n",
       "\" id=\"DejaVuSans-48\"/>\r\n",
       "      </defs>\r\n",
       "      <g transform=\"translate(72.245646 258.198906)scale(0.07 -0.07)\">\r\n",
       "       <use xlink:href=\"#DejaVuSans-50\"/>\r\n",
       "       <use x=\"63.623047\" xlink:href=\"#DejaVuSans-48\"/>\r\n",
       "      </g>\r\n",
       "     </g>\r\n",
       "    </g>\r\n",
       "    <g id=\"xtick_2\">\r\n",
       "     <g id=\"line2d_2\">\r\n",
       "      <g>\r\n",
       "       <use style=\"stroke:#000000;stroke-width:0.8;\" x=\"106.507476\" xlink:href=\"#mc0b48051b5\" y=\"245.88\"/>\r\n",
       "      </g>\r\n",
       "     </g>\r\n",
       "     <g id=\"text_2\">\r\n",
       "      <!-- 40 -->\r\n",
       "      <defs>\r\n",
       "       <path d=\"M 37.796875 64.3125 \r\n",
       "L 12.890625 25.390625 \r\n",
       "L 37.796875 25.390625 \r\n",
       "z\r\n",
       "M 35.203125 72.90625 \r\n",
       "L 47.609375 72.90625 \r\n",
       "L 47.609375 25.390625 \r\n",
       "L 58.015625 25.390625 \r\n",
       "L 58.015625 17.1875 \r\n",
       "L 47.609375 17.1875 \r\n",
       "L 47.609375 0 \r\n",
       "L 37.796875 0 \r\n",
       "L 37.796875 17.1875 \r\n",
       "L 4.890625 17.1875 \r\n",
       "L 4.890625 26.703125 \r\n",
       "z\r\n",
       "\" id=\"DejaVuSans-52\"/>\r\n",
       "      </defs>\r\n",
       "      <g transform=\"translate(102.053726 258.198906)scale(0.07 -0.07)\">\r\n",
       "       <use xlink:href=\"#DejaVuSans-52\"/>\r\n",
       "       <use x=\"63.623047\" xlink:href=\"#DejaVuSans-48\"/>\r\n",
       "      </g>\r\n",
       "     </g>\r\n",
       "    </g>\r\n",
       "    <g id=\"xtick_3\">\r\n",
       "     <g id=\"line2d_3\">\r\n",
       "      <g>\r\n",
       "       <use style=\"stroke:#000000;stroke-width:0.8;\" x=\"136.315557\" xlink:href=\"#mc0b48051b5\" y=\"245.88\"/>\r\n",
       "      </g>\r\n",
       "     </g>\r\n",
       "     <g id=\"text_3\">\r\n",
       "      <!-- 60 -->\r\n",
       "      <defs>\r\n",
       "       <path d=\"M 33.015625 40.375 \r\n",
       "Q 26.375 40.375 22.484375 35.828125 \r\n",
       "Q 18.609375 31.296875 18.609375 23.390625 \r\n",
       "Q 18.609375 15.53125 22.484375 10.953125 \r\n",
       "Q 26.375 6.390625 33.015625 6.390625 \r\n",
       "Q 39.65625 6.390625 43.53125 10.953125 \r\n",
       "Q 47.40625 15.53125 47.40625 23.390625 \r\n",
       "Q 47.40625 31.296875 43.53125 35.828125 \r\n",
       "Q 39.65625 40.375 33.015625 40.375 \r\n",
       "z\r\n",
       "M 52.59375 71.296875 \r\n",
       "L 52.59375 62.3125 \r\n",
       "Q 48.875 64.0625 45.09375 64.984375 \r\n",
       "Q 41.3125 65.921875 37.59375 65.921875 \r\n",
       "Q 27.828125 65.921875 22.671875 59.328125 \r\n",
       "Q 17.53125 52.734375 16.796875 39.40625 \r\n",
       "Q 19.671875 43.65625 24.015625 45.921875 \r\n",
       "Q 28.375 48.1875 33.59375 48.1875 \r\n",
       "Q 44.578125 48.1875 50.953125 41.515625 \r\n",
       "Q 57.328125 34.859375 57.328125 23.390625 \r\n",
       "Q 57.328125 12.15625 50.6875 5.359375 \r\n",
       "Q 44.046875 -1.421875 33.015625 -1.421875 \r\n",
       "Q 20.359375 -1.421875 13.671875 8.265625 \r\n",
       "Q 6.984375 17.96875 6.984375 36.375 \r\n",
       "Q 6.984375 53.65625 15.1875 63.9375 \r\n",
       "Q 23.390625 74.21875 37.203125 74.21875 \r\n",
       "Q 40.921875 74.21875 44.703125 73.484375 \r\n",
       "Q 48.484375 72.75 52.59375 71.296875 \r\n",
       "z\r\n",
       "\" id=\"DejaVuSans-54\"/>\r\n",
       "      </defs>\r\n",
       "      <g transform=\"translate(131.861807 258.198906)scale(0.07 -0.07)\">\r\n",
       "       <use xlink:href=\"#DejaVuSans-54\"/>\r\n",
       "       <use x=\"63.623047\" xlink:href=\"#DejaVuSans-48\"/>\r\n",
       "      </g>\r\n",
       "     </g>\r\n",
       "    </g>\r\n",
       "    <g id=\"xtick_4\">\r\n",
       "     <g id=\"line2d_4\">\r\n",
       "      <g>\r\n",
       "       <use style=\"stroke:#000000;stroke-width:0.8;\" x=\"166.123638\" xlink:href=\"#mc0b48051b5\" y=\"245.88\"/>\r\n",
       "      </g>\r\n",
       "     </g>\r\n",
       "     <g id=\"text_4\">\r\n",
       "      <!-- 80 -->\r\n",
       "      <defs>\r\n",
       "       <path d=\"M 31.78125 34.625 \r\n",
       "Q 24.75 34.625 20.71875 30.859375 \r\n",
       "Q 16.703125 27.09375 16.703125 20.515625 \r\n",
       "Q 16.703125 13.921875 20.71875 10.15625 \r\n",
       "Q 24.75 6.390625 31.78125 6.390625 \r\n",
       "Q 38.8125 6.390625 42.859375 10.171875 \r\n",
       "Q 46.921875 13.96875 46.921875 20.515625 \r\n",
       "Q 46.921875 27.09375 42.890625 30.859375 \r\n",
       "Q 38.875 34.625 31.78125 34.625 \r\n",
       "z\r\n",
       "M 21.921875 38.8125 \r\n",
       "Q 15.578125 40.375 12.03125 44.71875 \r\n",
       "Q 8.5 49.078125 8.5 55.328125 \r\n",
       "Q 8.5 64.0625 14.71875 69.140625 \r\n",
       "Q 20.953125 74.21875 31.78125 74.21875 \r\n",
       "Q 42.671875 74.21875 48.875 69.140625 \r\n",
       "Q 55.078125 64.0625 55.078125 55.328125 \r\n",
       "Q 55.078125 49.078125 51.53125 44.71875 \r\n",
       "Q 48 40.375 41.703125 38.8125 \r\n",
       "Q 48.828125 37.15625 52.796875 32.3125 \r\n",
       "Q 56.78125 27.484375 56.78125 20.515625 \r\n",
       "Q 56.78125 9.90625 50.3125 4.234375 \r\n",
       "Q 43.84375 -1.421875 31.78125 -1.421875 \r\n",
       "Q 19.734375 -1.421875 13.25 4.234375 \r\n",
       "Q 6.78125 9.90625 6.78125 20.515625 \r\n",
       "Q 6.78125 27.484375 10.78125 32.3125 \r\n",
       "Q 14.796875 37.15625 21.921875 38.8125 \r\n",
       "z\r\n",
       "M 18.3125 54.390625 \r\n",
       "Q 18.3125 48.734375 21.84375 45.5625 \r\n",
       "Q 25.390625 42.390625 31.78125 42.390625 \r\n",
       "Q 38.140625 42.390625 41.71875 45.5625 \r\n",
       "Q 45.3125 48.734375 45.3125 54.390625 \r\n",
       "Q 45.3125 60.0625 41.71875 63.234375 \r\n",
       "Q 38.140625 66.40625 31.78125 66.40625 \r\n",
       "Q 25.390625 66.40625 21.84375 63.234375 \r\n",
       "Q 18.3125 60.0625 18.3125 54.390625 \r\n",
       "z\r\n",
       "\" id=\"DejaVuSans-56\"/>\r\n",
       "      </defs>\r\n",
       "      <g transform=\"translate(161.669888 258.198906)scale(0.07 -0.07)\">\r\n",
       "       <use xlink:href=\"#DejaVuSans-56\"/>\r\n",
       "       <use x=\"63.623047\" xlink:href=\"#DejaVuSans-48\"/>\r\n",
       "      </g>\r\n",
       "     </g>\r\n",
       "    </g>\r\n",
       "    <g id=\"xtick_5\">\r\n",
       "     <g id=\"line2d_5\">\r\n",
       "      <g>\r\n",
       "       <use style=\"stroke:#000000;stroke-width:0.8;\" x=\"195.931719\" xlink:href=\"#mc0b48051b5\" y=\"245.88\"/>\r\n",
       "      </g>\r\n",
       "     </g>\r\n",
       "     <g id=\"text_5\">\r\n",
       "      <!-- 100 -->\r\n",
       "      <defs>\r\n",
       "       <path d=\"M 12.40625 8.296875 \r\n",
       "L 28.515625 8.296875 \r\n",
       "L 28.515625 63.921875 \r\n",
       "L 10.984375 60.40625 \r\n",
       "L 10.984375 69.390625 \r\n",
       "L 28.421875 72.90625 \r\n",
       "L 38.28125 72.90625 \r\n",
       "L 38.28125 8.296875 \r\n",
       "L 54.390625 8.296875 \r\n",
       "L 54.390625 0 \r\n",
       "L 12.40625 0 \r\n",
       "z\r\n",
       "\" id=\"DejaVuSans-49\"/>\r\n",
       "      </defs>\r\n",
       "      <g transform=\"translate(189.251094 258.198906)scale(0.07 -0.07)\">\r\n",
       "       <use xlink:href=\"#DejaVuSans-49\"/>\r\n",
       "       <use x=\"63.623047\" xlink:href=\"#DejaVuSans-48\"/>\r\n",
       "       <use x=\"127.246094\" xlink:href=\"#DejaVuSans-48\"/>\r\n",
       "      </g>\r\n",
       "     </g>\r\n",
       "    </g>\r\n",
       "    <g id=\"text_6\">\r\n",
       "     <!-- $r$ -->\r\n",
       "     <defs>\r\n",
       "      <path d=\"M 44.578125 46.390625 \r\n",
       "Q 43.21875 47.125 41.453125 47.515625 \r\n",
       "Q 39.703125 47.90625 37.703125 47.90625 \r\n",
       "Q 30.515625 47.90625 25.140625 42.453125 \r\n",
       "Q 19.78125 37.015625 18.015625 27.875 \r\n",
       "L 12.5 0 \r\n",
       "L 3.515625 0 \r\n",
       "L 14.203125 54.6875 \r\n",
       "L 23.1875 54.6875 \r\n",
       "L 21.484375 46.1875 \r\n",
       "Q 25.046875 50.921875 30 53.453125 \r\n",
       "Q 34.96875 56 40.578125 56 \r\n",
       "Q 42.046875 56 43.453125 55.828125 \r\n",
       "Q 44.875 55.671875 46.296875 55.28125 \r\n",
       "z\r\n",
       "\" id=\"DejaVuSans-Oblique-114\"/>\r\n",
       "     </defs>\r\n",
       "     <g transform=\"translate(120.266719 270.493281)scale(0.09 -0.09)\">\r\n",
       "      <use xlink:href=\"#DejaVuSans-Oblique-114\"/>\r\n",
       "     </g>\r\n",
       "    </g>\r\n",
       "   </g>\r\n",
       "   <g id=\"matplotlib.axis_2\">\r\n",
       "    <g id=\"ytick_1\">\r\n",
       "     <g id=\"line2d_6\">\r\n",
       "      <defs>\r\n",
       "       <path d=\"M 0 0 \r\n",
       "L -3.5 0 \r\n",
       "\" id=\"m06e8bef175\" style=\"stroke:#000000;stroke-width:0.8;\"/>\r\n",
       "      </defs>\r\n",
       "      <g>\r\n",
       "       <use style=\"stroke:#000000;stroke-width:0.8;\" x=\"48.381719\" xlink:href=\"#m06e8bef175\" y=\"225.18\"/>\r\n",
       "      </g>\r\n",
       "     </g>\r\n",
       "     <g id=\"text_7\">\r\n",
       "      <!-- −0.04 -->\r\n",
       "      <defs>\r\n",
       "       <path d=\"M 10.59375 35.5 \r\n",
       "L 73.1875 35.5 \r\n",
       "L 73.1875 27.203125 \r\n",
       "L 10.59375 27.203125 \r\n",
       "z\r\n",
       "\" id=\"DejaVuSans-8722\"/>\r\n",
       "       <path d=\"M 10.6875 12.40625 \r\n",
       "L 21 12.40625 \r\n",
       "L 21 0 \r\n",
       "L 10.6875 0 \r\n",
       "z\r\n",
       "\" id=\"DejaVuSans-46\"/>\r\n",
       "      </defs>\r\n",
       "      <g transform=\"translate(19.93 227.839453)scale(0.07 -0.07)\">\r\n",
       "       <use xlink:href=\"#DejaVuSans-8722\"/>\r\n",
       "       <use x=\"83.789062\" xlink:href=\"#DejaVuSans-48\"/>\r\n",
       "       <use x=\"147.412109\" xlink:href=\"#DejaVuSans-46\"/>\r\n",
       "       <use x=\"179.199219\" xlink:href=\"#DejaVuSans-48\"/>\r\n",
       "       <use x=\"242.822266\" xlink:href=\"#DejaVuSans-52\"/>\r\n",
       "      </g>\r\n",
       "     </g>\r\n",
       "    </g>\r\n",
       "    <g id=\"ytick_2\">\r\n",
       "     <g id=\"line2d_7\">\r\n",
       "      <g>\r\n",
       "       <use style=\"stroke:#000000;stroke-width:0.8;\" x=\"48.381719\" xlink:href=\"#m06e8bef175\" y=\"183.78\"/>\r\n",
       "      </g>\r\n",
       "     </g>\r\n",
       "     <g id=\"text_8\">\r\n",
       "      <!-- −0.02 -->\r\n",
       "      <g transform=\"translate(19.93 186.439453)scale(0.07 -0.07)\">\r\n",
       "       <use xlink:href=\"#DejaVuSans-8722\"/>\r\n",
       "       <use x=\"83.789062\" xlink:href=\"#DejaVuSans-48\"/>\r\n",
       "       <use x=\"147.412109\" xlink:href=\"#DejaVuSans-46\"/>\r\n",
       "       <use x=\"179.199219\" xlink:href=\"#DejaVuSans-48\"/>\r\n",
       "       <use x=\"242.822266\" xlink:href=\"#DejaVuSans-50\"/>\r\n",
       "      </g>\r\n",
       "     </g>\r\n",
       "    </g>\r\n",
       "    <g id=\"ytick_3\">\r\n",
       "     <g id=\"line2d_8\">\r\n",
       "      <g>\r\n",
       "       <use style=\"stroke:#000000;stroke-width:0.8;\" x=\"48.381719\" xlink:href=\"#m06e8bef175\" y=\"142.38\"/>\r\n",
       "      </g>\r\n",
       "     </g>\r\n",
       "     <g id=\"text_9\">\r\n",
       "      <!-- 0.00 -->\r\n",
       "      <g transform=\"translate(25.795781 145.039453)scale(0.07 -0.07)\">\r\n",
       "       <use xlink:href=\"#DejaVuSans-48\"/>\r\n",
       "       <use x=\"63.623047\" xlink:href=\"#DejaVuSans-46\"/>\r\n",
       "       <use x=\"95.410156\" xlink:href=\"#DejaVuSans-48\"/>\r\n",
       "       <use x=\"159.033203\" xlink:href=\"#DejaVuSans-48\"/>\r\n",
       "      </g>\r\n",
       "     </g>\r\n",
       "    </g>\r\n",
       "    <g id=\"ytick_4\">\r\n",
       "     <g id=\"line2d_9\">\r\n",
       "      <g>\r\n",
       "       <use style=\"stroke:#000000;stroke-width:0.8;\" x=\"48.381719\" xlink:href=\"#m06e8bef175\" y=\"100.98\"/>\r\n",
       "      </g>\r\n",
       "     </g>\r\n",
       "     <g id=\"text_10\">\r\n",
       "      <!-- 0.02 -->\r\n",
       "      <g transform=\"translate(25.795781 103.639453)scale(0.07 -0.07)\">\r\n",
       "       <use xlink:href=\"#DejaVuSans-48\"/>\r\n",
       "       <use x=\"63.623047\" xlink:href=\"#DejaVuSans-46\"/>\r\n",
       "       <use x=\"95.410156\" xlink:href=\"#DejaVuSans-48\"/>\r\n",
       "       <use x=\"159.033203\" xlink:href=\"#DejaVuSans-50\"/>\r\n",
       "      </g>\r\n",
       "     </g>\r\n",
       "    </g>\r\n",
       "    <g id=\"ytick_5\">\r\n",
       "     <g id=\"line2d_10\">\r\n",
       "      <g>\r\n",
       "       <use style=\"stroke:#000000;stroke-width:0.8;\" x=\"48.381719\" xlink:href=\"#m06e8bef175\" y=\"59.58\"/>\r\n",
       "      </g>\r\n",
       "     </g>\r\n",
       "     <g id=\"text_11\">\r\n",
       "      <!-- 0.04 -->\r\n",
       "      <g transform=\"translate(25.795781 62.239453)scale(0.07 -0.07)\">\r\n",
       "       <use xlink:href=\"#DejaVuSans-48\"/>\r\n",
       "       <use x=\"63.623047\" xlink:href=\"#DejaVuSans-46\"/>\r\n",
       "       <use x=\"95.410156\" xlink:href=\"#DejaVuSans-48\"/>\r\n",
       "       <use x=\"159.033203\" xlink:href=\"#DejaVuSans-52\"/>\r\n",
       "      </g>\r\n",
       "     </g>\r\n",
       "    </g>\r\n",
       "    <g id=\"text_12\">\r\n",
       "     <!-- $V\\ [kj]$ -->\r\n",
       "     <defs>\r\n",
       "      <path d=\"M 20.609375 0 \r\n",
       "L 7.8125 72.90625 \r\n",
       "L 17.484375 72.90625 \r\n",
       "L 28.078125 10.203125 \r\n",
       "L 63.484375 72.90625 \r\n",
       "L 74.21875 72.90625 \r\n",
       "L 32.078125 0 \r\n",
       "z\r\n",
       "\" id=\"DejaVuSans-Oblique-86\"/>\r\n",
       "      <path d=\"M 8.59375 75.984375 \r\n",
       "L 29.296875 75.984375 \r\n",
       "L 29.296875 69 \r\n",
       "L 17.578125 69 \r\n",
       "L 17.578125 -6.203125 \r\n",
       "L 29.296875 -6.203125 \r\n",
       "L 29.296875 -13.1875 \r\n",
       "L 8.59375 -13.1875 \r\n",
       "z\r\n",
       "\" id=\"DejaVuSans-91\"/>\r\n",
       "      <path d=\"M 18.3125 75.984375 \r\n",
       "L 27.296875 75.984375 \r\n",
       "L 18.703125 31.6875 \r\n",
       "L 49.515625 54.6875 \r\n",
       "L 61.1875 54.6875 \r\n",
       "L 26.8125 28.515625 \r\n",
       "L 51.90625 0 \r\n",
       "L 41.015625 0 \r\n",
       "L 17.671875 26.703125 \r\n",
       "L 12.5 0 \r\n",
       "L 3.515625 0 \r\n",
       "z\r\n",
       "\" id=\"DejaVuSans-Oblique-107\"/>\r\n",
       "      <path d=\"M 14.5 54.6875 \r\n",
       "L 23.484375 54.6875 \r\n",
       "L 12.703125 -0.984375 \r\n",
       "L 12.640625 -1.21875 \r\n",
       "Q 10.84375 -10.546875 8.5 -14.015625 \r\n",
       "Q 6.296875 -17.28125 2.0625 -19.03125 \r\n",
       "Q -2.15625 -20.796875 -7.90625 -20.796875 \r\n",
       "L -11.28125 -20.796875 \r\n",
       "L -9.8125 -13.1875 \r\n",
       "L -7.515625 -13.1875 \r\n",
       "Q -2.25 -13.1875 -0.015625 -10.984375 \r\n",
       "Q 2.203125 -8.796875 3.71875 -0.984375 \r\n",
       "z\r\n",
       "M 18.703125 75.984375 \r\n",
       "L 27.6875 75.984375 \r\n",
       "L 25.484375 64.59375 \r\n",
       "L 16.5 64.59375 \r\n",
       "z\r\n",
       "\" id=\"DejaVuSans-Oblique-106\"/>\r\n",
       "      <path d=\"M 30.421875 75.984375 \r\n",
       "L 30.421875 -13.1875 \r\n",
       "L 9.71875 -13.1875 \r\n",
       "L 9.71875 -6.203125 \r\n",
       "L 21.390625 -6.203125 \r\n",
       "L 21.390625 69 \r\n",
       "L 9.71875 69 \r\n",
       "L 9.71875 75.984375 \r\n",
       "z\r\n",
       "\" id=\"DejaVuSans-93\"/>\r\n",
       "     </defs>\r\n",
       "     <g transform=\"translate(14.04 154.305)rotate(-90)scale(0.09 -0.09)\">\r\n",
       "      <use transform=\"translate(0 0.015625)\" xlink:href=\"#DejaVuSans-Oblique-86\"/>\r\n",
       "      <use transform=\"translate(100.878582 0.015625)\" xlink:href=\"#DejaVuSans-91\"/>\r\n",
       "      <use transform=\"translate(139.892253 0.015625)\" xlink:href=\"#DejaVuSans-Oblique-107\"/>\r\n",
       "      <use transform=\"translate(197.80241 0.015625)\" xlink:href=\"#DejaVuSans-Oblique-106\"/>\r\n",
       "      <use transform=\"translate(225.585613 0.015625)\" xlink:href=\"#DejaVuSans-93\"/>\r\n",
       "     </g>\r\n",
       "    </g>\r\n",
       "   </g>\r\n",
       "   <g id=\"line2d_11\">\r\n",
       "    <path clip-path=\"url(#pb9da8269c7)\" d=\"M 48.381719 142.38 \r\n",
       "L 49.872123 142.38 \r\n",
       "L 51.362527 142.38 \r\n",
       "L 52.852931 142.38 \r\n",
       "L 54.343335 142.38 \r\n",
       "L 55.833739 142.38 \r\n",
       "L 57.324143 142.38 \r\n",
       "L 58.814547 142.38 \r\n",
       "L 60.304951 142.38 \r\n",
       "L 61.795355 142.38 \r\n",
       "L 63.285759 142.38 \r\n",
       "L 64.776163 142.38 \r\n",
       "L 66.266567 142.38 \r\n",
       "L 67.756971 142.38 \r\n",
       "L 69.247375 142.38 \r\n",
       "L 70.737779 142.38 \r\n",
       "L 72.228183 142.38 \r\n",
       "L 73.718587 142.38 \r\n",
       "L 75.208991 142.38 \r\n",
       "L 76.699396 142.38 \r\n",
       "L 78.1898 142.38 \r\n",
       "L 79.680204 142.38 \r\n",
       "L 81.170608 142.38 \r\n",
       "L 82.661012 142.38 \r\n",
       "L 84.151416 142.38 \r\n",
       "L 85.64182 142.38 \r\n",
       "L 87.132224 142.38 \r\n",
       "L 88.622628 142.38 \r\n",
       "L 90.113032 142.38 \r\n",
       "L 91.603436 142.38 \r\n",
       "L 93.09384 142.38 \r\n",
       "L 94.584244 142.38 \r\n",
       "L 96.074648 142.38 \r\n",
       "L 97.565052 142.38 \r\n",
       "L 99.055456 142.38 \r\n",
       "L 100.54586 142.38 \r\n",
       "L 102.036264 142.38 \r\n",
       "L 103.526668 142.38 \r\n",
       "L 105.017072 142.38 \r\n",
       "L 106.507476 142.38 \r\n",
       "L 107.99788 142.38 \r\n",
       "L 109.488284 142.38 \r\n",
       "L 110.978688 142.38 \r\n",
       "L 112.469092 142.38 \r\n",
       "L 113.959497 142.38 \r\n",
       "L 115.449901 142.38 \r\n",
       "L 116.940305 142.38 \r\n",
       "L 118.430709 142.38 \r\n",
       "L 119.921113 142.38 \r\n",
       "L 121.411517 142.38 \r\n",
       "L 122.901921 142.38 \r\n",
       "L 124.392325 142.38 \r\n",
       "L 125.882729 142.38 \r\n",
       "L 127.373133 142.38 \r\n",
       "L 128.863537 142.38 \r\n",
       "L 130.353941 142.38 \r\n",
       "L 131.844345 142.38 \r\n",
       "L 133.334749 142.38 \r\n",
       "L 134.825153 142.38 \r\n",
       "L 136.315557 142.38 \r\n",
       "L 137.805961 142.38 \r\n",
       "L 139.296365 142.38 \r\n",
       "L 140.786769 142.38 \r\n",
       "L 142.277173 142.38 \r\n",
       "L 143.767577 142.38 \r\n",
       "L 145.257981 142.38 \r\n",
       "L 146.748385 142.38 \r\n",
       "L 148.238789 142.38 \r\n",
       "L 149.729193 142.38 \r\n",
       "L 151.219598 142.38 \r\n",
       "L 152.710002 142.38 \r\n",
       "L 154.200406 142.38 \r\n",
       "L 155.69081 142.38 \r\n",
       "L 157.181214 142.38 \r\n",
       "L 158.671618 142.38 \r\n",
       "L 160.162022 142.38 \r\n",
       "L 161.652426 142.38 \r\n",
       "L 163.14283 142.38 \r\n",
       "L 164.633234 142.38 \r\n",
       "L 166.123638 142.38 \r\n",
       "L 167.614042 142.38 \r\n",
       "L 169.104446 142.38 \r\n",
       "L 170.59485 142.38 \r\n",
       "L 172.085254 142.38 \r\n",
       "L 173.575658 142.38 \r\n",
       "L 175.066062 142.38 \r\n",
       "L 176.556466 142.38 \r\n",
       "L 178.04687 142.38 \r\n",
       "L 179.537274 142.38 \r\n",
       "L 181.027678 142.38 \r\n",
       "L 182.518082 142.38 \r\n",
       "L 184.008486 142.38 \r\n",
       "L 185.49889 142.38 \r\n",
       "L 186.989295 142.38 \r\n",
       "L 188.479699 142.38 \r\n",
       "L 189.970103 142.38 \r\n",
       "L 191.460507 142.38 \r\n",
       "L 192.950911 142.38 \r\n",
       "L 194.441315 142.38 \r\n",
       "L 195.931719 142.38 \r\n",
       "\" style=\"fill:none;stroke:#1f77b4;stroke-linecap:square;stroke-width:1.5;\"/>\r\n",
       "   </g>\r\n",
       "   <g id=\"patch_3\">\r\n",
       "    <path d=\"M 48.381719 245.88 \r\n",
       "L 48.381719 38.88 \r\n",
       "\" style=\"fill:none;stroke:#000000;stroke-linecap:square;stroke-linejoin:miter;stroke-width:0.8;\"/>\r\n",
       "   </g>\r\n",
       "   <g id=\"patch_4\">\r\n",
       "    <path d=\"M 195.931719 245.88 \r\n",
       "L 195.931719 38.88 \r\n",
       "\" style=\"fill:none;stroke:#000000;stroke-linecap:square;stroke-linejoin:miter;stroke-width:0.8;\"/>\r\n",
       "   </g>\r\n",
       "   <g id=\"patch_5\">\r\n",
       "    <path d=\"M 48.381719 245.88 \r\n",
       "L 195.931719 245.88 \r\n",
       "\" style=\"fill:none;stroke:#000000;stroke-linecap:square;stroke-linejoin:miter;stroke-width:0.8;\"/>\r\n",
       "   </g>\r\n",
       "   <g id=\"patch_6\">\r\n",
       "    <path d=\"M 48.381719 38.88 \r\n",
       "L 195.931719 38.88 \r\n",
       "\" style=\"fill:none;stroke:#000000;stroke-linecap:square;stroke-linejoin:miter;stroke-width:0.8;\"/>\r\n",
       "   </g>\r\n",
       "   <g id=\"text_13\">\r\n",
       "    <!-- Potential function V -->\r\n",
       "    <defs>\r\n",
       "     <path d=\"M 19.671875 64.796875 \r\n",
       "L 19.671875 37.40625 \r\n",
       "L 32.078125 37.40625 \r\n",
       "Q 38.96875 37.40625 42.71875 40.96875 \r\n",
       "Q 46.484375 44.53125 46.484375 51.125 \r\n",
       "Q 46.484375 57.671875 42.71875 61.234375 \r\n",
       "Q 38.96875 64.796875 32.078125 64.796875 \r\n",
       "z\r\n",
       "M 9.8125 72.90625 \r\n",
       "L 32.078125 72.90625 \r\n",
       "Q 44.34375 72.90625 50.609375 67.359375 \r\n",
       "Q 56.890625 61.8125 56.890625 51.125 \r\n",
       "Q 56.890625 40.328125 50.609375 34.8125 \r\n",
       "Q 44.34375 29.296875 32.078125 29.296875 \r\n",
       "L 19.671875 29.296875 \r\n",
       "L 19.671875 0 \r\n",
       "L 9.8125 0 \r\n",
       "z\r\n",
       "\" id=\"DejaVuSans-80\"/>\r\n",
       "     <path d=\"M 30.609375 48.390625 \r\n",
       "Q 23.390625 48.390625 19.1875 42.75 \r\n",
       "Q 14.984375 37.109375 14.984375 27.296875 \r\n",
       "Q 14.984375 17.484375 19.15625 11.84375 \r\n",
       "Q 23.34375 6.203125 30.609375 6.203125 \r\n",
       "Q 37.796875 6.203125 41.984375 11.859375 \r\n",
       "Q 46.1875 17.53125 46.1875 27.296875 \r\n",
       "Q 46.1875 37.015625 41.984375 42.703125 \r\n",
       "Q 37.796875 48.390625 30.609375 48.390625 \r\n",
       "z\r\n",
       "M 30.609375 56 \r\n",
       "Q 42.328125 56 49.015625 48.375 \r\n",
       "Q 55.71875 40.765625 55.71875 27.296875 \r\n",
       "Q 55.71875 13.875 49.015625 6.21875 \r\n",
       "Q 42.328125 -1.421875 30.609375 -1.421875 \r\n",
       "Q 18.84375 -1.421875 12.171875 6.21875 \r\n",
       "Q 5.515625 13.875 5.515625 27.296875 \r\n",
       "Q 5.515625 40.765625 12.171875 48.375 \r\n",
       "Q 18.84375 56 30.609375 56 \r\n",
       "z\r\n",
       "\" id=\"DejaVuSans-111\"/>\r\n",
       "     <path d=\"M 18.3125 70.21875 \r\n",
       "L 18.3125 54.6875 \r\n",
       "L 36.8125 54.6875 \r\n",
       "L 36.8125 47.703125 \r\n",
       "L 18.3125 47.703125 \r\n",
       "L 18.3125 18.015625 \r\n",
       "Q 18.3125 11.328125 20.140625 9.421875 \r\n",
       "Q 21.96875 7.515625 27.59375 7.515625 \r\n",
       "L 36.8125 7.515625 \r\n",
       "L 36.8125 0 \r\n",
       "L 27.59375 0 \r\n",
       "Q 17.1875 0 13.234375 3.875 \r\n",
       "Q 9.28125 7.765625 9.28125 18.015625 \r\n",
       "L 9.28125 47.703125 \r\n",
       "L 2.6875 47.703125 \r\n",
       "L 2.6875 54.6875 \r\n",
       "L 9.28125 54.6875 \r\n",
       "L 9.28125 70.21875 \r\n",
       "z\r\n",
       "\" id=\"DejaVuSans-116\"/>\r\n",
       "     <path d=\"M 56.203125 29.59375 \r\n",
       "L 56.203125 25.203125 \r\n",
       "L 14.890625 25.203125 \r\n",
       "Q 15.484375 15.921875 20.484375 11.0625 \r\n",
       "Q 25.484375 6.203125 34.421875 6.203125 \r\n",
       "Q 39.59375 6.203125 44.453125 7.46875 \r\n",
       "Q 49.3125 8.734375 54.109375 11.28125 \r\n",
       "L 54.109375 2.78125 \r\n",
       "Q 49.265625 0.734375 44.1875 -0.34375 \r\n",
       "Q 39.109375 -1.421875 33.890625 -1.421875 \r\n",
       "Q 20.796875 -1.421875 13.15625 6.1875 \r\n",
       "Q 5.515625 13.8125 5.515625 26.8125 \r\n",
       "Q 5.515625 40.234375 12.765625 48.109375 \r\n",
       "Q 20.015625 56 32.328125 56 \r\n",
       "Q 43.359375 56 49.78125 48.890625 \r\n",
       "Q 56.203125 41.796875 56.203125 29.59375 \r\n",
       "z\r\n",
       "M 47.21875 32.234375 \r\n",
       "Q 47.125 39.59375 43.09375 43.984375 \r\n",
       "Q 39.0625 48.390625 32.421875 48.390625 \r\n",
       "Q 24.90625 48.390625 20.390625 44.140625 \r\n",
       "Q 15.875 39.890625 15.1875 32.171875 \r\n",
       "z\r\n",
       "\" id=\"DejaVuSans-101\"/>\r\n",
       "     <path d=\"M 54.890625 33.015625 \r\n",
       "L 54.890625 0 \r\n",
       "L 45.90625 0 \r\n",
       "L 45.90625 32.71875 \r\n",
       "Q 45.90625 40.484375 42.875 44.328125 \r\n",
       "Q 39.84375 48.1875 33.796875 48.1875 \r\n",
       "Q 26.515625 48.1875 22.3125 43.546875 \r\n",
       "Q 18.109375 38.921875 18.109375 30.90625 \r\n",
       "L 18.109375 0 \r\n",
       "L 9.078125 0 \r\n",
       "L 9.078125 54.6875 \r\n",
       "L 18.109375 54.6875 \r\n",
       "L 18.109375 46.1875 \r\n",
       "Q 21.34375 51.125 25.703125 53.5625 \r\n",
       "Q 30.078125 56 35.796875 56 \r\n",
       "Q 45.21875 56 50.046875 50.171875 \r\n",
       "Q 54.890625 44.34375 54.890625 33.015625 \r\n",
       "z\r\n",
       "\" id=\"DejaVuSans-110\"/>\r\n",
       "     <path d=\"M 9.421875 54.6875 \r\n",
       "L 18.40625 54.6875 \r\n",
       "L 18.40625 0 \r\n",
       "L 9.421875 0 \r\n",
       "z\r\n",
       "M 9.421875 75.984375 \r\n",
       "L 18.40625 75.984375 \r\n",
       "L 18.40625 64.59375 \r\n",
       "L 9.421875 64.59375 \r\n",
       "z\r\n",
       "\" id=\"DejaVuSans-105\"/>\r\n",
       "     <path d=\"M 34.28125 27.484375 \r\n",
       "Q 23.390625 27.484375 19.1875 25 \r\n",
       "Q 14.984375 22.515625 14.984375 16.5 \r\n",
       "Q 14.984375 11.71875 18.140625 8.90625 \r\n",
       "Q 21.296875 6.109375 26.703125 6.109375 \r\n",
       "Q 34.1875 6.109375 38.703125 11.40625 \r\n",
       "Q 43.21875 16.703125 43.21875 25.484375 \r\n",
       "L 43.21875 27.484375 \r\n",
       "z\r\n",
       "M 52.203125 31.203125 \r\n",
       "L 52.203125 0 \r\n",
       "L 43.21875 0 \r\n",
       "L 43.21875 8.296875 \r\n",
       "Q 40.140625 3.328125 35.546875 0.953125 \r\n",
       "Q 30.953125 -1.421875 24.3125 -1.421875 \r\n",
       "Q 15.921875 -1.421875 10.953125 3.296875 \r\n",
       "Q 6 8.015625 6 15.921875 \r\n",
       "Q 6 25.140625 12.171875 29.828125 \r\n",
       "Q 18.359375 34.515625 30.609375 34.515625 \r\n",
       "L 43.21875 34.515625 \r\n",
       "L 43.21875 35.40625 \r\n",
       "Q 43.21875 41.609375 39.140625 45 \r\n",
       "Q 35.0625 48.390625 27.6875 48.390625 \r\n",
       "Q 23 48.390625 18.546875 47.265625 \r\n",
       "Q 14.109375 46.140625 10.015625 43.890625 \r\n",
       "L 10.015625 52.203125 \r\n",
       "Q 14.9375 54.109375 19.578125 55.046875 \r\n",
       "Q 24.21875 56 28.609375 56 \r\n",
       "Q 40.484375 56 46.34375 49.84375 \r\n",
       "Q 52.203125 43.703125 52.203125 31.203125 \r\n",
       "z\r\n",
       "\" id=\"DejaVuSans-97\"/>\r\n",
       "     <path d=\"M 9.421875 75.984375 \r\n",
       "L 18.40625 75.984375 \r\n",
       "L 18.40625 0 \r\n",
       "L 9.421875 0 \r\n",
       "z\r\n",
       "\" id=\"DejaVuSans-108\"/>\r\n",
       "     <path id=\"DejaVuSans-32\"/>\r\n",
       "     <path d=\"M 37.109375 75.984375 \r\n",
       "L 37.109375 68.5 \r\n",
       "L 28.515625 68.5 \r\n",
       "Q 23.6875 68.5 21.796875 66.546875 \r\n",
       "Q 19.921875 64.59375 19.921875 59.515625 \r\n",
       "L 19.921875 54.6875 \r\n",
       "L 34.71875 54.6875 \r\n",
       "L 34.71875 47.703125 \r\n",
       "L 19.921875 47.703125 \r\n",
       "L 19.921875 0 \r\n",
       "L 10.890625 0 \r\n",
       "L 10.890625 47.703125 \r\n",
       "L 2.296875 47.703125 \r\n",
       "L 2.296875 54.6875 \r\n",
       "L 10.890625 54.6875 \r\n",
       "L 10.890625 58.5 \r\n",
       "Q 10.890625 67.625 15.140625 71.796875 \r\n",
       "Q 19.390625 75.984375 28.609375 75.984375 \r\n",
       "z\r\n",
       "\" id=\"DejaVuSans-102\"/>\r\n",
       "     <path d=\"M 8.5 21.578125 \r\n",
       "L 8.5 54.6875 \r\n",
       "L 17.484375 54.6875 \r\n",
       "L 17.484375 21.921875 \r\n",
       "Q 17.484375 14.15625 20.5 10.265625 \r\n",
       "Q 23.53125 6.390625 29.59375 6.390625 \r\n",
       "Q 36.859375 6.390625 41.078125 11.03125 \r\n",
       "Q 45.3125 15.671875 45.3125 23.6875 \r\n",
       "L 45.3125 54.6875 \r\n",
       "L 54.296875 54.6875 \r\n",
       "L 54.296875 0 \r\n",
       "L 45.3125 0 \r\n",
       "L 45.3125 8.40625 \r\n",
       "Q 42.046875 3.421875 37.71875 1 \r\n",
       "Q 33.40625 -1.421875 27.6875 -1.421875 \r\n",
       "Q 18.265625 -1.421875 13.375 4.4375 \r\n",
       "Q 8.5 10.296875 8.5 21.578125 \r\n",
       "z\r\n",
       "M 31.109375 56 \r\n",
       "z\r\n",
       "\" id=\"DejaVuSans-117\"/>\r\n",
       "     <path d=\"M 48.78125 52.59375 \r\n",
       "L 48.78125 44.1875 \r\n",
       "Q 44.96875 46.296875 41.140625 47.34375 \r\n",
       "Q 37.3125 48.390625 33.40625 48.390625 \r\n",
       "Q 24.65625 48.390625 19.8125 42.84375 \r\n",
       "Q 14.984375 37.3125 14.984375 27.296875 \r\n",
       "Q 14.984375 17.28125 19.8125 11.734375 \r\n",
       "Q 24.65625 6.203125 33.40625 6.203125 \r\n",
       "Q 37.3125 6.203125 41.140625 7.25 \r\n",
       "Q 44.96875 8.296875 48.78125 10.40625 \r\n",
       "L 48.78125 2.09375 \r\n",
       "Q 45.015625 0.34375 40.984375 -0.53125 \r\n",
       "Q 36.96875 -1.421875 32.421875 -1.421875 \r\n",
       "Q 20.0625 -1.421875 12.78125 6.34375 \r\n",
       "Q 5.515625 14.109375 5.515625 27.296875 \r\n",
       "Q 5.515625 40.671875 12.859375 48.328125 \r\n",
       "Q 20.21875 56 33.015625 56 \r\n",
       "Q 37.15625 56 41.109375 55.140625 \r\n",
       "Q 45.0625 54.296875 48.78125 52.59375 \r\n",
       "z\r\n",
       "\" id=\"DejaVuSans-99\"/>\r\n",
       "     <path d=\"M 28.609375 0 \r\n",
       "L 0.78125 72.90625 \r\n",
       "L 11.078125 72.90625 \r\n",
       "L 34.1875 11.53125 \r\n",
       "L 57.328125 72.90625 \r\n",
       "L 67.578125 72.90625 \r\n",
       "L 39.796875 0 \r\n",
       "z\r\n",
       "\" id=\"DejaVuSans-86\"/>\r\n",
       "    </defs>\r\n",
       "    <g transform=\"translate(68.144141 32.88)scale(0.11 -0.11)\">\r\n",
       "     <use xlink:href=\"#DejaVuSans-80\"/>\r\n",
       "     <use x=\"60.255859\" xlink:href=\"#DejaVuSans-111\"/>\r\n",
       "     <use x=\"121.4375\" xlink:href=\"#DejaVuSans-116\"/>\r\n",
       "     <use x=\"160.646484\" xlink:href=\"#DejaVuSans-101\"/>\r\n",
       "     <use x=\"222.169922\" xlink:href=\"#DejaVuSans-110\"/>\r\n",
       "     <use x=\"285.548828\" xlink:href=\"#DejaVuSans-116\"/>\r\n",
       "     <use x=\"324.757812\" xlink:href=\"#DejaVuSans-105\"/>\r\n",
       "     <use x=\"352.541016\" xlink:href=\"#DejaVuSans-97\"/>\r\n",
       "     <use x=\"413.820312\" xlink:href=\"#DejaVuSans-108\"/>\r\n",
       "     <use x=\"441.603516\" xlink:href=\"#DejaVuSans-32\"/>\r\n",
       "     <use x=\"473.390625\" xlink:href=\"#DejaVuSans-102\"/>\r\n",
       "     <use x=\"508.595703\" xlink:href=\"#DejaVuSans-117\"/>\r\n",
       "     <use x=\"571.974609\" xlink:href=\"#DejaVuSans-110\"/>\r\n",
       "     <use x=\"635.353516\" xlink:href=\"#DejaVuSans-99\"/>\r\n",
       "     <use x=\"690.333984\" xlink:href=\"#DejaVuSans-116\"/>\r\n",
       "     <use x=\"729.542969\" xlink:href=\"#DejaVuSans-105\"/>\r\n",
       "     <use x=\"757.326172\" xlink:href=\"#DejaVuSans-111\"/>\r\n",
       "     <use x=\"818.507812\" xlink:href=\"#DejaVuSans-110\"/>\r\n",
       "     <use x=\"881.886719\" xlink:href=\"#DejaVuSans-32\"/>\r\n",
       "     <use x=\"913.673828\" xlink:href=\"#DejaVuSans-86\"/>\r\n",
       "    </g>\r\n",
       "   </g>\r\n",
       "  </g>\r\n",
       "  <g id=\"axes_2\">\r\n",
       "   <g id=\"patch_7\">\r\n",
       "    <path d=\"M 258.981719 245.88 \r\n",
       "L 406.531719 245.88 \r\n",
       "L 406.531719 38.88 \r\n",
       "L 258.981719 38.88 \r\n",
       "z\r\n",
       "\" style=\"fill:#ffffff;\"/>\r\n",
       "   </g>\r\n",
       "   <g id=\"matplotlib.axis_3\">\r\n",
       "    <g id=\"xtick_6\">\r\n",
       "     <g id=\"line2d_12\">\r\n",
       "      <g>\r\n",
       "       <use style=\"stroke:#000000;stroke-width:0.8;\" x=\"287.299396\" xlink:href=\"#mc0b48051b5\" y=\"245.88\"/>\r\n",
       "      </g>\r\n",
       "     </g>\r\n",
       "     <g id=\"text_14\">\r\n",
       "      <!-- 20 -->\r\n",
       "      <g transform=\"translate(282.845646 258.198906)scale(0.07 -0.07)\">\r\n",
       "       <use xlink:href=\"#DejaVuSans-50\"/>\r\n",
       "       <use x=\"63.623047\" xlink:href=\"#DejaVuSans-48\"/>\r\n",
       "      </g>\r\n",
       "     </g>\r\n",
       "    </g>\r\n",
       "    <g id=\"xtick_7\">\r\n",
       "     <g id=\"line2d_13\">\r\n",
       "      <g>\r\n",
       "       <use style=\"stroke:#000000;stroke-width:0.8;\" x=\"317.107476\" xlink:href=\"#mc0b48051b5\" y=\"245.88\"/>\r\n",
       "      </g>\r\n",
       "     </g>\r\n",
       "     <g id=\"text_15\">\r\n",
       "      <!-- 40 -->\r\n",
       "      <g transform=\"translate(312.653726 258.198906)scale(0.07 -0.07)\">\r\n",
       "       <use xlink:href=\"#DejaVuSans-52\"/>\r\n",
       "       <use x=\"63.623047\" xlink:href=\"#DejaVuSans-48\"/>\r\n",
       "      </g>\r\n",
       "     </g>\r\n",
       "    </g>\r\n",
       "    <g id=\"xtick_8\">\r\n",
       "     <g id=\"line2d_14\">\r\n",
       "      <g>\r\n",
       "       <use style=\"stroke:#000000;stroke-width:0.8;\" x=\"346.915557\" xlink:href=\"#mc0b48051b5\" y=\"245.88\"/>\r\n",
       "      </g>\r\n",
       "     </g>\r\n",
       "     <g id=\"text_16\">\r\n",
       "      <!-- 60 -->\r\n",
       "      <g transform=\"translate(342.461807 258.198906)scale(0.07 -0.07)\">\r\n",
       "       <use xlink:href=\"#DejaVuSans-54\"/>\r\n",
       "       <use x=\"63.623047\" xlink:href=\"#DejaVuSans-48\"/>\r\n",
       "      </g>\r\n",
       "     </g>\r\n",
       "    </g>\r\n",
       "    <g id=\"xtick_9\">\r\n",
       "     <g id=\"line2d_15\">\r\n",
       "      <g>\r\n",
       "       <use style=\"stroke:#000000;stroke-width:0.8;\" x=\"376.723638\" xlink:href=\"#mc0b48051b5\" y=\"245.88\"/>\r\n",
       "      </g>\r\n",
       "     </g>\r\n",
       "     <g id=\"text_17\">\r\n",
       "      <!-- 80 -->\r\n",
       "      <g transform=\"translate(372.269888 258.198906)scale(0.07 -0.07)\">\r\n",
       "       <use xlink:href=\"#DejaVuSans-56\"/>\r\n",
       "       <use x=\"63.623047\" xlink:href=\"#DejaVuSans-48\"/>\r\n",
       "      </g>\r\n",
       "     </g>\r\n",
       "    </g>\r\n",
       "    <g id=\"xtick_10\">\r\n",
       "     <g id=\"line2d_16\">\r\n",
       "      <g>\r\n",
       "       <use style=\"stroke:#000000;stroke-width:0.8;\" x=\"406.531719\" xlink:href=\"#mc0b48051b5\" y=\"245.88\"/>\r\n",
       "      </g>\r\n",
       "     </g>\r\n",
       "     <g id=\"text_18\">\r\n",
       "      <!-- 100 -->\r\n",
       "      <g transform=\"translate(399.851094 258.198906)scale(0.07 -0.07)\">\r\n",
       "       <use xlink:href=\"#DejaVuSans-49\"/>\r\n",
       "       <use x=\"63.623047\" xlink:href=\"#DejaVuSans-48\"/>\r\n",
       "       <use x=\"127.246094\" xlink:href=\"#DejaVuSans-48\"/>\r\n",
       "      </g>\r\n",
       "     </g>\r\n",
       "    </g>\r\n",
       "    <g id=\"text_19\">\r\n",
       "     <!-- $r$ -->\r\n",
       "     <g transform=\"translate(330.866719 270.493281)scale(0.09 -0.09)\">\r\n",
       "      <use xlink:href=\"#DejaVuSans-Oblique-114\"/>\r\n",
       "     </g>\r\n",
       "    </g>\r\n",
       "   </g>\r\n",
       "   <g id=\"matplotlib.axis_4\">\r\n",
       "    <g id=\"ytick_6\">\r\n",
       "     <g id=\"line2d_17\">\r\n",
       "      <g>\r\n",
       "       <use style=\"stroke:#000000;stroke-width:0.8;\" x=\"258.981719\" xlink:href=\"#m06e8bef175\" y=\"225.18\"/>\r\n",
       "      </g>\r\n",
       "     </g>\r\n",
       "     <g id=\"text_20\">\r\n",
       "      <!-- −0.04 -->\r\n",
       "      <g transform=\"translate(230.53 227.839453)scale(0.07 -0.07)\">\r\n",
       "       <use xlink:href=\"#DejaVuSans-8722\"/>\r\n",
       "       <use x=\"83.789062\" xlink:href=\"#DejaVuSans-48\"/>\r\n",
       "       <use x=\"147.412109\" xlink:href=\"#DejaVuSans-46\"/>\r\n",
       "       <use x=\"179.199219\" xlink:href=\"#DejaVuSans-48\"/>\r\n",
       "       <use x=\"242.822266\" xlink:href=\"#DejaVuSans-52\"/>\r\n",
       "      </g>\r\n",
       "     </g>\r\n",
       "    </g>\r\n",
       "    <g id=\"ytick_7\">\r\n",
       "     <g id=\"line2d_18\">\r\n",
       "      <g>\r\n",
       "       <use style=\"stroke:#000000;stroke-width:0.8;\" x=\"258.981719\" xlink:href=\"#m06e8bef175\" y=\"183.78\"/>\r\n",
       "      </g>\r\n",
       "     </g>\r\n",
       "     <g id=\"text_21\">\r\n",
       "      <!-- −0.02 -->\r\n",
       "      <g transform=\"translate(230.53 186.439453)scale(0.07 -0.07)\">\r\n",
       "       <use xlink:href=\"#DejaVuSans-8722\"/>\r\n",
       "       <use x=\"83.789062\" xlink:href=\"#DejaVuSans-48\"/>\r\n",
       "       <use x=\"147.412109\" xlink:href=\"#DejaVuSans-46\"/>\r\n",
       "       <use x=\"179.199219\" xlink:href=\"#DejaVuSans-48\"/>\r\n",
       "       <use x=\"242.822266\" xlink:href=\"#DejaVuSans-50\"/>\r\n",
       "      </g>\r\n",
       "     </g>\r\n",
       "    </g>\r\n",
       "    <g id=\"ytick_8\">\r\n",
       "     <g id=\"line2d_19\">\r\n",
       "      <g>\r\n",
       "       <use style=\"stroke:#000000;stroke-width:0.8;\" x=\"258.981719\" xlink:href=\"#m06e8bef175\" y=\"142.38\"/>\r\n",
       "      </g>\r\n",
       "     </g>\r\n",
       "     <g id=\"text_22\">\r\n",
       "      <!-- 0.00 -->\r\n",
       "      <g transform=\"translate(236.395781 145.039453)scale(0.07 -0.07)\">\r\n",
       "       <use xlink:href=\"#DejaVuSans-48\"/>\r\n",
       "       <use x=\"63.623047\" xlink:href=\"#DejaVuSans-46\"/>\r\n",
       "       <use x=\"95.410156\" xlink:href=\"#DejaVuSans-48\"/>\r\n",
       "       <use x=\"159.033203\" xlink:href=\"#DejaVuSans-48\"/>\r\n",
       "      </g>\r\n",
       "     </g>\r\n",
       "    </g>\r\n",
       "    <g id=\"ytick_9\">\r\n",
       "     <g id=\"line2d_20\">\r\n",
       "      <g>\r\n",
       "       <use style=\"stroke:#000000;stroke-width:0.8;\" x=\"258.981719\" xlink:href=\"#m06e8bef175\" y=\"100.98\"/>\r\n",
       "      </g>\r\n",
       "     </g>\r\n",
       "     <g id=\"text_23\">\r\n",
       "      <!-- 0.02 -->\r\n",
       "      <g transform=\"translate(236.395781 103.639453)scale(0.07 -0.07)\">\r\n",
       "       <use xlink:href=\"#DejaVuSans-48\"/>\r\n",
       "       <use x=\"63.623047\" xlink:href=\"#DejaVuSans-46\"/>\r\n",
       "       <use x=\"95.410156\" xlink:href=\"#DejaVuSans-48\"/>\r\n",
       "       <use x=\"159.033203\" xlink:href=\"#DejaVuSans-50\"/>\r\n",
       "      </g>\r\n",
       "     </g>\r\n",
       "    </g>\r\n",
       "    <g id=\"ytick_10\">\r\n",
       "     <g id=\"line2d_21\">\r\n",
       "      <g>\r\n",
       "       <use style=\"stroke:#000000;stroke-width:0.8;\" x=\"258.981719\" xlink:href=\"#m06e8bef175\" y=\"59.58\"/>\r\n",
       "      </g>\r\n",
       "     </g>\r\n",
       "     <g id=\"text_24\">\r\n",
       "      <!-- 0.04 -->\r\n",
       "      <g transform=\"translate(236.395781 62.239453)scale(0.07 -0.07)\">\r\n",
       "       <use xlink:href=\"#DejaVuSans-48\"/>\r\n",
       "       <use x=\"63.623047\" xlink:href=\"#DejaVuSans-46\"/>\r\n",
       "       <use x=\"95.410156\" xlink:href=\"#DejaVuSans-48\"/>\r\n",
       "       <use x=\"159.033203\" xlink:href=\"#DejaVuSans-52\"/>\r\n",
       "      </g>\r\n",
       "     </g>\r\n",
       "    </g>\r\n",
       "    <g id=\"text_25\">\r\n",
       "     <!-- $V\\ [kj]$ -->\r\n",
       "     <g transform=\"translate(224.64 154.305)rotate(-90)scale(0.09 -0.09)\">\r\n",
       "      <use transform=\"translate(0 0.015625)\" xlink:href=\"#DejaVuSans-Oblique-86\"/>\r\n",
       "      <use transform=\"translate(100.878582 0.015625)\" xlink:href=\"#DejaVuSans-91\"/>\r\n",
       "      <use transform=\"translate(139.892253 0.015625)\" xlink:href=\"#DejaVuSans-Oblique-107\"/>\r\n",
       "      <use transform=\"translate(197.80241 0.015625)\" xlink:href=\"#DejaVuSans-Oblique-106\"/>\r\n",
       "      <use transform=\"translate(225.585613 0.015625)\" xlink:href=\"#DejaVuSans-93\"/>\r\n",
       "     </g>\r\n",
       "    </g>\r\n",
       "   </g>\r\n",
       "   <g id=\"line2d_22\">\r\n",
       "    <path clip-path=\"url(#p75308f0865)\" d=\"M 258.981719 142.38 \r\n",
       "L 260.472123 142.38 \r\n",
       "L 261.962527 142.38 \r\n",
       "L 263.452931 142.38 \r\n",
       "L 264.943335 142.38 \r\n",
       "L 266.433739 142.38 \r\n",
       "L 267.924143 142.38 \r\n",
       "L 269.414547 142.38 \r\n",
       "L 270.904951 142.38 \r\n",
       "L 272.395355 142.38 \r\n",
       "L 273.885759 142.38 \r\n",
       "L 275.376163 142.38 \r\n",
       "L 276.866567 142.38 \r\n",
       "L 278.356971 142.38 \r\n",
       "L 279.847375 142.38 \r\n",
       "L 281.337779 142.38 \r\n",
       "L 282.828183 142.38 \r\n",
       "L 284.318587 142.38 \r\n",
       "L 285.808991 142.38 \r\n",
       "L 287.299396 142.38 \r\n",
       "L 288.7898 142.38 \r\n",
       "L 290.280204 142.38 \r\n",
       "L 291.770608 142.38 \r\n",
       "L 293.261012 142.38 \r\n",
       "L 294.751416 142.38 \r\n",
       "L 296.24182 142.38 \r\n",
       "L 297.732224 142.38 \r\n",
       "L 299.222628 142.38 \r\n",
       "L 300.713032 142.38 \r\n",
       "L 302.203436 142.38 \r\n",
       "L 303.69384 142.38 \r\n",
       "L 305.184244 142.38 \r\n",
       "L 306.674648 142.38 \r\n",
       "L 308.165052 142.38 \r\n",
       "L 309.655456 142.38 \r\n",
       "L 311.14586 142.38 \r\n",
       "L 312.636264 142.38 \r\n",
       "L 314.126668 142.38 \r\n",
       "L 315.617072 142.38 \r\n",
       "L 317.107476 142.38 \r\n",
       "L 318.59788 142.38 \r\n",
       "L 320.088284 142.38 \r\n",
       "L 321.578688 142.38 \r\n",
       "L 323.069092 142.38 \r\n",
       "L 324.559497 142.38 \r\n",
       "L 326.049901 142.38 \r\n",
       "L 327.540305 142.38 \r\n",
       "L 329.030709 142.38 \r\n",
       "L 330.521113 142.38 \r\n",
       "L 332.011517 142.38 \r\n",
       "L 333.501921 142.38 \r\n",
       "L 334.992325 142.38 \r\n",
       "L 336.482729 142.38 \r\n",
       "L 337.973133 142.38 \r\n",
       "L 339.463537 142.38 \r\n",
       "L 340.953941 142.38 \r\n",
       "L 342.444345 142.38 \r\n",
       "L 343.934749 142.38 \r\n",
       "L 345.425153 142.38 \r\n",
       "L 346.915557 142.38 \r\n",
       "L 348.405961 142.38 \r\n",
       "L 349.896365 142.38 \r\n",
       "L 351.386769 142.38 \r\n",
       "L 352.877173 142.38 \r\n",
       "L 354.367577 142.38 \r\n",
       "L 355.857981 142.38 \r\n",
       "L 357.348385 142.38 \r\n",
       "L 358.838789 142.38 \r\n",
       "L 360.329193 142.38 \r\n",
       "L 361.819598 142.38 \r\n",
       "L 363.310002 142.38 \r\n",
       "L 364.800406 142.38 \r\n",
       "L 366.29081 142.38 \r\n",
       "L 367.781214 142.38 \r\n",
       "L 369.271618 142.38 \r\n",
       "L 370.762022 142.38 \r\n",
       "L 372.252426 142.38 \r\n",
       "L 373.74283 142.38 \r\n",
       "L 375.233234 142.38 \r\n",
       "L 376.723638 142.38 \r\n",
       "L 378.214042 142.38 \r\n",
       "L 379.704446 142.38 \r\n",
       "L 381.19485 142.38 \r\n",
       "L 382.685254 142.38 \r\n",
       "L 384.175658 142.38 \r\n",
       "L 385.666062 142.38 \r\n",
       "L 387.156466 142.38 \r\n",
       "L 388.64687 142.38 \r\n",
       "L 390.137274 142.38 \r\n",
       "L 391.627678 142.38 \r\n",
       "L 393.118082 142.38 \r\n",
       "L 394.608486 142.38 \r\n",
       "L 396.09889 142.38 \r\n",
       "L 397.589295 142.38 \r\n",
       "L 399.079699 142.38 \r\n",
       "L 400.570103 142.38 \r\n",
       "L 402.060507 142.38 \r\n",
       "L 403.550911 142.38 \r\n",
       "L 405.041315 142.38 \r\n",
       "L 406.531719 142.38 \r\n",
       "\" style=\"fill:none;stroke:#ff7f0e;stroke-linecap:square;stroke-width:1.5;\"/>\r\n",
       "   </g>\r\n",
       "   <g id=\"patch_8\">\r\n",
       "    <path d=\"M 258.981719 245.88 \r\n",
       "L 258.981719 38.88 \r\n",
       "\" style=\"fill:none;stroke:#000000;stroke-linecap:square;stroke-linejoin:miter;stroke-width:0.8;\"/>\r\n",
       "   </g>\r\n",
       "   <g id=\"patch_9\">\r\n",
       "    <path d=\"M 406.531719 245.88 \r\n",
       "L 406.531719 38.88 \r\n",
       "\" style=\"fill:none;stroke:#000000;stroke-linecap:square;stroke-linejoin:miter;stroke-width:0.8;\"/>\r\n",
       "   </g>\r\n",
       "   <g id=\"patch_10\">\r\n",
       "    <path d=\"M 258.981719 245.88 \r\n",
       "L 406.531719 245.88 \r\n",
       "\" style=\"fill:none;stroke:#000000;stroke-linecap:square;stroke-linejoin:miter;stroke-width:0.8;\"/>\r\n",
       "   </g>\r\n",
       "   <g id=\"patch_11\">\r\n",
       "    <path d=\"M 258.981719 38.88 \r\n",
       "L 406.531719 38.88 \r\n",
       "\" style=\"fill:none;stroke:#000000;stroke-linecap:square;stroke-linejoin:miter;stroke-width:0.8;\"/>\r\n",
       "   </g>\r\n",
       "   <g id=\"text_26\">\r\n",
       "    <!-- first derivative dV/dr -->\r\n",
       "    <defs>\r\n",
       "     <path d=\"M 41.109375 46.296875 \r\n",
       "Q 39.59375 47.171875 37.8125 47.578125 \r\n",
       "Q 36.03125 48 33.890625 48 \r\n",
       "Q 26.265625 48 22.1875 43.046875 \r\n",
       "Q 18.109375 38.09375 18.109375 28.8125 \r\n",
       "L 18.109375 0 \r\n",
       "L 9.078125 0 \r\n",
       "L 9.078125 54.6875 \r\n",
       "L 18.109375 54.6875 \r\n",
       "L 18.109375 46.1875 \r\n",
       "Q 20.953125 51.171875 25.484375 53.578125 \r\n",
       "Q 30.03125 56 36.53125 56 \r\n",
       "Q 37.453125 56 38.578125 55.875 \r\n",
       "Q 39.703125 55.765625 41.0625 55.515625 \r\n",
       "z\r\n",
       "\" id=\"DejaVuSans-114\"/>\r\n",
       "     <path d=\"M 44.28125 53.078125 \r\n",
       "L 44.28125 44.578125 \r\n",
       "Q 40.484375 46.53125 36.375 47.5 \r\n",
       "Q 32.28125 48.484375 27.875 48.484375 \r\n",
       "Q 21.1875 48.484375 17.84375 46.4375 \r\n",
       "Q 14.5 44.390625 14.5 40.28125 \r\n",
       "Q 14.5 37.15625 16.890625 35.375 \r\n",
       "Q 19.28125 33.59375 26.515625 31.984375 \r\n",
       "L 29.59375 31.296875 \r\n",
       "Q 39.15625 29.25 43.1875 25.515625 \r\n",
       "Q 47.21875 21.78125 47.21875 15.09375 \r\n",
       "Q 47.21875 7.46875 41.1875 3.015625 \r\n",
       "Q 35.15625 -1.421875 24.609375 -1.421875 \r\n",
       "Q 20.21875 -1.421875 15.453125 -0.5625 \r\n",
       "Q 10.6875 0.296875 5.421875 2 \r\n",
       "L 5.421875 11.28125 \r\n",
       "Q 10.40625 8.6875 15.234375 7.390625 \r\n",
       "Q 20.0625 6.109375 24.8125 6.109375 \r\n",
       "Q 31.15625 6.109375 34.5625 8.28125 \r\n",
       "Q 37.984375 10.453125 37.984375 14.40625 \r\n",
       "Q 37.984375 18.0625 35.515625 20.015625 \r\n",
       "Q 33.0625 21.96875 24.703125 23.78125 \r\n",
       "L 21.578125 24.515625 \r\n",
       "Q 13.234375 26.265625 9.515625 29.90625 \r\n",
       "Q 5.8125 33.546875 5.8125 39.890625 \r\n",
       "Q 5.8125 47.609375 11.28125 51.796875 \r\n",
       "Q 16.75 56 26.8125 56 \r\n",
       "Q 31.78125 56 36.171875 55.265625 \r\n",
       "Q 40.578125 54.546875 44.28125 53.078125 \r\n",
       "z\r\n",
       "\" id=\"DejaVuSans-115\"/>\r\n",
       "     <path d=\"M 45.40625 46.390625 \r\n",
       "L 45.40625 75.984375 \r\n",
       "L 54.390625 75.984375 \r\n",
       "L 54.390625 0 \r\n",
       "L 45.40625 0 \r\n",
       "L 45.40625 8.203125 \r\n",
       "Q 42.578125 3.328125 38.25 0.953125 \r\n",
       "Q 33.9375 -1.421875 27.875 -1.421875 \r\n",
       "Q 17.96875 -1.421875 11.734375 6.484375 \r\n",
       "Q 5.515625 14.40625 5.515625 27.296875 \r\n",
       "Q 5.515625 40.1875 11.734375 48.09375 \r\n",
       "Q 17.96875 56 27.875 56 \r\n",
       "Q 33.9375 56 38.25 53.625 \r\n",
       "Q 42.578125 51.265625 45.40625 46.390625 \r\n",
       "z\r\n",
       "M 14.796875 27.296875 \r\n",
       "Q 14.796875 17.390625 18.875 11.75 \r\n",
       "Q 22.953125 6.109375 30.078125 6.109375 \r\n",
       "Q 37.203125 6.109375 41.296875 11.75 \r\n",
       "Q 45.40625 17.390625 45.40625 27.296875 \r\n",
       "Q 45.40625 37.203125 41.296875 42.84375 \r\n",
       "Q 37.203125 48.484375 30.078125 48.484375 \r\n",
       "Q 22.953125 48.484375 18.875 42.84375 \r\n",
       "Q 14.796875 37.203125 14.796875 27.296875 \r\n",
       "z\r\n",
       "\" id=\"DejaVuSans-100\"/>\r\n",
       "     <path d=\"M 2.984375 54.6875 \r\n",
       "L 12.5 54.6875 \r\n",
       "L 29.59375 8.796875 \r\n",
       "L 46.6875 54.6875 \r\n",
       "L 56.203125 54.6875 \r\n",
       "L 35.6875 0 \r\n",
       "L 23.484375 0 \r\n",
       "z\r\n",
       "\" id=\"DejaVuSans-118\"/>\r\n",
       "     <path d=\"M 25.390625 72.90625 \r\n",
       "L 33.6875 72.90625 \r\n",
       "L 8.296875 -9.28125 \r\n",
       "L 0 -9.28125 \r\n",
       "z\r\n",
       "\" id=\"DejaVuSans-47\"/>\r\n",
       "    </defs>\r\n",
       "    <g transform=\"translate(276.040547 32.88)scale(0.11 -0.11)\">\r\n",
       "     <use xlink:href=\"#DejaVuSans-102\"/>\r\n",
       "     <use x=\"35.205078\" xlink:href=\"#DejaVuSans-105\"/>\r\n",
       "     <use x=\"62.988281\" xlink:href=\"#DejaVuSans-114\"/>\r\n",
       "     <use x=\"104.101562\" xlink:href=\"#DejaVuSans-115\"/>\r\n",
       "     <use x=\"156.201172\" xlink:href=\"#DejaVuSans-116\"/>\r\n",
       "     <use x=\"195.410156\" xlink:href=\"#DejaVuSans-32\"/>\r\n",
       "     <use x=\"227.197266\" xlink:href=\"#DejaVuSans-100\"/>\r\n",
       "     <use x=\"290.673828\" xlink:href=\"#DejaVuSans-101\"/>\r\n",
       "     <use x=\"352.197266\" xlink:href=\"#DejaVuSans-114\"/>\r\n",
       "     <use x=\"393.310547\" xlink:href=\"#DejaVuSans-105\"/>\r\n",
       "     <use x=\"421.09375\" xlink:href=\"#DejaVuSans-118\"/>\r\n",
       "     <use x=\"480.273438\" xlink:href=\"#DejaVuSans-97\"/>\r\n",
       "     <use x=\"541.552734\" xlink:href=\"#DejaVuSans-116\"/>\r\n",
       "     <use x=\"580.761719\" xlink:href=\"#DejaVuSans-105\"/>\r\n",
       "     <use x=\"608.544922\" xlink:href=\"#DejaVuSans-118\"/>\r\n",
       "     <use x=\"667.724609\" xlink:href=\"#DejaVuSans-101\"/>\r\n",
       "     <use x=\"729.248047\" xlink:href=\"#DejaVuSans-32\"/>\r\n",
       "     <use x=\"761.035156\" xlink:href=\"#DejaVuSans-100\"/>\r\n",
       "     <use x=\"824.511719\" xlink:href=\"#DejaVuSans-86\"/>\r\n",
       "     <use x=\"892.919922\" xlink:href=\"#DejaVuSans-47\"/>\r\n",
       "     <use x=\"926.611328\" xlink:href=\"#DejaVuSans-100\"/>\r\n",
       "     <use x=\"990.087891\" xlink:href=\"#DejaVuSans-114\"/>\r\n",
       "    </g>\r\n",
       "   </g>\r\n",
       "  </g>\r\n",
       "  <g id=\"text_27\">\r\n",
       "   <!-- dummy -->\r\n",
       "   <defs>\r\n",
       "    <path d=\"M 52 44.1875 \r\n",
       "Q 55.375 50.25 60.0625 53.125 \r\n",
       "Q 64.75 56 71.09375 56 \r\n",
       "Q 79.640625 56 84.28125 50.015625 \r\n",
       "Q 88.921875 44.046875 88.921875 33.015625 \r\n",
       "L 88.921875 0 \r\n",
       "L 79.890625 0 \r\n",
       "L 79.890625 32.71875 \r\n",
       "Q 79.890625 40.578125 77.09375 44.375 \r\n",
       "Q 74.3125 48.1875 68.609375 48.1875 \r\n",
       "Q 61.625 48.1875 57.5625 43.546875 \r\n",
       "Q 53.515625 38.921875 53.515625 30.90625 \r\n",
       "L 53.515625 0 \r\n",
       "L 44.484375 0 \r\n",
       "L 44.484375 32.71875 \r\n",
       "Q 44.484375 40.625 41.703125 44.40625 \r\n",
       "Q 38.921875 48.1875 33.109375 48.1875 \r\n",
       "Q 26.21875 48.1875 22.15625 43.53125 \r\n",
       "Q 18.109375 38.875 18.109375 30.90625 \r\n",
       "L 18.109375 0 \r\n",
       "L 9.078125 0 \r\n",
       "L 9.078125 54.6875 \r\n",
       "L 18.109375 54.6875 \r\n",
       "L 18.109375 46.1875 \r\n",
       "Q 21.1875 51.21875 25.484375 53.609375 \r\n",
       "Q 29.78125 56 35.6875 56 \r\n",
       "Q 41.65625 56 45.828125 52.96875 \r\n",
       "Q 50 49.953125 52 44.1875 \r\n",
       "z\r\n",
       "\" id=\"DejaVuSans-109\"/>\r\n",
       "    <path d=\"M 32.171875 -5.078125 \r\n",
       "Q 28.375 -14.84375 24.75 -17.8125 \r\n",
       "Q 21.140625 -20.796875 15.09375 -20.796875 \r\n",
       "L 7.90625 -20.796875 \r\n",
       "L 7.90625 -13.28125 \r\n",
       "L 13.1875 -13.28125 \r\n",
       "Q 16.890625 -13.28125 18.9375 -11.515625 \r\n",
       "Q 21 -9.765625 23.484375 -3.21875 \r\n",
       "L 25.09375 0.875 \r\n",
       "L 2.984375 54.6875 \r\n",
       "L 12.5 54.6875 \r\n",
       "L 29.59375 11.921875 \r\n",
       "L 46.6875 54.6875 \r\n",
       "L 56.203125 54.6875 \r\n",
       "z\r\n",
       "\" id=\"DejaVuSans-121\"/>\r\n",
       "   </defs>\r\n",
       "   <g transform=\"translate(185.230156 16.318125)scale(0.12 -0.12)\">\r\n",
       "    <use xlink:href=\"#DejaVuSans-100\"/>\r\n",
       "    <use x=\"63.476562\" xlink:href=\"#DejaVuSans-117\"/>\r\n",
       "    <use x=\"126.855469\" xlink:href=\"#DejaVuSans-109\"/>\r\n",
       "    <use x=\"224.267578\" xlink:href=\"#DejaVuSans-109\"/>\r\n",
       "    <use x=\"321.679688\" xlink:href=\"#DejaVuSans-121\"/>\r\n",
       "   </g>\r\n",
       "  </g>\r\n",
       " </g>\r\n",
       " <defs>\r\n",
       "  <clipPath id=\"pb9da8269c7\">\r\n",
       "   <rect height=\"207\" width=\"147.55\" x=\"48.381719\" y=\"38.88\"/>\r\n",
       "  </clipPath>\r\n",
       "  <clipPath id=\"p75308f0865\">\r\n",
       "   <rect height=\"207\" width=\"147.55\" x=\"258.981719\" y=\"38.88\"/>\r\n",
       "  </clipPath>\r\n",
       " </defs>\r\n",
       "</svg>\r\n"
      ],
      "text/plain": [
       "<Figure size 432x288 with 2 Axes>"
      ]
     },
     "metadata": {
      "needs_background": "light"
     },
     "output_type": "display_data"
    }
   ],
   "source": []
  },
  {
   "cell_type": "markdown",
   "metadata": {},
   "source": [
    "## Flatwell Potential\n",
    "\n",
    "A potential return dependent on a position a value in a binary fashion"
   ]
  },
  {
   "cell_type": "code",
   "execution_count": 25,
   "metadata": {
    "tags": []
   },
   "outputs": [
    {
     "ename": "NameError",
     "evalue": "name 'test_timing_with_points' is not defined",
     "output_type": "error",
     "traceback": [
      "\u001b[1;31m---------------------------------------------------------------------------\u001b[0m",
      "\u001b[1;31mNameError\u001b[0m                                 Traceback (most recent call last)",
      "\u001b[1;32m<ipython-input-25-2bbee2dc8673>\u001b[0m in \u001b[0;36m<module>\u001b[1;34m\u001b[0m\n\u001b[1;32m----> 1\u001b[1;33m \u001b[0mpositions\u001b[0m \u001b[1;33m=\u001b[0m \u001b[0msorted\u001b[0m\u001b[1;33m(\u001b[0m\u001b[0mlist\u001b[0m\u001b[1;33m(\u001b[0m\u001b[0mnp\u001b[0m\u001b[1;33m.\u001b[0m\u001b[0mlinspace\u001b[0m\u001b[1;33m(\u001b[0m\u001b[1;33m-\u001b[0m\u001b[1;36m10\u001b[0m\u001b[1;33m,\u001b[0m\u001b[1;36m10\u001b[0m\u001b[1;33m,\u001b[0m \u001b[0mtest_timing_with_points\u001b[0m\u001b[1;33m)\u001b[0m\u001b[1;33m)\u001b[0m\u001b[1;33m+\u001b[0m\u001b[1;33m[\u001b[0m\u001b[1;36m1\u001b[0m\u001b[1;33m,\u001b[0m \u001b[1;36m0\u001b[0m\u001b[1;33m]\u001b[0m\u001b[1;33m)\u001b[0m\u001b[1;33m\u001b[0m\u001b[1;33m\u001b[0m\u001b[0m\n\u001b[0m\u001b[0;32m      2\u001b[0m \u001b[1;33m\u001b[0m\u001b[0m\n\u001b[0;32m      3\u001b[0m \u001b[0mV\u001b[0m \u001b[1;33m=\u001b[0m \u001b[0mpotentials\u001b[0m\u001b[1;33m.\u001b[0m\u001b[0mflatwellPotential\u001b[0m\u001b[1;33m(\u001b[0m\u001b[1;33m)\u001b[0m\u001b[1;33m\u001b[0m\u001b[1;33m\u001b[0m\u001b[0m\n\u001b[0;32m      4\u001b[0m \u001b[1;31m#print(V)\u001b[0m\u001b[1;33m\u001b[0m\u001b[1;33m\u001b[0m\u001b[1;33m\u001b[0m\u001b[0m\n\u001b[0;32m      5\u001b[0m \u001b[1;33m\u001b[0m\u001b[0m\n",
      "\u001b[1;31mNameError\u001b[0m: name 'test_timing_with_points' is not defined"
     ]
    }
   ],
   "source": [
    "positions = sorted(list(np.linspace(-10,10, test_timing_with_points))+[1, 0])\n",
    "\n",
    "V = potentials.flatwellPotential()\n",
    "#print(V)\n",
    "\n",
    "print(\"calculate \"+str(len(positions))+\" positions: \")\n",
    "%time V.ene(positions)\n",
    "\n",
    "print(\"\\nVisualization\")\n",
    "fig, axes = vis.plot_1DPotential_Term(V, positions=positions, y_range=[-3, 10])"
   ]
  },
  {
   "cell_type": "code",
   "execution_count": 6,
   "metadata": {},
   "outputs": [],
   "source": [
    "import os\n",
    "\n",
    "import numpy as np\n",
    "import sympy as sp\n",
    "import math\n",
    "from numbers import Number\n",
    "from typing import Iterable, List, Sized, Union\n",
    "\n",
    "from ensembler.potentials._basicPotentials import _potential2DCls, _potential2DCls\n",
    "\n",
    "\n"
   ]
  },
  {
   "cell_type": "code",
   "execution_count": 7,
   "metadata": {
    "pycharm": {
     "name": "#%%\n"
    }
   },
   "outputs": [
    {
     "name": "stdout",
     "output_type": "stream",
     "text": [
      "2D\n"
     ]
    }
   ],
   "source": [
    "print(\"2D\")"
   ]
  },
  {
   "cell_type": "code",
   "execution_count": 12,
   "metadata": {
    "pycharm": {
     "name": "#%%\n"
    }
   },
   "outputs": [],
   "source": [
    "class harmonicOscillatorPotential(_potential2DCls):\n",
    "    '''\n",
    "        .. autoclass:: harmonic oscillator potential\n",
    "    '''\n",
    "    name:str = \"harmonicOscilator\"\n",
    "        \n",
    "    nDim:int = sp.symbols(\"nDim\")\n",
    "    position: sp.Matrix = sp.Matrix([sp.symbols(\"r\")])\n",
    "    r_shift: sp.Matrix = sp.Matrix([sp.symbols(\"r_shift\")])\n",
    "    Voff: sp.Matrix = sp.Matrix([sp.symbols(\"V_off\")])\n",
    "    k: sp.Matrix = sp.Matrix([sp.symbols(\"k\")])\n",
    "\n",
    "    V_dim =  0.5*k*(position-r_shift)**2+Voff\n",
    "    \n",
    "    i = sp.Symbol(\"i\")\n",
    "    V_functional = sp.Sum(V_dim[i, 0], (i, 0, nDim))\n",
    "\n",
    "    def __init__(self, k: np.array =  np.array([1.0, 1.0]), r_shift: np.array = np.array([0.0, 0.0]), Voff: np.array =  np.array([0.0, 0.0])):\n",
    "        self.constants.update({self.nDim:2})\n",
    "        self.constants.update({\"k_\"+str(j): k[j] for j in range(self.constants[self.nDim])})\n",
    "        self.constants.update({\"r_shift\"+str(j): r_shift[j] for j in range(self.constants[self.nDim])})\n",
    "        self.constants.update({\"V_off_\"+str(j): Voff[j] for j in range(self.constants[self.nDim])})\n",
    "        super().__init__()\n",
    "\n",
    "\n",
    "    def _initialize_functions(self):\n",
    "        # Parameters\n",
    "        nDim = self.constants[self.nDim]\n",
    "        self.position = sp.Matrix([sp.symbols(\"r_\" + str(i)) for i in range(self.constants[self.nDim])])\n",
    "        self.r_shift = sp.Matrix([sp.symbols(\"r_shift\" + str(i)) for i in range(self.constants[self.nDim])])\n",
    "        self.V_off = sp.Matrix([sp.symbols(\"V_off_\" + str(i)) for i in range(self.constants[self.nDim])])\n",
    "        self.k = sp.Matrix([sp.symbols(\"k_\" + str(i)) for i in range(self.constants[self.nDim])])\n",
    "        #Function\n",
    "        self.V_dim =   0.5*sp.matrix_multiply_elementwise(self.k, ((self.position-self.r_shift).applyfunc(lambda x: x**2)))#+self.Voff\n",
    "        self.V_functional = sp.Sum(self.V_dim[self.i, 0], (self.i, 0, self.nDim-1))\n",
    "        \n"
   ]
  },
  {
   "cell_type": "code",
   "execution_count": 13,
   "metadata": {
    "pycharm": {
     "name": "#%%\n"
    }
   },
   "outputs": [],
   "source": [
    "h =  harmonicOscillatorPotential()\n"
   ]
  },
  {
   "cell_type": "code",
   "execution_count": 16,
   "metadata": {
    "pycharm": {
     "name": "#%%\n"
    }
   },
   "outputs": [
    {
     "data": {
      "text/plain": [
       "array([2.5, 2.5, 4. ])"
      ]
     },
     "execution_count": 16,
     "metadata": {},
     "output_type": "execute_result"
    }
   ],
   "source": [
    "pos = np.array([(2,1), (2,1), (2,2)])\n",
    "h.ene(pos)"
   ]
  },
  {
   "cell_type": "code",
   "execution_count": 17,
   "metadata": {
    "pycharm": {
     "name": "#%%\n"
    }
   },
   "outputs": [],
   "source": [
    "class wavePotential(_potential2DCls):\n",
    "    name:str = \"Wave Potential\"\n",
    "    nDim:sp.Symbol = sp.symbols(\"nDim\")\n",
    "\n",
    "    position: sp.Matrix = sp.Matrix([sp.symbols(\"r\")])\n",
    "    multiplicity: sp.Matrix = sp.Matrix([sp.symbols(\"m\")])\n",
    "    phase_shift: sp.Matrix = sp.Matrix([sp.symbols(\"omega\")])\n",
    "    amplitude: sp.Matrix = sp.Matrix([sp.symbols(\"A\")])\n",
    "    yOffset: sp.Matrix = sp.Matrix([sp.symbols(\"y_off\")])\n",
    "\n",
    "    V_dim = sp.matrix_multiply_elementwise(amplitude,\n",
    "                                        (sp.matrix_multiply_elementwise((position + phase_shift), multiplicity)).applyfunc(sp.cos)) + yOffset\n",
    "    i = sp.Symbol(\"i\")\n",
    "    V_functional = sp.Sum(V_dim[i, 0], (i, 0, nDim))\n",
    "\n",
    "    def __init__(self, amplitude=(1,1), multiplicity=(1,1), phase_shift=(0,0), y_offset=(0, 0), radians:bool=False):\n",
    "        nDim = 2\n",
    "        self.constants.update({\"amp_\"+str(j): amplitude[j] for j in range(nDim)})\n",
    "        self.constants.update({\"mult_\"+str(j): multiplicity[j] for j in range(nDim)})\n",
    "        self.constants.update({\"yOff_\"+str(j): y_offset[j] for j in range(nDim)})\n",
    "        self.constants.update({\"nDim\": nDim})\n",
    "\n",
    "        if(radians):\n",
    "            self.constants.update({\"phase_\"+str(j): np.deg2rad(phase_shift[j]) for j in range(nDim)})\n",
    "        else:\n",
    "            self.constants.update({\"phase_\"+str(j): phase_shift[j] for j in range(nDim)})\n",
    "\n",
    "        super().__init__()\n",
    "\n",
    "        self.set_radians(radians=radians)\n",
    "\n",
    "    def _initialize_functions(self):\n",
    "        # Parameters\n",
    "        nDim = self.constants[self.nDim]\n",
    "        self.position = sp.Matrix([sp.symbols(\"r_\" + str(i)) for i in range(nDim)])\n",
    "        self.multiplicity = sp.Matrix([sp.symbols(\"mult_\" + str(i)) for i in range(nDim)])\n",
    "        self.phase_shift = sp.Matrix([sp.symbols(\"phase_\" + str(i)) for i in range(nDim)])\n",
    "        self.amplitude = sp.Matrix([sp.symbols(\"amp_\" + str(i)) for i in range(nDim)])\n",
    "        self.yOffset = sp.Matrix([sp.symbols(\"yOff_\" + str(i)) for i in range(nDim)])\n",
    "\n",
    "        #Function\n",
    "        self.V_dim = sp.matrix_multiply_elementwise(self.amplitude,\n",
    "                                        (sp.matrix_multiply_elementwise((self.position +self.phase_shift), self.multiplicity)).applyfunc(sp.cos)) + self.yOffset\n",
    "        self.V_functional = sp.Sum(self.V_dim[self.i, 0], (self.i, 0, self.nDim - 1))\n",
    "\n",
    "    #OVERRIDE\n",
    "    def _update_functions(self):\n",
    "        super()._update_functions()\n",
    "\n",
    "        self.tmp_Vfunc = self._calculate_energies\n",
    "        self.tmp_dVdpfunc = self._calculate_dVdpos\n",
    "\n",
    "    def set_degrees(self, degrees: bool = True):\n",
    "        self.radians = not degrees\n",
    "        if(degrees):\n",
    "            self._calculate_energies = lambda positions: self.tmp_Vfunc(*np.hsplit(np.deg2rad(positions), self.constants[self.nDim]))\n",
    "            self._calculate_dVdpos = lambda positions: self.tmp_dVdpfunc(*np.hsplit(np.deg2rad(positions), self.constants[self.nDim]))\n",
    "        else:\n",
    "            self.set_radians(radians=not degrees)\n",
    "\n",
    "    def set_radians(self, radians: bool = True):\n",
    "        self.radians = radians\n",
    "        if (radians):\n",
    "            self._calculate_energies  =self.tmp_Vfunc\n",
    "            self._calculate_dVdpos = self.tmp_dVdpfunc\n",
    "        else:\n",
    "            self.set_degrees(degrees=not radians)\n"
   ]
  },
  {
   "cell_type": "code",
   "execution_count": 18,
   "metadata": {},
   "outputs": [
    {
     "data": {
      "text/plain": [
       "array([1.99923852, 1.99923852, 1.99878165])"
      ]
     },
     "execution_count": 18,
     "metadata": {},
     "output_type": "execute_result"
    }
   ],
   "source": [
    "h =  wavePotential()\n",
    "pos = np.array([(2,1), (2,1), (2,2)])\n",
    "h.ene(pos)"
   ]
  },
  {
   "cell_type": "code",
   "execution_count": 20,
   "metadata": {},
   "outputs": [
    {
     "data": {
      "text/plain": [
       "array([[ 0.        , -0.89399666,  0.80115264, -0.89399666,  0.17604595,\n",
       "        -0.95891572],\n",
       "       [ 0.        ,  0.        ,  0.17604595,  0.17604595,  0.        ,\n",
       "        -0.95891572]])"
      ]
     },
     "execution_count": 20,
     "metadata": {},
     "output_type": "execute_result"
    }
   ],
   "source": [
    "h =  wavePotential()\n",
    "positions = np.array([[0, 0], [90, 0], [180, 270], [90, 270], [270, 0], [360, 360]])\n",
    "h.force(positions)"
   ]
  },
  {
   "cell_type": "code",
   "execution_count": null,
   "metadata": {},
   "outputs": [],
   "source": []
  }
 ],
 "metadata": {
  "file_extension": ".py",
  "kernelspec": {
   "display_name": "Python 3.7.7 64-bit ('EnsemblerDev': conda)",
   "language": "python",
   "name": "python37764bitensemblerdevcondaa4593ef55eeb4c19ab962e621795cac3"
  },
  "language_info": {
   "codemirror_mode": {
    "name": "ipython",
    "version": 3
   },
   "file_extension": ".py",
   "mimetype": "text/x-python",
   "name": "python",
   "nbconvert_exporter": "python",
   "pygments_lexer": "ipython3",
   "version": "3.7.7"
  },
  "mimetype": "text/x-python",
  "name": "python",
  "npconvert_exporter": "python",
  "pygments_lexer": "ipython3",
  "version": 3
 },
 "nbformat": 4,
 "nbformat_minor": 2
}
