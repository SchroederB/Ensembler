{
 "cells": [
  {
   "cell_type": "markdown",
   "metadata": {},
   "source": [
    "# Free Energy Calculations\n",
    "In this Notebook, we want to give a short glimpse on Free Energy Calculations with Ensembler. \n",
    "\n",
    "Free energies are an very important topic in computational chemistry. As they are fundamental to thermodynamics and can give a lot of information for different changes to a system. Generally we can destinguish three types of free energies: thermodynamic, conformational and alchemical. \n",
    "The thermodynamic category is a free energy difference related to a change of an thermodynamic property of the system. The conformational free energy difference can be used to describe a conformational change of a molecule (phase space areas) and the alchemical free energy is describing a change in the chemical space of the molecule (e.g.: methylation).\n",
    "\n",
    "To calculate a free energy can be very tricky. Challenges might be sampling convergence due to high energy barriers or entropy differences. \n",
    "\n",
    "\n",
    "To be able to estimate the influence of a chemical change, one needs to calculate the free energies of both so called states.\n",
    "\n",
    "\n",
    "\n",
    "\n",
    "Here we calculate the Free Energy as:\n",
    "\n",
    "$F_i = V_i - T_i  S_i = -\\beta ln(Z_i) $\n",
    "\n",
    "\n",
    "\n",
    "Or we can use the statistical approach:\n",
    "\n",
    "$F_i(t) = -\\frac{1}{\\beta}  ln(\\langle e^{-\\beta H_i(t)}\\rangle_i)$\n",
    "\n",
    "With the Gibbs Free Energy of state i and state J we can get the Free Energy Difference of the change.\n",
    "\n",
    "$\\Delta F_{ij} = F_j - F_i = -\\beta ln(\\frac{Z_i}{Z_j})$ \n",
    "\n",
    "This allows us to estimate the influence of the change.\n",
    "\n",
    "A free energy Calculation can be described contains three parts:\n",
    "* The System: Normally these contian multiple states.\n",
    "* The Sampling Method: The way how the Free Energy landscape will be integrated.\n",
    "* The Free Energy Estimator: The way, the free energy will be derived from the simulation.\n",
    "\n",
    "\n",
    "In this notebook we will cover following methods:\n",
    "* Free Energy Pertubation\n",
    "  * Zwanzig\n",
    "  * BAR\n",
    "* linear coupling\n",
    "    * TI\n",
    "* exponential coupling\n",
    "    * EDS\n",
    "* hybrid coupling\n",
    "    * $\\lambda$-EDS\n",
    "* Enhanced Sampling methods:\n",
    "    * Conveyor Belt\n",
    "    * RE-EDS\n",
    "\n",
    "\n",
    "References:\n",
    "    - a good page to learn about free energies: http://www.alchemistry.org "
   ]
  },
  {
   "cell_type": "code",
   "execution_count": 1,
   "metadata": {
    "tags": []
   },
   "outputs": [
    {
     "ename": "ImportError",
     "evalue": "cannot import name 'static_sim_plots' from 'ensembler.visualisation.plotSimulations' (C:\\Users\\benja\\OneDrive - ETH Zürich\\PhD\\Code\\ensembler_public\\examples/..\\ensembler\\visualisation\\plotSimulations.py)",
     "output_type": "error",
     "traceback": [
      "\u001B[1;31m---------------------------------------------------------------------------\u001B[0m",
      "\u001B[1;31mImportError\u001B[0m                               Traceback (most recent call last)",
      "\u001B[1;32m<ipython-input-1-feeebe45be58>\u001B[0m in \u001B[0;36m<module>\u001B[1;34m\u001B[0m\n\u001B[0;32m     19\u001B[0m \u001B[1;32mfrom\u001B[0m \u001B[0mensembler\u001B[0m\u001B[1;33m.\u001B[0m\u001B[0msystem\u001B[0m\u001B[1;33m.\u001B[0m\u001B[0meds_system\u001B[0m \u001B[1;32mimport\u001B[0m \u001B[0medsSystem\u001B[0m\u001B[1;33m\u001B[0m\u001B[1;33m\u001B[0m\u001B[0m\n\u001B[0;32m     20\u001B[0m \u001B[1;33m\u001B[0m\u001B[0m\n\u001B[1;32m---> 21\u001B[1;33m \u001B[1;32mfrom\u001B[0m \u001B[0mensembler\u001B[0m\u001B[1;33m.\u001B[0m\u001B[0mvisualisation\u001B[0m\u001B[1;33m.\u001B[0m\u001B[0mplotSimulations\u001B[0m \u001B[1;32mimport\u001B[0m \u001B[0mstatic_sim_plots\u001B[0m\u001B[1;33m\u001B[0m\u001B[1;33m\u001B[0m\u001B[0m\n\u001B[0m\u001B[0;32m     22\u001B[0m \u001B[1;33m\u001B[0m\u001B[0m\n\u001B[0;32m     23\u001B[0m \u001B[1;32mfrom\u001B[0m \u001B[0mensembler\u001B[0m\u001B[1;33m.\u001B[0m\u001B[0mconditions\u001B[0m\u001B[1;33m.\u001B[0m\u001B[0mbox_conditions\u001B[0m \u001B[1;32mimport\u001B[0m \u001B[0mperiodicBoundaryCondition\u001B[0m\u001B[1;33m\u001B[0m\u001B[1;33m\u001B[0m\u001B[0m\n",
      "\u001B[1;31mImportError\u001B[0m: cannot import name 'static_sim_plots' from 'ensembler.visualisation.plotSimulations' (C:\\Users\\benja\\OneDrive - ETH Zürich\\PhD\\Code\\ensembler_public\\examples/..\\ensembler\\visualisation\\plotSimulations.py)"
     ]
    }
   ],
   "source": [
    "#Here some imports:\n",
    "\n",
    "##System Path\n",
    "import os, sys\n",
    "path = os.getcwd()+\"/..\"\n",
    "sys.path.append(path)\n",
    "\n",
    "##basics\n",
    "import numpy as np\n",
    "from matplotlib import pyplot as plt\n",
    "\n",
    "##Ensembler\n",
    "from ensembler.analysis.freeEnergyCalculation import zwanzigEquation, threeStateZwanzigReweighting, bennetAcceptanceRatio\n",
    "\n",
    "from ensembler.potentials import OneD as pot\n",
    "from ensembler.samplers.stochastic import metropolisMonteCarloIntegrator, langevinIntegrator\n",
    "from ensembler.system.basic_system import system\n",
    "from ensembler.system.perturbed_system import perturbedSystem\n",
    "from ensembler.system.eds_system import edsSystem\n",
    "\n",
    "from ensembler.visualisation.plotSimulations import static_sim_plots\n",
    "\n",
    "from ensembler.conditions.box_conditions import periodicBoundaryCondition\n",
    "\n",
    "import matplotlib\n",
    "from ensembler.visualisation import style\n",
    "from ensembler.visualisation import plot_layout_settings\n",
    "for key, value in plot_layout_settings.items():\n",
    "    matplotlib.rcParams[key] = value\n"
   ]
  },
  {
   "cell_type": "markdown",
   "metadata": {},
   "source": [
    "## Benchmarking parameters\n",
    "Here we define some parameters that allow us an easier comparison of the different methods."
   ]
  },
  {
   "cell_type": "code",
   "execution_count": null,
   "metadata": {},
   "outputs": [],
   "source": [
    "simulation_steps_total_per_approach = 10000\n",
    "space_range = [-10, 10]\n",
    "rand=0.1\n"
   ]
  },
  {
   "cell_type": "markdown",
   "metadata": {},
   "source": [
    "## Setting up a System\n",
    "We are now going to Setup a system, for the Free Energy Calculations. For this Notebook, we want to keep it simple. Therefore two 1D-Harmonic Oscillators with different shifted minima and force constants shall be perfect for us. These two harmonic oscillators could for example describe the difference of types of bonds.\n"
   ]
  },
  {
   "cell_type": "code",
   "execution_count": null,
   "metadata": {},
   "outputs": [],
   "source": [
    "#Build System\n",
    "#System Parameters:\n",
    "yoff1 = 0\n",
    "xoff1 = 0\n",
    "force_constant = k1 = 1\n",
    "\n",
    "entropic_difference = k2 = 3 #2 #0.5\n",
    "potential_difference = yoff2 = 1\n",
    "phase_space_distance = xoff2 = 3\n",
    "\n",
    "#State Potentials\n",
    "h1 = pot.harmonicOscillatorPotential(k=k1, x_shift=xoff1, y_shift=yoff1) \n",
    "h2 = pot.harmonicOscillatorPotential(k=k2, x_shift=xoff2, y_shift=yoff2)\n",
    "\n",
    "#Visualize\n",
    "from ensembler.visualisation.plotPotentials import multiState_overlays\n",
    "\n",
    "fig, _ = multiState_overlays([h1,h2])\n",
    "positions = np.linspace(-10,10,1000)\n",
    "enes1 = h1.ene(positions)\n",
    "enes2 = h2.ene(positions)\n",
    "ax = fig.gca()\n",
    "ax.plot(positions, enes1, label=\"state A\", c=\"grey\")\n",
    "ax.plot(positions, enes2, label=\"state A\", c=\"k\")\n",
    "\n",
    "ax.set_ylim([-0.5,8])\n",
    "ax.set_xlim([-5,6])\n",
    "ax.set_title(\"Two State Problem\")\n",
    "#fig.tight_layout()\n",
    "fig.savefig(\"2state_systems.png\")\n"
   ]
  },
  {
   "cell_type": "markdown",
   "metadata": {},
   "source": [
    "## Analyctical Solution\n",
    "The Analytical solution for our problem can be calculated as follows: \n",
    "\n",
    "\n",
    "Check Eq\n",
    "\n",
    "Gibbs Energy:   \n",
    "$ F_i = V_i - T_i  S_i $\n",
    "\n",
    "For a harmonic Oscillator the entropy term can be formulated as:\n",
    "\n",
    "$F_i = V_i - \\frac{1}{\\beta} log(\\sqrt{\\frac{2 \\pi}{k_i \\beta}})$\n",
    "\n",
    "\n",
    "\n",
    "The final free energy difference is:\n",
    "\n",
    "$\\Delta F_{ij} = F_j - F_i$ \n"
   ]
  },
  {
   "cell_type": "code",
   "execution_count": null,
   "metadata": {
    "tags": []
   },
   "outputs": [],
   "source": [
    "#Analytical Solution\n",
    "beta = 1 # beta is in kT\n",
    "\n",
    "G_1 = yoff1 -(1/(2*beta)) * np.log(np.sqrt((2*np.pi)/(k1*beta)))\n",
    "G_2 = yoff2 -(1/(2*beta)) * np.log(np.sqrt((2*np.pi)/(k2*beta)))\n",
    "dG_expected = G_2-G_1\n",
    "\n",
    "print(\"expected dG: \", dG_expected)\n"
   ]
  },
  {
   "cell_type": "markdown",
   "metadata": {},
   "source": [
    "## Free Energy Pertubation Method with BAR/Zwanzig\n",
    "In this Category of methods, each of the endstates will be simulated seperatley. Afterwards, the trajectories will be evaluated  with the opposite state and afterwards the free energy will be evaluated.\n",
    "\n",
    "### Sampling\n",
    "Now we build first the two systems and run the simulations."
   ]
  },
  {
   "cell_type": "code",
   "execution_count": null,
   "metadata": {
    "scrolled": false,
    "tags": []
   },
   "outputs": [],
   "source": [
    "#Simulate the two states:\n",
    "steps = simulation_steps_total_per_approach\n",
    "equilibration_steps = 100\n",
    "\n",
    "##Build Systems\n",
    "integrator = metropolisMonteCarloIntegrator(randomnessIncreaseFactor=rand)\n",
    "integrator2 = metropolisMonteCarloIntegrator(randomnessIncreaseFactor=rand)\n",
    "\n",
    "system1 = system(potential=h1, sampler=integrator)\n",
    "system2 = system(potential=h2, sampler=integrator2)\n",
    "\n",
    "##Simulate:\n",
    "system1.simulate(steps)\n",
    "state1_traj = system1.getTrajectory()\n",
    "_ = static_sim_plots(system1, x_range=np.linspace(-10,10) )"
   ]
  },
  {
   "cell_type": "markdown",
   "metadata": {},
   "source": [
    "### Analysis\n",
    "#### Zwanzig Equation"
   ]
  },
  {
   "cell_type": "code",
   "execution_count": null,
   "metadata": {
    "tags": []
   },
   "outputs": [],
   "source": [
    "V1=state1_traj.totEnergy[equilibration_steps:]\n",
    "#V2=state2_traj.totEnergy[equilibration_steps:]\n",
    "V2=h2.ene(state1_traj.position[equilibration_steps:])\n",
    "\n",
    "\n",
    "zwanz = zwanzigEquation(kT=True)\n",
    "dF_zwanzig = zwanz.calculate(Vi=V1, Vj=V2)\n",
    "\n",
    "print(\"Expected Result: \", dG_expected)\n",
    "print(\"Zwanzig Result: \", dF_zwanzig)\n",
    "print()\n",
    "print(\"Difference:\", dF_zwanzig - dG_expected)\n"
   ]
  },
  {
   "cell_type": "markdown",
   "metadata": {},
   "source": [
    "#### Bennet Acceptance Ratio (BAR)"
   ]
  },
  {
   "cell_type": "code",
   "execution_count": null,
   "metadata": {},
   "outputs": [],
   "source": [
    "#Simulate the two states:\n",
    "steps = simulation_steps_total_per_approach//2\n",
    "equilibration_steps = 100\n",
    "\n",
    "##Build Systems\n",
    "sampler = metropolisMonteCarloIntegrator(randomnessIncreaseFactor=rand)\n",
    "sampler2 = metropolisMonteCarloIntegrator(randomnessIncreaseFactor=rand)\n",
    "\n",
    "system1 = system(potential=h1, sampler=sampler)\n",
    "system2 = system(potential=h2, sampler=sampler2)\n",
    "\n",
    "##Simulate:\n",
    "system1.simulate(steps, withdrawTraj=True, initSystem=True)\n",
    "state1_traj = system1.getTrajectory()\n",
    "_ = static_sim_plots(system1, x_range=np.linspace(-10,10))\n",
    "\n",
    "system2.simulate(steps, withdrawTraj=True, initSystem=True)\n",
    "state2_traj = system2.getTrajectory()\n",
    "\n",
    "#visualize\n",
    "_ = static_sim_plots(system2, x_range=np.linspace(-10,10))\n",
    "plt.ylim([0,10])\n",
    "pass"
   ]
  },
  {
   "cell_type": "code",
   "execution_count": null,
   "metadata": {},
   "outputs": [],
   "source": [
    "from ensembler import visualisation\n",
    "    \n",
    "positions = np.linspace(-10,10, 100)\n",
    "fig, ax = plt.subplots(ncols=1, figsize=visualisation.figsize_doubleColumn)\n",
    "ax = list([ax])\n",
    "traj_pos = list(system1.trajectory.position)\n",
    "ax[0].plot(positions, system1.potential.ene(positions), c=\"grey\", label=\"state A\", zorder=-10)\n",
    "ene = system1.potential.ene(traj_pos)\n",
    "ax[0].scatter(traj_pos, ene, c=\"C0\",alpha=0.8, label=\"simulation state A\",s=8)\n",
    "ax[0].set_ylim([0,8])\n",
    "\n",
    "positions = np.linspace(-10,10, 100)\n",
    "traj_pos = list(system2.trajectory.position)\n",
    "ax[0].plot(positions, system2.potential.ene(positions), c=\"black\", label=\"state B\", zorder=-10)\n",
    "ene = system2.potential.ene(traj_pos)\n",
    "ax[0].scatter(traj_pos, ene, c=\"C2\",alpha=0.8, label=\"simulation state B\",s=8)\n",
    "\n",
    "ax[0].set_ylim([-0.5,8])\n",
    "ax[0].set_xlim([-5,6])\n",
    "ax[0].set_xlabel(\"r\")\n",
    "ax[0].set_ylabel(\"$V/[kT]$\")\n",
    "ax[0].legend()\n",
    "ax[0].set_title(\"FEP / BAR\")\n",
    "#ax[0].set_title(\"State 2\")\n",
    "\n",
    "fig.savefig(\"freeEnergyPertubation.png\")"
   ]
  },
  {
   "cell_type": "code",
   "execution_count": null,
   "metadata": {
    "scrolled": true
   },
   "outputs": [],
   "source": [
    "\"\"\"\n",
    "#Sampling l1\n",
    "V11=h1.ene(state1_traj.position)\n",
    "V21=h2.ene(state1_traj.position)\n",
    "\n",
    "#Sampling l2\n",
    "V12=h1.ene(state2_traj.position)\n",
    "V22=h2.ene(state2_traj.position)\n",
    "\n",
    "w_fw = np.array(V21 - V11, dtype=np.float)\n",
    "w_rv = np.array(V12 - V22, dtype=np.float)\n",
    "\n",
    "(DeltaF, dDeltaF)=pymbar.BAR(w_F=w_fw, w_R=w_rv, DeltaF=0, method='bisection', verbose=False)\n",
    "(DeltaF, dDeltaF)\n",
    "\n",
    "\n",
    "print()\n",
    "print(\"Expected Result: \", dG_expected)\n",
    "print(\"pymbar - BAR Result: \", DeltaF)\n",
    "print()\n",
    "print(\"Difference:\", DeltaF - dG_expected)\n",
    "\"\"\""
   ]
  },
  {
   "cell_type": "code",
   "execution_count": null,
   "metadata": {
    "scrolled": false,
    "tags": []
   },
   "outputs": [],
   "source": [
    "#Sampling l1\n",
    "V11=h1.ene(state1_traj.position)\n",
    "V21=h2.ene(state1_traj.position)\n",
    "\n",
    "#Sampling l2\n",
    "V12=h1.ene(state2_traj.position)\n",
    "V22=h2.ene(state2_traj.position)\n",
    "\n",
    "bar = bennetAcceptanceRatio(kT=True)\n",
    "dF_bar = bar.calculate(Vj_i=V21, Vi_i=V11, Vi_j=V12, Vj_j=V22)\n",
    "\n",
    "print()\n",
    "print(\"Expected Result: \", dG_expected)\n",
    "print(\"BAR Result: \", dF_bar)\n",
    "print()\n",
    "print(\"Difference:\", dF_bar - dG_expected)\n"
   ]
  },
  {
   "cell_type": "markdown",
   "metadata": {},
   "source": [
    "## Linear Coupling Method - Thermodynamic Integration (TI)"
   ]
  },
  {
   "cell_type": "markdown",
   "metadata": {},
   "source": [
    "### Sampling"
   ]
  },
  {
   "cell_type": "code",
   "execution_count": null,
   "metadata": {},
   "outputs": [],
   "source": [
    "#Build Potential\n",
    "V_perturbed = pot.linearCoupledPotentials(Va=h1, Vb=h2)\n",
    "\n",
    "#Visualize\n",
    "lambda_points = 10\n",
    "positions = np.arange(-5,10, 0.2)\n",
    "lambda_windows=np.linspace(0,1, lambda_points)\n",
    "for lam in lambda_windows:\n",
    "    V_perturbed.set_lam(lam)\n",
    "    ene =  V_perturbed.ene(positions)\n",
    "    plt.plot(positions,ene, label=\"lam_\"+str(round(lam, 2)))\n",
    "    \n",
    "plt.legend()\n",
    "plt.ylim([0,10])\n",
    "plt.ylabel(\"V[kT]\")\n",
    "plt.xlabel(\"r\")\n",
    "plt.title(\"Sampled Potentials\")"
   ]
  },
  {
   "cell_type": "code",
   "execution_count": null,
   "metadata": {
    "tags": []
   },
   "outputs": [],
   "source": [
    "steps = simulation_steps_total_per_approach//lambda_points\n",
    "equilibration_steps = 30\n",
    "\n",
    "integrator = metropolisMonteCarloIntegrator(randomnessIncreaseFactor=rand)\n",
    "perturbed_system = perturbedSystem(potential=V_perturbed, sampler=integrator)\n",
    "\n",
    "system_trajs = {}\n",
    "for lam in lambda_windows:\n",
    "    perturbed_system.set_lam(lam)\n",
    "    perturbed_system.simulate(steps, withdrawTraj=True, initSystem=True)\n",
    "    system_trajs.update({lam: perturbed_system.trajectory})\n"
   ]
  },
  {
   "cell_type": "markdown",
   "metadata": {},
   "source": [
    "### Analysis\n",
    "\n",
    "#### Exponential Formula"
   ]
  },
  {
   "cell_type": "code",
   "execution_count": null,
   "metadata": {},
   "outputs": [],
   "source": [
    "from ensembler import visualisation\n",
    "from matplotlib import cm\n",
    "#Visualize\n",
    "positions = np.linspace(-10, 10, 100)\n",
    "y_range = [-0.5, 8]\n",
    "\n",
    "\n",
    "fig, axes = plt.subplots(ncols=1, figsize=visualisation.figsize_doubleColumn)\n",
    "axes = list([axes])\n",
    "enes = []\n",
    "all_lams = sorted(list(system_trajs.keys()))\n",
    "\n",
    "for lamI in all_lams:\n",
    "    trajI = system_trajs[lamI]\n",
    "    V_perturbed.set_lam(lamI)\n",
    "    ene =  V_perturbed.ene(positions)\n",
    "    enes.append(ene)\n",
    "    print(lamI)\n",
    "    if(lamI==1): \n",
    "        c=\"black\"\n",
    "    else:\n",
    "        c = cm.get_cmap(\"binary\")(lamI+0.2)\n",
    "    \n",
    "    axes[0].plot(positions,ene, c=c, zorder=-10,alpha=0.9)\n",
    "    axes[0].scatter(trajI.position, V_perturbed.ene(trajI.position),s=8,alpha=0.8, linewidths=0, \n",
    "                    label=\"$\\lambda=$\"+str(round(lamI, 2)),)#c=\"orange\")\n",
    "    \n",
    "logExp=list(map(lambda x: np.log(np.exp(x)), enes))\n",
    "\n",
    "axes[0].legend()\n",
    "axes[0].set_ylim(y_range)\n",
    "\n",
    "axes[0].set_ylabel(\"V[kT]\")\n",
    "axes[0].set_xlabel(\"r\")\n",
    "axes[0].set_title(\"Linear Coupled Potentials\")\n",
    "\n",
    "axes[0].set_xlim([-5,6])\n",
    "\n",
    "\n",
    "fig.savefig(\"linear_coupled.png\")"
   ]
  },
  {
   "cell_type": "markdown",
   "metadata": {},
   "source": [
    "### FEP with multiple lambda windows:"
   ]
  },
  {
   "cell_type": "code",
   "execution_count": null,
   "metadata": {},
   "outputs": [],
   "source": [
    "dA_i_fw = []\n",
    "zwanz = zwanzigEquation()\n",
    "all_lams = list(sorted(list(system_trajs.keys())))\n",
    "for lamI, lamJ in zip(all_lams, all_lams[1:]):\n",
    "    trajI = system_trajs[lamI]\n",
    "    trajJ = system_trajs[lamJ]\n",
    "\n",
    "    Vi_fw = trajI.totPotEnergy\n",
    "    Vj_fw = trajJ.totPotEnergy\n",
    "\n",
    "    \n",
    "    dF_zwanzig_fw = zwanz.calculate(Vi=Vi_fw, Vj=Vj_fw)\n",
    "    \n",
    "    dA_i_fw.append(dF_zwanzig_fw)\n",
    "\n",
    "fig, axes = plt.subplots(ncols=1, figsize=visualisation.figsize_doubleColumn)\n",
    "axes.plot(dA_i_fw)\n",
    "axes.set_ylabel(\"$dFper lambda [kT]$\")\n",
    "axes.set_xlabel(\"$\\lambda$\")\n",
    "\n",
    "fig.suptitle(\"dF per lambda point\")\n",
    "\n",
    "plt.show()\n",
    "\n",
    "dF_FEP_10lambda = np.sum(dA_i_fw)\n",
    "\n",
    "print()\n",
    "print(\"Expected Result: \", dG_expected)\n",
    "print(\"Sum of intermediates Result: \", dF_FEP_10lambda)\n",
    "print()\n",
    "print(\"Difference:\", dF_FEP_10lambda - dG_expected)\n"
   ]
  },
  {
   "cell_type": "markdown",
   "metadata": {},
   "source": [
    "#### Thermodynamic Integration"
   ]
  },
  {
   "cell_type": "code",
   "execution_count": null,
   "metadata": {},
   "outputs": [],
   "source": [
    "fig, axes = plt.subplots(ncols=1, figsize=visualisation.figsize_doubleColumn)\n",
    "\n",
    "lam_stats = {}\n",
    "for lam in system_trajs:\n",
    "    lam_mean, lam_std = np.mean(system_trajs[lam].dhdlam[equilibration_steps:]), np.std(system_trajs[lam].dhdlam[equilibration_steps:])\n",
    "    lam_stats.update({lam:{\"mean\":lam_mean, \"std\": lam_std}})\n",
    "    \n",
    "    axes.scatter(lam, lam_mean)\n",
    "    axes.errorbar(lam, lam_mean, lam_std)\n",
    "\n",
    "axes.plot(sorted(lam_stats), [lam_stats[x][\"mean\"] for x in sorted(lam_stats)], color=\"grey\", zorder=-1)\n",
    "axes.set_ylabel(\"$dH/d\\lambda$\")\n",
    "axes.set_xlabel(\"$\\lambda$\")\n",
    "\n",
    "fig.suptitle(\"dH/d$\\lambda$ for each Lambda point\")\n"
   ]
  },
  {
   "cell_type": "code",
   "execution_count": null,
   "metadata": {},
   "outputs": [],
   "source": [
    "from scipy import integrate\n",
    "\n",
    "lam = list(sorted(lam_stats.keys()))\n",
    "means = [lam_stats[x]['mean'] for x in lam] \n",
    "stds = [lam_stats[x]['std'] for x in lam] \n"
   ]
  },
  {
   "cell_type": "code",
   "execution_count": null,
   "metadata": {
    "tags": []
   },
   "outputs": [],
   "source": [
    "dF_trapez = integrate.trapz(x=lam, y=means)\n",
    "dF_err = integrate.trapz(x=lam, y=stds)\n",
    "\n",
    "print()\n",
    "print(\"Expected Result: \", dG_expected)\n",
    "print(\"trapez Rule Result: \", dF_trapez, \"+-\", dF_err)\n",
    "print()\n",
    "print(\"Difference:\", dF_trapez - dG_expected)\n"
   ]
  },
  {
   "cell_type": "markdown",
   "metadata": {},
   "source": [
    "## Exponentially Coupled - Enveloping Distribution Sampling (EDS) - BAR/RewightedFEP"
   ]
  },
  {
   "cell_type": "code",
   "execution_count": null,
   "metadata": {},
   "outputs": [],
   "source": [
    "#Build Potential\n",
    "s=1\n",
    "Eoff = [0, 0]\n",
    "V_eds = pot.envelopedPotential(V_is=[h1,h2] , s=s, Eoff_i=Eoff)\n",
    "s_values = np.array([ 1,0.5, 0.4, 0.3, 0.2, 0.1])\n",
    "\n",
    "#Visualize\n",
    "positions = np.arange(-10,15, 0.2)\n",
    "fig = plt.figure(figsize=[16,9])\n",
    "\n",
    "for s in s_values:\n",
    "    V_eds.s=s\n",
    "    plt.plot(positions,V_eds.ene(positions), lw=3, label=\"$V_r=\"+str(round(s,3))+\"$\")\n",
    "\n",
    "plt.plot(positions,h1.ene(positions), label=\"state A\", lw=1, color=\"grey\")\n",
    "plt.plot(positions,h2.ene(positions), label=\"state B\", lw=1, color=\"black\")\n",
    "\n",
    "V_eds.s=0.3\n",
    "plt.legend()  \n",
    "plt.ylim([-5,8])\n",
    "plt.xlim([-5,6])\n",
    "\n",
    "plt.ylabel(\"V[kT]\")\n",
    "plt.xlabel(\"r\")\n",
    "plt.title(\"Sampled Potentials\")"
   ]
  },
  {
   "cell_type": "code",
   "execution_count": null,
   "metadata": {
    "scrolled": false
   },
   "outputs": [],
   "source": [
    "steps = simulation_steps_total_per_approach\n",
    "equilibration_steps = 100\n",
    "\n",
    "good_s_value=0.3\n",
    "integrator = metropolisMonteCarloIntegrator(randomnessIncreaseFactor=rand)\n",
    "eds_system = edsSystem(potential=V_eds, sampler=integrator, eds_s=good_s_value, eds_Eoff=Eoff)\n",
    "\n",
    "eds_system.simulate(steps, withdrawTraj=True, initSystem=True)\n",
    "eds_traj = eds_system.getTrajectory()"
   ]
  },
  {
   "cell_type": "code",
   "execution_count": null,
   "metadata": {},
   "outputs": [],
   "source": [
    "from ensembler import visualisation\n",
    "    \n",
    "traj = eds_traj.iloc[equilibration_steps:]\n",
    "positions = np.linspace(-10,10, 100)\n",
    "h1_ene = h1.ene(positions)\n",
    "h2_ene = h2.ene(positions)\n",
    "V_eds.s = traj.s[equilibration_steps]\n",
    "eds_ene = V_eds.ene(positions)\n",
    "\n",
    "traj_pos = list(traj.position)\n",
    "traj_ene = list(traj.totPotEnergy)\n",
    "\n",
    "fig, ax = plt.subplots(ncols=1, figsize=visualisation.figsize_doubleColumn)\n",
    "ax = list([ax])\n",
    "ax[0].plot(positions, h1_ene, c=\"grey\", label=\"state A\", zorder=-10,)\n",
    "ax[0].plot(positions, h2_ene, c=\"black\", label=\"state B\", zorder=-10)\n",
    "ax[0].plot(positions, eds_ene, c=\"C0\", label=\"reference state\", zorder=-10,alpha=0.3)\n",
    "\n",
    "ax[0].scatter(traj_pos, traj_ene, c=\"C0\",alpha=0.8, label=\"simulation reference state\",s=8)\n",
    "\n",
    "ax[0].set_ylim([-0.5,8])\n",
    "ax[0].set_xlim([-5,6])\n",
    "ax[0].set_xlabel(\"r\")\n",
    "ax[0].set_ylabel(\"$V/[kT]$\")\n",
    "\n",
    "ax[0].legend()\n",
    "ax[0].set_title(\"Exponential Coupling\")\n",
    "\n",
    "fig.savefig(\"EDS_sampling.png\")"
   ]
  },
  {
   "cell_type": "markdown",
   "metadata": {},
   "source": [
    "### FEP-EDS_Evaluation"
   ]
  },
  {
   "cell_type": "code",
   "execution_count": null,
   "metadata": {
    "scrolled": false
   },
   "outputs": [],
   "source": [
    "rew_zwanz = threeStateZwanzigReweighting(kT=True)\n",
    "\n",
    "\n",
    "traj_positions = eds_traj.position[equilibration_steps:]\n",
    "Vr = eds_traj.totEnergy[equilibration_steps:]\n",
    "V1 = h1.ene(traj_positions)\n",
    "V2 = h2.ene(traj_positions)\n",
    "\n",
    "dF_EDS = rew_zwanz.calculate(Vi=V1, Vj=V2, Vr=Vr)\n",
    "\n",
    "print(\"dF \", dF_EDS)\n",
    "print(\"deviation: \", dF_EDS-dG_expected)\n",
    "\n",
    "\n"
   ]
  },
  {
   "cell_type": "markdown",
   "metadata": {},
   "source": [
    "### BAR-EDS_Evaluation"
   ]
  },
  {
   "cell_type": "code",
   "execution_count": null,
   "metadata": {},
   "outputs": [],
   "source": [
    "\"\"\"\n",
    "\n",
    "traj_positions = eds_traj.position[equilibration_steps:]\n",
    "Vr = eds_traj.totEnergy[equilibration_steps:]\n",
    "V1 = h1.ene(traj_positions)\n",
    "V2 = h2.ene(traj_positions)\n",
    "\n",
    "w_fw = np.array(V1 - Vr, dtype=np.float)\n",
    "w_rv = np.array(V2 - Vr, dtype=np.float)\n",
    "(DeltaF, dDeltaF)=pymbar.BAR(w_F=w_fw, w_R=w_rv, DeltaF=0, method='bisection', verbose=False)\n",
    "print(\"dF_BAR:  \", DeltaF)\n",
    "print(\"deviation: \", DeltaF-dG_expected)\n",
    "\n",
    "\"\"\"\n"
   ]
  },
  {
   "cell_type": "code",
   "execution_count": null,
   "metadata": {},
   "outputs": [],
   "source": [
    "\n",
    "traj_positions = eds_traj.position[equilibration_steps:]\n",
    "Vr = eds_traj.totEnergy[equilibration_steps:]\n",
    "V1 = h1.ene(traj_positions)\n",
    "V2 = h2.ene(traj_positions)\n",
    "\n",
    "bar = bennetAcceptanceRatio(kT=True)\n",
    "dF_EDSbar = bar.calculate(Vj_i=V1, Vi_i=Vr, Vi_j=V2, Vj_j=Vr)\n",
    "print(\"dF_BAR:  \", dF_EDSbar)\n",
    "print(\"deviation: \", dF_EDSbar-dG_expected)\n",
    "\n",
    "\n",
    "\n"
   ]
  },
  {
   "cell_type": "markdown",
   "metadata": {},
   "source": [
    "## Hybrid Methods - $\\lambda$-EDS"
   ]
  },
  {
   "cell_type": "code",
   "execution_count": null,
   "metadata": {},
   "outputs": [],
   "source": [
    "#Build Potential\n",
    "s=1\n",
    "Eoff = [0,0]\n",
    "V_hleds = pot.lambdaEDSPotential(V_is=[h1,h2] , s=s, lam=0.5)\n",
    "s_values = np.array([100, 1, 0.5, 0.3, 0.2, 0.1])\n",
    "\n",
    "#Visualize\n",
    "positions = np.linspace(-10,10, 1000)\n",
    "fig = plt.figure(figsize=[16,9])\n",
    "\n",
    "for ind,s in enumerate(s_values):\n",
    "    print(ind, \"\\t\", s)\n",
    "    V_hleds.s=s\n",
    "    plt.plot(positions,V_hleds.ene(positions), lw=3, label=\"$V_r=\"+str(round(s,3))+\"$\")\n",
    "\n",
    "plt.plot(positions,h1.ene(positions), label=\"state A\", lw=1, color=\"grey\")\n",
    "plt.plot(positions,h2.ene(positions), label=\"state B\", lw=1, color=\"black\")\n",
    "\n",
    "\n",
    "plt.legend()  \n",
    "plt.ylim([-5,10])\n",
    "plt.xlim([-8,8])\n",
    "\n",
    "plt.ylabel(\"V[kT]\")\n",
    "plt.xlabel(\"r\")\n",
    "plt.title(\"Sampled Potentials\")\n"
   ]
  },
  {
   "cell_type": "code",
   "execution_count": null,
   "metadata": {},
   "outputs": [],
   "source": [
    "\n",
    "fig, axes = plt.subplots(nrows=2, ncols=2, figsize=[14,14])\n",
    "axes = np.concatenate(axes)\n",
    "s_values = [1, 0.5,  0.3, 0.01]\n",
    "lams=list(sorted(list(np.linspace(start=0, stop=1, num=7))))\n",
    "\n",
    "\n",
    "for ax, s in zip(axes, s_values):\n",
    "    V_hleds.s= s\n",
    "    for ind,lam in enumerate(lams):\n",
    "        V_hleds.lam=lam\n",
    "        ax.plot(positions,V_hleds.ene(positions), lw=2, label=\"$\\lambda=\"+str(round(lam,2))+\"$\")\n",
    "\n",
    "    #ax.plot(positions,h1.ene(positions), label=\"state A\", lw=1, color=\"grey\", zorder=10)\n",
    "    #ax.plot(positions,h2.ene(positions), label=\"state B\", lw=1, color=\"black\", zorder=10)\n",
    "\n",
    "    ax.legend()  \n",
    "    ax.set_ylim([-1,5])\n",
    "    ax.set_xlim([-5,5])\n",
    "\n",
    "    ax.set_ylabel(\"V[kT]\")\n",
    "    ax.set_xlabel(\"r\")\n",
    "    ax.set_title(\"s = \"+str(s))"
   ]
  },
  {
   "cell_type": "code",
   "execution_count": null,
   "metadata": {
    "scrolled": true
   },
   "outputs": [],
   "source": [
    "#simulate\n",
    "steps = simulation_steps_total_per_approach\n",
    "equilibration_steps = 100\n",
    "\n",
    "integrator = metropolisMonteCarloIntegrator(randomnessIncreaseFactor=rand)\n",
    "hleds_system = edsSystem(potential=V_hleds, sampler=integrator, eds_Eoff=Eoff)\n",
    "\n",
    "hleds_simulation_trajs = []\n",
    "good_s_value = 0.3\n",
    "hleds_system.set_s(good_s_value)\n",
    "hleds_system.potential.lam = 0.5\n",
    "hleds_system.simulate(steps, withdrawTraj=True, initSystem=True)\n",
    "hleds_simulation_traj = hleds_system.getTrajectory()\n",
    "\n",
    "hleds_system.potential.lam = 0.25\n",
    "hleds_system.simulate(steps, withdrawTraj=True, initSystem=True)\n",
    "hleds_simulation_traj2 = hleds_system.getTrajectory()\n",
    "\n",
    "\n",
    "hleds_system.potential.lam = 0.75\n",
    "hleds_system.simulate(steps, withdrawTraj=True, initSystem=True)\n",
    "hleds_simulation_traj3 = hleds_system.getTrajectory()"
   ]
  },
  {
   "cell_type": "code",
   "execution_count": null,
   "metadata": {},
   "outputs": [],
   "source": [
    "hleds_simulation_traj3.columns"
   ]
  },
  {
   "cell_type": "code",
   "execution_count": null,
   "metadata": {
    "pycharm": {
     "name": "#%%\n"
    }
   },
   "outputs": [],
   "source": [
    "from ensembler import visualisation\n",
    "    \n",
    "traj = hleds_simulation_traj.iloc[equilibration_steps:]\n",
    "traj2 = hleds_simulation_traj2.iloc[equilibration_steps:]\n",
    "traj3 = hleds_simulation_traj3.iloc[equilibration_steps:]\n",
    "\n",
    "positions = np.linspace(-10,10, 100)\n",
    "h1_ene = h1.ene(positions)\n",
    "h2_ene = h2.ene(positions)\n",
    "V_hleds.s = traj.s[equilibration_steps]\n",
    "\n",
    "V_hleds.lam = 0.5\n",
    "eds_ene = V_hleds.ene(positions)\n",
    "V_hleds.lam = 0.25\n",
    "eds_ene1 = V_hleds.ene(positions)\n",
    "V_hleds.lam = 0.75\n",
    "eds_ene2 = V_hleds.ene(positions)\n",
    "\n",
    "traj_pos = list(traj.position)\n",
    "traj_ene = list(traj.totPotEnergy)\n",
    "traj_pos2 = list(traj2.position)\n",
    "traj_ene2 = list(traj2.totPotEnergy)\n",
    "traj_pos3 = list(traj3.position)\n",
    "traj_ene3 = list(traj3.totPotEnergy)\n",
    "\n",
    "fig, ax = plt.subplots(ncols=1, figsize=visualisation.figsize_doubleColumn)\n",
    "ax = list([ax])\n",
    "ax[0].plot(positions, h1_ene, c=\"grey\", label=\"state A\", zorder=-10,)\n",
    "ax[0].plot(positions, h2_ene, c=\"black\", label=\"state B\", zorder=-10)\n",
    "ax[0].plot(positions, eds_ene, c=\"C1\", label=\"reference state, $\\lambda$=0.5\", zorder=-10,alpha=0.3)\n",
    "ax[0].plot(positions, eds_ene1, c=\"C0\", label=\"reference state, $\\lambda$=0.25\", zorder=-10,alpha=0.3)\n",
    "ax[0].plot(positions, eds_ene2, c=\"C2\", label=\"reference state, $\\lambda$=0.75\", zorder=-10,alpha=0.3)\n",
    "\n",
    "ax[0].scatter(traj_pos, traj_ene, c=\"C1\",alpha=0.8, label=\"simulation reference state\",s=8)\n",
    "ax[0].scatter(traj_pos2, traj_ene2, c=\"C0\",alpha=0.8, label=\"simulation reference state\",s=8)\n",
    "ax[0].scatter(traj_pos3, traj_ene3, c=\"C2\",alpha=0.8, label=\"simulation reference state\",s=8)\n",
    "\n",
    "ax[0].set_ylim([-0.5,8])\n",
    "ax[0].set_xlim([-5,6])\n",
    "ax[0].set_xlabel(\"r\")\n",
    "ax[0].set_ylabel(\"$V/[kT]$\")\n",
    "    \n",
    "ax[0].legend()\n",
    "ax[0].set_title(\"hybrid linear/exponential Coupling\")\n",
    "\n",
    "fig.savefig(\"hlEDS_sampling.png\")"
   ]
  },
  {
   "cell_type": "code",
   "execution_count": null,
   "metadata": {},
   "outputs": [],
   "source": [
    "rew_zwanz = threeStateZwanzigReweighting(kT=True)\n",
    "zwanz = zwanzigEquation(kT=True)\n",
    "\n",
    "traj_positions = hleds_simulation_traj.position[equilibration_steps:]\n",
    "Vr = hleds_simulation_traj.totPotEnergy[equilibration_steps:]\n",
    "V1 = h1.ene(traj_positions)\n",
    "V2 = h2.ene(traj_positions)\n",
    "\n",
    "dF_leds = rew_zwanz.calculate(Vi=V1, Vj=V2, Vr=Vr)\n",
    "\n",
    "print(\"dF \", dF_leds)\n",
    "print(\"deviation: \", dF_leds-dG_expected)\n",
    "    \n"
   ]
  },
  {
   "cell_type": "markdown",
   "metadata": {},
   "source": [
    "## Enhanced Sampling with system Coupling"
   ]
  },
  {
   "cell_type": "markdown",
   "metadata": {},
   "source": [
    "### Conveyor Belt TI"
   ]
  },
  {
   "cell_type": "code",
   "execution_count": null,
   "metadata": {},
   "outputs": [],
   "source": [
    "import ensembler.ensemble.replicas_dynamic_parameters as cvb\n",
    "from ensembler.system import perturbed_system\n",
    "\n",
    "#CHEKC HERE H1 and H2 die\n",
    "equilibration_steps = 100\n",
    "numsys = 4\n",
    "V_perturbed = pot.linearCoupledPotentials(Va=h1, Vb=h2)\n",
    "integrator = metropolisMonteCarloIntegrator(randomnessIncreaseFactor=rand)\n",
    "\n",
    "lam_system = perturbed_system.perturbedSystem(potential=V_perturbed , integrator=integrator)\n",
    "conveyorBelt=cvb.ConveyorBelt(0.0, numsys, system=lam_system, build=False)\n"
   ]
  },
  {
   "cell_type": "code",
   "execution_count": null,
   "metadata": {
    "scrolled": true
   },
   "outputs": [],
   "source": [
    "conveyorBelt.simulate(simulation_steps_total_per_approach//numsys)\n",
    "cvb_trajs = conveyorBelt.get_trajectories()\n"
   ]
  },
  {
   "cell_type": "code",
   "execution_count": null,
   "metadata": {},
   "outputs": [],
   "source": [
    "fig, axes = plt.subplots(nrows=4, figsize=style.figsize_doubleColumn, sharex=True)\n",
    "keys=list(sorted(list(cvb_trajs.keys())))\n",
    "for key in keys:\n",
    "    axes[key].plot(cvb_trajs[key].lam)\n",
    "    axes[key].set_ylabel(\"$\\lambda_\"+str(key+1)+\"$\")\n",
    "    if(key == keys[-1]):    axes[key].set_xlabel(\"$time [steps]$\")\n",
    "fig.suptitle(\"Conveyor belt replica sampling\", y=1.05)\n",
    "fig.tight_layout()"
   ]
  },
  {
   "cell_type": "code",
   "execution_count": null,
   "metadata": {},
   "outputs": [],
   "source": [
    "import pandas as pd\n",
    "nbins=50\n",
    "mega_traj = pd.concat(list(cvb_trajs.values()), ignore_index=True)\n",
    "\n",
    "frequencies, lam_bins = np.histogram(list(sorted(np.unique(mega_traj.lam))), bins=nbins, density=True)\n",
    "plt.figure(figsize=[16,9])\n",
    "plt.bar(x=lam_bins[:-1], height=frequencies, width=1/nbins)"
   ]
  },
  {
   "cell_type": "code",
   "execution_count": null,
   "metadata": {},
   "outputs": [],
   "source": [
    "import pandas as pd\n",
    "mega_traj = pd.concat(list(cvb_trajs.values()), ignore_index=True)\n",
    "\n",
    "def find_nearest_bin(array,value):\n",
    "    cbins =[]\n",
    "    for val in value:\n",
    "        idx = np.argmin(np.abs(array-val))\n",
    "        cbins.append(idx)\n",
    "    return cbins\n",
    "\n",
    "discrete_traj = np.array(find_nearest_bin(value=mega_traj.lam[equilibration_steps:], array=lam_bins))\n",
    "\n",
    "fig, axes = plt.subplots(ncols=1, figsize=[16,9])\n",
    "axes = [axes]\n",
    "axes[0].scatter(list(mega_traj.position[equilibration_steps:]), mega_traj.totPotEnergy[equilibration_steps:], c=discrete_traj, cmap=\"tab20\")\n",
    "\n",
    "#State Potentials\n",
    "h1 = pot.harmonicOscillatorPotential(k=k1, x_shift=xoff1, y_shift=yoff1) \n",
    "h2 = pot.harmonicOscillatorPotential(k=k2, x_shift=xoff2, y_shift=yoff2)\n",
    "positions = np.arange(-10,10, 0.2)\n",
    "axes[0].plot(positions, h1.ene(positions), label=\"state1\", lw=1, color=\"grey\")\n",
    "axes[0].plot(positions, h2.ene(positions), label=\"state2\", lw=1, color=\"black\")\n",
    "\n",
    "axes[0].legend()  \n",
    "axes[0].set_ylim([0,10])\n",
    "axes[0].set_xlim([-8,8])\n",
    "\n",
    "axes[0].set_ylabel(\"V[kT]\")\n",
    "axes[0].set_xlabel(\"r\")\n",
    "axes[0].set_title(\"Conveyor Belt Sampling\")\n",
    "fig.savefig(\"CVB_sampling.png\")"
   ]
  },
  {
   "cell_type": "code",
   "execution_count": null,
   "metadata": {},
   "outputs": [],
   "source": [
    "from scipy import integrate\n",
    "\n",
    "lambda_stat = mega_traj[[\"lam\",\"dhdlam\"]]\n",
    "\n",
    "means_cvb = np.nan_to_num([np.mean(lambda_stat.loc[np.where(discrete_traj==x+1)].dhdlam) for x in range(nbins+1)])\n",
    "std_cvb = np.nan_to_num([np.std(lambda_stat.loc[np.where(discrete_traj==x+1)].dhdlam) for x in range(nbins+1)] )\n"
   ]
  },
  {
   "cell_type": "code",
   "execution_count": null,
   "metadata": {},
   "outputs": [],
   "source": [
    "plt.plot(means_cvb)"
   ]
  },
  {
   "cell_type": "code",
   "execution_count": null,
   "metadata": {},
   "outputs": [],
   "source": [
    "dF_cvb_trapez = integrate.trapz(x=lam_bins, y=means_cvb)\n",
    "dF_err = integrate.trapz(x=means_cvb, y=std_cvb)\n",
    "\n",
    "print()\n",
    "print(\"Expected Result: \", dG_expected)\n",
    "print(\"trapez Rule Result: \", dF_cvb_trapez, \"+-\", dF_err)\n",
    "print()\n",
    "print(\"Difference:\", dF_cvb_trapez - dG_expected)\n",
    "\n",
    "\n"
   ]
  },
  {
   "cell_type": "markdown",
   "metadata": {},
   "source": [
    "### RE-EDS"
   ]
  },
  {
   "cell_type": "code",
   "execution_count": null,
   "metadata": {},
   "outputs": [],
   "source": [
    "#potential\n",
    "Eoff = [0,0]\n",
    "V_eds = pot.envelopedPotential(V_is=[h1,h2])\n",
    "\n",
    "##Integrator\n",
    "integrator = metropolisMonteCarloIntegrator(randomnessIncreaseFactor=rand)\n",
    "\n",
    "##System\n",
    "eds_system = edsSystem(sampler=integrator, potential=V_eds, start_position=4)\n",
    "eds_system.Eoff = Eoff\n",
    "print(eds_system.potential.Eoff)\n",
    "\n",
    "##Ensemble\n",
    "from ensembler.ensemble import replica_exchange\n",
    "##Ensemble Settings:\n",
    "s_values = np.logspace(start=0, stop=-2, num=10)\n",
    "trials=30\n",
    "steps_between_trials=simulation_steps_total_per_approach//(trials) #len(s_values)*\n",
    "\n",
    "print(\"DO trials: \", trials, \"steps: \", steps_between_trials)\n",
    "ensemble = replica_exchange.ReplicaExchangeEnvelopingDistributionSampling(system=eds_system, exchange_criterium=None, s_range=s_values, steps_between_trials=steps_between_trials)\n",
    "print([replica.s for repID, replica in ensemble.replicas.items()])\n",
    "\n",
    "#State Potentials\n",
    "h1 = pot.harmonicOscillatorPotential(k=k1, x_shift=xoff1, y_shift=yoff1) \n",
    "h2 = pot.harmonicOscillatorPotential(k=k2, x_shift=xoff2, y_shift=yoff2)\n",
    "\n",
    "#Visualize\n",
    "positions = np.arange(-10,10, 0.2)\n",
    "fig = plt.figure(figsize=[16,9])\n",
    "\n",
    "for ind,replica in ensemble.replicas.items():\n",
    "    print(ind, \"\\t\", replica)\n",
    "    print(replica.potential.s)\n",
    "    print(replica.potential.Eoff)\n",
    "\n",
    "    plt.plot(positions,replica.potential.ene(positions), lw=3, label=\"$replica \"+str(ind+1)+\"$\")\n",
    "\n",
    "plt.plot(positions,h1.ene(positions), label=\"state1\", lw=1, color=\"grey\")\n",
    "plt.plot(positions,h2.ene(positions), label=\"state2\", lw=1, color=\"black\")\n",
    "\n",
    "\n",
    "plt.legend()  \n",
    "plt.ylim([-5,10])\n",
    "plt.xlim([-8,8])\n",
    "\n",
    "plt.ylabel(\"V[kT]\")\n",
    "plt.xlabel(\"r\")\n",
    "plt.title(\"Sampled Potentials\")\n"
   ]
  },
  {
   "cell_type": "code",
   "execution_count": null,
   "metadata": {},
   "outputs": [],
   "source": [
    "ensemble.simulate(trials, reset_ensemble=True)\n",
    "reeds_trajs = ensemble.get_trajectories()\n"
   ]
  },
  {
   "cell_type": "code",
   "execution_count": null,
   "metadata": {},
   "outputs": [],
   "source": [
    "reeds_trajs.keys()"
   ]
  },
  {
   "cell_type": "code",
   "execution_count": null,
   "metadata": {},
   "outputs": [],
   "source": [
    "\n",
    "positions = np.linspace(-10,10)\n",
    "fig, ax = plt.subplots(ncols=1, figsize=style.figsize_doubleColumn)\n",
    "eqil=100\n",
    "keys = sorted(list(reeds_trajs.keys()), reverse=False)\n",
    "              \n",
    "positions = np.linspace(-10,10, 100)\n",
    "h1_ene = h1.ene(positions)\n",
    "h2_ene = h2.ene(positions)\n",
    "\n",
    "ax.plot(positions, h1_ene, c=\"grey\", zorder=-10,)\n",
    "ax.plot(positions, h2_ene, c=\"black\", zorder=-10)\n",
    "\n",
    "for traj in keys:\n",
    "    s =  round(ensemble.replicas[traj].s,2)\n",
    "    ax.plot(positions, ensemble.replicas[traj].potential.ene(positions), c=\"grey\", alpha=0.7, zorder=-60)\n",
    "    min_e = np.min(reeds_trajs[traj].totEnergy[eqil:])\n",
    "    ax.scatter(reeds_trajs[traj].position[eqil:], reeds_trajs[traj].totEnergy[eqil:], zorder=-traj, c=\"C\"+str(traj),s=8, label=\"replica s=\"+str(s))\n",
    "\n",
    "ax.set_ylim([-6.5,8])\n",
    "ax.set_xlim([-5,6])\n",
    "ax.set_xlabel(\"r\")\n",
    "ax.set_ylabel(\"$V/[kT]$\")\n",
    "ax.legend()\n",
    "ax.set_title(\"RE-EDS\")\n",
    "fig.savefig(\"REEDS.png\")"
   ]
  },
  {
   "cell_type": "code",
   "execution_count": null,
   "metadata": {},
   "outputs": [],
   "source": [
    "trajs = ensemble.get_trajectories()\n",
    "\n",
    "positions = np.linspace(-10,10)\n",
    "fig, axes = plt.subplots(ncols=len(trajs), figsize=[16,9])\n",
    "eqil=100\n",
    "for traj, ax in zip(reeds_trajs, axes):\n",
    "    ax.hist(reeds_trajs[traj].position[eqil:])\n",
    "    ax.set_xlim([-4,8])\n",
    "    ax.set_title(\"replica\"+str(traj))\n"
   ]
  },
  {
   "cell_type": "code",
   "execution_count": null,
   "metadata": {},
   "outputs": [],
   "source": [
    "\n",
    "fig, ax = plt.subplots(ncols=1, figsize=[16,9])\n",
    "enes = [reeds_trajs[x].totEnergy for x in sorted(trajs)] \n",
    "min_e = np.min(enes)\n",
    "max_e = np.max(enes)\n",
    "\n",
    "for ind, ene in enumerate(enes):\n",
    "    ax.plot(ene, label=\"replica\"+str(ind))\n",
    "ax.vlines([steps_between_trials*x for x in range(trials)], ymin=min_e, ymax=max_e, label=\"exchange\", lw=0.1)\n",
    "ax.set_title(\"replica potE timeseries\")\n",
    "ax.set_ylim(1.1*min_e, 1.1*max_e)\n",
    "ax.legend()"
   ]
  },
  {
   "cell_type": "code",
   "execution_count": null,
   "metadata": {},
   "outputs": [],
   "source": [
    "stats= ensemble.exchange_information\n",
    "replicas = np.unique(ensemble.exchange_information.replicaID)\n",
    "trials = np.unique(ensemble.exchange_information.nExchange)\n",
    "\n",
    "import itertools as it\n",
    "\n",
    "fig, ax = plt.subplots(ncols=1, figsize=[16,9])\n",
    "\n",
    "replica_positions = {}\n",
    "for replica in replicas:\n",
    "    replica_positions.update({replica: stats.loc[stats.replicaID==replica].replicaPositionI})\n",
    "\n",
    "    x = trials\n",
    "    y = replica_positions[replica]\n",
    "\n",
    "    ax.plot(x,y , label=\"replica_\"+str(replica))\n",
    "\n",
    "#plt.yticks(replicas+1, reversed(replicas+1))\n",
    "ax.set_yticks(ticks=replicas)\n",
    "ax.set_yticklabels(labels=replicas)\n",
    "\n",
    "ax.set_ylabel(\"replica Positions\")\n",
    "ax.set_xlabel(\"trials\")\n",
    "ax.set_title(\"Replica exchange transitions\")\n",
    "if(len(replicas)<10): plt.legend()"
   ]
  },
  {
   "cell_type": "code",
   "execution_count": null,
   "metadata": {},
   "outputs": [],
   "source": [
    "rew_zwanz = threeStateZwanzigReweighting(kT=True)\n",
    "zwanz = zwanzigEquation(kT=True)\n",
    "equilibration_steps=10\n",
    "#State Potentials\n",
    "h1 = pot.harmonicOscillatorPotential(k=k1, x_shift=xoff1, y_shift=yoff1) \n",
    "h2 = pot.harmonicOscillatorPotential(k=k2, x_shift=xoff2, y_shift=yoff2)\n",
    "\n",
    "dFresults = []\n",
    "s_vals = []\n",
    "for ind,key in enumerate(reeds_trajs):\n",
    "    print(ind, key)\n",
    "    s_vals.append(reeds_trajs[key].s[1])\n",
    "    traj_positions = reeds_trajs[key].position[equilibration_steps:]\n",
    "    Vr = reeds_trajs[key].totPotEnergy[equilibration_steps:]\n",
    "    V1 = h1.ene(traj_positions)\n",
    "    V2 = h2.ene(traj_positions)\n",
    "\n",
    "    dFRew_zwanz = rew_zwanz.calculate(Vi=V1, Vj=V2, Vr=Vr)\n",
    "    \n",
    "    dFresults.append(dFRew_zwanz)\n",
    "    \n",
    "    df1 = zwanz.calculate(Vi=V1, Vj=V2)\n",
    "    df1r = zwanz.calculate(Vi=V1, Vj=Vr)\n",
    "    df2r = zwanz.calculate(Vi=Vr, Vj=V2)\n",
    "    print(\"MAN \", df2r+df1r)\n",
    "    print(df1, df1r, df2r)\n",
    "    print(df1-dG_expected)\n",
    "    print(\"Replica \", ind)\n",
    "    print(\"s: \",reeds_trajs[key].s[1])\n",
    "    print(\"dF_rew =  \", dFRew_zwanz)\n",
    "\n",
    "print()\n",
    "print(\"\\tExpected Result: \", dG_expected)\n",
    "print(\"s\\t\\tdF\\t\\tdiff\")\n",
    "print(\"\\n\".join(map(str, [\"\\t\\t\".join(map(str, np.round(x,5))) for x in  zip(s_vals, dFresults, dFresults - dG_expected)])))\n",
    "print(\"\\n\\n\\n\")"
   ]
  },
  {
   "cell_type": "code",
   "execution_count": null,
   "metadata": {},
   "outputs": [],
   "source": [
    "reeds_trajs"
   ]
  },
  {
   "cell_type": "code",
   "execution_count": null,
   "metadata": {
    "pycharm": {
     "name": "#%%\n"
    }
   },
   "outputs": [],
   "source": [
    "keys = list(sorted(reeds_trajs.keys()))\n",
    "pairwise = zip(keys,keys[1:])\n",
    "\n",
    "dF_1_path = []\n",
    "dF_2_path = []\n",
    "for s1, s2 in pairwise:\n",
    "    print(s1, s2)\n",
    "    traj_s1 = reeds_trajs[s1]\n",
    "    traj_s2 = reeds_trajs[s2]\n",
    "    traj_s1_positions = traj_s1.position[equilibration_steps:]\n",
    "    traj_s2_positions = traj_s2.position[equilibration_steps:]\n",
    "    Vs1_1 = h1.ene(traj_s1_positions)\n",
    "    Vs2_1 = h1.ene(traj_s2_positions)\n",
    "\n",
    "    Vs1_2 = h2.ene(traj_s1_positions)\n",
    "    Vs2_2 = h2.ene(traj_s2_positions)\n",
    "\n",
    "    df1 = zwanz.calculate(Vi=Vs1_1, Vj=Vs2_1)\n",
    "    df2 = zwanz.calculate(Vi=Vs1_2, Vj=Vs2_2)\n",
    "\n",
    "    print(df1, df2)\n",
    "    \n",
    "    dF_1_path.append(df1)\n",
    "    dF_2_path.append(df2)\n",
    "\n",
    "ddF_1 = np.sum(dF_1_path)\n",
    "ddF_2 = np.sum(dF_2_path)"
   ]
  },
  {
   "cell_type": "code",
   "execution_count": null,
   "metadata": {},
   "outputs": [],
   "source": [
    "ddF_1, ddF_2"
   ]
  },
  {
   "cell_type": "code",
   "execution_count": null,
   "metadata": {},
   "outputs": [],
   "source": [
    "_ = plt.hist([V1, V2], bins=100)"
   ]
  },
  {
   "cell_type": "code",
   "execution_count": null,
   "metadata": {},
   "outputs": [],
   "source": [
    "plt.hist(traj_positions)"
   ]
  },
  {
   "cell_type": "markdown",
   "metadata": {
    "pycharm": {
     "is_executing": true
    }
   },
   "source": [
    "#### "
   ]
  },
  {
   "cell_type": "code",
   "execution_count": null,
   "metadata": {},
   "outputs": [],
   "source": [
    "\"\"\"\n",
    "rew_zwanz = threeStateZwanzigReweighting(kT=True)\n",
    "equilibration_steps=10\n",
    "#State Potentials\n",
    "h1 = pot.harmonicOscillatorPotential(k=k1, x_shift=xoff1, y_shift=yoff1) \n",
    "h2 = pot.harmonicOscillatorPotential(k=k2, x_shift=xoff2, y_shift=yoff2)\n",
    "\n",
    "dFresults = []\n",
    "s_vals = []\n",
    "for ind,key in enumerate(reeds_trajs):\n",
    "    s_vals.append(reeds_trajs[key].s[1])\n",
    "    traj_positions = reeds_trajs[key].position[equilibration_steps:]\n",
    "    Vr = reeds_trajs[key].totEnergy[equilibration_steps:]\n",
    "    V1 = h1.ene(traj_positions)\n",
    "    V2 = h2.ene(traj_positions)\n",
    "\n",
    "    w_fw = np.array(V1 - Vr, dtype=np.float)\n",
    "    w_rv = np.array(V2 - Vr, dtype=np.float)\n",
    "\n",
    "    (DeltaF, dDeltaF)=pymbar.BAR(w_F=w_rv, w_R=-w_fw, DeltaF=0, method='bisection', verbose=False)\n",
    "    dFresults.append(DeltaF)\n",
    "\n",
    "    \n",
    "print()\n",
    "print(\"\\tExpected Result: \", dG_expected)\n",
    "print(\"s\\t\\tdF\\t\\tdiff\")\n",
    "print(\"\\n\".join(map(str, [\"\\t\\t\".join(map(str, np.round(x,5))) for x in  zip(s_vals, dFresults, dFresults - dG_expected)])))\n",
    "print(\"\\n\\n\\n\")\n",
    "\"\"\""
   ]
  },
  {
   "cell_type": "markdown",
   "metadata": {
    "pycharm": {
     "is_executing": true
    }
   },
   "source": [
    "## Final Results"
   ]
  },
  {
   "cell_type": "code",
   "execution_count": null,
   "metadata": {},
   "outputs": [],
   "source": [
    "print(\"analytical \",dG_expected)\n",
    "print(\"FEP \", dF_zwanzig)\n",
    "print(\"BAR \", dF_bar)\n",
    "print(\"FEP 10-lambda\",dF_FEP_10lambda)\n",
    "print(\"TI\", dF_trapez)\n",
    "print(\"EDS\", dF_EDS)\n",
    "print(\"lEDS\", dF_leds)\n",
    "print(\"cvb\", dF_cvb_trapez)\n",
    "print(\"REEDS\", dFresults)\n",
    "print(\"EDS_BAR\", dF_EDSbar)\n",
    "\n"
   ]
  },
  {
   "cell_type": "code",
   "execution_count": null,
   "metadata": {},
   "outputs": [],
   "source": []
  }
 ],
 "metadata": {
  "file_extension": ".py",
  "kernelspec": {
   "display_name": "Python 3.7.7 64-bit ('EnsemblerDev': conda)",
   "language": "python",
   "name": "python37764bitensemblerdevcondaa4593ef55eeb4c19ab962e621795cac3"
  },
  "language_info": {
   "codemirror_mode": {
    "name": "ipython",
    "version": 3
   },
   "file_extension": ".py",
   "mimetype": "text/x-python",
   "name": "python",
   "nbconvert_exporter": "python",
   "pygments_lexer": "ipython3",
   "version": "3.7.7"
  },
  "mimetype": "text/x-python",
  "name": "python",
  "npconvert_exporter": "python",
  "pygments_lexer": "ipython3",
  "version": 3
 },
 "nbformat": 4,
 "nbformat_minor": 4
}